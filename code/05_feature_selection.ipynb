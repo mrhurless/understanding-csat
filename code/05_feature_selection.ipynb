{
 "cells": [
  {
   "cell_type": "markdown",
   "id": "782699fd-a931-445d-b33b-4aa02e503798",
   "metadata": {},
   "source": [
    "# Feature Selection\n",
    "\n",
    "Attempting various techniques for feature selection due to model not having predictive power above baseline and not predicting the minority class very well, even after attempting SMOTE to try and rule out class imbalance as the main reason why the model is not performing.  For details on the class imbalance investigation, including SMOTE and ad-hoc sampling tests, please see the [`07_supplemental`]('07_supplemental.ipynb') notebook.\n",
    "\n",
    "Some evaluation will be done here, but the various feature selections/configurations are also used in conjunction with other areas in other notebooks, such as the class imbalance investigation section where some of the performance of these various feature configurations are examined with manual class balancing by under sampling the majority class and seeing how scoring changes as the class balance changes.\n",
    "\n",
    "_NOTE: There could be code blocks that are commented out.  These are included as notes of different outcomes and outputs that were observed. In addition, since it was found that the results may vary each time the code is run, if there is a discrepancy in the visual and the markdown code, that would explain the difference._"
   ]
  },
  {
   "cell_type": "markdown",
   "id": "19e49178-a409-4464-984f-b228e3fe62a6",
   "metadata": {},
   "source": [
    "# Import Libraries"
   ]
  },
  {
   "cell_type": "code",
   "execution_count": 131,
   "id": "13687784-933c-44d2-b84f-8c5d3b256331",
   "metadata": {
    "execution": {
     "iopub.execute_input": "2023-02-05T00:04:38.615471Z",
     "iopub.status.busy": "2023-02-05T00:04:38.614560Z",
     "iopub.status.idle": "2023-02-05T00:04:38.629798Z",
     "shell.execute_reply": "2023-02-05T00:04:38.625473Z",
     "shell.execute_reply.started": "2023-02-05T00:04:38.615338Z"
    },
    "tags": []
   },
   "outputs": [],
   "source": [
    "import numpy as np\n",
    "import pandas as pd\n",
    "import pickle\n",
    "import matplotlib.pyplot as plt\n",
    "\n",
    "from sklearn.model_selection import train_test_split\n",
    "from sklearn.feature_selection import SelectFromModel\n",
    "from sklearn.feature_selection import RFECV\n",
    "from sklearn.model_selection import StratifiedKFold, cross_val_score\n",
    "from sklearn.feature_selection import SelectKBest, f_classif\n",
    "from sklearn.metrics import ConfusionMatrixDisplay, classification_report"
   ]
  },
  {
   "cell_type": "markdown",
   "id": "fa469544-8359-4580-b7c6-4dcb40be1ae9",
   "metadata": {},
   "source": [
    "# Read Data"
   ]
  },
  {
   "cell_type": "code",
   "execution_count": 132,
   "id": "96af9a56-d020-476e-a7a7-8b176cd243ee",
   "metadata": {
    "execution": {
     "iopub.execute_input": "2023-02-05T00:04:38.632087Z",
     "iopub.status.busy": "2023-02-05T00:04:38.631798Z",
     "iopub.status.idle": "2023-02-05T00:04:38.641105Z",
     "shell.execute_reply": "2023-02-05T00:04:38.640707Z",
     "shell.execute_reply.started": "2023-02-05T00:04:38.632064Z"
    },
    "tags": []
   },
   "outputs": [],
   "source": [
    "tickets = pd.read_pickle('../data/modeling_data.pkl')"
   ]
  },
  {
   "cell_type": "code",
   "execution_count": 133,
   "id": "a0d51142-1e06-45a2-97f0-ecebf57a4f4f",
   "metadata": {
    "execution": {
     "iopub.execute_input": "2023-02-05T00:04:38.642335Z",
     "iopub.status.busy": "2023-02-05T00:04:38.642001Z",
     "iopub.status.idle": "2023-02-05T00:04:38.655123Z",
     "shell.execute_reply": "2023-02-05T00:04:38.654650Z",
     "shell.execute_reply.started": "2023-02-05T00:04:38.642318Z"
    },
    "tags": []
   },
   "outputs": [
    {
     "data": {
      "text/html": [
       "<div>\n",
       "<style scoped>\n",
       "    .dataframe tbody tr th:only-of-type {\n",
       "        vertical-align: middle;\n",
       "    }\n",
       "\n",
       "    .dataframe tbody tr th {\n",
       "        vertical-align: top;\n",
       "    }\n",
       "\n",
       "    .dataframe thead th {\n",
       "        text-align: right;\n",
       "    }\n",
       "</style>\n",
       "<table border=\"1\" class=\"dataframe\">\n",
       "  <thead>\n",
       "    <tr style=\"text-align: right;\">\n",
       "      <th></th>\n",
       "      <th>sat_score</th>\n",
       "      <th>grp_stations</th>\n",
       "      <th>asign_stations</th>\n",
       "      <th>reopens</th>\n",
       "      <th>replies</th>\n",
       "      <th>reply_mins</th>\n",
       "      <th>first_reso_mins</th>\n",
       "      <th>full_reso_mins</th>\n",
       "      <th>agt_wait_mins</th>\n",
       "      <th>reqstr_wait_mins</th>\n",
       "      <th>on_hold_mins</th>\n",
       "      <th>sent_score</th>\n",
       "      <th>num_comms</th>\n",
       "      <th>td_crtd_assnd</th>\n",
       "      <th>td_assnd_slvd</th>\n",
       "      <th>rply_rate</th>\n",
       "      <th>comm_rate</th>\n",
       "    </tr>\n",
       "  </thead>\n",
       "  <tbody>\n",
       "    <tr>\n",
       "      <th>0</th>\n",
       "      <td>0</td>\n",
       "      <td>1</td>\n",
       "      <td>1</td>\n",
       "      <td>0</td>\n",
       "      <td>1</td>\n",
       "      <td>23.0</td>\n",
       "      <td>23</td>\n",
       "      <td>23</td>\n",
       "      <td>0</td>\n",
       "      <td>23</td>\n",
       "      <td>0</td>\n",
       "      <td>0.746100</td>\n",
       "      <td>2</td>\n",
       "      <td>7.0</td>\n",
       "      <td>15.0</td>\n",
       "      <td>0.043478</td>\n",
       "      <td>0.086957</td>\n",
       "    </tr>\n",
       "    <tr>\n",
       "      <th>1</th>\n",
       "      <td>0</td>\n",
       "      <td>1</td>\n",
       "      <td>1</td>\n",
       "      <td>0</td>\n",
       "      <td>1</td>\n",
       "      <td>45.0</td>\n",
       "      <td>45</td>\n",
       "      <td>45</td>\n",
       "      <td>0</td>\n",
       "      <td>44</td>\n",
       "      <td>0</td>\n",
       "      <td>0.526767</td>\n",
       "      <td>3</td>\n",
       "      <td>10.0</td>\n",
       "      <td>34.0</td>\n",
       "      <td>0.022222</td>\n",
       "      <td>0.066667</td>\n",
       "    </tr>\n",
       "    <tr>\n",
       "      <th>2</th>\n",
       "      <td>0</td>\n",
       "      <td>1</td>\n",
       "      <td>1</td>\n",
       "      <td>0</td>\n",
       "      <td>1</td>\n",
       "      <td>9.0</td>\n",
       "      <td>9</td>\n",
       "      <td>9</td>\n",
       "      <td>0</td>\n",
       "      <td>9</td>\n",
       "      <td>0</td>\n",
       "      <td>0.776250</td>\n",
       "      <td>2</td>\n",
       "      <td>7.0</td>\n",
       "      <td>2.0</td>\n",
       "      <td>0.111111</td>\n",
       "      <td>0.222222</td>\n",
       "    </tr>\n",
       "  </tbody>\n",
       "</table>\n",
       "</div>"
      ],
      "text/plain": [
       "   sat_score  grp_stations  asign_stations  reopens  replies  reply_mins  \\\n",
       "0          0             1               1        0        1        23.0   \n",
       "1          0             1               1        0        1        45.0   \n",
       "2          0             1               1        0        1         9.0   \n",
       "\n",
       "   first_reso_mins  full_reso_mins  agt_wait_mins  reqstr_wait_mins  \\\n",
       "0               23              23              0                23   \n",
       "1               45              45              0                44   \n",
       "2                9               9              0                 9   \n",
       "\n",
       "   on_hold_mins  sent_score  num_comms  td_crtd_assnd  td_assnd_slvd  \\\n",
       "0             0    0.746100          2            7.0           15.0   \n",
       "1             0    0.526767          3           10.0           34.0   \n",
       "2             0    0.776250          2            7.0            2.0   \n",
       "\n",
       "   rply_rate  comm_rate  \n",
       "0   0.043478   0.086957  \n",
       "1   0.022222   0.066667  \n",
       "2   0.111111   0.222222  "
      ]
     },
     "execution_count": 133,
     "metadata": {},
     "output_type": "execute_result"
    }
   ],
   "source": [
    "tickets.head(3)"
   ]
  },
  {
   "cell_type": "code",
   "execution_count": 134,
   "id": "d394378e-2194-4233-8138-2a24ed52fc96",
   "metadata": {
    "execution": {
     "iopub.execute_input": "2023-02-05T00:04:38.656512Z",
     "iopub.status.busy": "2023-02-05T00:04:38.656323Z",
     "iopub.status.idle": "2023-02-05T00:04:38.659045Z",
     "shell.execute_reply": "2023-02-05T00:04:38.658644Z",
     "shell.execute_reply.started": "2023-02-05T00:04:38.656497Z"
    },
    "tags": []
   },
   "outputs": [
    {
     "data": {
      "text/plain": [
       "(13323, 17)"
      ]
     },
     "execution_count": 134,
     "metadata": {},
     "output_type": "execute_result"
    }
   ],
   "source": [
    "tickets.shape"
   ]
  },
  {
   "cell_type": "code",
   "execution_count": 135,
   "id": "7b066262-ad11-40fc-8e35-2ec8b937e4b2",
   "metadata": {
    "execution": {
     "iopub.execute_input": "2023-02-05T00:04:38.659672Z",
     "iopub.status.busy": "2023-02-05T00:04:38.659550Z",
     "iopub.status.idle": "2023-02-05T00:04:38.662193Z",
     "shell.execute_reply": "2023-02-05T00:04:38.661878Z",
     "shell.execute_reply.started": "2023-02-05T00:04:38.659662Z"
    },
    "tags": []
   },
   "outputs": [
    {
     "data": {
      "text/plain": [
       "Index(['sat_score', 'grp_stations', 'asign_stations', 'reopens', 'replies',\n",
       "       'reply_mins', 'first_reso_mins', 'full_reso_mins', 'agt_wait_mins',\n",
       "       'reqstr_wait_mins', 'on_hold_mins', 'sent_score', 'num_comms',\n",
       "       'td_crtd_assnd', 'td_assnd_slvd', 'rply_rate', 'comm_rate'],\n",
       "      dtype='object')"
      ]
     },
     "execution_count": 135,
     "metadata": {},
     "output_type": "execute_result"
    }
   ],
   "source": [
    "tickets.columns"
   ]
  },
  {
   "cell_type": "code",
   "execution_count": 136,
   "id": "df312fb6-c0f5-48a3-b081-010f293a04a0",
   "metadata": {
    "execution": {
     "iopub.execute_input": "2023-02-05T00:04:38.662868Z",
     "iopub.status.busy": "2023-02-05T00:04:38.662750Z",
     "iopub.status.idle": "2023-02-05T00:04:38.666242Z",
     "shell.execute_reply": "2023-02-05T00:04:38.665899Z",
     "shell.execute_reply.started": "2023-02-05T00:04:38.662858Z"
    },
    "tags": []
   },
   "outputs": [
    {
     "data": {
      "text/plain": [
       "sat_score             int64\n",
       "grp_stations          int64\n",
       "asign_stations        int64\n",
       "reopens               int64\n",
       "replies               int64\n",
       "reply_mins          float64\n",
       "first_reso_mins       int64\n",
       "full_reso_mins        int64\n",
       "agt_wait_mins         int64\n",
       "reqstr_wait_mins      int64\n",
       "on_hold_mins          int64\n",
       "sent_score          float64\n",
       "num_comms             int64\n",
       "td_crtd_assnd       float64\n",
       "td_assnd_slvd       float64\n",
       "rply_rate           float64\n",
       "comm_rate           float64\n",
       "dtype: object"
      ]
     },
     "execution_count": 136,
     "metadata": {},
     "output_type": "execute_result"
    }
   ],
   "source": [
    "tickets.dtypes"
   ]
  },
  {
   "cell_type": "code",
   "execution_count": 137,
   "id": "64e9bac9-c63b-4958-bed7-100287cbab2e",
   "metadata": {
    "execution": {
     "iopub.execute_input": "2023-02-05T00:04:38.667094Z",
     "iopub.status.busy": "2023-02-05T00:04:38.666820Z",
     "iopub.status.idle": "2023-02-05T00:04:38.674005Z",
     "shell.execute_reply": "2023-02-05T00:04:38.673760Z",
     "shell.execute_reply.started": "2023-02-05T00:04:38.667083Z"
    },
    "tags": []
   },
   "outputs": [
    {
     "data": {
      "text/plain": [
       "Series([], dtype: int64)"
      ]
     },
     "execution_count": 137,
     "metadata": {},
     "output_type": "execute_result"
    }
   ],
   "source": [
    "tickets.isna().sum()[tickets.isna().sum() > 0]"
   ]
  },
  {
   "cell_type": "code",
   "execution_count": 138,
   "id": "aeebcc9a-db48-4a7d-8966-bb1eb529f5de",
   "metadata": {
    "execution": {
     "iopub.execute_input": "2023-02-05T00:04:38.674613Z",
     "iopub.status.busy": "2023-02-05T00:04:38.674484Z",
     "iopub.status.idle": "2023-02-05T00:04:38.677828Z",
     "shell.execute_reply": "2023-02-05T00:04:38.677526Z",
     "shell.execute_reply.started": "2023-02-05T00:04:38.674604Z"
    },
    "tags": []
   },
   "outputs": [
    {
     "data": {
      "text/plain": [
       "1    11386\n",
       "0     1937\n",
       "Name: sat_score, dtype: int64"
      ]
     },
     "execution_count": 138,
     "metadata": {},
     "output_type": "execute_result"
    }
   ],
   "source": [
    "tickets['sat_score'].value_counts()"
   ]
  },
  {
   "cell_type": "code",
   "execution_count": 139,
   "id": "92c68b9b-4215-4058-84d3-86cbd783bbc7",
   "metadata": {
    "execution": {
     "iopub.execute_input": "2023-02-05T00:04:38.678487Z",
     "iopub.status.busy": "2023-02-05T00:04:38.678367Z",
     "iopub.status.idle": "2023-02-05T00:04:38.682168Z",
     "shell.execute_reply": "2023-02-05T00:04:38.681839Z",
     "shell.execute_reply.started": "2023-02-05T00:04:38.678477Z"
    },
    "tags": []
   },
   "outputs": [
    {
     "data": {
      "text/plain": [
       "1    85.46\n",
       "0    14.54\n",
       "Name: sat_score, dtype: float64"
      ]
     },
     "execution_count": 139,
     "metadata": {},
     "output_type": "execute_result"
    }
   ],
   "source": [
    "tickets['sat_score'].value_counts(normalize=True).mul(100).round(2)"
   ]
  },
  {
   "cell_type": "markdown",
   "id": "536a4e4a-abc6-4f3d-875e-a8db5dc16a91",
   "metadata": {
    "tags": []
   },
   "source": [
    "# Prepare Data\n",
    "\n",
    "This section will configure the data to be used for the various feature selection techniques in this notebook"
   ]
  },
  {
   "cell_type": "markdown",
   "id": "7237c5a9-757b-4052-8bb0-d7b0b1a2c456",
   "metadata": {},
   "source": [
    "## Configure X, y"
   ]
  },
  {
   "cell_type": "code",
   "execution_count": 140,
   "id": "6e99fa66-1a4d-47ba-a20c-d27655f3c1d1",
   "metadata": {
    "execution": {
     "iopub.execute_input": "2023-02-05T00:04:38.684512Z",
     "iopub.status.busy": "2023-02-05T00:04:38.684351Z",
     "iopub.status.idle": "2023-02-05T00:04:38.687641Z",
     "shell.execute_reply": "2023-02-05T00:04:38.687230Z",
     "shell.execute_reply.started": "2023-02-05T00:04:38.684501Z"
    }
   },
   "outputs": [],
   "source": [
    "# configure X and y that can be reused as needed\n",
    "\n",
    "X = tickets.drop(columns=['sat_score'])\n",
    "y = tickets['sat_score']"
   ]
  },
  {
   "cell_type": "markdown",
   "id": "da088e3e-f929-4b14-9ee4-7de4603d37d6",
   "metadata": {},
   "source": [
    "## Train/Test Split"
   ]
  },
  {
   "cell_type": "code",
   "execution_count": 141,
   "id": "e83e3df8-7bc7-4723-adb8-bf50c98caa3d",
   "metadata": {
    "execution": {
     "iopub.execute_input": "2023-02-05T00:04:38.688327Z",
     "iopub.status.busy": "2023-02-05T00:04:38.688185Z",
     "iopub.status.idle": "2023-02-05T00:04:38.694410Z",
     "shell.execute_reply": "2023-02-05T00:04:38.694094Z",
     "shell.execute_reply.started": "2023-02-05T00:04:38.688318Z"
    },
    "tags": []
   },
   "outputs": [],
   "source": [
    "X_train, X_test, y_train, y_test = train_test_split(X, y, \n",
    "                                                   test_size=0.2,\n",
    "                                                   stratify=y,\n",
    "                                                   random_state=415)"
   ]
  },
  {
   "cell_type": "markdown",
   "id": "d7937ba1-2e89-4e75-8e27-3a6a13c46951",
   "metadata": {},
   "source": [
    "# Import Model(s)\n",
    "\n",
    "In the various techniques, a model may be required. As some modeling has occurred that led to this more involved feature selection process, any model of interest will be imported here."
   ]
  },
  {
   "cell_type": "code",
   "execution_count": 142,
   "id": "ebe9b5e7-27c7-48b4-8cd0-645b016411de",
   "metadata": {
    "execution": {
     "iopub.execute_input": "2023-02-05T00:04:38.695063Z",
     "iopub.status.busy": "2023-02-05T00:04:38.694966Z",
     "iopub.status.idle": "2023-02-05T00:04:38.698238Z",
     "shell.execute_reply": "2023-02-05T00:04:38.697906Z",
     "shell.execute_reply.started": "2023-02-05T00:04:38.695053Z"
    },
    "tags": []
   },
   "outputs": [],
   "source": [
    "with open('../models/rf_nine.pkl', 'rb') as f:\n",
    "    rf_nine = pickle.load(f)"
   ]
  },
  {
   "cell_type": "code",
   "execution_count": 143,
   "id": "2f0e4966-102f-46ca-a5b0-e3881aa25d27",
   "metadata": {
    "execution": {
     "iopub.execute_input": "2023-02-05T00:04:38.698930Z",
     "iopub.status.busy": "2023-02-05T00:04:38.698833Z",
     "iopub.status.idle": "2023-02-05T00:04:38.701738Z",
     "shell.execute_reply": "2023-02-05T00:04:38.701336Z",
     "shell.execute_reply.started": "2023-02-05T00:04:38.698922Z"
    }
   },
   "outputs": [
    {
     "data": {
      "text/plain": [
       "sklearn.ensemble._forest.RandomForestClassifier"
      ]
     },
     "execution_count": 143,
     "metadata": {},
     "output_type": "execute_result"
    }
   ],
   "source": [
    "type(rf_nine)"
   ]
  },
  {
   "cell_type": "markdown",
   "id": "08046c9f-67a2-44a0-8ce9-7e241b2fdd8c",
   "metadata": {},
   "source": [
    "# Results for Comparison\n",
    "\n",
    "Here, we'll create accuracy scores and metrics for the `rf_nine` model with the full data, so we can use this for comparison with the other selected feature subsets in this notebook."
   ]
  },
  {
   "cell_type": "code",
   "execution_count": 144,
   "id": "6cdba2ef-e479-435a-97c4-05d7646b9bee",
   "metadata": {
    "execution": {
     "iopub.execute_input": "2023-02-05T00:04:38.702393Z",
     "iopub.status.busy": "2023-02-05T00:04:38.702263Z",
     "iopub.status.idle": "2023-02-05T00:04:41.432989Z",
     "shell.execute_reply": "2023-02-05T00:04:41.432633Z",
     "shell.execute_reply.started": "2023-02-05T00:04:38.702383Z"
    }
   },
   "outputs": [
    {
     "data": {
      "text/html": [
       "<style>#sk-container-id-5 {color: black;background-color: white;}#sk-container-id-5 pre{padding: 0;}#sk-container-id-5 div.sk-toggleable {background-color: white;}#sk-container-id-5 label.sk-toggleable__label {cursor: pointer;display: block;width: 100%;margin-bottom: 0;padding: 0.3em;box-sizing: border-box;text-align: center;}#sk-container-id-5 label.sk-toggleable__label-arrow:before {content: \"▸\";float: left;margin-right: 0.25em;color: #696969;}#sk-container-id-5 label.sk-toggleable__label-arrow:hover:before {color: black;}#sk-container-id-5 div.sk-estimator:hover label.sk-toggleable__label-arrow:before {color: black;}#sk-container-id-5 div.sk-toggleable__content {max-height: 0;max-width: 0;overflow: hidden;text-align: left;background-color: #f0f8ff;}#sk-container-id-5 div.sk-toggleable__content pre {margin: 0.2em;color: black;border-radius: 0.25em;background-color: #f0f8ff;}#sk-container-id-5 input.sk-toggleable__control:checked~div.sk-toggleable__content {max-height: 200px;max-width: 100%;overflow: auto;}#sk-container-id-5 input.sk-toggleable__control:checked~label.sk-toggleable__label-arrow:before {content: \"▾\";}#sk-container-id-5 div.sk-estimator input.sk-toggleable__control:checked~label.sk-toggleable__label {background-color: #d4ebff;}#sk-container-id-5 div.sk-label input.sk-toggleable__control:checked~label.sk-toggleable__label {background-color: #d4ebff;}#sk-container-id-5 input.sk-hidden--visually {border: 0;clip: rect(1px 1px 1px 1px);clip: rect(1px, 1px, 1px, 1px);height: 1px;margin: -1px;overflow: hidden;padding: 0;position: absolute;width: 1px;}#sk-container-id-5 div.sk-estimator {font-family: monospace;background-color: #f0f8ff;border: 1px dotted black;border-radius: 0.25em;box-sizing: border-box;margin-bottom: 0.5em;}#sk-container-id-5 div.sk-estimator:hover {background-color: #d4ebff;}#sk-container-id-5 div.sk-parallel-item::after {content: \"\";width: 100%;border-bottom: 1px solid gray;flex-grow: 1;}#sk-container-id-5 div.sk-label:hover label.sk-toggleable__label {background-color: #d4ebff;}#sk-container-id-5 div.sk-serial::before {content: \"\";position: absolute;border-left: 1px solid gray;box-sizing: border-box;top: 0;bottom: 0;left: 50%;z-index: 0;}#sk-container-id-5 div.sk-serial {display: flex;flex-direction: column;align-items: center;background-color: white;padding-right: 0.2em;padding-left: 0.2em;position: relative;}#sk-container-id-5 div.sk-item {position: relative;z-index: 1;}#sk-container-id-5 div.sk-parallel {display: flex;align-items: stretch;justify-content: center;background-color: white;position: relative;}#sk-container-id-5 div.sk-item::before, #sk-container-id-5 div.sk-parallel-item::before {content: \"\";position: absolute;border-left: 1px solid gray;box-sizing: border-box;top: 0;bottom: 0;left: 50%;z-index: -1;}#sk-container-id-5 div.sk-parallel-item {display: flex;flex-direction: column;z-index: 1;position: relative;background-color: white;}#sk-container-id-5 div.sk-parallel-item:first-child::after {align-self: flex-end;width: 50%;}#sk-container-id-5 div.sk-parallel-item:last-child::after {align-self: flex-start;width: 50%;}#sk-container-id-5 div.sk-parallel-item:only-child::after {width: 0;}#sk-container-id-5 div.sk-dashed-wrapped {border: 1px dashed gray;margin: 0 0.4em 0.5em 0.4em;box-sizing: border-box;padding-bottom: 0.4em;background-color: white;}#sk-container-id-5 div.sk-label label {font-family: monospace;font-weight: bold;display: inline-block;line-height: 1.2em;}#sk-container-id-5 div.sk-label-container {text-align: center;}#sk-container-id-5 div.sk-container {/* jupyter's `normalize.less` sets `[hidden] { display: none; }` but bootstrap.min.css set `[hidden] { display: none !important; }` so we also need the `!important` here to be able to override the default hidden behavior on the sphinx rendered scikit-learn.org. See: https://github.com/scikit-learn/scikit-learn/issues/21755 */display: inline-block !important;position: relative;}#sk-container-id-5 div.sk-text-repr-fallback {display: none;}</style><div id=\"sk-container-id-5\" class=\"sk-top-container\"><div class=\"sk-text-repr-fallback\"><pre>RandomForestClassifier(max_depth=95, max_features=4, min_samples_leaf=5,\n",
       "                       n_estimators=175, warm_start=True)</pre><b>In a Jupyter environment, please rerun this cell to show the HTML representation or trust the notebook. <br />On GitHub, the HTML representation is unable to render, please try loading this page with nbviewer.org.</b></div><div class=\"sk-container\" hidden><div class=\"sk-item\"><div class=\"sk-estimator sk-toggleable\"><input class=\"sk-toggleable__control sk-hidden--visually\" id=\"sk-estimator-id-5\" type=\"checkbox\" checked><label for=\"sk-estimator-id-5\" class=\"sk-toggleable__label sk-toggleable__label-arrow\">RandomForestClassifier</label><div class=\"sk-toggleable__content\"><pre>RandomForestClassifier(max_depth=95, max_features=4, min_samples_leaf=5,\n",
       "                       n_estimators=175, warm_start=True)</pre></div></div></div></div></div>"
      ],
      "text/plain": [
       "RandomForestClassifier(max_depth=95, max_features=4, min_samples_leaf=5,\n",
       "                       n_estimators=175, warm_start=True)"
      ]
     },
     "execution_count": 144,
     "metadata": {},
     "output_type": "execute_result"
    }
   ],
   "source": [
    "rf_nine.fit(X_train, y_train)"
   ]
  },
  {
   "cell_type": "code",
   "execution_count": 145,
   "id": "3734c22a-f940-4817-9f6c-11b990ff80d7",
   "metadata": {
    "execution": {
     "iopub.execute_input": "2023-02-05T00:04:41.433600Z",
     "iopub.status.busy": "2023-02-05T00:04:41.433501Z",
     "iopub.status.idle": "2023-02-05T00:04:52.332674Z",
     "shell.execute_reply": "2023-02-05T00:04:52.332364Z",
     "shell.execute_reply.started": "2023-02-05T00:04:41.433591Z"
    },
    "tags": []
   },
   "outputs": [
    {
     "name": "stdout",
     "output_type": "stream",
     "text": [
      "CrossVal: 0.855\n",
      "Train Score: 0.876\n",
      "Test Score: 0.854\n",
      "\n"
     ]
    }
   ],
   "source": [
    "print(\n",
    "f'CrossVal: {cross_val_score(rf_nine, X_train, y_train).mean().round(3)}\\n'\n",
    "f'Train Score: {rf_nine.score(X_train, y_train).round(3)}\\n'\n",
    "f'Test Score: {rf_nine.score(X_test, y_test).round(3)}\\n'\n",
    ")"
   ]
  },
  {
   "cell_type": "code",
   "execution_count": 146,
   "id": "d0364c6f-5a26-4916-ae1e-61adc6e52d2c",
   "metadata": {
    "execution": {
     "iopub.execute_input": "2023-02-05T00:04:52.333258Z",
     "iopub.status.busy": "2023-02-05T00:04:52.333162Z",
     "iopub.status.idle": "2023-02-05T00:04:52.390232Z",
     "shell.execute_reply": "2023-02-05T00:04:52.389922Z",
     "shell.execute_reply.started": "2023-02-05T00:04:52.333248Z"
    },
    "tags": []
   },
   "outputs": [
    {
     "name": "stdout",
     "output_type": "stream",
     "text": [
      "              precision    recall  f1-score   support\n",
      "\n",
      "           0       0.38      0.01      0.02       387\n",
      "           1       0.86      1.00      0.92      2278\n",
      "\n",
      "    accuracy                           0.85      2665\n",
      "   macro avg       0.62      0.50      0.47      2665\n",
      "weighted avg       0.79      0.85      0.79      2665\n",
      "\n"
     ]
    }
   ],
   "source": [
    "print(classification_report(y_test, rf_nine.predict(X_test)))"
   ]
  },
  {
   "cell_type": "code",
   "execution_count": 147,
   "id": "71ccf393-0576-4fda-b6b5-33834da6cbae",
   "metadata": {
    "execution": {
     "iopub.execute_input": "2023-02-05T00:04:52.390981Z",
     "iopub.status.busy": "2023-02-05T00:04:52.390869Z",
     "iopub.status.idle": "2023-02-05T00:04:52.664396Z",
     "shell.execute_reply": "2023-02-05T00:04:52.664092Z",
     "shell.execute_reply.started": "2023-02-05T00:04:52.390972Z"
    },
    "tags": []
   },
   "outputs": [
    {
     "data": {
      "image/png": "[encoded data removed]",
      "text/plain": [
       "<Figure size 1600x600 with 4 Axes>"
      ]
     },
     "metadata": {},
     "output_type": "display_data"
    }
   ],
   "source": [
    "# plot both counts and percentages\n",
    "fig, (ax1, ax2) = plt.subplots(1, 2, figsize=(16,6))\n",
    "\n",
    "ConfusionMatrixDisplay.from_estimator(rf_nine, \n",
    "                                      X_test, \n",
    "                                      y_test,\n",
    "                                      cmap='Purples',\n",
    "                                      ax=ax1)\n",
    "ax1.set_title('Results for Comparison rf_nine Model\\nSample Counts')\n",
    "\n",
    "ConfusionMatrixDisplay.from_estimator(rf_nine, \n",
    "                                      X_test, \n",
    "                                      y_test,\n",
    "                                      normalize='all',\n",
    "                                      cmap='Purples',\n",
    "                                      ax=ax2)\n",
    "ax2.set_title('Results for Comparison rf_nine Model\\n% Values');"
   ]
  },
  {
   "cell_type": "markdown",
   "id": "f128425f-4371-4b19-bd6f-2d6c9371259c",
   "metadata": {},
   "source": [
    "These metrics are what have led to trying to select features and improve the model performance.  The overall accuracy is right around the baseline and was done by predicting the majority class in 99% of the observations.  This shows the very poor recall and f1 scores that are also indicativae of the model not being able to predict the minority class."
   ]
  },
  {
   "cell_type": "markdown",
   "id": "318e4301-a336-42da-989f-4fcf561043b1",
   "metadata": {},
   "source": [
    "# Algorithmic Feature Selection"
   ]
  },
  {
   "cell_type": "markdown",
   "id": "dc347510-10d7-44fa-9dec-b838754bb21d",
   "metadata": {},
   "source": [
    "## Tree-based feature selection\n",
    "\n",
    "Using the `rf_nine` model that was imported, I will fit that with the imbalanced dataset and use some of the features built in to sklearn (SelectFromModel) to see which features this approach deemed appropriate.  \n",
    "\n",
    "[sklearn reference](https://scikit-learn.org/stable/modules/feature_selection.html#feature-selection-using-selectfrommodel)"
   ]
  },
  {
   "cell_type": "markdown",
   "id": "01d88fba-d8ff-4bfd-8f7d-928cfce4b1cd",
   "metadata": {},
   "source": [
    "### Use `SelectFromModel`\n",
    "\n",
    "Here SelectFromModel will use information from the fitted model in order to choose features.  Using that information, the X feature data for both train and test will be transformed and I will evaluate the performance using scoring and classification metrics."
   ]
  },
  {
   "cell_type": "code",
   "execution_count": 148,
   "id": "626de0b1-5693-41cd-95ea-8eba2b1e94b3",
   "metadata": {
    "execution": {
     "iopub.execute_input": "2023-02-05T00:04:52.664908Z",
     "iopub.status.busy": "2023-02-05T00:04:52.664816Z",
     "iopub.status.idle": "2023-02-05T00:04:52.692304Z",
     "shell.execute_reply": "2023-02-05T00:04:52.691909Z",
     "shell.execute_reply.started": "2023-02-05T00:04:52.664899Z"
    },
    "tags": []
   },
   "outputs": [
    {
     "name": "stderr",
     "output_type": "stream",
     "text": [
      "/Users/matt/miniforge3/envs/tfm1/lib/python3.9/site-packages/sklearn/base.py:443: UserWarning: X has feature names, but SelectFromModel was fitted without feature names\n",
      "  warnings.warn(\n",
      "/Users/matt/miniforge3/envs/tfm1/lib/python3.9/site-packages/sklearn/base.py:443: UserWarning: X has feature names, but SelectFromModel was fitted without feature names\n",
      "  warnings.warn(\n"
     ]
    }
   ],
   "source": [
    "model = SelectFromModel(rf_nine, prefit=True)\n",
    "X_train_new = model.transform(X_train)\n",
    "X_test_new = model.transform(X_test)"
   ]
  },
  {
   "cell_type": "code",
   "execution_count": 149,
   "id": "72245cf3-a229-4c64-8ff9-5ce1a54018b0",
   "metadata": {
    "execution": {
     "iopub.execute_input": "2023-02-05T00:04:52.693102Z",
     "iopub.status.busy": "2023-02-05T00:04:52.692949Z",
     "iopub.status.idle": "2023-02-05T00:04:52.695917Z",
     "shell.execute_reply": "2023-02-05T00:04:52.695488Z",
     "shell.execute_reply.started": "2023-02-05T00:04:52.693087Z"
    },
    "tags": []
   },
   "outputs": [
    {
     "data": {
      "text/plain": [
       "array(['grp_stations', 'asign_stations', 'reopens', 'replies',\n",
       "       'reply_mins', 'first_reso_mins', 'full_reso_mins', 'agt_wait_mins',\n",
       "       'reqstr_wait_mins', 'on_hold_mins', 'sent_score', 'num_comms',\n",
       "       'td_crtd_assnd', 'td_assnd_slvd', 'rply_rate', 'comm_rate'],\n",
       "      dtype=object)"
      ]
     },
     "execution_count": 149,
     "metadata": {},
     "output_type": "execute_result"
    }
   ],
   "source": [
    "# check the features that were fit on the model\n",
    "rf_nine.feature_names_in_"
   ]
  },
  {
   "cell_type": "code",
   "execution_count": 150,
   "id": "835f6329-7d10-4fe1-8716-2d3dee1a2e42",
   "metadata": {
    "execution": {
     "iopub.execute_input": "2023-02-05T00:04:52.696662Z",
     "iopub.status.busy": "2023-02-05T00:04:52.696548Z",
     "iopub.status.idle": "2023-02-05T00:04:52.711325Z",
     "shell.execute_reply": "2023-02-05T00:04:52.710919Z",
     "shell.execute_reply.started": "2023-02-05T00:04:52.696652Z"
    },
    "tags": []
   },
   "outputs": [
    {
     "data": {
      "text/plain": [
       "array(['reply_mins', 'first_reso_mins', 'full_reso_mins', 'agt_wait_mins',\n",
       "       'reqstr_wait_mins', 'sent_score', 'td_crtd_assnd', 'td_assnd_slvd',\n",
       "       'rply_rate', 'comm_rate'], dtype=object)"
      ]
     },
     "execution_count": 150,
     "metadata": {},
     "output_type": "execute_result"
    }
   ],
   "source": [
    "# get the feature names selected by the SelectFromModel \n",
    "tb_feats = model.get_feature_names_out(rf_nine.feature_names_in_)\n",
    "tb_feats"
   ]
  },
  {
   "cell_type": "code",
   "execution_count": 151,
   "id": "37eb94d8-e386-4dc4-93cf-e5b8396a952f",
   "metadata": {
    "execution": {
     "iopub.execute_input": "2023-02-05T00:04:52.712234Z",
     "iopub.status.busy": "2023-02-05T00:04:52.712036Z",
     "iopub.status.idle": "2023-02-05T00:04:52.715184Z",
     "shell.execute_reply": "2023-02-05T00:04:52.714732Z",
     "shell.execute_reply.started": "2023-02-05T00:04:52.712223Z"
    },
    "tags": []
   },
   "outputs": [
    {
     "data": {
      "text/plain": [
       "{'asign_stations',\n",
       " 'grp_stations',\n",
       " 'num_comms',\n",
       " 'on_hold_mins',\n",
       " 'reopens',\n",
       " 'replies'}"
      ]
     },
     "execution_count": 151,
     "metadata": {},
     "output_type": "execute_result"
    }
   ],
   "source": [
    "# find out which features were eliminated:\n",
    "set(rf_nine.feature_names_in_) - set(tb_feats)"
   ]
  },
  {
   "cell_type": "code",
   "execution_count": 152,
   "id": "09ffcefe-b5d6-45ea-b6ea-8b663188a795",
   "metadata": {
    "execution": {
     "iopub.execute_input": "2023-02-05T00:04:52.715839Z",
     "iopub.status.busy": "2023-02-05T00:04:52.715718Z",
     "iopub.status.idle": "2023-02-05T00:04:52.734703Z",
     "shell.execute_reply": "2023-02-05T00:04:52.734184Z",
     "shell.execute_reply.started": "2023-02-05T00:04:52.715829Z"
    },
    "tags": []
   },
   "outputs": [
    {
     "data": {
      "text/html": [
       "<div>\n",
       "<style scoped>\n",
       "    .dataframe tbody tr th:only-of-type {\n",
       "        vertical-align: middle;\n",
       "    }\n",
       "\n",
       "    .dataframe tbody tr th {\n",
       "        vertical-align: top;\n",
       "    }\n",
       "\n",
       "    .dataframe thead th {\n",
       "        text-align: right;\n",
       "    }\n",
       "</style>\n",
       "<table border=\"1\" class=\"dataframe\">\n",
       "  <thead>\n",
       "    <tr style=\"text-align: right;\">\n",
       "      <th></th>\n",
       "      <th>reply_mins</th>\n",
       "      <th>first_reso_mins</th>\n",
       "      <th>full_reso_mins</th>\n",
       "      <th>agt_wait_mins</th>\n",
       "      <th>reqstr_wait_mins</th>\n",
       "      <th>sent_score</th>\n",
       "      <th>td_crtd_assnd</th>\n",
       "      <th>td_assnd_slvd</th>\n",
       "      <th>rply_rate</th>\n",
       "      <th>comm_rate</th>\n",
       "    </tr>\n",
       "  </thead>\n",
       "  <tbody>\n",
       "    <tr>\n",
       "      <th>0</th>\n",
       "      <td>132238.0</td>\n",
       "      <td>132238.0</td>\n",
       "      <td>132238.0</td>\n",
       "      <td>7233.0</td>\n",
       "      <td>125005.0</td>\n",
       "      <td>0.765367</td>\n",
       "      <td>3888.0</td>\n",
       "      <td>128350.0</td>\n",
       "      <td>0.000000</td>\n",
       "      <td>0.000023</td>\n",
       "    </tr>\n",
       "    <tr>\n",
       "      <th>1</th>\n",
       "      <td>416.0</td>\n",
       "      <td>7225.0</td>\n",
       "      <td>7225.0</td>\n",
       "      <td>4125.0</td>\n",
       "      <td>3100.0</td>\n",
       "      <td>0.162300</td>\n",
       "      <td>416.0</td>\n",
       "      <td>6808.0</td>\n",
       "      <td>0.000277</td>\n",
       "      <td>0.000969</td>\n",
       "    </tr>\n",
       "    <tr>\n",
       "      <th>2</th>\n",
       "      <td>1215.0</td>\n",
       "      <td>1271.0</td>\n",
       "      <td>1271.0</td>\n",
       "      <td>28.0</td>\n",
       "      <td>1242.0</td>\n",
       "      <td>0.379700</td>\n",
       "      <td>1215.0</td>\n",
       "      <td>55.0</td>\n",
       "      <td>0.002360</td>\n",
       "      <td>0.004721</td>\n",
       "    </tr>\n",
       "  </tbody>\n",
       "</table>\n",
       "</div>"
      ],
      "text/plain": [
       "   reply_mins  first_reso_mins  full_reso_mins  agt_wait_mins  \\\n",
       "0    132238.0         132238.0        132238.0         7233.0   \n",
       "1       416.0           7225.0          7225.0         4125.0   \n",
       "2      1215.0           1271.0          1271.0           28.0   \n",
       "\n",
       "   reqstr_wait_mins  sent_score  td_crtd_assnd  td_assnd_slvd  rply_rate  \\\n",
       "0          125005.0    0.765367         3888.0       128350.0   0.000000   \n",
       "1            3100.0    0.162300          416.0         6808.0   0.000277   \n",
       "2            1242.0    0.379700         1215.0           55.0   0.002360   \n",
       "\n",
       "   comm_rate  \n",
       "0   0.000023  \n",
       "1   0.000969  \n",
       "2   0.004721  "
      ]
     },
     "execution_count": 152,
     "metadata": {},
     "output_type": "execute_result"
    }
   ],
   "source": [
    "# take a look at X_train_new in DF form for quick visual check to see\n",
    "# if it only has the selected features\n",
    "pd.DataFrame(X_train_new,\n",
    "            columns=model.get_feature_names_out(rf_nine.feature_names_in_)\n",
    "            ).head(3)"
   ]
  },
  {
   "cell_type": "markdown",
   "id": "28ae689c-0704-463d-bd3b-7e52fd472971",
   "metadata": {},
   "source": [
    "### Check with Selected Features"
   ]
  },
  {
   "cell_type": "code",
   "execution_count": 153,
   "id": "4c02603a-2d39-4989-a0eb-43f7aff8989f",
   "metadata": {
    "execution": {
     "iopub.execute_input": "2023-02-05T00:04:52.735378Z",
     "iopub.status.busy": "2023-02-05T00:04:52.735271Z",
     "iopub.status.idle": "2023-02-05T00:04:52.738196Z",
     "shell.execute_reply": "2023-02-05T00:04:52.737715Z",
     "shell.execute_reply.started": "2023-02-05T00:04:52.735369Z"
    },
    "tags": []
   },
   "outputs": [],
   "source": [
    "# re-import model to re-fit with new data\n",
    "with open('../models/rf_nine.pkl', 'rb') as f:\n",
    "    rf_nine = pickle.load(f)"
   ]
  },
  {
   "cell_type": "code",
   "execution_count": 154,
   "id": "81a88259-86dd-42cd-809f-fa3c9718d0f5",
   "metadata": {
    "execution": {
     "iopub.execute_input": "2023-02-05T00:04:52.738803Z",
     "iopub.status.busy": "2023-02-05T00:04:52.738692Z",
     "iopub.status.idle": "2023-02-05T00:04:56.550497Z",
     "shell.execute_reply": "2023-02-05T00:04:56.550230Z",
     "shell.execute_reply.started": "2023-02-05T00:04:52.738794Z"
    },
    "tags": []
   },
   "outputs": [
    {
     "data": {
      "text/html": [
       "<style>#sk-container-id-6 {color: black;background-color: white;}#sk-container-id-6 pre{padding: 0;}#sk-container-id-6 div.sk-toggleable {background-color: white;}#sk-container-id-6 label.sk-toggleable__label {cursor: pointer;display: block;width: 100%;margin-bottom: 0;padding: 0.3em;box-sizing: border-box;text-align: center;}#sk-container-id-6 label.sk-toggleable__label-arrow:before {content: \"▸\";float: left;margin-right: 0.25em;color: #696969;}#sk-container-id-6 label.sk-toggleable__label-arrow:hover:before {color: black;}#sk-container-id-6 div.sk-estimator:hover label.sk-toggleable__label-arrow:before {color: black;}#sk-container-id-6 div.sk-toggleable__content {max-height: 0;max-width: 0;overflow: hidden;text-align: left;background-color: #f0f8ff;}#sk-container-id-6 div.sk-toggleable__content pre {margin: 0.2em;color: black;border-radius: 0.25em;background-color: #f0f8ff;}#sk-container-id-6 input.sk-toggleable__control:checked~div.sk-toggleable__content {max-height: 200px;max-width: 100%;overflow: auto;}#sk-container-id-6 input.sk-toggleable__control:checked~label.sk-toggleable__label-arrow:before {content: \"▾\";}#sk-container-id-6 div.sk-estimator input.sk-toggleable__control:checked~label.sk-toggleable__label {background-color: #d4ebff;}#sk-container-id-6 div.sk-label input.sk-toggleable__control:checked~label.sk-toggleable__label {background-color: #d4ebff;}#sk-container-id-6 input.sk-hidden--visually {border: 0;clip: rect(1px 1px 1px 1px);clip: rect(1px, 1px, 1px, 1px);height: 1px;margin: -1px;overflow: hidden;padding: 0;position: absolute;width: 1px;}#sk-container-id-6 div.sk-estimator {font-family: monospace;background-color: #f0f8ff;border: 1px dotted black;border-radius: 0.25em;box-sizing: border-box;margin-bottom: 0.5em;}#sk-container-id-6 div.sk-estimator:hover {background-color: #d4ebff;}#sk-container-id-6 div.sk-parallel-item::after {content: \"\";width: 100%;border-bottom: 1px solid gray;flex-grow: 1;}#sk-container-id-6 div.sk-label:hover label.sk-toggleable__label {background-color: #d4ebff;}#sk-container-id-6 div.sk-serial::before {content: \"\";position: absolute;border-left: 1px solid gray;box-sizing: border-box;top: 0;bottom: 0;left: 50%;z-index: 0;}#sk-container-id-6 div.sk-serial {display: flex;flex-direction: column;align-items: center;background-color: white;padding-right: 0.2em;padding-left: 0.2em;position: relative;}#sk-container-id-6 div.sk-item {position: relative;z-index: 1;}#sk-container-id-6 div.sk-parallel {display: flex;align-items: stretch;justify-content: center;background-color: white;position: relative;}#sk-container-id-6 div.sk-item::before, #sk-container-id-6 div.sk-parallel-item::before {content: \"\";position: absolute;border-left: 1px solid gray;box-sizing: border-box;top: 0;bottom: 0;left: 50%;z-index: -1;}#sk-container-id-6 div.sk-parallel-item {display: flex;flex-direction: column;z-index: 1;position: relative;background-color: white;}#sk-container-id-6 div.sk-parallel-item:first-child::after {align-self: flex-end;width: 50%;}#sk-container-id-6 div.sk-parallel-item:last-child::after {align-self: flex-start;width: 50%;}#sk-container-id-6 div.sk-parallel-item:only-child::after {width: 0;}#sk-container-id-6 div.sk-dashed-wrapped {border: 1px dashed gray;margin: 0 0.4em 0.5em 0.4em;box-sizing: border-box;padding-bottom: 0.4em;background-color: white;}#sk-container-id-6 div.sk-label label {font-family: monospace;font-weight: bold;display: inline-block;line-height: 1.2em;}#sk-container-id-6 div.sk-label-container {text-align: center;}#sk-container-id-6 div.sk-container {/* jupyter's `normalize.less` sets `[hidden] { display: none; }` but bootstrap.min.css set `[hidden] { display: none !important; }` so we also need the `!important` here to be able to override the default hidden behavior on the sphinx rendered scikit-learn.org. See: https://github.com/scikit-learn/scikit-learn/issues/21755 */display: inline-block !important;position: relative;}#sk-container-id-6 div.sk-text-repr-fallback {display: none;}</style><div id=\"sk-container-id-6\" class=\"sk-top-container\"><div class=\"sk-text-repr-fallback\"><pre>RandomForestClassifier(max_depth=95, max_features=4, min_samples_leaf=5,\n",
       "                       n_estimators=175, warm_start=True)</pre><b>In a Jupyter environment, please rerun this cell to show the HTML representation or trust the notebook. <br />On GitHub, the HTML representation is unable to render, please try loading this page with nbviewer.org.</b></div><div class=\"sk-container\" hidden><div class=\"sk-item\"><div class=\"sk-estimator sk-toggleable\"><input class=\"sk-toggleable__control sk-hidden--visually\" id=\"sk-estimator-id-6\" type=\"checkbox\" checked><label for=\"sk-estimator-id-6\" class=\"sk-toggleable__label sk-toggleable__label-arrow\">RandomForestClassifier</label><div class=\"sk-toggleable__content\"><pre>RandomForestClassifier(max_depth=95, max_features=4, min_samples_leaf=5,\n",
       "                       n_estimators=175, warm_start=True)</pre></div></div></div></div></div>"
      ],
      "text/plain": [
       "RandomForestClassifier(max_depth=95, max_features=4, min_samples_leaf=5,\n",
       "                       n_estimators=175, warm_start=True)"
      ]
     },
     "execution_count": 154,
     "metadata": {},
     "output_type": "execute_result"
    }
   ],
   "source": [
    "rf_nine.fit(X_train_new, y_train)"
   ]
  },
  {
   "cell_type": "code",
   "execution_count": 155,
   "id": "a346ed48-3533-45dd-b8a9-8478737bd23b",
   "metadata": {
    "execution": {
     "iopub.execute_input": "2023-02-05T00:04:56.551053Z",
     "iopub.status.busy": "2023-02-05T00:04:56.550961Z",
     "iopub.status.idle": "2023-02-05T00:05:11.515912Z",
     "shell.execute_reply": "2023-02-05T00:05:11.515607Z",
     "shell.execute_reply.started": "2023-02-05T00:04:56.551043Z"
    },
    "tags": []
   },
   "outputs": [
    {
     "name": "stdout",
     "output_type": "stream",
     "text": [
      "CrossVal: 0.854\n",
      "Train Score: 0.881\n",
      "Test Score: 0.853\n",
      "\n"
     ]
    }
   ],
   "source": [
    "print(\n",
    "f'CrossVal: {cross_val_score(rf_nine, X_train_new, y_train).mean().round(3)}\\n'\n",
    "f'Train Score: {rf_nine.score(X_train_new, y_train).round(3)}\\n'\n",
    "f'Test Score: {rf_nine.score(X_test_new, y_test).round(3)}\\n'\n",
    ")"
   ]
  },
  {
   "cell_type": "code",
   "execution_count": 156,
   "id": "8e3c865a-d1c7-4f2e-ac82-33684413343a",
   "metadata": {
    "execution": {
     "iopub.execute_input": "2023-02-05T00:05:11.516493Z",
     "iopub.status.busy": "2023-02-05T00:05:11.516395Z",
     "iopub.status.idle": "2023-02-05T00:05:11.572683Z",
     "shell.execute_reply": "2023-02-05T00:05:11.572357Z",
     "shell.execute_reply.started": "2023-02-05T00:05:11.516482Z"
    },
    "tags": []
   },
   "outputs": [
    {
     "name": "stdout",
     "output_type": "stream",
     "text": [
      "              precision    recall  f1-score   support\n",
      "\n",
      "           0       0.38      0.02      0.03       387\n",
      "           1       0.86      1.00      0.92      2278\n",
      "\n",
      "    accuracy                           0.85      2665\n",
      "   macro avg       0.62      0.51      0.48      2665\n",
      "weighted avg       0.79      0.85      0.79      2665\n",
      "\n"
     ]
    }
   ],
   "source": [
    "print(classification_report(y_test, \n",
    "                            rf_nine.predict(X_test_new), \n",
    "                           ))"
   ]
  },
  {
   "cell_type": "code",
   "execution_count": 157,
   "id": "799be02b-3954-4e25-a798-7d1d7289679b",
   "metadata": {
    "execution": {
     "iopub.execute_input": "2023-02-05T00:05:11.573274Z",
     "iopub.status.busy": "2023-02-05T00:05:11.573170Z",
     "iopub.status.idle": "2023-02-05T00:05:11.841740Z",
     "shell.execute_reply": "2023-02-05T00:05:11.841265Z",
     "shell.execute_reply.started": "2023-02-05T00:05:11.573264Z"
    },
    "tags": []
   },
   "outputs": [
    {
     "data": {
      "image/png": "[encoded data removed]",
      "text/plain": [
       "<Figure size 1600x600 with 4 Axes>"
      ]
     },
     "metadata": {},
     "output_type": "display_data"
    }
   ],
   "source": [
    "# plot both counts and percentages\n",
    "fig, (ax1, ax2) = plt.subplots(1, 2, figsize=(16,6))\n",
    "\n",
    "ConfusionMatrixDisplay.from_estimator(rf_nine, \n",
    "                                      X_test_new, \n",
    "                                      y_test,\n",
    "                                      cmap='Purples',\n",
    "                                      ax=ax1)\n",
    "ax1.set_title('Tree-based Feature Selection\\nModel: rf_nine - Sample Counts')\n",
    "\n",
    "ConfusionMatrixDisplay.from_estimator(rf_nine, \n",
    "                                      X_test_new, \n",
    "                                      y_test,\n",
    "                                      normalize='all',\n",
    "                                      cmap='Purples',\n",
    "                                      ax=ax2)\n",
    "ax2.set_title('Tree-based Feature Selection\\nModel: rf_nine - % Values');"
   ]
  },
  {
   "cell_type": "markdown",
   "id": "12e23ee0-ca0a-449a-b413-2c7d8eff9dc6",
   "metadata": {},
   "source": [
    "These results are very similar to the results from the `rf_nine` model.  There were actually fewer true negatives and more false negatives identified in this attempt."
   ]
  },
  {
   "cell_type": "markdown",
   "id": "e9b408da-9e50-4d72-9dc7-b89d60aaf71e",
   "metadata": {},
   "source": [
    "### Tree-based feature selection summary\n",
    "\n",
    "This techinque led to the elimination of the following features:\n",
    "\n",
    "```python\n",
    "{'asign_stations',\n",
    " 'grp_stations',\n",
    " 'num_comms',\n",
    " 'on_hold_mins',\n",
    " 'reopens',\n",
    " 'replies'}\n",
    "```\n",
    "\n",
    "Which means it kept the following features:\n",
    "```python\n",
    "['reply_mins', 'first_reso_mins', 'full_reso_mins', 'agt_wait_mins',\n",
    "       'reqstr_wait_mins', 'sent_score', 'td_crtd_assnd', 'td_assnd_slvd',\n",
    "       'rply_rate', 'comm_rate']\n",
    "```\n",
    "When the model was fit with just the selected features, it is still suffering from no real predictive power above baseline, and acheiving that score by largely predicting the majority class and not having the ability to predict the minority class.  Although the recall score is the same as our comparison results, the precision actually went down using just these features."
   ]
  },
  {
   "cell_type": "markdown",
   "id": "9c240a53-52e6-404b-bc83-04600472c3f8",
   "metadata": {},
   "source": [
    "## Recursive Feature Elimination\n",
    "\n",
    "Using sklearn's `RFECV`, `StratifiedKFold`, and their example, I ran my data through these steps which programmatically checks features, removes one checks again, and so on to find the ideal number of features.\n",
    "\n",
    "Note: the default metric is accuracy, but in my earlier testing I saw the F1 amd recall swing, so this feature elimination will be run with various scoring metrics.  I will try `F1` as the scoring metric, `balanced_accuracy` which appears to be a metric to help battle issues with class imbalance, and `precision` to see how the overall results may vary. \n",
    "\n",
    "Also, as the code was run multiple times, there were some variances in the results.  There are some commented out code blocks below that may have related to those tests.  If a plot was generated for one of those tests, the resulting plot's image was saved in the `assets` directory of this repo, and should be labeled `rfe_<metric>_<no of feats>`.\n",
    "\n",
    "[Documentation link](https://scikit-learn.org/stable/auto_examples/feature_selection/plot_rfe_with_cross_validation.html#sphx-glr-auto-examples-feature-selection-plot-rfe-with-cross-validation-py)"
   ]
  },
  {
   "cell_type": "markdown",
   "id": "bf0869df-8f09-4152-8244-b604f9f35b0b",
   "metadata": {},
   "source": [
    "### Scoring Metric: F1"
   ]
  },
  {
   "cell_type": "code",
   "execution_count": 158,
   "id": "75e482f4-9989-40e5-bfc3-c4e00f17323e",
   "metadata": {
    "execution": {
     "iopub.execute_input": "2023-02-05T00:05:11.848155Z",
     "iopub.status.busy": "2023-02-05T00:05:11.847769Z",
     "iopub.status.idle": "2023-02-05T00:05:11.850759Z",
     "shell.execute_reply": "2023-02-05T00:05:11.850409Z",
     "shell.execute_reply.started": "2023-02-05T00:05:11.848141Z"
    },
    "tags": []
   },
   "outputs": [],
   "source": [
    "# import model to start clean\n",
    "with open('../models/rf_nine.pkl', 'rb') as f:\n",
    "    rf_nine = pickle.load(f)"
   ]
  },
  {
   "cell_type": "code",
   "execution_count": 159,
   "id": "24a4e9eb-b068-4f8e-b850-fb2572bdec47",
   "metadata": {
    "execution": {
     "iopub.execute_input": "2023-02-05T00:05:11.851652Z",
     "iopub.status.busy": "2023-02-05T00:05:11.851504Z",
     "iopub.status.idle": "2023-02-05T00:07:14.739268Z",
     "shell.execute_reply": "2023-02-05T00:07:14.738792Z",
     "shell.execute_reply.started": "2023-02-05T00:05:11.851643Z"
    },
    "tags": []
   },
   "outputs": [
    {
     "name": "stdout",
     "output_type": "stream",
     "text": [
      "Optimal number of features: 16\n"
     ]
    }
   ],
   "source": [
    "# Minimum number of features to consider\n",
    "min_features_to_select = 3  \n",
    "\n",
    "# configure stratified cross-validator\n",
    "cv = StratifiedKFold(5) \n",
    "\n",
    "# configure the recursive feature elimination with cross-validation\n",
    "rfecv = RFECV(\n",
    "    estimator=rf_nine,\n",
    "    step=1,\n",
    "    cv=cv,\n",
    "    scoring=\"f1\",\n",
    "    min_features_to_select=min_features_to_select,\n",
    "    n_jobs=2,\n",
    ")\n",
    "rfecv.fit(X_train, y_train)\n",
    "\n",
    "print(f\"Optimal number of features: {rfecv.n_features_}\")"
   ]
  },
  {
   "cell_type": "code",
   "execution_count": 160,
   "id": "3f7b4807-6c2c-4918-9da1-28ff33e28e2d",
   "metadata": {
    "execution": {
     "iopub.execute_input": "2023-02-05T00:07:14.740318Z",
     "iopub.status.busy": "2023-02-05T00:07:14.740217Z",
     "iopub.status.idle": "2023-02-05T00:07:14.841984Z",
     "shell.execute_reply": "2023-02-05T00:07:14.841478Z",
     "shell.execute_reply.started": "2023-02-05T00:07:14.740309Z"
    },
    "tags": []
   },
   "outputs": [
    {
     "data": {
      "image/png": "[encoded data removed]",
      "text/plain": [
       "<Figure size 640x480 with 1 Axes>"
      ]
     },
     "metadata": {},
     "output_type": "display_data"
    }
   ],
   "source": [
    "# the last result I had was for 12 features.  If this notebook is run and \n",
    "# there is a different result, you can find the plot for 12 features in \n",
    "# the assets directory of this repo\n",
    "\n",
    "n_scores = len(rfecv.cv_results_[\"mean_test_score\"])\n",
    "plt.figure()\n",
    "plt.xlabel(\"Number of features selected\")\n",
    "plt.ylabel(\"Mean test accuracy\")\n",
    "plt.errorbar(\n",
    "    range(min_features_to_select, n_scores + min_features_to_select),\n",
    "    rfecv.cv_results_[\"mean_test_score\"],\n",
    "    yerr=rfecv.cv_results_[\"std_test_score\"],\n",
    ")\n",
    "plt.title(\"Recursive Feature Elimination \\nwith correlated features\\n\\\n",
    "Scoring Metric: f1\")\n",
    "plt.show()"
   ]
  },
  {
   "cell_type": "code",
   "execution_count": 161,
   "id": "e8999c51-0b60-4226-a865-cd5dc139c682",
   "metadata": {
    "execution": {
     "iopub.execute_input": "2023-02-05T00:07:14.842921Z",
     "iopub.status.busy": "2023-02-05T00:07:14.842733Z",
     "iopub.status.idle": "2023-02-05T00:07:14.849453Z",
     "shell.execute_reply": "2023-02-05T00:07:14.848997Z",
     "shell.execute_reply.started": "2023-02-05T00:07:14.842908Z"
    },
    "tags": []
   },
   "outputs": [
    {
     "data": {
      "text/html": [
       "<div>\n",
       "<style scoped>\n",
       "    .dataframe tbody tr th:only-of-type {\n",
       "        vertical-align: middle;\n",
       "    }\n",
       "\n",
       "    .dataframe tbody tr th {\n",
       "        vertical-align: top;\n",
       "    }\n",
       "\n",
       "    .dataframe thead th {\n",
       "        text-align: right;\n",
       "    }\n",
       "</style>\n",
       "<table border=\"1\" class=\"dataframe\">\n",
       "  <thead>\n",
       "    <tr style=\"text-align: right;\">\n",
       "      <th></th>\n",
       "      <th>0</th>\n",
       "    </tr>\n",
       "  </thead>\n",
       "  <tbody>\n",
       "    <tr>\n",
       "      <th>grp_stations</th>\n",
       "      <td>1</td>\n",
       "    </tr>\n",
       "    <tr>\n",
       "      <th>asign_stations</th>\n",
       "      <td>1</td>\n",
       "    </tr>\n",
       "    <tr>\n",
       "      <th>reopens</th>\n",
       "      <td>1</td>\n",
       "    </tr>\n",
       "    <tr>\n",
       "      <th>replies</th>\n",
       "      <td>1</td>\n",
       "    </tr>\n",
       "    <tr>\n",
       "      <th>reply_mins</th>\n",
       "      <td>1</td>\n",
       "    </tr>\n",
       "    <tr>\n",
       "      <th>first_reso_mins</th>\n",
       "      <td>1</td>\n",
       "    </tr>\n",
       "    <tr>\n",
       "      <th>full_reso_mins</th>\n",
       "      <td>1</td>\n",
       "    </tr>\n",
       "    <tr>\n",
       "      <th>agt_wait_mins</th>\n",
       "      <td>1</td>\n",
       "    </tr>\n",
       "    <tr>\n",
       "      <th>reqstr_wait_mins</th>\n",
       "      <td>1</td>\n",
       "    </tr>\n",
       "    <tr>\n",
       "      <th>on_hold_mins</th>\n",
       "      <td>1</td>\n",
       "    </tr>\n",
       "    <tr>\n",
       "      <th>sent_score</th>\n",
       "      <td>1</td>\n",
       "    </tr>\n",
       "    <tr>\n",
       "      <th>num_comms</th>\n",
       "      <td>1</td>\n",
       "    </tr>\n",
       "    <tr>\n",
       "      <th>td_crtd_assnd</th>\n",
       "      <td>1</td>\n",
       "    </tr>\n",
       "    <tr>\n",
       "      <th>td_assnd_slvd</th>\n",
       "      <td>1</td>\n",
       "    </tr>\n",
       "    <tr>\n",
       "      <th>rply_rate</th>\n",
       "      <td>1</td>\n",
       "    </tr>\n",
       "    <tr>\n",
       "      <th>comm_rate</th>\n",
       "      <td>1</td>\n",
       "    </tr>\n",
       "  </tbody>\n",
       "</table>\n",
       "</div>"
      ],
      "text/plain": [
       "                  0\n",
       "grp_stations      1\n",
       "asign_stations    1\n",
       "reopens           1\n",
       "replies           1\n",
       "reply_mins        1\n",
       "first_reso_mins   1\n",
       "full_reso_mins    1\n",
       "agt_wait_mins     1\n",
       "reqstr_wait_mins  1\n",
       "on_hold_mins      1\n",
       "sent_score        1\n",
       "num_comms         1\n",
       "td_crtd_assnd     1\n",
       "td_assnd_slvd     1\n",
       "rply_rate         1\n",
       "comm_rate         1"
      ]
     },
     "execution_count": 161,
     "metadata": {},
     "output_type": "execute_result"
    }
   ],
   "source": [
    "# look at the ranking results\n",
    "pd.DataFrame(rfecv.ranking_, rfecv.feature_names_in_).sort_values(by=0)\n",
    "\n",
    "# results for 12 features\n",
    "# replies \t1\n",
    "# reply_mins \t1\n",
    "# first_reso_mins \t1\n",
    "# full_reso_mins \t1\n",
    "# agt_wait_mins \t1\n",
    "# reqstr_wait_mins \t1\n",
    "# sent_score \t1\n",
    "# num_comms \t1\n",
    "# td_crtd_assnd \t1\n",
    "# td_assnd_slvd \t1\n",
    "# rply_rate \t1\n",
    "# comm_rate \t1\n",
    "# grp_stations \t2\n",
    "# reopens \t3\n",
    "# asign_stations \t4\n",
    "# on_hold_mins \t5"
   ]
  },
  {
   "cell_type": "markdown",
   "id": "6a24b4e3-2a90-4a76-8167-55ab05ffd4dc",
   "metadata": {},
   "source": [
    "According to the documentation, only features with a \"1\" value are the ones considered important."
   ]
  },
  {
   "cell_type": "code",
   "execution_count": 162,
   "id": "b59a0d41-6f0f-4f48-a13c-12154cd35825",
   "metadata": {
    "execution": {
     "iopub.execute_input": "2023-02-05T00:07:14.850138Z",
     "iopub.status.busy": "2023-02-05T00:07:14.850039Z",
     "iopub.status.idle": "2023-02-05T00:07:14.852272Z",
     "shell.execute_reply": "2023-02-05T00:07:14.851989Z",
     "shell.execute_reply.started": "2023-02-05T00:07:14.850129Z"
    }
   },
   "outputs": [],
   "source": [
    "rfe_f1_12_feats = rfecv.get_feature_names_out()\n",
    "#['replies','reply_mins','first_reso_mins','full_reso_mins',\n",
    "#'agt_wait_mins','reqstr_wait_mins','sent_score','num_comms',\n",
    "#'td_crtd_assnd','td_assnd_slvd','rply_rate','comm_rate']"
   ]
  },
  {
   "cell_type": "markdown",
   "id": "5bd883da-12e9-43c0-bcda-968acdf96a8a",
   "metadata": {},
   "source": [
    "Below is an interesting result that was found while re-running this section of the notebook a few times.  At one point, this process identified 10 features as optimal."
   ]
  },
  {
   "cell_type": "code",
   "execution_count": 163,
   "id": "994792ca-5aa6-45e3-b0cd-fdd82013c705",
   "metadata": {
    "execution": {
     "iopub.execute_input": "2023-02-05T00:07:14.853105Z",
     "iopub.status.busy": "2023-02-05T00:07:14.852834Z",
     "iopub.status.idle": "2023-02-05T00:07:14.855196Z",
     "shell.execute_reply": "2023-02-05T00:07:14.854849Z",
     "shell.execute_reply.started": "2023-02-05T00:07:14.853094Z"
    },
    "tags": []
   },
   "outputs": [],
   "source": [
    "# time when it found 10 features and not 15\n",
    "# plot is stored in assets directory\n",
    "\n",
    "# n_scores = len(rfecv.cv_results_[\"mean_test_score\"])\n",
    "# plt.figure()\n",
    "# plt.xlabel(\"Number of features selected\")\n",
    "# plt.ylabel(\"Mean test accuracy\")\n",
    "# plt.errorbar(\n",
    "#     range(min_features_to_select, n_scores + min_features_to_select),\n",
    "#     rfecv.cv_results_[\"mean_test_score\"],\n",
    "#     yerr=rfecv.cv_results_[\"std_test_score\"],\n",
    "# )\n",
    "# plt.title(\"Recursive Feature Elimination \\nwith correlated features\\n\\\n",
    "# Scoring Metric: f1\")\n",
    "# plt.show()"
   ]
  },
  {
   "cell_type": "code",
   "execution_count": 164,
   "id": "034c49cd-1838-462c-99f0-971226bcda09",
   "metadata": {
    "execution": {
     "iopub.execute_input": "2023-02-05T00:07:14.855750Z",
     "iopub.status.busy": "2023-02-05T00:07:14.855635Z",
     "iopub.status.idle": "2023-02-05T00:07:14.857771Z",
     "shell.execute_reply": "2023-02-05T00:07:14.857401Z",
     "shell.execute_reply.started": "2023-02-05T00:07:14.855741Z"
    },
    "tags": []
   },
   "outputs": [],
   "source": [
    "# look at the ranking results `10 features\n",
    "# pd.DataFrame(rfecv.ranking_, rfecv.feature_names_in_).sort_values(by=0)\n",
    "\n",
    "# reply_mins \t1\n",
    "# first_reso_mins \t1\n",
    "# full_reso_mins \t1\n",
    "# agt_wait_mins \t1\n",
    "# reqstr_wait_mins \t1\n",
    "# sent_score \t1\n",
    "# td_crtd_assnd \t1\n",
    "# td_assnd_slvd \t1\n",
    "# rply_rate \t1\n",
    "# comm_rate \t1\n",
    "# num_comms \t2\n",
    "# replies \t3\n",
    "# grp_stations \t4\n",
    "# reopens \t5\n",
    "# asign_stations \t6\n",
    "# on_hold_mins \t7"
   ]
  },
  {
   "cell_type": "code",
   "execution_count": 165,
   "id": "7f7c4caa-9115-4adb-bef4-c46ac9b9d042",
   "metadata": {
    "execution": {
     "iopub.execute_input": "2023-02-05T00:07:14.858425Z",
     "iopub.status.busy": "2023-02-05T00:07:14.858329Z",
     "iopub.status.idle": "2023-02-05T00:07:14.860285Z",
     "shell.execute_reply": "2023-02-05T00:07:14.859977Z",
     "shell.execute_reply.started": "2023-02-05T00:07:14.858414Z"
    },
    "tags": []
   },
   "outputs": [],
   "source": [
    "# extract the selected features time when it chose 10\n",
    "# rfecv.get_feature_names_out()\n",
    "# ['reply_mins', 'first_reso_mins', 'full_reso_mins', 'agt_wait_mins',\n",
    "#        'reqstr_wait_mins', 'sent_score', 'td_crtd_assnd', 'td_assnd_slvd',\n",
    "#        'rply_rate', 'comm_rate']"
   ]
  },
  {
   "cell_type": "code",
   "execution_count": 166,
   "id": "001b1261-ad1b-47bf-b702-16fc9e0007b4",
   "metadata": {
    "execution": {
     "iopub.execute_input": "2023-02-05T00:07:14.860921Z",
     "iopub.status.busy": "2023-02-05T00:07:14.860789Z",
     "iopub.status.idle": "2023-02-05T00:07:14.863095Z",
     "shell.execute_reply": "2023-02-05T00:07:14.862752Z",
     "shell.execute_reply.started": "2023-02-05T00:07:14.860912Z"
    },
    "tags": []
   },
   "outputs": [],
   "source": [
    "rfe_f1_10_feats = ['reply_mins', 'first_reso_mins', 'full_reso_mins', 'agt_wait_mins',\n",
    "       'reqstr_wait_mins', 'sent_score', 'td_crtd_assnd', 'td_assnd_slvd',\n",
    "       'rply_rate', 'comm_rate']"
   ]
  },
  {
   "cell_type": "code",
   "execution_count": 167,
   "id": "35ffb4f7-f2c4-4396-895c-f88cd4d453ef",
   "metadata": {
    "execution": {
     "iopub.execute_input": "2023-02-05T00:07:14.863648Z",
     "iopub.status.busy": "2023-02-05T00:07:14.863534Z",
     "iopub.status.idle": "2023-02-05T00:07:14.866380Z",
     "shell.execute_reply": "2023-02-05T00:07:14.866038Z",
     "shell.execute_reply.started": "2023-02-05T00:07:14.863639Z"
    },
    "tags": []
   },
   "outputs": [
    {
     "data": {
      "text/plain": [
       "True"
      ]
     },
     "execution_count": 167,
     "metadata": {},
     "output_type": "execute_result"
    }
   ],
   "source": [
    "# check if the values of the tree-based method and the rfe 10 are the same\n",
    "set(tb_feats) == set(rfe_f1_10_feats)"
   ]
  },
  {
   "cell_type": "markdown",
   "id": "6b9c2832-13f5-4ae0-b7e3-f724f0886b4b",
   "metadata": {},
   "source": [
    "It appears that when the RFE identified 10 features, it was the same set of featres that the tree-based approach found."
   ]
  },
  {
   "cell_type": "markdown",
   "id": "9d2b7cfa-9f75-4b35-aefb-6a1f1a6b3e92",
   "metadata": {},
   "source": [
    "Beyond the results above, there was one instance where it identified 15 features, suggesting that the `on_hold_mins` feature is not as important as the others for modeling."
   ]
  },
  {
   "cell_type": "markdown",
   "id": "265d6c13-15a4-4858-885a-a548a70a5a66",
   "metadata": {},
   "source": [
    "### Scoring Metric: balanced_accuracy"
   ]
  },
  {
   "cell_type": "code",
   "execution_count": 168,
   "id": "dea2585b-0807-4461-9d48-f1939158d758",
   "metadata": {
    "execution": {
     "iopub.execute_input": "2023-02-05T00:07:14.866963Z",
     "iopub.status.busy": "2023-02-05T00:07:14.866875Z",
     "iopub.status.idle": "2023-02-05T00:07:14.869868Z",
     "shell.execute_reply": "2023-02-05T00:07:14.869545Z",
     "shell.execute_reply.started": "2023-02-05T00:07:14.866955Z"
    },
    "tags": []
   },
   "outputs": [],
   "source": [
    "# import model to start clean\n",
    "with open('../models/rf_nine.pkl', 'rb') as f:\n",
    "    rf_nine = pickle.load(f)"
   ]
  },
  {
   "cell_type": "code",
   "execution_count": 169,
   "id": "beab09d3-6705-469a-bf9e-4e8606cf1fd6",
   "metadata": {
    "execution": {
     "iopub.execute_input": "2023-02-05T00:07:14.870535Z",
     "iopub.status.busy": "2023-02-05T00:07:14.870396Z",
     "iopub.status.idle": "2023-02-05T00:08:27.700740Z",
     "shell.execute_reply": "2023-02-05T00:08:27.700284Z",
     "shell.execute_reply.started": "2023-02-05T00:07:14.870525Z"
    },
    "tags": []
   },
   "outputs": [
    {
     "name": "stdout",
     "output_type": "stream",
     "text": [
      "Optimal number of features: 9\n"
     ]
    }
   ],
   "source": [
    "# Minimum number of features to consider\n",
    "min_features_to_select = 3  \n",
    "\n",
    "# configure stratified cross-validator\n",
    "cv = StratifiedKFold(5) \n",
    "\n",
    "# configure the recursive feature elimination with cross-validation\n",
    "rfecv = RFECV(\n",
    "    estimator=rf_nine,\n",
    "    step=1,\n",
    "    cv=cv,\n",
    "    scoring=\"balanced_accuracy\",\n",
    "    min_features_to_select=min_features_to_select,\n",
    "    n_jobs=-1,\n",
    ")\n",
    "rfecv.fit(X_train, y_train)\n",
    "\n",
    "print(f\"Optimal number of features: {rfecv.n_features_}\")"
   ]
  },
  {
   "cell_type": "code",
   "execution_count": 170,
   "id": "71a87bea-def1-4f80-8d08-960aef5987af",
   "metadata": {
    "execution": {
     "iopub.execute_input": "2023-02-05T00:08:27.701933Z",
     "iopub.status.busy": "2023-02-05T00:08:27.701648Z",
     "iopub.status.idle": "2023-02-05T00:08:27.768272Z",
     "shell.execute_reply": "2023-02-05T00:08:27.767969Z",
     "shell.execute_reply.started": "2023-02-05T00:08:27.701913Z"
    },
    "tags": []
   },
   "outputs": [
    {
     "data": {
      "image/png": "[encoded data removed]",
      "text/plain": [
       "<Figure size 640x480 with 1 Axes>"
      ]
     },
     "metadata": {},
     "output_type": "display_data"
    }
   ],
   "source": [
    "# last result was 8 features\n",
    "# if notebook is run and the result changes, the 8 feature plot can be \n",
    "# found in the assets directory of this repo\n",
    "\n",
    "n_scores = len(rfecv.cv_results_[\"mean_test_score\"])\n",
    "plt.figure()\n",
    "plt.xlabel(\"Number of features selected\")\n",
    "plt.ylabel(\"Mean test accuracy\")\n",
    "plt.errorbar(\n",
    "    range(min_features_to_select, n_scores + min_features_to_select),\n",
    "    rfecv.cv_results_[\"mean_test_score\"],\n",
    "    yerr=rfecv.cv_results_[\"std_test_score\"],\n",
    ")\n",
    "plt.title(\"Recursive Feature Elimination \\nwith correlated features\\n\\\n",
    "Scoring Metric: balanced_accuracy\")\n",
    "plt.show()"
   ]
  },
  {
   "cell_type": "code",
   "execution_count": 171,
   "id": "117c36f0-61ae-41a5-9f69-e83e85776b8c",
   "metadata": {
    "execution": {
     "iopub.execute_input": "2023-02-05T00:08:27.768952Z",
     "iopub.status.busy": "2023-02-05T00:08:27.768864Z",
     "iopub.status.idle": "2023-02-05T00:08:27.770624Z",
     "shell.execute_reply": "2023-02-05T00:08:27.770379Z",
     "shell.execute_reply.started": "2023-02-05T00:08:27.768942Z"
    },
    "tags": []
   },
   "outputs": [],
   "source": [
    "# rfe_bal_8_feats = rfecv.get_feature_names_out()\n",
    "# ['reply_mins', 'first_reso_mins', 'full_reso_mins',\n",
    "#        'reqstr_wait_mins', 'sent_score', 'td_crtd_assnd', 'rply_rate',\n",
    "#        'comm_rate']"
   ]
  },
  {
   "cell_type": "code",
   "execution_count": 172,
   "id": "13948629-9a79-441b-8205-230ab2b2ff62",
   "metadata": {
    "execution": {
     "iopub.execute_input": "2023-02-05T00:08:27.771121Z",
     "iopub.status.busy": "2023-02-05T00:08:27.771035Z",
     "iopub.status.idle": "2023-02-05T00:08:27.773471Z",
     "shell.execute_reply": "2023-02-05T00:08:27.773182Z",
     "shell.execute_reply.started": "2023-02-05T00:08:27.771113Z"
    },
    "tags": []
   },
   "outputs": [],
   "source": [
    "# # when result was 10 features\n",
    "# n_scores = len(rfecv.cv_results_[\"mean_test_score\"])\n",
    "# plt.figure()\n",
    "# plt.xlabel(\"Number of features selected\")\n",
    "# plt.ylabel(\"Mean test accuracy\")\n",
    "# plt.errorbar(\n",
    "#     range(min_features_to_select, n_scores + min_features_to_select),\n",
    "#     rfecv.cv_results_[\"mean_test_score\"],\n",
    "#     yerr=rfecv.cv_results_[\"std_test_score\"],\n",
    "# )\n",
    "# plt.title(\"Recursive Feature Elimination \\nwith correlated features\\n\\\n",
    "# Scoring Metric: balanced_accuracy\")\n",
    "# plt.show()"
   ]
  },
  {
   "cell_type": "code",
   "execution_count": 173,
   "id": "02350044-6bf1-4d42-b30c-3f83b2e1db58",
   "metadata": {
    "execution": {
     "iopub.execute_input": "2023-02-05T00:08:27.773993Z",
     "iopub.status.busy": "2023-02-05T00:08:27.773909Z",
     "iopub.status.idle": "2023-02-05T00:08:27.775956Z",
     "shell.execute_reply": "2023-02-05T00:08:27.775575Z",
     "shell.execute_reply.started": "2023-02-05T00:08:27.773985Z"
    },
    "tags": []
   },
   "outputs": [],
   "source": [
    "# rfe_bal_10_feats = rfecv.get_feature_names_out()\n",
    "#['reply_mins', 'first_reso_mins', 'full_reso_mins', 'agt_wait_mins',\n",
    "       # 'reqstr_wait_mins', 'sent_score', 'td_crtd_assnd', 'td_assnd_slvd',\n",
    "       # 'rply_rate', 'comm_rate']"
   ]
  },
  {
   "cell_type": "code",
   "execution_count": 174,
   "id": "784adda2-6132-4f41-841b-f9fd8ae15b97",
   "metadata": {
    "execution": {
     "iopub.execute_input": "2023-02-05T00:08:27.776611Z",
     "iopub.status.busy": "2023-02-05T00:08:27.776410Z",
     "iopub.status.idle": "2023-02-05T00:08:27.778623Z",
     "shell.execute_reply": "2023-02-05T00:08:27.778253Z",
     "shell.execute_reply.started": "2023-02-05T00:08:27.776597Z"
    },
    "tags": []
   },
   "outputs": [],
   "source": [
    "# rfe_bal_10_feats"
   ]
  },
  {
   "cell_type": "code",
   "execution_count": 175,
   "id": "de3c8754-ec11-4692-8c2f-77e4ee1090e7",
   "metadata": {
    "execution": {
     "iopub.execute_input": "2023-02-05T00:08:27.779179Z",
     "iopub.status.busy": "2023-02-05T00:08:27.779044Z",
     "iopub.status.idle": "2023-02-05T00:08:27.781299Z",
     "shell.execute_reply": "2023-02-05T00:08:27.780857Z",
     "shell.execute_reply.started": "2023-02-05T00:08:27.779164Z"
    },
    "tags": []
   },
   "outputs": [],
   "source": [
    "# # when result was 9 features\n",
    "# n_scores = len(rfecv.cv_results_[\"mean_test_score\"])\n",
    "# plt.figure()\n",
    "# plt.xlabel(\"Number of features selected\")\n",
    "# plt.ylabel(\"Mean test accuracy\")\n",
    "# plt.errorbar(\n",
    "#     range(min_features_to_select, n_scores + min_features_to_select),\n",
    "#     rfecv.cv_results_[\"mean_test_score\"],\n",
    "#     yerr=rfecv.cv_results_[\"std_test_score\"],\n",
    "# )\n",
    "# plt.title(\"Recursive Feature Elimination \\nwith correlated features\\n\\\n",
    "# Scoring Metric: balanced_accuracy\")\n",
    "# plt.show()"
   ]
  },
  {
   "cell_type": "code",
   "execution_count": 176,
   "id": "7e04ccd4-9b05-4f5e-8ffb-0e642d9834dc",
   "metadata": {
    "execution": {
     "iopub.execute_input": "2023-02-05T00:08:27.781830Z",
     "iopub.status.busy": "2023-02-05T00:08:27.781737Z",
     "iopub.status.idle": "2023-02-05T00:08:27.786621Z",
     "shell.execute_reply": "2023-02-05T00:08:27.786230Z",
     "shell.execute_reply.started": "2023-02-05T00:08:27.781822Z"
    },
    "tags": []
   },
   "outputs": [
    {
     "data": {
      "text/html": [
       "<div>\n",
       "<style scoped>\n",
       "    .dataframe tbody tr th:only-of-type {\n",
       "        vertical-align: middle;\n",
       "    }\n",
       "\n",
       "    .dataframe tbody tr th {\n",
       "        vertical-align: top;\n",
       "    }\n",
       "\n",
       "    .dataframe thead th {\n",
       "        text-align: right;\n",
       "    }\n",
       "</style>\n",
       "<table border=\"1\" class=\"dataframe\">\n",
       "  <thead>\n",
       "    <tr style=\"text-align: right;\">\n",
       "      <th></th>\n",
       "      <th>0</th>\n",
       "    </tr>\n",
       "  </thead>\n",
       "  <tbody>\n",
       "    <tr>\n",
       "      <th>reply_mins</th>\n",
       "      <td>1</td>\n",
       "    </tr>\n",
       "    <tr>\n",
       "      <th>first_reso_mins</th>\n",
       "      <td>1</td>\n",
       "    </tr>\n",
       "    <tr>\n",
       "      <th>full_reso_mins</th>\n",
       "      <td>1</td>\n",
       "    </tr>\n",
       "    <tr>\n",
       "      <th>reqstr_wait_mins</th>\n",
       "      <td>1</td>\n",
       "    </tr>\n",
       "    <tr>\n",
       "      <th>sent_score</th>\n",
       "      <td>1</td>\n",
       "    </tr>\n",
       "    <tr>\n",
       "      <th>td_crtd_assnd</th>\n",
       "      <td>1</td>\n",
       "    </tr>\n",
       "    <tr>\n",
       "      <th>td_assnd_slvd</th>\n",
       "      <td>1</td>\n",
       "    </tr>\n",
       "    <tr>\n",
       "      <th>rply_rate</th>\n",
       "      <td>1</td>\n",
       "    </tr>\n",
       "    <tr>\n",
       "      <th>comm_rate</th>\n",
       "      <td>1</td>\n",
       "    </tr>\n",
       "    <tr>\n",
       "      <th>agt_wait_mins</th>\n",
       "      <td>2</td>\n",
       "    </tr>\n",
       "    <tr>\n",
       "      <th>num_comms</th>\n",
       "      <td>3</td>\n",
       "    </tr>\n",
       "    <tr>\n",
       "      <th>replies</th>\n",
       "      <td>4</td>\n",
       "    </tr>\n",
       "    <tr>\n",
       "      <th>reopens</th>\n",
       "      <td>5</td>\n",
       "    </tr>\n",
       "    <tr>\n",
       "      <th>grp_stations</th>\n",
       "      <td>6</td>\n",
       "    </tr>\n",
       "    <tr>\n",
       "      <th>asign_stations</th>\n",
       "      <td>7</td>\n",
       "    </tr>\n",
       "    <tr>\n",
       "      <th>on_hold_mins</th>\n",
       "      <td>8</td>\n",
       "    </tr>\n",
       "  </tbody>\n",
       "</table>\n",
       "</div>"
      ],
      "text/plain": [
       "                  0\n",
       "reply_mins        1\n",
       "first_reso_mins   1\n",
       "full_reso_mins    1\n",
       "reqstr_wait_mins  1\n",
       "sent_score        1\n",
       "td_crtd_assnd     1\n",
       "td_assnd_slvd     1\n",
       "rply_rate         1\n",
       "comm_rate         1\n",
       "agt_wait_mins     2\n",
       "num_comms         3\n",
       "replies           4\n",
       "reopens           5\n",
       "grp_stations      6\n",
       "asign_stations    7\n",
       "on_hold_mins      8"
      ]
     },
     "execution_count": 176,
     "metadata": {},
     "output_type": "execute_result"
    }
   ],
   "source": [
    "# look at the ranking results\n",
    "pd.DataFrame(rfecv.ranking_, rfecv.feature_names_in_).sort_values(by=0)"
   ]
  },
  {
   "cell_type": "code",
   "execution_count": 177,
   "id": "ad739df8-8dfd-436a-8925-f648cf676984",
   "metadata": {
    "execution": {
     "iopub.execute_input": "2023-02-05T00:08:27.787313Z",
     "iopub.status.busy": "2023-02-05T00:08:27.787207Z",
     "iopub.status.idle": "2023-02-05T00:08:27.789170Z",
     "shell.execute_reply": "2023-02-05T00:08:27.788868Z",
     "shell.execute_reply.started": "2023-02-05T00:08:27.787304Z"
    },
    "tags": []
   },
   "outputs": [],
   "source": [
    "# rfe_bal_9_feats = rfecv.get_feature_names_out()\n",
    "# ['reply_mins', 'first_reso_mins', 'full_reso_mins',\n",
    "#        'reqstr_wait_mins', 'sent_score', 'td_crtd_assnd', 'td_assnd_slvd',\n",
    "#        'rply_rate', 'comm_rate']"
   ]
  },
  {
   "cell_type": "code",
   "execution_count": 178,
   "id": "d2000404-9032-43b3-9fe7-d88cb2f20dc7",
   "metadata": {
    "execution": {
     "iopub.execute_input": "2023-02-05T00:08:27.789811Z",
     "iopub.status.busy": "2023-02-05T00:08:27.789671Z",
     "iopub.status.idle": "2023-02-05T00:08:27.791670Z",
     "shell.execute_reply": "2023-02-05T00:08:27.791263Z",
     "shell.execute_reply.started": "2023-02-05T00:08:27.789798Z"
    },
    "tags": []
   },
   "outputs": [],
   "source": [
    "# rfe_bal_9_feats"
   ]
  },
  {
   "cell_type": "code",
   "execution_count": 179,
   "id": "b67a49c9-03af-41ab-adcb-25a0d94b9fa2",
   "metadata": {
    "execution": {
     "iopub.execute_input": "2023-02-05T00:08:27.792430Z",
     "iopub.status.busy": "2023-02-05T00:08:27.792275Z",
     "iopub.status.idle": "2023-02-05T00:08:27.794198Z",
     "shell.execute_reply": "2023-02-05T00:08:27.793894Z",
     "shell.execute_reply.started": "2023-02-05T00:08:27.792419Z"
    },
    "tags": []
   },
   "outputs": [],
   "source": [
    "# rfe_bal_8_feats"
   ]
  },
  {
   "cell_type": "markdown",
   "id": "1fd7d459-1203-4e39-a08f-90000077adc9",
   "metadata": {},
   "source": [
    "Although I saw some variance in how many features this method chose (8, 9, 10) when I look at the various charts the overall variance in the balanced accuracy score is quite small--meaning the worst score on the plot is ~0.504 and the highest is ~0.508, so even though the plots may look quite different, the values are quite close to each other."
   ]
  },
  {
   "cell_type": "markdown",
   "id": "6012861b-0ed2-4868-920f-33a18a54c573",
   "metadata": {},
   "source": [
    "### Scoring Metric: Precision"
   ]
  },
  {
   "cell_type": "code",
   "execution_count": 180,
   "id": "7a2f8ae9-ef61-42ab-995a-d406cc3d7eb3",
   "metadata": {
    "execution": {
     "iopub.execute_input": "2023-02-05T00:08:27.795049Z",
     "iopub.status.busy": "2023-02-05T00:08:27.794811Z",
     "iopub.status.idle": "2023-02-05T00:08:27.797765Z",
     "shell.execute_reply": "2023-02-05T00:08:27.797414Z",
     "shell.execute_reply.started": "2023-02-05T00:08:27.795038Z"
    },
    "tags": []
   },
   "outputs": [],
   "source": [
    "# import model to start clean\n",
    "with open('../models/rf_nine.pkl', 'rb') as f:\n",
    "    rf_nine = pickle.load(f)"
   ]
  },
  {
   "cell_type": "code",
   "execution_count": 181,
   "id": "5a401aa1-7f79-4f7d-ba06-d574228ac979",
   "metadata": {
    "execution": {
     "iopub.execute_input": "2023-02-05T00:08:27.798444Z",
     "iopub.status.busy": "2023-02-05T00:08:27.798293Z",
     "iopub.status.idle": "2023-02-05T00:10:02.574933Z",
     "shell.execute_reply": "2023-02-05T00:10:02.574189Z",
     "shell.execute_reply.started": "2023-02-05T00:08:27.798435Z"
    },
    "tags": []
   },
   "outputs": [
    {
     "name": "stdout",
     "output_type": "stream",
     "text": [
      "Optimal number of features: 3\n"
     ]
    }
   ],
   "source": [
    "# Minimum number of features to consider\n",
    "min_features_to_select = 3  \n",
    "\n",
    "# configure stratified cross-validator\n",
    "cv = StratifiedKFold(5) \n",
    "\n",
    "# configure the recursive feature elimination with cross-validation\n",
    "rfecv = RFECV(\n",
    "    estimator=rf_nine,\n",
    "    step=1,\n",
    "    cv=cv,\n",
    "    scoring=\"precision\",\n",
    "    min_features_to_select=min_features_to_select,\n",
    "    n_jobs=-1,\n",
    ")\n",
    "rfecv.fit(X_train, y_train)\n",
    "\n",
    "print(f\"Optimal number of features: {rfecv.n_features_}\")"
   ]
  },
  {
   "cell_type": "code",
   "execution_count": 182,
   "id": "33f29d6a-25ab-4908-a0fe-3a02b98c0286",
   "metadata": {
    "execution": {
     "iopub.execute_input": "2023-02-05T00:10:02.576393Z",
     "iopub.status.busy": "2023-02-05T00:10:02.576174Z",
     "iopub.status.idle": "2023-02-05T00:10:02.644766Z",
     "shell.execute_reply": "2023-02-05T00:10:02.644273Z",
     "shell.execute_reply.started": "2023-02-05T00:10:02.576372Z"
    },
    "tags": []
   },
   "outputs": [
    {
     "data": {
      "image/png": "[encoded data removed]",
      "text/plain": [
       "<Figure size 640x480 with 1 Axes>"
      ]
     },
     "metadata": {},
     "output_type": "display_data"
    }
   ],
   "source": [
    "# last result was 10 features\n",
    "# if notebook is run and the result changes, the 10 feature plot can be \n",
    "# found in the assets directory of this repo\n",
    "\n",
    "n_scores = len(rfecv.cv_results_[\"mean_test_score\"])\n",
    "plt.figure()\n",
    "plt.xlabel(\"Number of features selected\")\n",
    "plt.ylabel(\"Mean test accuracy\")\n",
    "plt.errorbar(\n",
    "    range(min_features_to_select, n_scores + min_features_to_select),\n",
    "    rfecv.cv_results_[\"mean_test_score\"],\n",
    "    yerr=rfecv.cv_results_[\"std_test_score\"],\n",
    ")\n",
    "plt.title(\"Recursive Feature Elimination \\nwith correlated features\\n\\\n",
    "Scoring Metric: precision\")\n",
    "plt.show()"
   ]
  },
  {
   "cell_type": "code",
   "execution_count": 183,
   "id": "90fb0ce6-240e-4366-9116-d1c01af416fc",
   "metadata": {
    "execution": {
     "iopub.execute_input": "2023-02-05T00:10:02.645595Z",
     "iopub.status.busy": "2023-02-05T00:10:02.645486Z",
     "iopub.status.idle": "2023-02-05T00:10:02.647860Z",
     "shell.execute_reply": "2023-02-05T00:10:02.647345Z",
     "shell.execute_reply.started": "2023-02-05T00:10:02.645586Z"
    },
    "tags": []
   },
   "outputs": [],
   "source": [
    "# rfe_prec_10_feats = rfecv.get_feature_names_out()"
   ]
  },
  {
   "cell_type": "code",
   "execution_count": 184,
   "id": "8730c77a-b0c2-46f4-ac36-7217889a624f",
   "metadata": {
    "execution": {
     "iopub.execute_input": "2023-02-05T00:10:02.648599Z",
     "iopub.status.busy": "2023-02-05T00:10:02.648498Z",
     "iopub.status.idle": "2023-02-05T00:10:02.651232Z",
     "shell.execute_reply": "2023-02-05T00:10:02.650786Z",
     "shell.execute_reply.started": "2023-02-05T00:10:02.648591Z"
    },
    "tags": []
   },
   "outputs": [],
   "source": [
    "# when result was 7 features\n",
    "# n_scores = len(rfecv.cv_results_[\"mean_test_score\"])\n",
    "# plt.figure()\n",
    "# plt.xlabel(\"Number of features selected\")\n",
    "# plt.ylabel(\"Mean test accuracy\")\n",
    "# plt.errorbar(\n",
    "#     range(min_features_to_select, n_scores + min_features_to_select),\n",
    "#     rfecv.cv_results_[\"mean_test_score\"],\n",
    "#     yerr=rfecv.cv_results_[\"std_test_score\"],\n",
    "# )\n",
    "# plt.title(\"Recursive Feature Elimination \\nwith correlated features\\n\\\n",
    "# Scoring Metric: precision\")\n",
    "# plt.show()"
   ]
  },
  {
   "cell_type": "code",
   "execution_count": 185,
   "id": "ee5b76db-37d3-4a50-8848-2c27d64c24c6",
   "metadata": {
    "execution": {
     "iopub.execute_input": "2023-02-05T00:10:02.652205Z",
     "iopub.status.busy": "2023-02-05T00:10:02.651804Z",
     "iopub.status.idle": "2023-02-05T00:10:02.654168Z",
     "shell.execute_reply": "2023-02-05T00:10:02.653742Z",
     "shell.execute_reply.started": "2023-02-05T00:10:02.652194Z"
    },
    "tags": []
   },
   "outputs": [],
   "source": [
    "# rfe_prec_7_feats = rfecv.get_feature_names_out()"
   ]
  },
  {
   "cell_type": "code",
   "execution_count": 186,
   "id": "2a97f7f5-8a9b-4557-b75e-cc3546f43c3c",
   "metadata": {
    "execution": {
     "iopub.execute_input": "2023-02-05T00:10:02.654809Z",
     "iopub.status.busy": "2023-02-05T00:10:02.654692Z",
     "iopub.status.idle": "2023-02-05T00:10:02.656896Z",
     "shell.execute_reply": "2023-02-05T00:10:02.656550Z",
     "shell.execute_reply.started": "2023-02-05T00:10:02.654800Z"
    },
    "tags": []
   },
   "outputs": [],
   "source": [
    "# # when result was 8 features\n",
    "# n_scores = len(rfecv.cv_results_[\"mean_test_score\"])\n",
    "# plt.figure()\n",
    "# plt.xlabel(\"Number of features selected\")\n",
    "# plt.ylabel(\"Mean test accuracy\")\n",
    "# plt.errorbar(\n",
    "#     range(min_features_to_select, n_scores + min_features_to_select),\n",
    "#     rfecv.cv_results_[\"mean_test_score\"],\n",
    "#     yerr=rfecv.cv_results_[\"std_test_score\"],\n",
    "# )\n",
    "# plt.title(\"Recursive Feature Elimination \\nwith correlated features\\n\\\n",
    "# Scoring Metric: precision\")\n",
    "# plt.show()"
   ]
  },
  {
   "cell_type": "code",
   "execution_count": 187,
   "id": "f0e6fc74-9a4e-4afb-967b-8dd4051c699d",
   "metadata": {
    "execution": {
     "iopub.execute_input": "2023-02-05T00:10:02.657795Z",
     "iopub.status.busy": "2023-02-05T00:10:02.657609Z",
     "iopub.status.idle": "2023-02-05T00:10:02.659852Z",
     "shell.execute_reply": "2023-02-05T00:10:02.659377Z",
     "shell.execute_reply.started": "2023-02-05T00:10:02.657783Z"
    },
    "tags": []
   },
   "outputs": [],
   "source": [
    "# second instance where I saw 8 features\n",
    "# rfe_prec_8_feats_2 = rfecv.get_feature_names_out()\n",
    "# ['reply_mins', 'first_reso_mins', 'full_reso_mins',\n",
    "#         'reqstr_wait_mins', 'sent_score', 'td_crtd_assnd', 'rply_rate',\n",
    "#         'comm_rate']"
   ]
  },
  {
   "cell_type": "code",
   "execution_count": 188,
   "id": "a0f3559e-6d7a-4c22-978b-5d4a79c7fdd3",
   "metadata": {
    "execution": {
     "iopub.execute_input": "2023-02-05T00:10:02.660506Z",
     "iopub.status.busy": "2023-02-05T00:10:02.660363Z",
     "iopub.status.idle": "2023-02-05T00:10:02.662842Z",
     "shell.execute_reply": "2023-02-05T00:10:02.662452Z",
     "shell.execute_reply.started": "2023-02-05T00:10:02.660494Z"
    },
    "tags": []
   },
   "outputs": [],
   "source": [
    "# rfe_prec_8_feats = rfecv.get_feature_names_out()\n",
    "# ['reply_mins', 'first_reso_mins', 'full_reso_mins',\n",
    "#         'reqstr_wait_mins', 'sent_score', 'td_crtd_assnd', 'rply_rate',\n",
    "#         'comm_rate']"
   ]
  },
  {
   "cell_type": "code",
   "execution_count": 189,
   "id": "daa8367c-cb8d-47f5-be6f-5b546a35ddf0",
   "metadata": {
    "execution": {
     "iopub.execute_input": "2023-02-05T00:10:02.663651Z",
     "iopub.status.busy": "2023-02-05T00:10:02.663511Z",
     "iopub.status.idle": "2023-02-05T00:10:02.665635Z",
     "shell.execute_reply": "2023-02-05T00:10:02.665166Z",
     "shell.execute_reply.started": "2023-02-05T00:10:02.663641Z"
    },
    "tags": []
   },
   "outputs": [],
   "source": [
    "# set(rfe_bal_10_feats) == set(rfe_prec_10_feats) == set(rfe_f1_10_feats)\n",
    "# result was True\n",
    "# so regarless of the metric, eat identified set of 10 features were the same"
   ]
  },
  {
   "cell_type": "code",
   "execution_count": 190,
   "id": "786a83c5-d534-449a-a7ee-b445575f4c13",
   "metadata": {
    "execution": {
     "iopub.execute_input": "2023-02-05T00:10:02.666634Z",
     "iopub.status.busy": "2023-02-05T00:10:02.666422Z",
     "iopub.status.idle": "2023-02-05T00:10:02.668514Z",
     "shell.execute_reply": "2023-02-05T00:10:02.668038Z",
     "shell.execute_reply.started": "2023-02-05T00:10:02.666622Z"
    },
    "tags": []
   },
   "outputs": [],
   "source": [
    "# check to see if the rfe 10 features are the same as the tree based 10\n",
    "# set(rfe_bal_10_feats) == set(tb_feats)\n",
    "# result was True"
   ]
  },
  {
   "cell_type": "markdown",
   "id": "12cbd323-2508-4b8e-a91e-fb9553298370",
   "metadata": {},
   "source": [
    "Although there was variance in how many features were selected in each of the metrics, I do see that each of them had, at one point, selected 10 features as optimal.  Above, I checked to see if all sets of 10 features chosen by the three different metrics were the same, meaning there was some consensus that these were the 10 optimal features and that appears to the be the case.  As such, these 10 features would be the ones that I used to generate a classification report and confusion matrix for comparison, but since they are also equal to the 10 chosen by the tree-based approach, we already have that data for comparison."
   ]
  },
  {
   "cell_type": "markdown",
   "id": "f3461f36-f2d9-4386-8fc3-1da88e698fd7",
   "metadata": {},
   "source": [
    "### RFE Summary\n",
    "\n",
    "When using different metrics like `F1`, `balanced_accuracy`, or `precision`, the results varied if I ran the same code multiple times.  For the `F1` results it could swing a bit from 15 to 10 features, the `balanced_accuracy` seemed to oscillate between 9 and 10 features, and `precision` had results between 7 to 10 features.  Since this is using a cross-validator, I think this could be indicating that the model is quite sensitive to the data that is being used which is creating enough variability that the results are varying like this.  \n",
    "\n",
    "Although you can see the different scores on different plots between the different attempts with the same code, overall the range of scoring metrics per plot is quite small. For example, on the F1 plots, even when you look at the plot for 10 features vs. the plot for 15 features, the changes may look drastic, but the y-axis range for results is ~0.919 to ~0.925, which is quite small.  Likewise on the balanced_accuracy metric plots, we see a range from ~0.504 to ~0.508.  For precision we see ~0.855 to ~0.857--again, not a huge range.\n",
    "\n",
    "Looking at what is most common between all of these might give us the best results, but for now, I'll store these results so they can be accessed later if needed."
   ]
  },
  {
   "cell_type": "markdown",
   "id": "c5205d23-6d37-42f6-a3ba-648bad76a1d4",
   "metadata": {
    "tags": []
   },
   "source": [
    "## Univariate feature selection\n",
    "\n",
    "Another approach from scikit learn, is using `SelectKBest` for univariate feature selection.  Compared to the other approaches above, this one only has variability based on how many features you want to select (k value) since it is using univariate statistical tests for calculation.  You can then plot the scores for all the features, and choose the features based on the highest scores.  If you set a k value it will just choose the k highest scores.\n",
    "\n",
    "[scikit learn documentation](https://scikit-learn.org/stable/modules/feature_selection.html#univariate-feature-selection)"
   ]
  },
  {
   "cell_type": "code",
   "execution_count": 191,
   "id": "302aa06b-05b0-4433-8da1-89d14a194d98",
   "metadata": {
    "execution": {
     "iopub.execute_input": "2023-02-05T00:10:02.669326Z",
     "iopub.status.busy": "2023-02-05T00:10:02.669157Z",
     "iopub.status.idle": "2023-02-05T00:10:02.675790Z",
     "shell.execute_reply": "2023-02-05T00:10:02.675402Z",
     "shell.execute_reply.started": "2023-02-05T00:10:02.669313Z"
    },
    "tags": []
   },
   "outputs": [],
   "source": [
    "# adapted from the documentation exmaple\n",
    "selector = SelectKBest(f_classif)\n",
    "selector.fit(X_train, y_train)\n",
    "scores = -np.log10(selector.pvalues_)\n",
    "scores /= scores.max()"
   ]
  },
  {
   "cell_type": "code",
   "execution_count": 192,
   "id": "c1a96fa1-2cca-4e8b-9751-34d20f773c94",
   "metadata": {
    "execution": {
     "iopub.execute_input": "2023-02-05T00:10:02.676697Z",
     "iopub.status.busy": "2023-02-05T00:10:02.676560Z",
     "iopub.status.idle": "2023-02-05T00:10:02.763989Z",
     "shell.execute_reply": "2023-02-05T00:10:02.763641Z",
     "shell.execute_reply.started": "2023-02-05T00:10:02.676687Z"
    },
    "tags": []
   },
   "outputs": [
    {
     "data": {
      "image/png": "[encoded data removed]",
      "text/plain": [
       "<Figure size 640x480 with 1 Axes>"
      ]
     },
     "metadata": {},
     "output_type": "display_data"
    }
   ],
   "source": [
    "# adapted from the documentation exmaple\n",
    "X_indices = np.arange(X.shape[-1])\n",
    "plt.figure(1)\n",
    "plt.clf()\n",
    "plt.bar(X_indices - 0.05, scores, width=0.2)\n",
    "plt.title(\"Feature univariate score\")\n",
    "plt.xlabel(\"Feature number\")\n",
    "plt.ylabel(r\"Univariate score ($-Log(p_{value})$)\")\n",
    "plt.show()"
   ]
  },
  {
   "cell_type": "markdown",
   "id": "4f827fcc-8000-45be-8afc-ec895a55d607",
   "metadata": {},
   "source": [
    "The higher values in the plot above would indicate the more important features. And the feature number is the index in the X_train columns list:"
   ]
  },
  {
   "cell_type": "code",
   "execution_count": 193,
   "id": "cca19dab-d646-4d9a-922e-dc2a78c32f00",
   "metadata": {
    "execution": {
     "iopub.execute_input": "2023-02-05T00:10:02.764671Z",
     "iopub.status.busy": "2023-02-05T00:10:02.764562Z",
     "iopub.status.idle": "2023-02-05T00:10:02.768001Z",
     "shell.execute_reply": "2023-02-05T00:10:02.767562Z",
     "shell.execute_reply.started": "2023-02-05T00:10:02.764660Z"
    },
    "tags": []
   },
   "outputs": [
    {
     "data": {
      "text/plain": [
       "Index(['grp_stations', 'asign_stations', 'reopens', 'replies', 'reply_mins',\n",
       "       'first_reso_mins', 'full_reso_mins', 'agt_wait_mins',\n",
       "       'reqstr_wait_mins', 'on_hold_mins', 'sent_score', 'num_comms',\n",
       "       'td_crtd_assnd', 'td_assnd_slvd', 'rply_rate', 'comm_rate'],\n",
       "      dtype='object')"
      ]
     },
     "execution_count": 193,
     "metadata": {},
     "output_type": "execute_result"
    }
   ],
   "source": [
    "X_train.columns"
   ]
  },
  {
   "cell_type": "markdown",
   "id": "08a816d2-be7c-4256-a9d9-0fb1b5afb338",
   "metadata": {},
   "source": [
    "For example, the highest bar is for feature index 6, which relates to the `full_reso_mins` feature."
   ]
  },
  {
   "cell_type": "code",
   "execution_count": 194,
   "id": "ddeeb8d0-d708-44c5-80a3-6bd71a94295c",
   "metadata": {
    "execution": {
     "iopub.execute_input": "2023-02-05T00:10:02.768784Z",
     "iopub.status.busy": "2023-02-05T00:10:02.768664Z",
     "iopub.status.idle": "2023-02-05T00:10:02.772006Z",
     "shell.execute_reply": "2023-02-05T00:10:02.771519Z",
     "shell.execute_reply.started": "2023-02-05T00:10:02.768775Z"
    },
    "tags": []
   },
   "outputs": [
    {
     "data": {
      "text/plain": [
       "array(['grp_stations', 'asign_stations', 'reopens', 'reply_mins',\n",
       "       'first_reso_mins', 'full_reso_mins', 'agt_wait_mins',\n",
       "       'reqstr_wait_mins', 'sent_score', 'td_assnd_slvd'], dtype=object)"
      ]
     },
     "execution_count": 194,
     "metadata": {},
     "output_type": "execute_result"
    }
   ],
   "source": [
    "#k=10: ['grp_stations', 'asign_stations', 'reopens', 'reply_mins',\n",
    "       # 'first_reso_mins', 'full_reso_mins', 'agt_wait_mins',\n",
    "       # 'reqstr_wait_mins', 'sent_score', 'td_assnd_slvd']\n",
    "        \n",
    "# k=4: ['reply_mins', 'full_reso_mins', 'reqstr_wait_mins', 'td_assnd_slvd']\n",
    "        \n",
    "selector.get_feature_names_out()"
   ]
  },
  {
   "cell_type": "markdown",
   "id": "2545f34c-ca9b-4d8b-90c4-34701dbcb550",
   "metadata": {},
   "source": [
    "Check the `k=10` value to see if the same 10 features here are equivalent to the 10 feature sets from RFE and Tree-based selection.  We do know that the tree-based features `tb_feats` is equivalent to the 10 selected RFE features:"
   ]
  },
  {
   "cell_type": "code",
   "execution_count": 195,
   "id": "1c5e9867-c679-4563-98e7-69901b560f51",
   "metadata": {
    "execution": {
     "iopub.execute_input": "2023-02-05T00:10:02.772737Z",
     "iopub.status.busy": "2023-02-05T00:10:02.772624Z",
     "iopub.status.idle": "2023-02-05T00:10:02.775652Z",
     "shell.execute_reply": "2023-02-05T00:10:02.775284Z",
     "shell.execute_reply.started": "2023-02-05T00:10:02.772728Z"
    },
    "tags": []
   },
   "outputs": [
    {
     "data": {
      "text/plain": [
       "False"
      ]
     },
     "execution_count": 195,
     "metadata": {},
     "output_type": "execute_result"
    }
   ],
   "source": [
    "set(list(selector.get_feature_names_out())) ==\\\n",
    "set(tb_feats)"
   ]
  },
  {
   "cell_type": "code",
   "execution_count": 196,
   "id": "868c6962-4c42-4ed5-bd85-553a95202d07",
   "metadata": {
    "execution": {
     "iopub.execute_input": "2023-02-05T00:10:02.776374Z",
     "iopub.status.busy": "2023-02-05T00:10:02.776276Z",
     "iopub.status.idle": "2023-02-05T00:10:02.778713Z",
     "shell.execute_reply": "2023-02-05T00:10:02.778199Z",
     "shell.execute_reply.started": "2023-02-05T00:10:02.776365Z"
    },
    "tags": []
   },
   "outputs": [],
   "source": [
    "# since these are not equivalent, store these features\n",
    "k10_feats = list(selector.get_feature_names_out())"
   ]
  },
  {
   "cell_type": "markdown",
   "id": "17d18cba-7d5a-4530-84bb-2b777e610c8d",
   "metadata": {},
   "source": [
    "It looks like there is a difference here.  Investigate the results:"
   ]
  },
  {
   "cell_type": "code",
   "execution_count": 197,
   "id": "721a6922-a43f-42f2-8c52-f033a603a6e3",
   "metadata": {
    "execution": {
     "iopub.execute_input": "2023-02-05T00:10:02.779399Z",
     "iopub.status.busy": "2023-02-05T00:10:02.779289Z",
     "iopub.status.idle": "2023-02-05T00:10:02.782350Z",
     "shell.execute_reply": "2023-02-05T00:10:02.781862Z",
     "shell.execute_reply.started": "2023-02-05T00:10:02.779391Z"
    },
    "tags": []
   },
   "outputs": [
    {
     "data": {
      "text/plain": [
       "{'agt_wait_mins',\n",
       " 'first_reso_mins',\n",
       " 'full_reso_mins',\n",
       " 'reply_mins',\n",
       " 'reqstr_wait_mins',\n",
       " 'sent_score',\n",
       " 'td_assnd_slvd'}"
      ]
     },
     "execution_count": 197,
     "metadata": {},
     "output_type": "execute_result"
    }
   ],
   "source": [
    "# what features are in common between k=10 and rfe/tb approaches\n",
    "set(k10_feats).intersection(set(tb_feats))\n",
    "\n",
    "# {'agt_wait_mins',\n",
    "#  'first_reso_mins',\n",
    "#  'full_reso_mins',\n",
    "#  'reply_mins',\n",
    "#  'reqstr_wait_mins',\n",
    "#  'sent_score',\n",
    "#  'td_assnd_slvd'}"
   ]
  },
  {
   "cell_type": "markdown",
   "id": "29472ab5-b402-4b8b-a697-1ac42353678f",
   "metadata": {},
   "source": [
    "Which features are only in the `k=10` set and not in the tb/rfe results:"
   ]
  },
  {
   "cell_type": "code",
   "execution_count": 198,
   "id": "4d07f46b-3383-4874-a3e8-fcf3720fe87d",
   "metadata": {
    "execution": {
     "iopub.execute_input": "2023-02-05T00:10:02.783210Z",
     "iopub.status.busy": "2023-02-05T00:10:02.783092Z",
     "iopub.status.idle": "2023-02-05T00:10:02.786159Z",
     "shell.execute_reply": "2023-02-05T00:10:02.785639Z",
     "shell.execute_reply.started": "2023-02-05T00:10:02.783201Z"
    },
    "tags": []
   },
   "outputs": [
    {
     "data": {
      "text/plain": [
       "{'asign_stations', 'grp_stations', 'reopens'}"
      ]
     },
     "execution_count": 198,
     "metadata": {},
     "output_type": "execute_result"
    }
   ],
   "source": [
    "set(k10_feats) - set(tb_feats)\n",
    "\n",
    "#{'asign_stations', 'grp_stations', 'reopens'}"
   ]
  },
  {
   "cell_type": "code",
   "execution_count": 199,
   "id": "7174071e-2327-432a-a3f7-46912b6ee79a",
   "metadata": {
    "execution": {
     "iopub.execute_input": "2023-02-05T00:10:02.787346Z",
     "iopub.status.busy": "2023-02-05T00:10:02.786992Z",
     "iopub.status.idle": "2023-02-05T00:10:02.790307Z",
     "shell.execute_reply": "2023-02-05T00:10:02.789872Z",
     "shell.execute_reply.started": "2023-02-05T00:10:02.787331Z"
    },
    "tags": []
   },
   "outputs": [
    {
     "data": {
      "text/plain": [
       "{'comm_rate',\n",
       " 'num_comms',\n",
       " 'on_hold_mins',\n",
       " 'replies',\n",
       " 'rply_rate',\n",
       " 'td_crtd_assnd'}"
      ]
     },
     "execution_count": 199,
     "metadata": {},
     "output_type": "execute_result"
    }
   ],
   "source": [
    "# features from the superset that are exlcuded from k=10\n",
    "set(X_train.columns) - set(k10_feats)\n",
    "\n",
    "# {'comm_rate',\n",
    "#  'num_comms',\n",
    "#  'on_hold_mins',\n",
    "#  'replies',\n",
    "#  'rply_rate',\n",
    "#  'td_crtd_assnd'}"
   ]
  },
  {
   "cell_type": "code",
   "execution_count": 200,
   "id": "e39028e8-3ff8-4668-a3cd-4a15169afbc0",
   "metadata": {
    "execution": {
     "iopub.execute_input": "2023-02-05T00:10:02.791223Z",
     "iopub.status.busy": "2023-02-05T00:10:02.791017Z",
     "iopub.status.idle": "2023-02-05T00:10:02.793904Z",
     "shell.execute_reply": "2023-02-05T00:10:02.793557Z",
     "shell.execute_reply.started": "2023-02-05T00:10:02.791207Z"
    }
   },
   "outputs": [
    {
     "data": {
      "text/plain": [
       "{'asign_stations',\n",
       " 'grp_stations',\n",
       " 'num_comms',\n",
       " 'on_hold_mins',\n",
       " 'reopens',\n",
       " 'replies'}"
      ]
     },
     "execution_count": 200,
     "metadata": {},
     "output_type": "execute_result"
    }
   ],
   "source": [
    "# features from the superset that are exlcuded tb_feats/RFE_10\n",
    "set(X_train.columns) - set(tb_feats)\n",
    "\n",
    "# {'asign_stations',\n",
    "#  'grp_stations',\n",
    "#  'num_comms',\n",
    "#  'on_hold_mins',\n",
    "#  'reopens',\n",
    "#  'replies'}"
   ]
  },
  {
   "cell_type": "code",
   "execution_count": 201,
   "id": "3bdf32af-35db-4f6b-b993-9a6fb12e6081",
   "metadata": {
    "execution": {
     "iopub.execute_input": "2023-02-05T00:10:02.794620Z",
     "iopub.status.busy": "2023-02-05T00:10:02.794518Z",
     "iopub.status.idle": "2023-02-05T00:10:02.797930Z",
     "shell.execute_reply": "2023-02-05T00:10:02.797548Z",
     "shell.execute_reply.started": "2023-02-05T00:10:02.794612Z"
    },
    "tags": []
   },
   "outputs": [
    {
     "data": {
      "text/plain": [
       "{'num_comms', 'on_hold_mins', 'replies'}"
      ]
     },
     "execution_count": 201,
     "metadata": {},
     "output_type": "execute_result"
    }
   ],
   "source": [
    "# eliminated features in common\n",
    "(set(X_train.columns) \n",
    " - set(k10_feats)\n",
    ").intersection(set(X_train.columns) - set(tb_feats))\n",
    "\n",
    "# {'num_comms', 'on_hold_mins', 'replies'}"
   ]
  },
  {
   "cell_type": "code",
   "execution_count": 202,
   "id": "08a773cd-af41-4404-a767-ab31284117d2",
   "metadata": {
    "execution": {
     "iopub.execute_input": "2023-02-05T00:10:02.798545Z",
     "iopub.status.busy": "2023-02-05T00:10:02.798417Z",
     "iopub.status.idle": "2023-02-05T00:10:02.801179Z",
     "shell.execute_reply": "2023-02-05T00:10:02.800749Z",
     "shell.execute_reply.started": "2023-02-05T00:10:02.798536Z"
    },
    "tags": []
   },
   "outputs": [],
   "source": [
    "# feature set if I remove the common eliminated features\n",
    "feats_common_eliminated =\\\n",
    "list(set(X_train.columns) - {'num_comms', 'on_hold_mins', 'replies'})"
   ]
  },
  {
   "cell_type": "markdown",
   "id": "b7a9250c-dc72-45fb-afa9-5a484852bcfe",
   "metadata": {},
   "source": [
    "## Export Selected Features\n",
    "\n",
    "Please note as the below data was not programmatically repeatable, I will comment out the code as to not overwrite the feature data that was initially captured."
   ]
  },
  {
   "cell_type": "code",
   "execution_count": 130,
   "id": "3e48b5e5-c409-47af-bb05-e3e6910fa7d5",
   "metadata": {
    "execution": {
     "iopub.execute_input": "2023-02-04T23:50:03.022751Z",
     "iopub.status.busy": "2023-02-04T23:50:03.020687Z",
     "iopub.status.idle": "2023-02-04T23:50:03.033014Z",
     "shell.execute_reply": "2023-02-04T23:50:03.032490Z",
     "shell.execute_reply.started": "2023-02-04T23:50:03.022659Z"
    },
    "tags": []
   },
   "outputs": [],
   "source": [
    "# with open('../data/select_10_feats.pkl', 'wb') as f:\n",
    "#     pickle.dump(tb_feats, f)\n",
    "\n",
    "# with open('../data/select_12_feats.pkl', 'wb') as f:\n",
    "#     pickle.dump(rfe_f1_12_feats, f)\n",
    "\n",
    "# with open('../data/k10_feats.pkl', 'wb') as f:\n",
    "#     pickle.dump(k10_feats, f)\n",
    "    \n",
    "# with open('../data/feats_common_eliminated.pkl', 'wb') as f:\n",
    "#     pickle.dump(feats_common_eliminated, f)"
   ]
  },
  {
   "cell_type": "markdown",
   "id": "92441646-133f-478a-bdfe-e212b13b4226",
   "metadata": {
    "tags": []
   },
   "source": [
    "## Algorithmic Feature Selection Summary\n",
    "\n",
    "The results from this process have been interesting.  Some key findings:\n",
    "* Although the RFE approach had the characteristic of providing different results after running the same code, there was consensus with the tree-based method's 10 features.\n",
    "* The univariate method when `k=10`, which is the default, but also the number I would have selected when visually inspecting the related plot, identified different features, 7 of them in common with the RFE/tree-based 10.\n",
    "    * Both of the \"rate\" features that I engineered were eliminated in the univariate method\n",
    "* Because I've seen so much variation when running RFE, it feels like that is indicating that the underlying data is still the most likely issue for any models that will be produced.  It's still worthwhile to try, but I am suspicious that the resulting models will still perform in a similar manner.\n",
    "\n",
    "From the work in this notebook, I have identified different sets of features that might be used for modeling to see which ones might perform the best, time-permitting.  Here is the order that I will approach them:\n",
    "1. `select_10_feats.pkl` - the 10 features that had consensus between tree-based and RFE\n",
    "2. `k10_feats.pkl` - the 10 features that were identified by the univariate selection method\n",
    "3. `feats_common_eliminated.pkl` - feature list that excludes features that were eliminated by tree-based, rfe 10, and k10\n",
    "\n",
    "All three of these approaches, although different, had consensus around 10 features.  This leads me to believe that these are the 10 features that should be used for modeling, since these methods were evaluating the features that were in the data, in addition to the time delta features that I engineered.  \n",
    "\n",
    "The features that were exlcuded:\n",
    "* `num_comms`\n",
    "* `on_hold_mins`\n",
    "* `replies`\n",
    "\n",
    "Overall, from my knoweldge of these metrics and the internal workings of the company from which this data was sourced, some of these make sense that they were not found to have importance.  On hold mins can be very workflow dependent and there aren't strict internal process controls around these.  It is actually derived from an \"on-hold\" ticket status, which is a manual step that not all agents use and is often used only for tickets that relate to bugs, which are more ran than typical tickets.\n",
    "\n",
    "The number of comments, which was calculated during data cleaning, and replies do represent similar but different data.  Replies is the number of public replies added to the ticket by an agent, whereas the number of comments would include the customer and the agent comments both public and private. I would have suspected that one of these may be of importance, so this is an interesting insight."
   ]
  }
 ],
 "metadata": {
  "kernelspec": {
   "display_name": "Python 3 (ipykernel)",
   "language": "python",
   "name": "python3"
  },
  "language_info": {
   "codemirror_mode": {
    "name": "ipython",
    "version": 3
   },
   "file_extension": ".py",
   "mimetype": "text/x-python",
   "name": "python",
   "nbconvert_exporter": "python",
   "pygments_lexer": "ipython3",
   "version": "3.9.15"
  }
 },
 "nbformat": 4,
 "nbformat_minor": 5
}
