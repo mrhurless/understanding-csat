{
 "cells": [
  {
   "cell_type": "markdown",
   "id": "e867714b-f23a-454c-9221-2dbc26c26e81",
   "metadata": {},
   "source": [
    "# Data Cleaning"
   ]
  },
  {
   "cell_type": "markdown",
   "id": "d884e952-650b-40c3-8c4f-d6a812e4f286",
   "metadata": {},
   "source": [
    "## Import Libraries"
   ]
  },
  {
   "cell_type": "code",
   "execution_count": 1,
   "id": "44046fc2-0669-4705-8ff5-e7dee4ab4921",
   "metadata": {
    "execution": {
     "iopub.execute_input": "2023-02-05T23:45:08.692257Z",
     "iopub.status.busy": "2023-02-05T23:45:08.691084Z",
     "iopub.status.idle": "2023-02-05T23:45:11.081356Z",
     "shell.execute_reply": "2023-02-05T23:45:11.080565Z",
     "shell.execute_reply.started": "2023-02-05T23:45:08.692201Z"
    },
    "tags": []
   },
   "outputs": [],
   "source": [
    "import pandas as pd\n",
    "import seaborn as sns\n",
    "import matplotlib.pyplot as plt\n",
    "\n",
    "from html import unescape\n",
    "from nltk.sentiment.vader import SentimentIntensityAnalyzer\n",
    "\n",
    "# this setting widens how many characters pandas will display in a column:\n",
    "pd.options.display.max_colwidth = 400"
   ]
  },
  {
   "cell_type": "markdown",
   "id": "87b18476-8ff1-4fe9-83ae-348a31789d58",
   "metadata": {},
   "source": [
    "## Read Files\n",
    "Read in any files created by data collection"
   ]
  },
  {
   "cell_type": "code",
   "execution_count": 2,
   "id": "3dabff98-c63f-4c76-8c9b-fa378eb8f992",
   "metadata": {
    "execution": {
     "iopub.execute_input": "2023-02-05T23:45:11.082492Z",
     "iopub.status.busy": "2023-02-05T23:45:11.082269Z",
     "iopub.status.idle": "2023-02-05T23:45:14.538227Z",
     "shell.execute_reply": "2023-02-05T23:45:14.537165Z",
     "shell.execute_reply.started": "2023-02-05T23:45:11.082480Z"
    },
    "tags": []
   },
   "outputs": [],
   "source": [
    "tickets = pd.read_csv('../data/sat_tix.csv')\n",
    "metrics = pd.read_csv('../data/tix_mets.csv')\n",
    "comments = pd.read_csv('../data/tix_comments.csv')"
   ]
  },
  {
   "cell_type": "code",
   "execution_count": 3,
   "id": "fb1d4fc9-fa63-4c9f-a288-f9121e30a83f",
   "metadata": {
    "execution": {
     "iopub.execute_input": "2023-02-05T23:45:14.539005Z",
     "iopub.status.busy": "2023-02-05T23:45:14.538879Z",
     "iopub.status.idle": "2023-02-05T23:45:14.544966Z",
     "shell.execute_reply": "2023-02-05T23:45:14.544072Z",
     "shell.execute_reply.started": "2023-02-05T23:45:14.538994Z"
    }
   },
   "outputs": [
    {
     "data": {
      "text/plain": [
       "((13323, 10), (13323, 22), (85692, 11))"
      ]
     },
     "execution_count": 3,
     "metadata": {},
     "output_type": "execute_result"
    }
   ],
   "source": [
    "tickets.shape, metrics.shape, comments.shape"
   ]
  },
  {
   "cell_type": "markdown",
   "id": "098b6801-0e34-4fa8-9be3-b30dbf1e3aaf",
   "metadata": {},
   "source": [
    "Tickets and metrics have the count of rows, so it's possible we can merge these together"
   ]
  },
  {
   "cell_type": "markdown",
   "id": "49f1ad07-2fd6-4868-8c61-5196695b66c2",
   "metadata": {},
   "source": [
    "## Ticket Data Cleaning"
   ]
  },
  {
   "cell_type": "code",
   "execution_count": null,
   "id": "ebe0540a-71b7-4022-9af8-93115bd23682",
   "metadata": {
    "tags": []
   },
   "outputs": [],
   "source": [
    "tickets.head(3)"
   ]
  },
  {
   "cell_type": "code",
   "execution_count": 5,
   "id": "2cc65419-cb24-4080-b6d3-0d2af59e8333",
   "metadata": {
    "execution": {
     "iopub.execute_input": "2023-02-05T23:45:14.559570Z",
     "iopub.status.busy": "2023-02-05T23:45:14.559351Z",
     "iopub.status.idle": "2023-02-05T23:45:14.593929Z",
     "shell.execute_reply": "2023-02-05T23:45:14.593388Z",
     "shell.execute_reply.started": "2023-02-05T23:45:14.559556Z"
    }
   },
   "outputs": [
    {
     "name": "stdout",
     "output_type": "stream",
     "text": [
      "<class 'pandas.core.frame.DataFrame'>\n",
      "RangeIndex: 13323 entries, 0 to 13322\n",
      "Data columns (total 10 columns):\n",
      " #   Column       Non-Null Count  Dtype \n",
      "---  ------       --------------  ----- \n",
      " 0   id           13323 non-null  int64 \n",
      " 1   type         8384 non-null   object\n",
      " 2   subject      13323 non-null  object\n",
      " 3   description  13323 non-null  object\n",
      " 4   status       13323 non-null  object\n",
      " 5   recipient    4987 non-null   object\n",
      " 6   group_id     13323 non-null  int64 \n",
      " 7   channel      13323 non-null  object\n",
      " 8   sat_score    13323 non-null  object\n",
      " 9   sat_comment  4288 non-null   object\n",
      "dtypes: int64(2), object(8)\n",
      "memory usage: 1.0+ MB\n"
     ]
    }
   ],
   "source": [
    "tickets.info()"
   ]
  },
  {
   "cell_type": "markdown",
   "id": "2c2af1c6-d134-45b6-9404-1f9c579e5c0f",
   "metadata": {},
   "source": [
    "There are a fair number of nulls in the `type` and `recipient` and `sat_comment`.  `sat_comment` is optional when leaving satisfaction feedback, so that makes sense, but will investigate the other two columns' nulls."
   ]
  },
  {
   "cell_type": "code",
   "execution_count": 6,
   "id": "0a272fcc-ed0e-4dea-bbba-41d6a4c25090",
   "metadata": {
    "execution": {
     "iopub.execute_input": "2023-02-05T23:45:14.594696Z",
     "iopub.status.busy": "2023-02-05T23:45:14.594577Z",
     "iopub.status.idle": "2023-02-05T23:45:14.605266Z",
     "shell.execute_reply": "2023-02-05T23:45:14.604423Z",
     "shell.execute_reply.started": "2023-02-05T23:45:14.594685Z"
    }
   },
   "outputs": [
    {
     "data": {
      "text/plain": [
       "4"
      ]
     },
     "execution_count": 6,
     "metadata": {},
     "output_type": "execute_result"
    }
   ],
   "source": [
    "tickets['type'].nunique()"
   ]
  },
  {
   "cell_type": "code",
   "execution_count": 7,
   "id": "86ecd340-3e60-4023-88c3-17b0a6194999",
   "metadata": {
    "execution": {
     "iopub.execute_input": "2023-02-05T23:45:14.606450Z",
     "iopub.status.busy": "2023-02-05T23:45:14.606081Z",
     "iopub.status.idle": "2023-02-05T23:45:14.610580Z",
     "shell.execute_reply": "2023-02-05T23:45:14.609727Z",
     "shell.execute_reply.started": "2023-02-05T23:45:14.606428Z"
    }
   },
   "outputs": [
    {
     "data": {
      "text/plain": [
       "array([nan, 'question', 'problem', 'incident', 'task'], dtype=object)"
      ]
     },
     "execution_count": 7,
     "metadata": {},
     "output_type": "execute_result"
    }
   ],
   "source": [
    "tickets['type'].unique()"
   ]
  },
  {
   "cell_type": "markdown",
   "id": "2b84d8a1-de0d-4256-9d7a-3e3f5068e94c",
   "metadata": {},
   "source": [
    "This type is a sub-categorization of ticket and not widely used throughout the organization that this data was collected from.  It is not relevant to our analysis, so this column should be dropped."
   ]
  },
  {
   "cell_type": "code",
   "execution_count": 8,
   "id": "287b1e7c-b4f3-4152-b24c-383d9c4f35d7",
   "metadata": {
    "execution": {
     "iopub.execute_input": "2023-02-05T23:45:14.611318Z",
     "iopub.status.busy": "2023-02-05T23:45:14.611185Z",
     "iopub.status.idle": "2023-02-05T23:45:14.615279Z",
     "shell.execute_reply": "2023-02-05T23:45:14.614518Z",
     "shell.execute_reply.started": "2023-02-05T23:45:14.611307Z"
    }
   },
   "outputs": [
    {
     "data": {
      "text/plain": [
       "array(['closed'], dtype=object)"
      ]
     },
     "execution_count": 8,
     "metadata": {},
     "output_type": "execute_result"
    }
   ],
   "source": [
    "tickets['status'].unique()"
   ]
  },
  {
   "cell_type": "markdown",
   "id": "94b1cfcf-3fb3-4c4a-a6dd-d464ba1331d2",
   "metadata": {},
   "source": [
    "All the statuses are 'closed' which is to be expected as that was part of the search criteria from the data collection.\n",
    "\n",
    "This column should also be dropped."
   ]
  },
  {
   "cell_type": "code",
   "execution_count": null,
   "id": "0bd9991d-b8b9-4b3f-8e66-08ba220a1dac",
   "metadata": {
    "tags": []
   },
   "outputs": [],
   "source": [
    "tickets['recipient'].unique()"
   ]
  },
  {
   "cell_type": "markdown",
   "id": "3397cb4e-a9f3-4b44-877a-af503404c090",
   "metadata": {},
   "source": [
    "This looks like it could be useful information, but there are majority of the entries are missing.  Let's check out the Group ID and see if that might relate."
   ]
  },
  {
   "cell_type": "code",
   "execution_count": null,
   "id": "ae72cd30-ae3b-482f-87bf-11d0fd86bfb9",
   "metadata": {
    "tags": []
   },
   "outputs": [],
   "source": [
    "tickets.groupby(['group_id', 'recipient']).all()"
   ]
  },
  {
   "cell_type": "markdown",
   "id": "6e192d06-a8d7-4925-a5db-f56793a6ed8b",
   "metadata": {},
   "source": [
    "There doesn't appear to be a 1:1 relationship between `group_id` and `recipient`, which I thought might be the case.  I don't believe this information is important for the project at hand, so I will drop for now.  If it is deemed that this information is needed we'll have to collect some additional via API in order for this to be useful."
   ]
  },
  {
   "cell_type": "code",
   "execution_count": 11,
   "id": "aa5cc709-2fed-4ea4-93fe-b152405fefab",
   "metadata": {
    "execution": {
     "iopub.execute_input": "2023-02-05T23:45:14.683740Z",
     "iopub.status.busy": "2023-02-05T23:45:14.683555Z",
     "iopub.status.idle": "2023-02-05T23:45:14.689960Z",
     "shell.execute_reply": "2023-02-05T23:45:14.689491Z",
     "shell.execute_reply.started": "2023-02-05T23:45:14.683727Z"
    },
    "tags": []
   },
   "outputs": [],
   "source": [
    "tickets.drop(columns=['recipient', \n",
    "                      'group_id', \n",
    "                      'type', \n",
    "                      'status'\n",
    "                     ], inplace=True)"
   ]
  },
  {
   "cell_type": "code",
   "execution_count": 12,
   "id": "d09988a1-cd3c-4c01-a3a1-22caec062591",
   "metadata": {
    "execution": {
     "iopub.execute_input": "2023-02-05T23:45:14.690812Z",
     "iopub.status.busy": "2023-02-05T23:45:14.690548Z",
     "iopub.status.idle": "2023-02-05T23:45:14.702428Z",
     "shell.execute_reply": "2023-02-05T23:45:14.701503Z",
     "shell.execute_reply.started": "2023-02-05T23:45:14.690795Z"
    },
    "tags": []
   },
   "outputs": [
    {
     "data": {
      "text/plain": [
       "id                0\n",
       "subject           0\n",
       "description       0\n",
       "channel           0\n",
       "sat_score         0\n",
       "sat_comment    9035\n",
       "dtype: int64"
      ]
     },
     "execution_count": 12,
     "metadata": {},
     "output_type": "execute_result"
    }
   ],
   "source": [
    "tickets.isna().sum()"
   ]
  },
  {
   "cell_type": "markdown",
   "id": "b5de3126-bcf4-4f91-b453-905e4bcb2c44",
   "metadata": {},
   "source": [
    "The only remaining null values are ones that are expected."
   ]
  },
  {
   "cell_type": "code",
   "execution_count": 13,
   "id": "f402ad35-54c5-4c2e-86cc-97c9361eb6ba",
   "metadata": {
    "execution": {
     "iopub.execute_input": "2023-02-05T23:45:14.706207Z",
     "iopub.status.busy": "2023-02-05T23:45:14.705887Z",
     "iopub.status.idle": "2023-02-05T23:45:14.711568Z",
     "shell.execute_reply": "2023-02-05T23:45:14.710992Z",
     "shell.execute_reply.started": "2023-02-05T23:45:14.706194Z"
    },
    "tags": []
   },
   "outputs": [
    {
     "data": {
      "text/plain": [
       "good    0.854612\n",
       "bad     0.145388\n",
       "Name: sat_score, dtype: float64"
      ]
     },
     "execution_count": 13,
     "metadata": {},
     "output_type": "execute_result"
    }
   ],
   "source": [
    "tickets['sat_score'].value_counts(normalize=True)"
   ]
  },
  {
   "cell_type": "markdown",
   "id": "db11b95c-e21e-4583-9ef3-14e638e73f8b",
   "metadata": {},
   "source": [
    "Imbalanced class could be a challenge for modeling.  Will keep this in mind going forward."
   ]
  },
  {
   "cell_type": "markdown",
   "id": "a677fd42-80b9-4852-8567-e710d72b7b43",
   "metadata": {},
   "source": [
    "## Ticket Metrics Data Cleaning\n",
    "\n",
    "|Name|\tType|\tRead-only|\tMandatory\t|Description|\n",
    "|:--|:--|:--|:--|:--|\n",
    "|agent_wait_time_in_minutes|\tobject|\ttrue|\tfalse|\tNumber of minutes the agent spent waiting during calendar and business hours|\n",
    "|assigned_at|\tstring|\ttrue|\tfalse|\tWhen the ticket was assigned|\n",
    "|assignee_stations|\tinteger|\ttrue|\tfalse|\tNumber of assignees the ticket had|\n",
    "|assignee_updated_at|\tstring|\ttrue|\tfalse|\tWhen the assignee last updated the ticket|\n",
    "|created_at|\tstring|\ttrue|\tfalse|\tWhen the record was created|\n",
    "|custom_status_updated_at|\tstring|\ttrue|\tfalse|\tThe date and time the ticket's custom status was last updated|\n",
    "|first_resolution_time_in_minutes|\tobject|\ttrue|\tfalse|\tNumber of minutes to the first resolution time during calendar and business hours|\n",
    "|full_resolution_time_in_minutes|\tobject|\ttrue|\tfalse|\tNumber of minutes to the full resolution during calendar and business hours|\n",
    "|group_stations|\tinteger|\ttrue|\tfalse|\tNumber of groups the ticket passed through|\n",
    "|id|\tinteger|\ttrue|\tfalse|\tAutomatically assigned when the client is created|\n",
    "|initially_assigned_at|\tstring|\ttrue|\tfalse|\tWhen the ticket was initially assigned|\n",
    "|latest_comment_added_at|\tstring|\ttrue|\tfalse|\tWhen the latest comment was added|\n",
    "|on_hold_time_in_minutes|\tobject|\ttrue|\tfalse|\tNumber of minutes on hold|\n",
    "|reopens|\tinteger|\ttrue|\tfalse|\tTotal number of times the ticket was reopened|\n",
    "|replies|\tinteger|\ttrue|\tfalse|\tThe number of public replies added to a ticket by an agent|\n",
    "|reply_time_in_minutes|\tobject|\ttrue|\tfalse|\tNumber of minutes to the first reply during calendar and business hours|\n",
    "|reply_time_in_seconds|\tobject|\ttrue|\tfalse|\tNumber of seconds to the first reply during calendar hours, only available for Messaging tickets|\n",
    "|requester_updated_at|\tstring|\ttrue|\tfalse|\tWhen the requester last updated the ticket|\n",
    "|requester_wait_time_in_minutes|\tobject|\ttrue|\tfalse|\tNumber of minutes the requester spent waiting during calendar and business hours|\n",
    "|solved_at|\tstring|\ttrue|\tfalse|\tWhen the ticket was solved|\n",
    "|status_updated_at|\tstring|\ttrue|\tfalse|\tWhen the status of the ticket was last updated|\n",
    "|ticket_id|\tinteger|\ttrue|\tfalse|\tId of the associated ticket|\n",
    "|updated_at|\tstring|\ttrue|\tfalse|\tWhen the record was last updated|\n",
    "|url|\tstring|\ttrue|\tfalse|\tThe API url of the ticket metric|\n",
    "\n",
    "[source](https://developer.zendesk.com/api-reference/ticketing/tickets/ticket_metrics/#json-format)"
   ]
  },
  {
   "cell_type": "code",
   "execution_count": null,
   "id": "6c1d82bf-5719-4dd2-b4fe-a9f7d99b89ab",
   "metadata": {
    "tags": []
   },
   "outputs": [],
   "source": [
    "metrics.head(3)"
   ]
  },
  {
   "cell_type": "code",
   "execution_count": 15,
   "id": "e133df64-8339-4e7a-8305-9bf687df2593",
   "metadata": {
    "execution": {
     "iopub.execute_input": "2023-02-05T23:45:14.732655Z",
     "iopub.status.busy": "2023-02-05T23:45:14.732513Z",
     "iopub.status.idle": "2023-02-05T23:45:14.741917Z",
     "shell.execute_reply": "2023-02-05T23:45:14.741434Z",
     "shell.execute_reply.started": "2023-02-05T23:45:14.732643Z"
    },
    "tags": []
   },
   "outputs": [
    {
     "data": {
      "text/plain": [
       "Index(['url', 'id', 'ticket_id', 'created_at', 'updated_at', 'group_stations',\n",
       "       'assignee_stations', 'reopens', 'replies', 'assignee_updated_at',\n",
       "       'requester_updated_at', 'status_updated_at', 'initially_assigned_at',\n",
       "       'assigned_at', 'solved_at', 'latest_comment_added_at',\n",
       "       'reply_time_in_minutes', 'first_resolution_time_in_minutes',\n",
       "       'full_resolution_time_in_minutes', 'agent_wait_time_in_minutes',\n",
       "       'requester_wait_time_in_minutes', 'on_hold_time_in_minutes'],\n",
       "      dtype='object')"
      ]
     },
     "execution_count": 15,
     "metadata": {},
     "output_type": "execute_result"
    }
   ],
   "source": [
    "metrics.columns"
   ]
  },
  {
   "cell_type": "markdown",
   "id": "629058aa-b8bb-460a-99e3-239cb6f70062",
   "metadata": {},
   "source": [
    "Shortening some of the column names"
   ]
  },
  {
   "cell_type": "code",
   "execution_count": 16,
   "id": "8971d3b5-e383-4b1f-869b-c194fe54204c",
   "metadata": {
    "execution": {
     "iopub.execute_input": "2023-02-05T23:45:14.742591Z",
     "iopub.status.busy": "2023-02-05T23:45:14.742479Z",
     "iopub.status.idle": "2023-02-05T23:45:14.780176Z",
     "shell.execute_reply": "2023-02-05T23:45:14.779545Z",
     "shell.execute_reply.started": "2023-02-05T23:45:14.742581Z"
    },
    "tags": []
   },
   "outputs": [
    {
     "data": {
      "text/plain": [
       "assignee_updated_at      161\n",
       "initially_assigned_at     28\n",
       "assigned_at               28\n",
       "reply_time_in_minutes    412\n",
       "dtype: int64"
      ]
     },
     "execution_count": 16,
     "metadata": {},
     "output_type": "execute_result"
    }
   ],
   "source": [
    "metrics.isna().sum()[metrics.isna().sum() > 0]"
   ]
  },
  {
   "cell_type": "markdown",
   "id": "7c92afa1-449b-48cf-8a3f-69ad41c836bc",
   "metadata": {},
   "source": [
    "More information about these fields [(source)](https://developer.zendesk.com/api-reference/ticketing/tickets/ticket_metrics/#json-format):\n",
    "|Field|Definition|\n",
    "|:--|:--|\n",
    "|assignee_updated_at|When the assignee last updated the ticket|\n",
    "|initially_assigned_at|When the ticket was initially assigned|\n",
    "|assigned_at|When the ticket was assigned|\n",
    "|reply_time_in_minutes|Number of minutes to the first reply during calendar and business hours|"
   ]
  },
  {
   "cell_type": "markdown",
   "id": "0869ec6b-7c58-4686-908e-66955e948130",
   "metadata": {},
   "source": [
    "Checking to see if the `assigned_at` missing values are all the same rows."
   ]
  },
  {
   "cell_type": "code",
   "execution_count": 17,
   "id": "cb114d44-956b-457c-a4eb-9b6f7a801f70",
   "metadata": {
    "execution": {
     "iopub.execute_input": "2023-02-05T23:45:14.783654Z",
     "iopub.status.busy": "2023-02-05T23:45:14.781217Z",
     "iopub.status.idle": "2023-02-05T23:45:14.789747Z",
     "shell.execute_reply": "2023-02-05T23:45:14.789091Z",
     "shell.execute_reply.started": "2023-02-05T23:45:14.783629Z"
    },
    "tags": []
   },
   "outputs": [
    {
     "data": {
      "text/plain": [
       "28"
      ]
     },
     "execution_count": 17,
     "metadata": {},
     "output_type": "execute_result"
    }
   ],
   "source": [
    "len(metrics\n",
    " [\n",
    "     (metrics['initially_assigned_at'].isna()) \n",
    "     & (metrics['assigned_at'].isna())\n",
    " ]\n",
    ")"
   ]
  },
  {
   "cell_type": "markdown",
   "id": "10f8e92c-e334-4168-b6ef-809635d128a2",
   "metadata": {},
   "source": [
    "It looks like the 28 rows with missing values are the same.  Since I'm familiar with the ticketing workflows, I do know that not all tickets get assigned.  Since this isn't a large amount of tickets, I'll substitute in the `latest_comment_added_at` as the normal culprit of not being assigned is replying to the ticket and/or attempting to solve it without the official assign step."
   ]
  },
  {
   "cell_type": "code",
   "execution_count": 18,
   "id": "cc33b24b-8906-4391-80af-95e5c28a07b3",
   "metadata": {
    "execution": {
     "iopub.execute_input": "2023-02-05T23:45:14.791214Z",
     "iopub.status.busy": "2023-02-05T23:45:14.790885Z",
     "iopub.status.idle": "2023-02-05T23:45:14.804633Z",
     "shell.execute_reply": "2023-02-05T23:45:14.798955Z",
     "shell.execute_reply.started": "2023-02-05T23:45:14.791199Z"
    },
    "tags": []
   },
   "outputs": [
    {
     "data": {
      "text/html": [
       "<div>\n",
       "<style scoped>\n",
       "    .dataframe tbody tr th:only-of-type {\n",
       "        vertical-align: middle;\n",
       "    }\n",
       "\n",
       "    .dataframe tbody tr th {\n",
       "        vertical-align: top;\n",
       "    }\n",
       "\n",
       "    .dataframe thead th {\n",
       "        text-align: right;\n",
       "    }\n",
       "</style>\n",
       "<table border=\"1\" class=\"dataframe\">\n",
       "  <thead>\n",
       "    <tr style=\"text-align: right;\">\n",
       "      <th></th>\n",
       "      <th>initially_assigned_at</th>\n",
       "      <th>assigned_at</th>\n",
       "      <th>latest_comment_added_at</th>\n",
       "    </tr>\n",
       "  </thead>\n",
       "  <tbody>\n",
       "    <tr>\n",
       "      <th>212</th>\n",
       "      <td>NaN</td>\n",
       "      <td>NaN</td>\n",
       "      <td>2023-01-03T17:28:27Z</td>\n",
       "    </tr>\n",
       "    <tr>\n",
       "      <th>989</th>\n",
       "      <td>NaN</td>\n",
       "      <td>NaN</td>\n",
       "      <td>2022-11-02T16:52:27Z</td>\n",
       "    </tr>\n",
       "    <tr>\n",
       "      <th>1255</th>\n",
       "      <td>NaN</td>\n",
       "      <td>NaN</td>\n",
       "      <td>2022-11-08T22:21:03Z</td>\n",
       "    </tr>\n",
       "    <tr>\n",
       "      <th>1730</th>\n",
       "      <td>NaN</td>\n",
       "      <td>NaN</td>\n",
       "      <td>2022-07-29T21:47:46Z</td>\n",
       "    </tr>\n",
       "    <tr>\n",
       "      <th>2157</th>\n",
       "      <td>NaN</td>\n",
       "      <td>NaN</td>\n",
       "      <td>2022-05-20T20:31:18Z</td>\n",
       "    </tr>\n",
       "  </tbody>\n",
       "</table>\n",
       "</div>"
      ],
      "text/plain": [
       "     initially_assigned_at assigned_at latest_comment_added_at\n",
       "212                    NaN         NaN    2023-01-03T17:28:27Z\n",
       "989                    NaN         NaN    2022-11-02T16:52:27Z\n",
       "1255                   NaN         NaN    2022-11-08T22:21:03Z\n",
       "1730                   NaN         NaN    2022-07-29T21:47:46Z\n",
       "2157                   NaN         NaN    2022-05-20T20:31:18Z"
      ]
     },
     "execution_count": 18,
     "metadata": {},
     "output_type": "execute_result"
    }
   ],
   "source": [
    "(metrics.loc[\n",
    "    metrics[\n",
    "     (metrics['initially_assigned_at'].isna()) \n",
    "     & (metrics['assigned_at'].isna())\n",
    "    ].index, ['initially_assigned_at',\n",
    "              'assigned_at', 'latest_comment_added_at']]).head()"
   ]
  },
  {
   "cell_type": "code",
   "execution_count": 19,
   "id": "a491d7ee-213c-4e13-bb54-097a674edfdd",
   "metadata": {
    "execution": {
     "iopub.execute_input": "2023-02-05T23:45:14.806427Z",
     "iopub.status.busy": "2023-02-05T23:45:14.805724Z",
     "iopub.status.idle": "2023-02-05T23:45:14.812108Z",
     "shell.execute_reply": "2023-02-05T23:45:14.811386Z",
     "shell.execute_reply.started": "2023-02-05T23:45:14.806400Z"
    },
    "tags": []
   },
   "outputs": [],
   "source": [
    "for _ in ['initially_assigned_at',\n",
    "          'assignee_updated_at',\n",
    "          'assigned_at']:\n",
    "    metrics[_].fillna(metrics['latest_comment_added_at'], inplace=True)"
   ]
  },
  {
   "cell_type": "code",
   "execution_count": 20,
   "id": "a5186475-e8cf-40a3-b225-7b84e0676344",
   "metadata": {
    "execution": {
     "iopub.execute_input": "2023-02-05T23:45:14.813778Z",
     "iopub.status.busy": "2023-02-05T23:45:14.813486Z",
     "iopub.status.idle": "2023-02-05T23:45:14.845072Z",
     "shell.execute_reply": "2023-02-05T23:45:14.844422Z",
     "shell.execute_reply.started": "2023-02-05T23:45:14.813758Z"
    },
    "tags": []
   },
   "outputs": [
    {
     "data": {
      "text/plain": [
       "reply_time_in_minutes    412\n",
       "dtype: int64"
      ]
     },
     "execution_count": 20,
     "metadata": {},
     "output_type": "execute_result"
    }
   ],
   "source": [
    "metrics.isna().sum()[metrics.isna().sum() > 0]"
   ]
  },
  {
   "cell_type": "markdown",
   "id": "ab9070cd-c7a0-4976-88e3-195dff8f765c",
   "metadata": {},
   "source": [
    "Examine the records with these null values"
   ]
  },
  {
   "cell_type": "code",
   "execution_count": null,
   "id": "1e342849-8e70-45b0-9ac2-298ce5d8f950",
   "metadata": {
    "tags": []
   },
   "outputs": [],
   "source": [
    "(\n",
    "    metrics\n",
    "    [metrics['reply_time_in_minutes']\n",
    "     .isna()]\n",
    "    .sort_values(by='first_resolution_time_in_minutes', ascending=False)\n",
    "    .head()\n",
    ")"
   ]
  },
  {
   "cell_type": "code",
   "execution_count": 22,
   "id": "06900324-998d-4271-b1c9-db06dfc1fe73",
   "metadata": {
    "execution": {
     "iopub.execute_input": "2023-02-05T23:45:14.860895Z",
     "iopub.status.busy": "2023-02-05T23:45:14.860798Z",
     "iopub.status.idle": "2023-02-05T23:45:14.880846Z",
     "shell.execute_reply": "2023-02-05T23:45:14.880147Z",
     "shell.execute_reply.started": "2023-02-05T23:45:14.860885Z"
    },
    "tags": []
   },
   "outputs": [
    {
     "data": {
      "text/html": [
       "<div>\n",
       "<style scoped>\n",
       "    .dataframe tbody tr th:only-of-type {\n",
       "        vertical-align: middle;\n",
       "    }\n",
       "\n",
       "    .dataframe tbody tr th {\n",
       "        vertical-align: top;\n",
       "    }\n",
       "\n",
       "    .dataframe thead th {\n",
       "        text-align: right;\n",
       "    }\n",
       "</style>\n",
       "<table border=\"1\" class=\"dataframe\">\n",
       "  <thead>\n",
       "    <tr style=\"text-align: right;\">\n",
       "      <th></th>\n",
       "      <th>reply_time_in_minutes</th>\n",
       "      <th>first_resolution_time_in_minutes</th>\n",
       "      <th>full_resolution_time_in_minutes</th>\n",
       "      <th>agent_wait_time_in_minutes</th>\n",
       "      <th>requester_wait_time_in_minutes</th>\n",
       "    </tr>\n",
       "  </thead>\n",
       "  <tbody>\n",
       "    <tr>\n",
       "      <th>13296</th>\n",
       "      <td>2259.0</td>\n",
       "      <td>2253693</td>\n",
       "      <td>2253693</td>\n",
       "      <td>6677</td>\n",
       "      <td>2247016</td>\n",
       "    </tr>\n",
       "    <tr>\n",
       "      <th>12068</th>\n",
       "      <td>35.0</td>\n",
       "      <td>1968719</td>\n",
       "      <td>2286965</td>\n",
       "      <td>39</td>\n",
       "      <td>2286886</td>\n",
       "    </tr>\n",
       "    <tr>\n",
       "      <th>11918</th>\n",
       "      <td>70.0</td>\n",
       "      <td>1907196</td>\n",
       "      <td>1907196</td>\n",
       "      <td>2009</td>\n",
       "      <td>1905185</td>\n",
       "    </tr>\n",
       "    <tr>\n",
       "      <th>11454</th>\n",
       "      <td>144.0</td>\n",
       "      <td>1889228</td>\n",
       "      <td>1889228</td>\n",
       "      <td>960</td>\n",
       "      <td>1888268</td>\n",
       "    </tr>\n",
       "    <tr>\n",
       "      <th>11601</th>\n",
       "      <td>1142.0</td>\n",
       "      <td>1856054</td>\n",
       "      <td>1856054</td>\n",
       "      <td>0</td>\n",
       "      <td>1856054</td>\n",
       "    </tr>\n",
       "  </tbody>\n",
       "</table>\n",
       "</div>"
      ],
      "text/plain": [
       "       reply_time_in_minutes  first_resolution_time_in_minutes  \\\n",
       "13296                 2259.0                           2253693   \n",
       "12068                   35.0                           1968719   \n",
       "11918                   70.0                           1907196   \n",
       "11454                  144.0                           1889228   \n",
       "11601                 1142.0                           1856054   \n",
       "\n",
       "       full_resolution_time_in_minutes  agent_wait_time_in_minutes  \\\n",
       "13296                          2253693                        6677   \n",
       "12068                          2286965                          39   \n",
       "11918                          1907196                        2009   \n",
       "11454                          1889228                         960   \n",
       "11601                          1856054                           0   \n",
       "\n",
       "       requester_wait_time_in_minutes  \n",
       "13296                         2247016  \n",
       "12068                         2286886  \n",
       "11918                         1905185  \n",
       "11454                         1888268  \n",
       "11601                         1856054  "
      ]
     },
     "execution_count": 22,
     "metadata": {},
     "output_type": "execute_result"
    }
   ],
   "source": [
    "(\n",
    "    metrics[['reply_time_in_minutes', \n",
    "         'first_resolution_time_in_minutes',\n",
    "         'full_resolution_time_in_minutes',\n",
    "         'agent_wait_time_in_minutes',\n",
    "         'requester_wait_time_in_minutes']]\n",
    "    .sort_values(\n",
    "        by='first_resolution_time_in_minutes', \n",
    "        ascending=False)\n",
    "    .head()\n",
    ")"
   ]
  },
  {
   "cell_type": "code",
   "execution_count": 23,
   "id": "834c1919-962d-4302-b55b-c8c6ff7ffd23",
   "metadata": {
    "execution": {
     "iopub.execute_input": "2023-02-05T23:45:14.881587Z",
     "iopub.status.busy": "2023-02-05T23:45:14.881471Z",
     "iopub.status.idle": "2023-02-05T23:45:14.892346Z",
     "shell.execute_reply": "2023-02-05T23:45:14.891735Z",
     "shell.execute_reply.started": "2023-02-05T23:45:14.881577Z"
    },
    "tags": []
   },
   "outputs": [
    {
     "data": {
      "text/plain": [
       "count     12911.000000\n",
       "mean        937.439470\n",
       "std        6055.497408\n",
       "min           0.000000\n",
       "25%          66.000000\n",
       "50%         203.000000\n",
       "75%         532.000000\n",
       "max      286188.000000\n",
       "Name: reply_time_in_minutes, dtype: float64"
      ]
     },
     "execution_count": 23,
     "metadata": {},
     "output_type": "execute_result"
    }
   ],
   "source": [
    "metrics['reply_time_in_minutes'].describe()"
   ]
  },
  {
   "cell_type": "markdown",
   "id": "9de233ef-1a4e-4a62-9132-4c3839bd0046",
   "metadata": {},
   "source": [
    "After looking through some of the values, I belive that filling these with their first resolution time won't materially change the complexion of the data"
   ]
  },
  {
   "cell_type": "code",
   "execution_count": 24,
   "id": "7d5185d3-2240-4509-bf98-09062b30130b",
   "metadata": {
    "execution": {
     "iopub.execute_input": "2023-02-05T23:45:14.893210Z",
     "iopub.status.busy": "2023-02-05T23:45:14.893032Z",
     "iopub.status.idle": "2023-02-05T23:45:18.493902Z",
     "shell.execute_reply": "2023-02-05T23:45:18.493366Z",
     "shell.execute_reply.started": "2023-02-05T23:45:14.893196Z"
    },
    "tags": []
   },
   "outputs": [
    {
     "data": {
      "image/png": "[encoded data removed]",
      "text/plain": [
       "<Figure size 640x480 with 1 Axes>"
      ]
     },
     "metadata": {},
     "output_type": "display_data"
    }
   ],
   "source": [
    "(\n",
    "    metrics['reply_time_in_minutes']\n",
    "    .plot(kind='hist',\n",
    "          bins=5000,\n",
    "          color='mediumpurple',\n",
    "          title='Distribution of First Reply Time')\n",
    ")\n",
    "plt.xlim(0,20000);"
   ]
  },
  {
   "cell_type": "code",
   "execution_count": 25,
   "id": "8b2baa72-17d5-4093-a1f5-7f21685095de",
   "metadata": {
    "execution": {
     "iopub.execute_input": "2023-02-05T23:45:18.494633Z",
     "iopub.status.busy": "2023-02-05T23:45:18.494507Z",
     "iopub.status.idle": "2023-02-05T23:45:18.793199Z",
     "shell.execute_reply": "2023-02-05T23:45:18.792642Z",
     "shell.execute_reply.started": "2023-02-05T23:45:18.494623Z"
    },
    "tags": []
   },
   "outputs": [
    {
     "data": {
      "image/png": "[encoded data removed]",
      "text/plain": [
       "<Figure size 640x480 with 1 Axes>"
      ]
     },
     "metadata": {},
     "output_type": "display_data"
    }
   ],
   "source": [
    "(\n",
    "    metrics\n",
    "    [metrics['reply_time_in_minutes'].isna()]\n",
    "    ['first_resolution_time_in_minutes']\n",
    "    .plot(\n",
    "        bins=300,\n",
    "        kind='hist',\n",
    "        color='mediumpurple',\n",
    "        title='First Resolution Time Distribution\\n\\\n",
    "Tickets with null first reply time')\n",
    ");"
   ]
  },
  {
   "cell_type": "markdown",
   "id": "f8827f2e-cb4f-4c96-8d92-a2f3f9b384bb",
   "metadata": {},
   "source": [
    "It's difficult to tell, but I don't think the proposed solution to filling values will alter this distribution in a meaningful way."
   ]
  },
  {
   "cell_type": "code",
   "execution_count": 26,
   "id": "0cf87a15-9f2a-4b56-948b-08e1d843910a",
   "metadata": {
    "execution": {
     "iopub.execute_input": "2023-02-05T23:45:18.796744Z",
     "iopub.status.busy": "2023-02-05T23:45:18.796162Z",
     "iopub.status.idle": "2023-02-05T23:45:18.824094Z",
     "shell.execute_reply": "2023-02-05T23:45:18.823389Z",
     "shell.execute_reply.started": "2023-02-05T23:45:18.796727Z"
    },
    "tags": []
   },
   "outputs": [
    {
     "data": {
      "text/plain": [
       "reply_time_in_minutes    412\n",
       "dtype: int64"
      ]
     },
     "execution_count": 26,
     "metadata": {},
     "output_type": "execute_result"
    }
   ],
   "source": [
    "metrics.isna().sum()[metrics.isna().sum() > 0]"
   ]
  },
  {
   "cell_type": "code",
   "execution_count": 27,
   "id": "1d64a57a-f0fb-4680-9a87-10e1afc57c46",
   "metadata": {
    "execution": {
     "iopub.execute_input": "2023-02-05T23:45:18.825340Z",
     "iopub.status.busy": "2023-02-05T23:45:18.825191Z",
     "iopub.status.idle": "2023-02-05T23:45:18.829126Z",
     "shell.execute_reply": "2023-02-05T23:45:18.828553Z",
     "shell.execute_reply.started": "2023-02-05T23:45:18.825328Z"
    },
    "tags": []
   },
   "outputs": [],
   "source": [
    "(\n",
    "    metrics['reply_time_in_minutes']\n",
    "    .fillna(\n",
    "        metrics['first_resolution_time_in_minutes'], \n",
    "        inplace=True\n",
    "    )\n",
    ")"
   ]
  },
  {
   "cell_type": "code",
   "execution_count": 28,
   "id": "e7101c6c-2cb7-4c4f-accf-0024d0ebaff6",
   "metadata": {
    "execution": {
     "iopub.execute_input": "2023-02-05T23:45:18.829920Z",
     "iopub.status.busy": "2023-02-05T23:45:18.829803Z",
     "iopub.status.idle": "2023-02-05T23:45:18.861448Z",
     "shell.execute_reply": "2023-02-05T23:45:18.860771Z",
     "shell.execute_reply.started": "2023-02-05T23:45:18.829910Z"
    },
    "tags": []
   },
   "outputs": [
    {
     "data": {
      "text/plain": [
       "Series([], dtype: int64)"
      ]
     },
     "execution_count": 28,
     "metadata": {},
     "output_type": "execute_result"
    }
   ],
   "source": [
    "metrics.isna().sum()[metrics.isna().sum() > 0]"
   ]
  },
  {
   "cell_type": "code",
   "execution_count": 29,
   "id": "8b12091f-b679-4b64-ad27-a084252d50ac",
   "metadata": {
    "execution": {
     "iopub.execute_input": "2023-02-05T23:45:18.862932Z",
     "iopub.status.busy": "2023-02-05T23:45:18.862362Z",
     "iopub.status.idle": "2023-02-05T23:45:22.114402Z",
     "shell.execute_reply": "2023-02-05T23:45:22.112422Z",
     "shell.execute_reply.started": "2023-02-05T23:45:18.862915Z"
    },
    "tags": []
   },
   "outputs": [
    {
     "data": {
      "image/png": "[encoded data removed]",
      "text/plain": [
       "<Figure size 640x480 with 1 Axes>"
      ]
     },
     "metadata": {},
     "output_type": "display_data"
    }
   ],
   "source": [
    "(\n",
    "    metrics['reply_time_in_minutes']\n",
    "    .plot(kind='hist',\n",
    "          bins=5000,\n",
    "          color='mediumpurple',\n",
    "          title='Distribution of First Reply Time'\n",
    "         )\n",
    ")\n",
    "plt.xlim(0,20000);"
   ]
  },
  {
   "cell_type": "markdown",
   "id": "65de8f8d-a01a-4572-b0bd-17af2812a8b1",
   "metadata": {},
   "source": [
    "The shape of this distribution appears to be similar as before filling the null values."
   ]
  },
  {
   "cell_type": "markdown",
   "id": "4a0a2580-0c87-449e-84e6-75b0145f0842",
   "metadata": {},
   "source": [
    "### Shorten Column Names\n",
    "\n",
    "To make this a bit easier to work with, the column names will be abbreviated."
   ]
  },
  {
   "cell_type": "code",
   "execution_count": 30,
   "id": "f7b2570b-0a06-42ef-b0c9-7a85b4d37905",
   "metadata": {
    "execution": {
     "iopub.execute_input": "2023-02-05T23:45:22.115492Z",
     "iopub.status.busy": "2023-02-05T23:45:22.115320Z",
     "iopub.status.idle": "2023-02-05T23:45:22.120827Z",
     "shell.execute_reply": "2023-02-05T23:45:22.120154Z",
     "shell.execute_reply.started": "2023-02-05T23:45:22.115477Z"
    }
   },
   "outputs": [
    {
     "data": {
      "text/plain": [
       "Index(['url', 'id', 'ticket_id', 'created_at', 'updated_at', 'group_stations',\n",
       "       'assignee_stations', 'reopens', 'replies', 'assignee_updated_at',\n",
       "       'requester_updated_at', 'status_updated_at', 'initially_assigned_at',\n",
       "       'assigned_at', 'solved_at', 'latest_comment_added_at',\n",
       "       'reply_time_in_minutes', 'first_resolution_time_in_minutes',\n",
       "       'full_resolution_time_in_minutes', 'agent_wait_time_in_minutes',\n",
       "       'requester_wait_time_in_minutes', 'on_hold_time_in_minutes'],\n",
       "      dtype='object')"
      ]
     },
     "execution_count": 30,
     "metadata": {},
     "output_type": "execute_result"
    }
   ],
   "source": [
    "metrics.columns"
   ]
  },
  {
   "cell_type": "code",
   "execution_count": 31,
   "id": "76b5ec7d-b8bc-4909-915e-b5514bd70736",
   "metadata": {
    "execution": {
     "iopub.execute_input": "2023-02-05T23:45:22.121709Z",
     "iopub.status.busy": "2023-02-05T23:45:22.121589Z",
     "iopub.status.idle": "2023-02-05T23:45:22.128640Z",
     "shell.execute_reply": "2023-02-05T23:45:22.126365Z",
     "shell.execute_reply.started": "2023-02-05T23:45:22.121698Z"
    },
    "tags": []
   },
   "outputs": [],
   "source": [
    "sub_dict = {\n",
    "    'assignee': 'asign',\n",
    "    'updated': 'updtd',\n",
    "    'group': 'grp',\n",
    "    'in_minutes': 'mins',\n",
    "    'agent': 'agt',\n",
    "    'resolution': 'reso',\n",
    "    'requester': 'reqstr',\n",
    "    'time_': '',\n",
    "    '_at' : ''\n",
    "    }\n",
    "\n",
    "for key, value in sub_dict.items():\n",
    "    metrics.columns = [col.replace(key, value) for col in metrics.columns]"
   ]
  },
  {
   "cell_type": "code",
   "execution_count": 32,
   "id": "d72b68df-1580-4a49-8d2a-cd8b9f765c44",
   "metadata": {
    "execution": {
     "iopub.execute_input": "2023-02-05T23:45:22.129931Z",
     "iopub.status.busy": "2023-02-05T23:45:22.129515Z",
     "iopub.status.idle": "2023-02-05T23:45:22.138171Z",
     "shell.execute_reply": "2023-02-05T23:45:22.137591Z",
     "shell.execute_reply.started": "2023-02-05T23:45:22.129910Z"
    },
    "tags": []
   },
   "outputs": [
    {
     "data": {
      "text/plain": [
       "Index(['url', 'id', 'ticket_id', 'created', 'updtd', 'grp_stations',\n",
       "       'asign_stations', 'reopens', 'replies', 'asign_updtd', 'reqstr_updtd',\n",
       "       'status_updtd', 'initially_assigned', 'assigned', 'solved',\n",
       "       'latest_comment_added', 'reply_mins', 'first_reso_mins',\n",
       "       'full_reso_mins', 'agt_wait_mins', 'reqstr_wait_mins', 'on_hold_mins'],\n",
       "      dtype='object')"
      ]
     },
     "execution_count": 32,
     "metadata": {},
     "output_type": "execute_result"
    }
   ],
   "source": [
    "metrics.columns"
   ]
  },
  {
   "cell_type": "code",
   "execution_count": null,
   "id": "80ad0662-2d97-4f77-93e4-757440358aa7",
   "metadata": {
    "tags": []
   },
   "outputs": [],
   "source": [
    "metrics.head(3)"
   ]
  },
  {
   "cell_type": "markdown",
   "id": "79fbe449-bd52-45b5-8091-12da94f80bb9",
   "metadata": {},
   "source": [
    "The `id` column is an id for the metrics record, which we won't need to reference.  We'll merge and cross-reference based on the `ticket_id` column.  We also don't need the `url` column as that is just a direct pointer to the metrics record."
   ]
  },
  {
   "cell_type": "code",
   "execution_count": 34,
   "id": "f5e44d83-2faf-48cc-a7af-42b777f763b8",
   "metadata": {
    "execution": {
     "iopub.execute_input": "2023-02-05T23:45:22.157914Z",
     "iopub.status.busy": "2023-02-05T23:45:22.156967Z",
     "iopub.status.idle": "2023-02-05T23:45:22.163597Z",
     "shell.execute_reply": "2023-02-05T23:45:22.162907Z",
     "shell.execute_reply.started": "2023-02-05T23:45:22.157890Z"
    },
    "tags": []
   },
   "outputs": [],
   "source": [
    "metrics.drop(columns=['url', 'id'], inplace=True)"
   ]
  },
  {
   "cell_type": "markdown",
   "id": "9d4c17cd-9bb0-4911-985b-054d860c5572",
   "metadata": {},
   "source": [
    "## Merge Ticket and Metrics Data\n",
    "\n",
    "Since the data between tickets and metrics is 1-to-1, we'll merge this into a single dataframe.  After this is merged, the columns will be checked again to see if there are any additional that should be dropped at this point."
   ]
  },
  {
   "cell_type": "code",
   "execution_count": 35,
   "id": "b5438565-6a8c-41f6-a0b9-594806aa3981",
   "metadata": {
    "execution": {
     "iopub.execute_input": "2023-02-05T23:45:22.164275Z",
     "iopub.status.busy": "2023-02-05T23:45:22.164163Z",
     "iopub.status.idle": "2023-02-05T23:45:22.167454Z",
     "shell.execute_reply": "2023-02-05T23:45:22.167053Z",
     "shell.execute_reply.started": "2023-02-05T23:45:22.164264Z"
    }
   },
   "outputs": [
    {
     "data": {
      "text/plain": [
       "((13323, 6), (13323, 20))"
      ]
     },
     "execution_count": 35,
     "metadata": {},
     "output_type": "execute_result"
    }
   ],
   "source": [
    "tickets.shape, metrics.shape"
   ]
  },
  {
   "cell_type": "code",
   "execution_count": 36,
   "id": "2f751d88-f409-461d-a9d7-e4ece3608429",
   "metadata": {
    "execution": {
     "iopub.execute_input": "2023-02-05T23:45:22.168114Z",
     "iopub.status.busy": "2023-02-05T23:45:22.167979Z",
     "iopub.status.idle": "2023-02-05T23:45:22.184490Z",
     "shell.execute_reply": "2023-02-05T23:45:22.183845Z",
     "shell.execute_reply.started": "2023-02-05T23:45:22.168104Z"
    },
    "tags": []
   },
   "outputs": [],
   "source": [
    "ticket_data = pd.merge(tickets, \n",
    "                       metrics, \n",
    "                       left_on='id', \n",
    "                       right_on='ticket_id', \n",
    "                        how='left')"
   ]
  },
  {
   "cell_type": "code",
   "execution_count": 37,
   "id": "5a2c4b44-4dd1-4712-91ea-dac13115bd35",
   "metadata": {
    "execution": {
     "iopub.execute_input": "2023-02-05T23:45:22.185598Z",
     "iopub.status.busy": "2023-02-05T23:45:22.185421Z",
     "iopub.status.idle": "2023-02-05T23:45:22.192864Z",
     "shell.execute_reply": "2023-02-05T23:45:22.192312Z",
     "shell.execute_reply.started": "2023-02-05T23:45:22.185585Z"
    }
   },
   "outputs": [
    {
     "data": {
      "text/plain": [
       "(13323, 26)"
      ]
     },
     "execution_count": 37,
     "metadata": {},
     "output_type": "execute_result"
    }
   ],
   "source": [
    "ticket_data.shape"
   ]
  },
  {
   "cell_type": "code",
   "execution_count": null,
   "id": "80d9e136-1d93-4352-b4e9-76a0c7e62f69",
   "metadata": {
    "tags": []
   },
   "outputs": [],
   "source": [
    "ticket_data.head(3)"
   ]
  },
  {
   "cell_type": "code",
   "execution_count": 39,
   "id": "7762b6e5-18fb-4c5d-8b89-57fd979adb0c",
   "metadata": {
    "execution": {
     "iopub.execute_input": "2023-02-05T23:45:22.207500Z",
     "iopub.status.busy": "2023-02-05T23:45:22.207374Z",
     "iopub.status.idle": "2023-02-05T23:45:22.211611Z",
     "shell.execute_reply": "2023-02-05T23:45:22.211073Z",
     "shell.execute_reply.started": "2023-02-05T23:45:22.207490Z"
    }
   },
   "outputs": [
    {
     "data": {
      "text/plain": [
       "id                        int64\n",
       "subject                  object\n",
       "description              object\n",
       "channel                  object\n",
       "sat_score                object\n",
       "sat_comment              object\n",
       "ticket_id                 int64\n",
       "created                  object\n",
       "updtd                    object\n",
       "grp_stations              int64\n",
       "asign_stations            int64\n",
       "reopens                   int64\n",
       "replies                   int64\n",
       "asign_updtd              object\n",
       "reqstr_updtd             object\n",
       "status_updtd             object\n",
       "initially_assigned       object\n",
       "assigned                 object\n",
       "solved                   object\n",
       "latest_comment_added     object\n",
       "reply_mins              float64\n",
       "first_reso_mins           int64\n",
       "full_reso_mins            int64\n",
       "agt_wait_mins             int64\n",
       "reqstr_wait_mins          int64\n",
       "on_hold_mins              int64\n",
       "dtype: object"
      ]
     },
     "execution_count": 39,
     "metadata": {},
     "output_type": "execute_result"
    }
   ],
   "source": [
    "ticket_data.dtypes"
   ]
  },
  {
   "cell_type": "markdown",
   "id": "4593195f-f9a1-48f8-b769-6cc0640bfbd5",
   "metadata": {},
   "source": [
    "### Convert to datetime\n",
    "\n",
    "Convert all the timestamp fields to datetime type"
   ]
  },
  {
   "cell_type": "code",
   "execution_count": 40,
   "id": "8d9b938b-0154-4736-bcb0-71732e41aefa",
   "metadata": {
    "execution": {
     "iopub.execute_input": "2023-02-05T23:45:22.215042Z",
     "iopub.status.busy": "2023-02-05T23:45:22.214730Z",
     "iopub.status.idle": "2023-02-05T23:45:22.220031Z",
     "shell.execute_reply": "2023-02-05T23:45:22.219416Z",
     "shell.execute_reply.started": "2023-02-05T23:45:22.215020Z"
    }
   },
   "outputs": [
    {
     "data": {
      "text/plain": [
       "Index(['id', 'subject', 'description', 'channel', 'sat_score', 'sat_comment',\n",
       "       'ticket_id', 'created', 'updtd', 'grp_stations', 'asign_stations',\n",
       "       'reopens', 'replies', 'asign_updtd', 'reqstr_updtd', 'status_updtd',\n",
       "       'initially_assigned', 'assigned', 'solved', 'latest_comment_added',\n",
       "       'reply_mins', 'first_reso_mins', 'full_reso_mins', 'agt_wait_mins',\n",
       "       'reqstr_wait_mins', 'on_hold_mins'],\n",
       "      dtype='object')"
      ]
     },
     "execution_count": 40,
     "metadata": {},
     "output_type": "execute_result"
    }
   ],
   "source": [
    "ticket_data.columns"
   ]
  },
  {
   "cell_type": "code",
   "execution_count": 41,
   "id": "fed6097c-72c1-42f0-beb9-5e6784bec303",
   "metadata": {
    "execution": {
     "iopub.execute_input": "2023-02-05T23:45:22.230195Z",
     "iopub.status.busy": "2023-02-05T23:45:22.229729Z",
     "iopub.status.idle": "2023-02-05T23:45:22.281393Z",
     "shell.execute_reply": "2023-02-05T23:45:22.280884Z",
     "shell.execute_reply.started": "2023-02-05T23:45:22.230183Z"
    }
   },
   "outputs": [],
   "source": [
    "dt_fields = [\n",
    "    'created', \n",
    "    'updtd',\n",
    "    'asign_updtd', \n",
    "    'reqstr_updtd',\n",
    "    'status_updtd', \n",
    "    'initially_assigned', \n",
    "    'assigned', \n",
    "    'solved',\n",
    "    'latest_comment_added'\n",
    "]\n",
    "\n",
    "for dt in dt_fields:\n",
    "    ticket_data[dt] = pd.to_datetime(ticket_data[dt])"
   ]
  },
  {
   "cell_type": "code",
   "execution_count": 42,
   "id": "55d1f2b8-dd6d-44b7-ac93-97c9ba78af34",
   "metadata": {
    "execution": {
     "iopub.execute_input": "2023-02-05T23:45:22.281963Z",
     "iopub.status.busy": "2023-02-05T23:45:22.281863Z",
     "iopub.status.idle": "2023-02-05T23:45:22.286368Z",
     "shell.execute_reply": "2023-02-05T23:45:22.285793Z",
     "shell.execute_reply.started": "2023-02-05T23:45:22.281953Z"
    },
    "tags": []
   },
   "outputs": [
    {
     "data": {
      "text/plain": [
       "id                                    int64\n",
       "subject                              object\n",
       "description                          object\n",
       "channel                              object\n",
       "sat_score                            object\n",
       "sat_comment                          object\n",
       "ticket_id                             int64\n",
       "created                 datetime64[ns, UTC]\n",
       "updtd                   datetime64[ns, UTC]\n",
       "grp_stations                          int64\n",
       "asign_stations                        int64\n",
       "reopens                               int64\n",
       "replies                               int64\n",
       "asign_updtd             datetime64[ns, UTC]\n",
       "reqstr_updtd            datetime64[ns, UTC]\n",
       "status_updtd            datetime64[ns, UTC]\n",
       "initially_assigned      datetime64[ns, UTC]\n",
       "assigned                datetime64[ns, UTC]\n",
       "solved                  datetime64[ns, UTC]\n",
       "latest_comment_added    datetime64[ns, UTC]\n",
       "reply_mins                          float64\n",
       "first_reso_mins                       int64\n",
       "full_reso_mins                        int64\n",
       "agt_wait_mins                         int64\n",
       "reqstr_wait_mins                      int64\n",
       "on_hold_mins                          int64\n",
       "dtype: object"
      ]
     },
     "execution_count": 42,
     "metadata": {},
     "output_type": "execute_result"
    }
   ],
   "source": [
    "ticket_data.dtypes"
   ]
  },
  {
   "cell_type": "markdown",
   "id": "c5c3d1c0-a768-4851-af43-52a17277b911",
   "metadata": {},
   "source": [
    "### Clean Description Field\n",
    "\n",
    "Before moving to EDA, I'll clean the description field with the following:\n",
    "* Remove Newline Characters\n",
    "* Remove URLs\n",
    "* Remove Emails\n",
    "* Remove Extra Spaces"
   ]
  },
  {
   "cell_type": "markdown",
   "id": "0f213dc5-dbab-41ac-823c-dfa2979e2e1c",
   "metadata": {},
   "source": [
    "#### Remove Newline Characters"
   ]
  },
  {
   "cell_type": "code",
   "execution_count": 43,
   "id": "d7a7b834-18a3-4c22-8597-f360f6139be1",
   "metadata": {
    "execution": {
     "iopub.execute_input": "2023-02-05T23:45:22.287632Z",
     "iopub.status.busy": "2023-02-05T23:45:22.287496Z",
     "iopub.status.idle": "2023-02-05T23:45:22.302379Z",
     "shell.execute_reply": "2023-02-05T23:45:22.301952Z",
     "shell.execute_reply.started": "2023-02-05T23:45:22.287621Z"
    }
   },
   "outputs": [],
   "source": [
    "ticket_data['description'] = \\\n",
    "ticket_data['description'].str.replace('\\n', ' ', regex=True)"
   ]
  },
  {
   "cell_type": "markdown",
   "id": "e8acfeca-fdef-439e-aeee-50be48ec1eb7",
   "metadata": {},
   "source": [
    "#### URLs\n",
    "In order to be able to remove URLs effectively, I think they should be removed before additional processing.   "
   ]
  },
  {
   "cell_type": "code",
   "execution_count": 44,
   "id": "4cb1171d-d30c-40b3-9f49-7638da519d7a",
   "metadata": {
    "execution": {
     "iopub.execute_input": "2023-02-05T23:45:22.303326Z",
     "iopub.status.busy": "2023-02-05T23:45:22.303177Z",
     "iopub.status.idle": "2023-02-05T23:45:22.331022Z",
     "shell.execute_reply": "2023-02-05T23:45:22.330239Z",
     "shell.execute_reply.started": "2023-02-05T23:45:22.303313Z"
    },
    "tags": []
   },
   "outputs": [
    {
     "data": {
      "text/plain": [
       "3242"
      ]
     },
     "execution_count": 44,
     "metadata": {},
     "output_type": "execute_result"
    }
   ],
   "source": [
    "# found URL regex at : https://urlregex.com\n",
    "url_p = 'http[s]?://(?:[a-zA-Z]|[0-9]|[$-_@.&+]|[!*\\(\\),]|(?:%[0-9a-fA-F][0-9a-fA-F]))+'\n",
    "\n",
    "# check to see if any matches in the text\n",
    "ticket_data['description'].str.contains(url_p).sum()"
   ]
  },
  {
   "cell_type": "markdown",
   "id": "317b5b0a-1a96-46ad-87fc-93bdbddcfda1",
   "metadata": {},
   "source": [
    "Since that pattern seemed to identify some URLs in the text, I will remove them"
   ]
  },
  {
   "cell_type": "code",
   "execution_count": 45,
   "id": "ad78e315-187d-498f-b42b-3a24c59c4d50",
   "metadata": {
    "execution": {
     "iopub.execute_input": "2023-02-05T23:45:22.331808Z",
     "iopub.status.busy": "2023-02-05T23:45:22.331691Z",
     "iopub.status.idle": "2023-02-05T23:45:22.401140Z",
     "shell.execute_reply": "2023-02-05T23:45:22.400580Z",
     "shell.execute_reply.started": "2023-02-05T23:45:22.331797Z"
    },
    "tags": []
   },
   "outputs": [],
   "source": [
    "ticket_data['description'] = \\\n",
    "ticket_data['description'].str.replace(url_p, '', regex=True)"
   ]
  },
  {
   "cell_type": "code",
   "execution_count": 46,
   "id": "b81c847c-d039-4a2d-8d80-d47a79daea3d",
   "metadata": {
    "execution": {
     "iopub.execute_input": "2023-02-05T23:45:22.402063Z",
     "iopub.status.busy": "2023-02-05T23:45:22.401932Z",
     "iopub.status.idle": "2023-02-05T23:45:22.420241Z",
     "shell.execute_reply": "2023-02-05T23:45:22.419554Z",
     "shell.execute_reply.started": "2023-02-05T23:45:22.402052Z"
    },
    "tags": []
   },
   "outputs": [
    {
     "data": {
      "text/plain": [
       "0"
      ]
     },
     "execution_count": 46,
     "metadata": {},
     "output_type": "execute_result"
    }
   ],
   "source": [
    "# check that worked\n",
    "ticket_data['description'].str.contains(url_p).sum()"
   ]
  },
  {
   "cell_type": "markdown",
   "id": "f4ec781d-7cd8-4520-9a6d-c4e3518dc262",
   "metadata": {},
   "source": [
    "#### Emails\n",
    "Email addresses will also be removed for privacy concerns."
   ]
  },
  {
   "cell_type": "code",
   "execution_count": 47,
   "id": "e30a915c-2095-4fdd-8d5c-1f40dadf761f",
   "metadata": {
    "execution": {
     "iopub.execute_input": "2023-02-05T23:45:22.421243Z",
     "iopub.status.busy": "2023-02-05T23:45:22.421106Z",
     "iopub.status.idle": "2023-02-05T23:45:22.735619Z",
     "shell.execute_reply": "2023-02-05T23:45:22.733584Z",
     "shell.execute_reply.started": "2023-02-05T23:45:22.421233Z"
    },
    "tags": []
   },
   "outputs": [
    {
     "data": {
      "text/plain": [
       "3479"
      ]
     },
     "execution_count": 47,
     "metadata": {},
     "output_type": "execute_result"
    }
   ],
   "source": [
    "# found email regex at : https://stackoverflow.com/questions/44027943/python-regex-to-remove-emails-from-string\n",
    "email_p = '\\S*@\\S*\\s?'\n",
    "\n",
    "# check to see if any matches in the text\n",
    "ticket_data['description'].str.contains(email_p).sum()"
   ]
  },
  {
   "cell_type": "markdown",
   "id": "207e09b6-887c-4e5b-9df8-095f48dcedba",
   "metadata": {},
   "source": [
    "Since that pattern seemed to identify many email address in the text, I will remove them."
   ]
  },
  {
   "cell_type": "code",
   "execution_count": 48,
   "id": "31ba804d-e559-423b-a01c-dcfd85c4abdb",
   "metadata": {
    "execution": {
     "iopub.execute_input": "2023-02-05T23:45:22.736387Z",
     "iopub.status.busy": "2023-02-05T23:45:22.736242Z",
     "iopub.status.idle": "2023-02-05T23:45:23.332521Z",
     "shell.execute_reply": "2023-02-05T23:45:23.332000Z",
     "shell.execute_reply.started": "2023-02-05T23:45:22.736376Z"
    },
    "tags": []
   },
   "outputs": [],
   "source": [
    "ticket_data['description'] = \\\n",
    "ticket_data['description'].str.replace(email_p, '', regex=True)"
   ]
  },
  {
   "cell_type": "code",
   "execution_count": 49,
   "id": "a80994d8-0bc0-4191-b7fe-d0e72292a86c",
   "metadata": {
    "execution": {
     "iopub.execute_input": "2023-02-05T23:45:23.333215Z",
     "iopub.status.busy": "2023-02-05T23:45:23.333083Z",
     "iopub.status.idle": "2023-02-05T23:45:23.900410Z",
     "shell.execute_reply": "2023-02-05T23:45:23.899838Z",
     "shell.execute_reply.started": "2023-02-05T23:45:23.333203Z"
    },
    "tags": []
   },
   "outputs": [
    {
     "data": {
      "text/plain": [
       "0"
      ]
     },
     "execution_count": 49,
     "metadata": {},
     "output_type": "execute_result"
    }
   ],
   "source": [
    "# check that worked\n",
    "ticket_data['description'].str.contains(email_p).sum()"
   ]
  },
  {
   "cell_type": "markdown",
   "id": "0dd2fe12-5021-4f2a-b0d0-8212acde3247",
   "metadata": {},
   "source": [
    "#### Extra Spaces\n",
    "Remove all extra spaces from the text before combining posts text data."
   ]
  },
  {
   "cell_type": "code",
   "execution_count": 50,
   "id": "855e5c24-4b6c-4637-8122-be3870746fa4",
   "metadata": {
    "execution": {
     "iopub.execute_input": "2023-02-05T23:45:23.902095Z",
     "iopub.status.busy": "2023-02-05T23:45:23.901255Z",
     "iopub.status.idle": "2023-02-05T23:45:23.929875Z",
     "shell.execute_reply": "2023-02-05T23:45:23.929269Z",
     "shell.execute_reply.started": "2023-02-05T23:45:23.902067Z"
    },
    "tags": []
   },
   "outputs": [
    {
     "data": {
      "text/plain": [
       "11385"
      ]
     },
     "execution_count": 50,
     "metadata": {},
     "output_type": "execute_result"
    }
   ],
   "source": [
    "# check for extra spaces\n",
    "ticket_data['description'].str.contains('\\s\\s+').sum()"
   ]
  },
  {
   "cell_type": "code",
   "execution_count": 51,
   "id": "14288651-6091-4e37-b1bb-9f8a864cbabb",
   "metadata": {
    "execution": {
     "iopub.execute_input": "2023-02-05T23:45:23.930539Z",
     "iopub.status.busy": "2023-02-05T23:45:23.930413Z",
     "iopub.status.idle": "2023-02-05T23:45:24.088368Z",
     "shell.execute_reply": "2023-02-05T23:45:24.088002Z",
     "shell.execute_reply.started": "2023-02-05T23:45:23.930529Z"
    },
    "tags": []
   },
   "outputs": [],
   "source": [
    "ticket_data['description'] = \\\n",
    "ticket_data['description'].str.replace('\\s\\s+', ' ', regex=True)"
   ]
  },
  {
   "cell_type": "code",
   "execution_count": 52,
   "id": "faf7e629-37d8-404e-a5d0-a9f82ad458a1",
   "metadata": {
    "execution": {
     "iopub.execute_input": "2023-02-05T23:45:24.089213Z",
     "iopub.status.busy": "2023-02-05T23:45:24.089097Z",
     "iopub.status.idle": "2023-02-05T23:45:24.206198Z",
     "shell.execute_reply": "2023-02-05T23:45:24.205529Z",
     "shell.execute_reply.started": "2023-02-05T23:45:24.089204Z"
    },
    "tags": []
   },
   "outputs": [
    {
     "data": {
      "text/plain": [
       "0"
      ]
     },
     "execution_count": 52,
     "metadata": {},
     "output_type": "execute_result"
    }
   ],
   "source": [
    "# check for extra spaces\n",
    "ticket_data['description'].str.contains('\\s\\s+').sum()"
   ]
  },
  {
   "cell_type": "markdown",
   "id": "b02c5a85-2de8-4200-b057-1ffbda9c01e9",
   "metadata": {},
   "source": [
    "#### Encoded Characters\n",
    "\n",
    "Again, like URLs, we will want to process any encoded characters, specifically, I spotted some of the HTML encoded characters, so we'll tackle those first and can come back and change this later if we need to."
   ]
  },
  {
   "cell_type": "code",
   "execution_count": 53,
   "id": "feda8019-68ec-4983-9229-3bcdb46a11b1",
   "metadata": {
    "execution": {
     "iopub.execute_input": "2023-02-05T23:45:24.207248Z",
     "iopub.status.busy": "2023-02-05T23:45:24.206881Z",
     "iopub.status.idle": "2023-02-05T23:45:24.222837Z",
     "shell.execute_reply": "2023-02-05T23:45:24.221175Z",
     "shell.execute_reply.started": "2023-02-05T23:45:24.207232Z"
    },
    "tags": []
   },
   "outputs": [],
   "source": [
    "# get rid of html escape characters\n",
    "ticket_data['description'] = ticket_data['description'].apply(unescape)"
   ]
  },
  {
   "cell_type": "code",
   "execution_count": null,
   "id": "293cc824-95e0-4bb1-9f9c-61af4bb2c030",
   "metadata": {
    "tags": []
   },
   "outputs": [],
   "source": [
    "ticket_data.head(3)"
   ]
  },
  {
   "cell_type": "markdown",
   "id": "2e029885-c5eb-4e1a-a9e1-feaee3609233",
   "metadata": {},
   "source": [
    "## Comments Cleaning\n",
    "\n",
    "This section will focus on cleaning the comment data.  The main purpose of the comment data will be to use some NLP sentiment analysis so that, eventually, the comments sentiment can be added to the `ticket_data` as another feature before modeling.  So this cleaning will be NLP focused, but also, since sentiment and possibly context is important, there might be a lighter touch with removing certain elements.\n",
    "\n",
    "This data is a different shape as one ticket will have multiple comments, as a comment is defined by a post/reply by a customer, or by a support agent. Each comment has its own entry in this dataframe.\n",
    "\n",
    "|Name|\tType|\tRead-only|\tMandatory|\tDescription|\n",
    "|:--|:--|:--|:--|:--|\n",
    "|audit_id|\tinteger|\ttrue|\tfalse|\tThe id of the ticket audit record. See Show Audit|\n",
    "|author_id|\tinteger|\tfalse|\tfalse|\tThe id of the comment author. See Author id|\n",
    "|body|\tstring|\tfalse|\tfalse|\tThe comment string. See Bodies|\n",
    "|created_at|\tstring|\ttrue|\tfalse|\tThe time the comment was created|\n",
    "|html_body|\tstring|\tfalse|\tfalse|\tThe comment formatted as HTML. See Bodies|\n",
    "|id|\tinteger|\ttrue|\tfalse|\tAutomatically assigned when the comment is created|\n",
    "|plain_body|\tstring|\ttrue|\tfalse|\tThe comment as plain text. See Bodies|\n",
    "|public|\tboolean|\tfalse|\tfalse|\ttrue if a public comment; false if an internal note. The initial value set on ticket creation persists for any additional comment unless you change it|\n",
    "|type|\tstring|\ttrue|\tfalse|\tComment or VoiceComment.|\n",
    "|channel|string|n/a|n/a| Extracted from a nested JSON object during data collection.  Indicates channel ticket was created with.|\n",
    "|ticket_id|integer|n/a|n/a| Ticket ID for comment - extracted during data collection.|\n",
    "\n",
    "\n",
    "[source](https://developer.zendesk.com/api-reference/ticketing/tickets/ticket_comments/#json-format)"
   ]
  },
  {
   "cell_type": "code",
   "execution_count": 55,
   "id": "7601b85e-41dc-44fd-bd46-f74478a92f6d",
   "metadata": {
    "execution": {
     "iopub.execute_input": "2023-02-05T23:45:24.244513Z",
     "iopub.status.busy": "2023-02-05T23:45:24.244333Z",
     "iopub.status.idle": "2023-02-05T23:45:24.250655Z",
     "shell.execute_reply": "2023-02-05T23:45:24.250127Z",
     "shell.execute_reply.started": "2023-02-05T23:45:24.244502Z"
    }
   },
   "outputs": [
    {
     "data": {
      "text/plain": [
       "Index(['id', 'type', 'author_id', 'body', 'html_body', 'plain_body', 'public',\n",
       "       'audit_id', 'created_at', 'channel', 'ticket_id'],\n",
       "      dtype='object')"
      ]
     },
     "execution_count": 55,
     "metadata": {},
     "output_type": "execute_result"
    }
   ],
   "source": [
    "comments.columns"
   ]
  },
  {
   "cell_type": "code",
   "execution_count": 56,
   "id": "7b961b60-3e01-475f-bf44-22c4cbf6d319",
   "metadata": {
    "execution": {
     "iopub.execute_input": "2023-02-05T23:45:24.256871Z",
     "iopub.status.busy": "2023-02-05T23:45:24.256395Z",
     "iopub.status.idle": "2023-02-05T23:45:24.450767Z",
     "shell.execute_reply": "2023-02-05T23:45:24.450228Z",
     "shell.execute_reply.started": "2023-02-05T23:45:24.256843Z"
    }
   },
   "outputs": [
    {
     "data": {
      "text/plain": [
       "plain_body    1\n",
       "dtype: int64"
      ]
     },
     "execution_count": 56,
     "metadata": {},
     "output_type": "execute_result"
    }
   ],
   "source": [
    "comments.isna().sum()[comments.isna().sum() > 0]"
   ]
  },
  {
   "cell_type": "code",
   "execution_count": 57,
   "id": "337766e7-1540-4cf7-a692-d1948b3fd4da",
   "metadata": {
    "execution": {
     "iopub.execute_input": "2023-02-05T23:45:24.451529Z",
     "iopub.status.busy": "2023-02-05T23:45:24.451367Z",
     "iopub.status.idle": "2023-02-05T23:45:24.526068Z",
     "shell.execute_reply": "2023-02-05T23:45:24.525655Z",
     "shell.execute_reply.started": "2023-02-05T23:45:24.451508Z"
    }
   },
   "outputs": [],
   "source": [
    "comments = comments.dropna()"
   ]
  },
  {
   "cell_type": "code",
   "execution_count": 58,
   "id": "3925c7d2-7b36-40fa-9518-6ebb0f571555",
   "metadata": {
    "execution": {
     "iopub.execute_input": "2023-02-05T23:45:24.526941Z",
     "iopub.status.busy": "2023-02-05T23:45:24.526838Z",
     "iopub.status.idle": "2023-02-05T23:45:24.657133Z",
     "shell.execute_reply": "2023-02-05T23:45:24.656712Z",
     "shell.execute_reply.started": "2023-02-05T23:45:24.526931Z"
    }
   },
   "outputs": [
    {
     "data": {
      "text/plain": [
       "Series([], dtype: int64)"
      ]
     },
     "execution_count": 58,
     "metadata": {},
     "output_type": "execute_result"
    }
   ],
   "source": [
    "comments.isna().sum()[comments.isna().sum() > 0]"
   ]
  },
  {
   "cell_type": "markdown",
   "id": "ee84d3a8-617b-4958-964c-e570b658f079",
   "metadata": {},
   "source": [
    "### Drop Columns\n",
    "From the description and the intended use of this data, means we can drop the following columns:\n",
    "* `audit_id`\n",
    "* `id`\n",
    "* `type` (voice is not in use, so all will be comments)\n",
    "* `html_body`\n",
    "\n",
    "Although the remaining columns may not all be used for modeling, they may be interesting for EDA, so will leave them in for now."
   ]
  },
  {
   "cell_type": "code",
   "execution_count": 59,
   "id": "948236f2-b315-434e-aef0-d0f357d7a6a7",
   "metadata": {
    "execution": {
     "iopub.execute_input": "2023-02-05T23:45:24.657810Z",
     "iopub.status.busy": "2023-02-05T23:45:24.657698Z",
     "iopub.status.idle": "2023-02-05T23:45:24.691500Z",
     "shell.execute_reply": "2023-02-05T23:45:24.690752Z",
     "shell.execute_reply.started": "2023-02-05T23:45:24.657799Z"
    },
    "tags": []
   },
   "outputs": [],
   "source": [
    "comments.drop(columns=['audit_id',\n",
    "                       'id',\n",
    "                       'type',\n",
    "                       'html_body'],\n",
    "              inplace=True)"
   ]
  },
  {
   "cell_type": "markdown",
   "id": "417d7186-1810-459d-ac16-257f41ced107",
   "metadata": {},
   "source": [
    "### Body Columns\n",
    "\n",
    "In trying to choose between the `body` and `plain_body`, there is some information in the [API documentation](https://developer.zendesk.com/api-reference/ticketing/tickets/ticket_comments/#bodies):\n",
    "\n",
    "Three types of bodies are supported: plain_body, body, and html_body. html_body is the least sanitized option; plain_body is the most sanitized. Text input in body defaults to plain_body if there's an error in sanitizing.\n",
    "* Markdown formatting is supported in body but not in html_body. \n",
    "* You can include ticket placeholders in the body or html_body. \n",
    "\n",
    "When the request is processed, the placeholder is replaced by a value if one is available. If the placeholder is not supported (example, {{fake}}), the placeholder is stripped out.\n",
    "\n",
    "**Body size limits**\n",
    "* Ticket comment bodies are limited to 64kB. Any characters exceeding this limit are truncated. No error is reported.\n",
    "\n",
    "Since HTML and special formatting will not help, the `body` column will be dropped in favor of the `plain_body` columns"
   ]
  },
  {
   "cell_type": "code",
   "execution_count": 60,
   "id": "06e352fa-b094-4201-83e4-cb15cfed3cf0",
   "metadata": {
    "execution": {
     "iopub.execute_input": "2023-02-05T23:45:24.692355Z",
     "iopub.status.busy": "2023-02-05T23:45:24.692231Z",
     "iopub.status.idle": "2023-02-05T23:45:24.714983Z",
     "shell.execute_reply": "2023-02-05T23:45:24.714552Z",
     "shell.execute_reply.started": "2023-02-05T23:45:24.692344Z"
    }
   },
   "outputs": [],
   "source": [
    "comments.drop(columns=['body'], inplace=True)"
   ]
  },
  {
   "cell_type": "code",
   "execution_count": null,
   "id": "b579b092-a586-47c9-8962-095ddfebc27b",
   "metadata": {
    "tags": []
   },
   "outputs": [],
   "source": [
    "comments.head(3)"
   ]
  },
  {
   "cell_type": "markdown",
   "id": "577b9e45-3a4d-40fe-b199-e30515bb194e",
   "metadata": {},
   "source": [
    "### Body Cleaning\n",
    "\n",
    "From what I've seen in the body so far, There are some elements that should be cleaned up:\n",
    "\n",
    "* `\\n` newline characters\n",
    "* URLs\n",
    "* unescape encoded characters\n",
    "* extra spaces\n",
    "\n",
    "After that, I'll sample some of the body texts and see what else might need to be considered for this cleaning.\n",
    "\n",
    "VADER sentiment analysis will likely be used, and in reading the documentation further, there are provisions for case sensitivity, punctuation including emojis, and more, so I will NOT be normalizing case or removing punctuation.\n",
    "\n",
    "After cleaning, during EDA, there may be additional items identified that will be added to this list, but this should be a good starting point.\n",
    "\n",
    "> NOTE Some sampling was used throughout the steps below to check text to identify any concerns and see how various operations worked. That code is commented out to make the notebook more digestible."
   ]
  },
  {
   "cell_type": "markdown",
   "id": "f2d6ef6d-6cd4-4265-957b-d7c75fb3d07d",
   "metadata": {},
   "source": [
    "#### Remove Newline Characters"
   ]
  },
  {
   "cell_type": "code",
   "execution_count": 62,
   "id": "0dd1b0d9-d7b1-42e6-a09f-2d18eb169a7b",
   "metadata": {
    "execution": {
     "iopub.execute_input": "2023-02-05T23:45:24.723979Z",
     "iopub.status.busy": "2023-02-05T23:45:24.723845Z",
     "iopub.status.idle": "2023-02-05T23:45:24.802201Z",
     "shell.execute_reply": "2023-02-05T23:45:24.801513Z",
     "shell.execute_reply.started": "2023-02-05T23:45:24.723968Z"
    },
    "tags": []
   },
   "outputs": [],
   "source": [
    "comments['plain_body'] = comments['plain_body'\n",
    "                                 ].str.replace('\\n', ' ', regex=True)"
   ]
  },
  {
   "cell_type": "markdown",
   "id": "619b45ae-0509-4529-bf12-875cd597f907",
   "metadata": {},
   "source": [
    "#### Unicode Characters\n",
    "\n",
    "After going through all the steps below, it was noted in a later step in EDA, that some there was a prevalence of `\\xa0` in the text, which appear to be unicode break character.  So will try and deal with those at this point and then run through the remainder of the cleaning steps."
   ]
  },
  {
   "cell_type": "code",
   "execution_count": 63,
   "id": "98ac05a0-6425-4b74-946a-3ddfa6286ff1",
   "metadata": {
    "execution": {
     "iopub.execute_input": "2023-02-05T23:45:24.802897Z",
     "iopub.status.busy": "2023-02-05T23:45:24.802778Z",
     "iopub.status.idle": "2023-02-05T23:45:24.872877Z",
     "shell.execute_reply": "2023-02-05T23:45:24.872390Z",
     "shell.execute_reply.started": "2023-02-05T23:45:24.802886Z"
    },
    "tags": []
   },
   "outputs": [],
   "source": [
    "comments['plain_body'] = comments['plain_body'\n",
    "                                 ].str.replace('\\\\xa0', ' ', regex=True)"
   ]
  },
  {
   "cell_type": "markdown",
   "id": "eb2992dd-71af-4273-ba16-0123baa57c48",
   "metadata": {},
   "source": [
    "#### URLs\n",
    "In order to be able to remove URLs effectively, I think they should be removed before additional processing.   "
   ]
  },
  {
   "cell_type": "code",
   "execution_count": 64,
   "id": "ce573f5e-cf07-49ae-b4bd-68c132925595",
   "metadata": {
    "execution": {
     "iopub.execute_input": "2023-02-05T23:45:24.873686Z",
     "iopub.status.busy": "2023-02-05T23:45:24.873549Z",
     "iopub.status.idle": "2023-02-05T23:45:25.002182Z",
     "shell.execute_reply": "2023-02-05T23:45:25.001577Z",
     "shell.execute_reply.started": "2023-02-05T23:45:24.873673Z"
    },
    "tags": []
   },
   "outputs": [
    {
     "data": {
      "text/plain": [
       "26460"
      ]
     },
     "execution_count": 64,
     "metadata": {},
     "output_type": "execute_result"
    }
   ],
   "source": [
    "# found URL regex at : https://urlregex.com\n",
    "url_p = 'http[s]?://(?:[a-zA-Z]|[0-9]|[$-_@.&+]|[!*\\(\\),]|(?:%[0-9a-fA-F][0-9a-fA-F]))+'\n",
    "\n",
    "# check to see if any matches in the text\n",
    "comments['plain_body'].str.contains(url_p).sum()"
   ]
  },
  {
   "cell_type": "markdown",
   "id": "0fd7ef80-b011-4854-bcfc-79f57a0d22fa",
   "metadata": {},
   "source": [
    "Since that pattern seemed to identify some URLs in the text, I will remove them"
   ]
  },
  {
   "cell_type": "code",
   "execution_count": 65,
   "id": "0f622a4c-7982-46a6-ae14-325f6be00bd7",
   "metadata": {
    "execution": {
     "iopub.execute_input": "2023-02-05T23:45:25.005095Z",
     "iopub.status.busy": "2023-02-05T23:45:25.004800Z",
     "iopub.status.idle": "2023-02-05T23:45:25.254709Z",
     "shell.execute_reply": "2023-02-05T23:45:25.254156Z",
     "shell.execute_reply.started": "2023-02-05T23:45:25.005082Z"
    },
    "tags": []
   },
   "outputs": [],
   "source": [
    "comments['plain_body'] = \\\n",
    "comments['plain_body'].str.replace(url_p, '', regex=True)"
   ]
  },
  {
   "cell_type": "code",
   "execution_count": 66,
   "id": "3f7d128a-6883-49f7-989e-9d779c1cbbde",
   "metadata": {
    "execution": {
     "iopub.execute_input": "2023-02-05T23:45:25.255407Z",
     "iopub.status.busy": "2023-02-05T23:45:25.255290Z",
     "iopub.status.idle": "2023-02-05T23:45:25.330783Z",
     "shell.execute_reply": "2023-02-05T23:45:25.330178Z",
     "shell.execute_reply.started": "2023-02-05T23:45:25.255397Z"
    },
    "tags": []
   },
   "outputs": [
    {
     "data": {
      "text/plain": [
       "0"
      ]
     },
     "execution_count": 66,
     "metadata": {},
     "output_type": "execute_result"
    }
   ],
   "source": [
    "# check that worked\n",
    "comments['plain_body'].str.contains(url_p).sum()"
   ]
  },
  {
   "cell_type": "markdown",
   "id": "8a3b5ff2-3be2-4933-96ac-ab5a9e3a07b2",
   "metadata": {},
   "source": [
    "#### Emails\n",
    "Email addresses will also be removed for privacy concerns."
   ]
  },
  {
   "cell_type": "code",
   "execution_count": 67,
   "id": "95c49bf5-0d3f-4750-9a8c-f6edcb918eeb",
   "metadata": {
    "execution": {
     "iopub.execute_input": "2023-02-05T23:45:25.334401Z",
     "iopub.status.busy": "2023-02-05T23:45:25.331679Z",
     "iopub.status.idle": "2023-02-05T23:45:27.341335Z",
     "shell.execute_reply": "2023-02-05T23:45:27.340855Z",
     "shell.execute_reply.started": "2023-02-05T23:45:25.334367Z"
    },
    "tags": []
   },
   "outputs": [
    {
     "data": {
      "text/plain": [
       "28932"
      ]
     },
     "execution_count": 67,
     "metadata": {},
     "output_type": "execute_result"
    }
   ],
   "source": [
    "# found email regex at : https://stackoverflow.com/questions/44027943/python-regex-to-remove-emails-from-string\n",
    "email_p = '\\S*@\\S*\\s?'\n",
    "\n",
    "# check to see if any matches in the text\n",
    "comments['plain_body'].str.contains(email_p).sum()"
   ]
  },
  {
   "cell_type": "markdown",
   "id": "42fa5ff8-66a8-49c8-9b89-f5de8fb99a29",
   "metadata": {},
   "source": [
    "Since that pattern seemed to identify many email address in the text, I will remove them."
   ]
  },
  {
   "cell_type": "code",
   "execution_count": 68,
   "id": "b1ef19d7-bd68-4a57-a29e-10034bab26e1",
   "metadata": {
    "execution": {
     "iopub.execute_input": "2023-02-05T23:45:27.342165Z",
     "iopub.status.busy": "2023-02-05T23:45:27.341931Z",
     "iopub.status.idle": "2023-02-05T23:45:30.273704Z",
     "shell.execute_reply": "2023-02-05T23:45:30.273005Z",
     "shell.execute_reply.started": "2023-02-05T23:45:27.342146Z"
    },
    "tags": []
   },
   "outputs": [],
   "source": [
    "comments['plain_body'] = \\\n",
    "comments['plain_body'].str.replace(email_p, '', regex=True)"
   ]
  },
  {
   "cell_type": "code",
   "execution_count": 69,
   "id": "fdea6fdb-0c8b-407b-9a48-2a36bbab423f",
   "metadata": {
    "execution": {
     "iopub.execute_input": "2023-02-05T23:45:30.277268Z",
     "iopub.status.busy": "2023-02-05T23:45:30.277070Z",
     "iopub.status.idle": "2023-02-05T23:45:32.654460Z",
     "shell.execute_reply": "2023-02-05T23:45:32.654132Z",
     "shell.execute_reply.started": "2023-02-05T23:45:30.277252Z"
    },
    "tags": []
   },
   "outputs": [
    {
     "data": {
      "text/plain": [
       "0"
      ]
     },
     "execution_count": 69,
     "metadata": {},
     "output_type": "execute_result"
    }
   ],
   "source": [
    "# check that worked\n",
    "comments['plain_body'].str.contains(email_p).sum()"
   ]
  },
  {
   "cell_type": "markdown",
   "id": "ae1032bb-afdc-4e73-aa23-2502b1843e8f",
   "metadata": {},
   "source": [
    "#### Extra Spaces\n",
    "Remove all extra spaces from the text before combining posts text data."
   ]
  },
  {
   "cell_type": "code",
   "execution_count": 70,
   "id": "f76168ac-3f4e-497c-8287-c85c4095f50d",
   "metadata": {
    "execution": {
     "iopub.execute_input": "2023-02-05T23:45:32.655148Z",
     "iopub.status.busy": "2023-02-05T23:45:32.655017Z",
     "iopub.status.idle": "2023-02-05T23:45:32.755469Z",
     "shell.execute_reply": "2023-02-05T23:45:32.755171Z",
     "shell.execute_reply.started": "2023-02-05T23:45:32.655138Z"
    },
    "tags": []
   },
   "outputs": [
    {
     "data": {
      "text/plain": [
       "74778"
      ]
     },
     "execution_count": 70,
     "metadata": {},
     "output_type": "execute_result"
    }
   ],
   "source": [
    "# check for extra spaces\n",
    "comments['plain_body'].str.contains('\\s\\s+').sum()"
   ]
  },
  {
   "cell_type": "code",
   "execution_count": 71,
   "id": "2d5bcc68-1165-4d8e-a4b1-1ac21037f8f9",
   "metadata": {
    "execution": {
     "iopub.execute_input": "2023-02-05T23:45:32.756012Z",
     "iopub.status.busy": "2023-02-05T23:45:32.755922Z",
     "iopub.status.idle": "2023-02-05T23:45:33.339695Z",
     "shell.execute_reply": "2023-02-05T23:45:33.339291Z",
     "shell.execute_reply.started": "2023-02-05T23:45:32.756003Z"
    },
    "tags": []
   },
   "outputs": [],
   "source": [
    "comments['plain_body'] = comments['plain_body'].str.replace('\\s\\s+', ' ', regex=True)"
   ]
  },
  {
   "cell_type": "code",
   "execution_count": 72,
   "id": "52db95a3-0d98-405e-bb7b-d1711a6edb97",
   "metadata": {
    "execution": {
     "iopub.execute_input": "2023-02-05T23:45:33.340429Z",
     "iopub.status.busy": "2023-02-05T23:45:33.340331Z",
     "iopub.status.idle": "2023-02-05T23:45:33.786713Z",
     "shell.execute_reply": "2023-02-05T23:45:33.786433Z",
     "shell.execute_reply.started": "2023-02-05T23:45:33.340419Z"
    },
    "tags": []
   },
   "outputs": [
    {
     "data": {
      "text/plain": [
       "0"
      ]
     },
     "execution_count": 72,
     "metadata": {},
     "output_type": "execute_result"
    }
   ],
   "source": [
    "# check for extra spaces\n",
    "comments['plain_body'].str.contains('\\s\\s+').sum()"
   ]
  },
  {
   "cell_type": "code",
   "execution_count": 73,
   "id": "a12b9a9c-caae-4d4e-afe8-a85fb4cdedb2",
   "metadata": {
    "execution": {
     "iopub.execute_input": "2023-02-05T23:45:33.787373Z",
     "iopub.status.busy": "2023-02-05T23:45:33.787264Z",
     "iopub.status.idle": "2023-02-05T23:45:33.789545Z",
     "shell.execute_reply": "2023-02-05T23:45:33.789125Z",
     "shell.execute_reply.started": "2023-02-05T23:45:33.787363Z"
    },
    "tags": []
   },
   "outputs": [],
   "source": [
    "# comments[['plain_body']].sample(15)"
   ]
  },
  {
   "cell_type": "markdown",
   "id": "e10d15d1-c202-4422-9665-f497acce63ee",
   "metadata": {},
   "source": [
    "#### Encoded Characters\n",
    "\n",
    "Again, like URLs, we will want to process any encoded characters, specifically, I spotted some of the HTML encoded characters, so we'll tackle those first and can come back and change this later if we need to."
   ]
  },
  {
   "cell_type": "code",
   "execution_count": 74,
   "id": "759898b4-caac-4bf6-947a-d08cecc64183",
   "metadata": {
    "execution": {
     "iopub.execute_input": "2023-02-05T23:45:33.790113Z",
     "iopub.status.busy": "2023-02-05T23:45:33.789996Z",
     "iopub.status.idle": "2023-02-05T23:45:33.980781Z",
     "shell.execute_reply": "2023-02-05T23:45:33.980365Z",
     "shell.execute_reply.started": "2023-02-05T23:45:33.790104Z"
    },
    "tags": []
   },
   "outputs": [],
   "source": [
    "# get rid of html escape characters\n",
    "comments['plain_body'] = comments['plain_body'].apply(unescape)"
   ]
  },
  {
   "cell_type": "code",
   "execution_count": null,
   "id": "47455073-9fd0-4f66-b36f-bc2510590baa",
   "metadata": {
    "tags": []
   },
   "outputs": [],
   "source": [
    "comments[['plain_body']].sample(5)"
   ]
  },
  {
   "cell_type": "markdown",
   "id": "28d87b1e-e4c9-4582-8c65-69837b3d382f",
   "metadata": {},
   "source": [
    "Sampling Observations\n",
    "\n",
    "When I went through and ran the sample cell multiple times, I just wanted to note some of the things that I observed that may be worth cleaning:\n",
    "* phone numbers (US and international)\n",
    "* websites without the protocol\n",
    "* mailing/street addresses (US and international)\n",
    "* names\n",
    "* product and company specific terminology\n",
    "\n",
    "Given some of the notes on the VADER sentiment analysis, I think I'm going to leave this as-is for now.  I may want to revisit this if the sentiment analysis isn't yielding good results, or some other issues arise."
   ]
  },
  {
   "cell_type": "markdown",
   "id": "9828c60a-afe9-42f6-980a-1494c3c6e7d2",
   "metadata": {},
   "source": [
    "### Sentiment Analysis\n",
    "\n",
    "Here the sentiment score for each comment will be determined and then that information will be added to the `ticket_data` as another feature."
   ]
  },
  {
   "cell_type": "code",
   "execution_count": 76,
   "id": "324cb2d4-a74d-4853-b771-cf3c42ffb231",
   "metadata": {
    "execution": {
     "iopub.execute_input": "2023-02-05T23:45:33.992957Z",
     "iopub.status.busy": "2023-02-05T23:45:33.992854Z",
     "iopub.status.idle": "2023-02-05T23:45:34.002922Z",
     "shell.execute_reply": "2023-02-05T23:45:34.002557Z",
     "shell.execute_reply.started": "2023-02-05T23:45:33.992946Z"
    },
    "tags": []
   },
   "outputs": [],
   "source": [
    "# instantiate SentimentIntensity Analyzer\n",
    "sia = SentimentIntensityAnalyzer()"
   ]
  },
  {
   "cell_type": "code",
   "execution_count": 77,
   "id": "732e1bf5-14cd-4931-8bbf-6d66588eb580",
   "metadata": {
    "execution": {
     "iopub.execute_input": "2023-02-05T23:45:34.003486Z",
     "iopub.status.busy": "2023-02-05T23:45:34.003385Z",
     "iopub.status.idle": "2023-02-05T23:46:14.978396Z",
     "shell.execute_reply": "2023-02-05T23:46:14.977827Z",
     "shell.execute_reply.started": "2023-02-05T23:45:34.003476Z"
    },
    "tags": []
   },
   "outputs": [],
   "source": [
    "comments['sent_score'] = (\n",
    "    comments['plain_body']\n",
    "    .apply(lambda x: sia.polarity_scores(x).get('compound'))\n",
    ")"
   ]
  },
  {
   "cell_type": "code",
   "execution_count": null,
   "id": "a90bfad4-85ee-40a0-957f-5b7101412a2b",
   "metadata": {
    "tags": []
   },
   "outputs": [],
   "source": [
    "comments.head(3)"
   ]
  },
  {
   "cell_type": "code",
   "execution_count": 79,
   "id": "c57612f7-eac5-4e43-88d6-f74e4e50cec7",
   "metadata": {
    "execution": {
     "iopub.execute_input": "2023-02-05T23:46:15.012050Z",
     "iopub.status.busy": "2023-02-05T23:46:15.010844Z",
     "iopub.status.idle": "2023-02-05T23:46:15.040861Z",
     "shell.execute_reply": "2023-02-05T23:46:15.040302Z",
     "shell.execute_reply.started": "2023-02-05T23:46:15.012030Z"
    },
    "tags": []
   },
   "outputs": [
    {
     "data": {
      "text/plain": [
       "count    85691.000000\n",
       "mean         0.461137\n",
       "std          0.451708\n",
       "min         -1.000000\n",
       "25%          0.077200\n",
       "50%          0.600700\n",
       "75%          0.840500\n",
       "max          0.999900\n",
       "Name: sent_score, dtype: float64"
      ]
     },
     "execution_count": 79,
     "metadata": {},
     "output_type": "execute_result"
    }
   ],
   "source": [
    "comments['sent_score'].describe()"
   ]
  },
  {
   "cell_type": "code",
   "execution_count": 80,
   "id": "920c3feb-6845-460e-b388-4d824b47b643",
   "metadata": {
    "execution": {
     "iopub.execute_input": "2023-02-05T23:46:15.042269Z",
     "iopub.status.busy": "2023-02-05T23:46:15.042118Z",
     "iopub.status.idle": "2023-02-05T23:46:15.466809Z",
     "shell.execute_reply": "2023-02-05T23:46:15.466244Z",
     "shell.execute_reply.started": "2023-02-05T23:46:15.042256Z"
    },
    "tags": []
   },
   "outputs": [
    {
     "data": {
      "image/png": "[encoded data removed]",
      "text/plain": [
       "<Figure size 584.875x500 with 1 Axes>"
      ]
     },
     "metadata": {},
     "output_type": "display_data"
    }
   ],
   "source": [
    "sns.displot(data=comments,\n",
    "            x='sent_score',\n",
    "            palette=['orange','purple'],\n",
    "            alpha=0.6,\n",
    "            hue='public').set(title='Distribution of Comments by Sentiment',\n",
    "                              xlabel='Compound Sentiment Score');"
   ]
  },
  {
   "cell_type": "markdown",
   "id": "cfe272fd-34da-4dad-abc2-a3c1e06fb998",
   "metadata": {},
   "source": [
    "Trying to check how much the public vs. private sentiment may differ.  Comments that are not public are entered by employees.  Since those private comments do not make it to the customer, it is unlikely that they would have a big impact, especially since it looks like the highest concentration of scores for private comments are neutral.\n",
    "\n",
    "Since we haven't done EDA yet, I'm going to opt to create features for:\n",
    "* public sentiment\n",
    "* private sentiment\n",
    "* combined sentiment\n",
    "\n",
    "These will be investigated further in EDA and determined if they might be valuable to include in modeling."
   ]
  },
  {
   "cell_type": "code",
   "execution_count": 81,
   "id": "24555412-901b-4e86-b845-380f22e821c0",
   "metadata": {
    "execution": {
     "iopub.execute_input": "2023-02-05T23:46:15.467935Z",
     "iopub.status.busy": "2023-02-05T23:46:15.467760Z",
     "iopub.status.idle": "2023-02-05T23:46:15.477507Z",
     "shell.execute_reply": "2023-02-05T23:46:15.476921Z",
     "shell.execute_reply.started": "2023-02-05T23:46:15.467924Z"
    },
    "tags": []
   },
   "outputs": [
    {
     "data": {
      "text/plain": [
       "True     0.932117\n",
       "False    0.067883\n",
       "Name: public, dtype: float64"
      ]
     },
     "execution_count": 81,
     "metadata": {},
     "output_type": "execute_result"
    }
   ],
   "source": [
    "comments['public'].value_counts(normalize=True)"
   ]
  },
  {
   "cell_type": "markdown",
   "id": "d168efc8-a27e-4473-a161-928fdcc6a425",
   "metadata": {},
   "source": [
    "After seeing how the distribution changed after combining the scores compared to how when they were all summarized by ticket, and seeing how few of the comments are private (6.8%), it now seems that leaving the score on the ticket as single value is the approach I want to take, so I'll create the scores data based off of averaging all the sentiment scores from all the comments on a ticket in order before merging this information back to the `ticket_data`."
   ]
  },
  {
   "cell_type": "code",
   "execution_count": 82,
   "id": "d976f5b1-40c0-4b23-8760-4c59f091dd87",
   "metadata": {
    "execution": {
     "iopub.execute_input": "2023-02-05T23:46:15.479090Z",
     "iopub.status.busy": "2023-02-05T23:46:15.478789Z",
     "iopub.status.idle": "2023-02-05T23:46:15.490990Z",
     "shell.execute_reply": "2023-02-05T23:46:15.486751Z",
     "shell.execute_reply.started": "2023-02-05T23:46:15.479076Z"
    },
    "tags": []
   },
   "outputs": [],
   "source": [
    "# group by ticket in order to roll up the mean sentiment scores by comment type\n",
    "# unstack to get private and public separate\n",
    "scores = pd.DataFrame(\n",
    "    comments.groupby(['ticket_id'])\n",
    "    .agg({\n",
    "        'sent_score': 'mean',\n",
    "        'public': 'count'\n",
    "    })\n",
    "    .rename(columns={'public': 'num_comms'})\n",
    ")"
   ]
  },
  {
   "cell_type": "code",
   "execution_count": 83,
   "id": "acd36644-e3c4-4246-aea7-6bab36ae3ad2",
   "metadata": {
    "execution": {
     "iopub.execute_input": "2023-02-05T23:46:15.492048Z",
     "iopub.status.busy": "2023-02-05T23:46:15.491861Z",
     "iopub.status.idle": "2023-02-05T23:46:15.497291Z",
     "shell.execute_reply": "2023-02-05T23:46:15.496720Z",
     "shell.execute_reply.started": "2023-02-05T23:46:15.492034Z"
    },
    "tags": []
   },
   "outputs": [
    {
     "data": {
      "text/html": [
       "<div>\n",
       "<style scoped>\n",
       "    .dataframe tbody tr th:only-of-type {\n",
       "        vertical-align: middle;\n",
       "    }\n",
       "\n",
       "    .dataframe tbody tr th {\n",
       "        vertical-align: top;\n",
       "    }\n",
       "\n",
       "    .dataframe thead th {\n",
       "        text-align: right;\n",
       "    }\n",
       "</style>\n",
       "<table border=\"1\" class=\"dataframe\">\n",
       "  <thead>\n",
       "    <tr style=\"text-align: right;\">\n",
       "      <th></th>\n",
       "      <th>sent_score</th>\n",
       "      <th>num_comms</th>\n",
       "    </tr>\n",
       "    <tr>\n",
       "      <th>ticket_id</th>\n",
       "      <th></th>\n",
       "      <th></th>\n",
       "    </tr>\n",
       "  </thead>\n",
       "  <tbody>\n",
       "    <tr>\n",
       "      <th>43363</th>\n",
       "      <td>0.121767</td>\n",
       "      <td>6</td>\n",
       "    </tr>\n",
       "    <tr>\n",
       "      <th>43742</th>\n",
       "      <td>0.510884</td>\n",
       "      <td>25</td>\n",
       "    </tr>\n",
       "    <tr>\n",
       "      <th>43907</th>\n",
       "      <td>0.171736</td>\n",
       "      <td>25</td>\n",
       "    </tr>\n",
       "    <tr>\n",
       "      <th>46481</th>\n",
       "      <td>0.433131</td>\n",
       "      <td>13</td>\n",
       "    </tr>\n",
       "    <tr>\n",
       "      <th>47041</th>\n",
       "      <td>0.590213</td>\n",
       "      <td>8</td>\n",
       "    </tr>\n",
       "  </tbody>\n",
       "</table>\n",
       "</div>"
      ],
      "text/plain": [
       "           sent_score  num_comms\n",
       "ticket_id                       \n",
       "43363        0.121767          6\n",
       "43742        0.510884         25\n",
       "43907        0.171736         25\n",
       "46481        0.433131         13\n",
       "47041        0.590213          8"
      ]
     },
     "execution_count": 83,
     "metadata": {},
     "output_type": "execute_result"
    }
   ],
   "source": [
    "scores.head()"
   ]
  },
  {
   "cell_type": "markdown",
   "id": "ae6ee250-cce8-42ad-8cb4-cffc6f17a84c",
   "metadata": {},
   "source": [
    "## Merge and Export\n",
    "\n",
    "Merge the sentiment scores for each ticket with the `ticket_data` before exporting.  I export the ticket_data which is the main set of data for this project, but also the comments data so EDA can be performed on both."
   ]
  },
  {
   "cell_type": "code",
   "execution_count": 84,
   "id": "084cc829-ed8c-45a3-a0e7-23020dc09f5c",
   "metadata": {
    "execution": {
     "iopub.execute_input": "2023-02-05T23:46:15.498430Z",
     "iopub.status.busy": "2023-02-05T23:46:15.498171Z",
     "iopub.status.idle": "2023-02-05T23:46:15.514504Z",
     "shell.execute_reply": "2023-02-05T23:46:15.514049Z",
     "shell.execute_reply.started": "2023-02-05T23:46:15.498408Z"
    },
    "tags": []
   },
   "outputs": [],
   "source": [
    "ticket_data = ticket_data.merge(scores, \n",
    "                                how='left',\n",
    "                                left_on='id',\n",
    "                                right_on='ticket_id')"
   ]
  },
  {
   "cell_type": "code",
   "execution_count": null,
   "id": "e16a2697-3c54-46bc-9e6c-7e6ea6fa35b7",
   "metadata": {
    "tags": []
   },
   "outputs": [],
   "source": [
    "ticket_data.head(3)"
   ]
  },
  {
   "cell_type": "code",
   "execution_count": 86,
   "id": "87bb467c-6a3a-4898-883c-d3dda29e9345",
   "metadata": {
    "execution": {
     "iopub.execute_input": "2023-02-05T23:46:15.530988Z",
     "iopub.status.busy": "2023-02-05T23:46:15.530797Z",
     "iopub.status.idle": "2023-02-05T23:46:15.556920Z",
     "shell.execute_reply": "2023-02-05T23:46:15.556570Z",
     "shell.execute_reply.started": "2023-02-05T23:46:15.530967Z"
    },
    "tags": []
   },
   "outputs": [
    {
     "data": {
      "text/plain": [
       "sat_comment    9035\n",
       "dtype: int64"
      ]
     },
     "execution_count": 86,
     "metadata": {},
     "output_type": "execute_result"
    }
   ],
   "source": [
    "ticket_data.isna().sum()[ticket_data.isna().sum() > 0]"
   ]
  },
  {
   "cell_type": "code",
   "execution_count": 87,
   "id": "74651845-e157-451f-a242-06ad58558d35",
   "metadata": {
    "execution": {
     "iopub.execute_input": "2023-02-05T23:46:15.558086Z",
     "iopub.status.busy": "2023-02-05T23:46:15.557810Z",
     "iopub.status.idle": "2023-02-05T23:46:15.710757Z",
     "shell.execute_reply": "2023-02-05T23:46:15.710263Z",
     "shell.execute_reply.started": "2023-02-05T23:46:15.558075Z"
    },
    "tags": []
   },
   "outputs": [],
   "source": [
    "# export as pickle to preserve datetime types, etc.\n",
    "ticket_data.to_pickle('../data/ticket_data_clean.pkl')\n",
    "comments.to_pickle('../data/comments_clean.pkl')"
   ]
  }
 ],
 "metadata": {
  "kernelspec": {
   "display_name": "Python 3 (ipykernel)",
   "language": "python",
   "name": "python3"
  },
  "language_info": {
   "codemirror_mode": {
    "name": "ipython",
    "version": 3
   },
   "file_extension": ".py",
   "mimetype": "text/x-python",
   "name": "python",
   "nbconvert_exporter": "python",
   "pygments_lexer": "ipython3",
   "version": "3.9.15"
  }
 },
 "nbformat": 4,
 "nbformat_minor": 5
}
