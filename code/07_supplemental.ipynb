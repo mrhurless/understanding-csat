{
 "cells": [
  {
   "cell_type": "markdown",
   "id": "0b74c109-4d59-4ec2-833a-8def18feb06d",
   "metadata": {},
   "source": [
    "# Supplemental\n",
    "\n",
    "This notebook will hold more of the ad-hoc elements that occurred from the non-linear, iterative approach that occurred during this project.  It is laid out in sections, but there could be references between various notebooks, pieces of information, and results as some of these items were happening in parallel.  But I wanted to capture this information as a reference to the process that was performed, and is provided 'as-is'.\n",
    "\n",
    "## **NOTE: This notebook is not mean to be run**"
   ]
  },
  {
   "cell_type": "code",
   "execution_count": null,
   "id": "cd776ac7-ec99-4312-9dd6-23fcbbc7c218",
   "metadata": {},
   "outputs": [],
   "source": [
    "break this to save the data below"
   ]
  },
  {
   "cell_type": "code",
   "execution_count": 105,
   "id": "76d169f3-69bb-48c5-b55d-5c0805c582ff",
   "metadata": {
    "execution": {
     "iopub.execute_input": "2023-02-01T00:26:12.276601Z",
     "iopub.status.busy": "2023-02-01T00:26:12.276086Z",
     "iopub.status.idle": "2023-02-01T00:26:19.782354Z",
     "shell.execute_reply": "2023-02-01T00:26:19.781973Z",
     "shell.execute_reply.started": "2023-02-01T00:26:12.276574Z"
    },
    "tags": []
   },
   "outputs": [
    {
     "data": {
      "text/plain": [
       "0.8452802945529363"
      ]
     },
     "execution_count": 105,
     "metadata": {},
     "output_type": "execute_result"
    }
   ],
   "source": [
    "# Default Random Forest Section\n",
    "# Cross Val Scores\n",
    "\n",
    "# univariate k=10 0.8432162405586082\n",
    "# univariate features only: 0.8295174072016502\n",
    "# after 0.8460311597845791\n",
    "# before dropping on_hold_mins 0.8452802945529363\n",
    "#cross_val_score(rf, X_train, y_train).mean()"
   ]
  },
  {
   "cell_type": "code",
   "execution_count": 106,
   "id": "7d032f9d-4fa9-4717-af8d-7b363f83038e",
   "metadata": {
    "execution": {
     "iopub.execute_input": "2023-02-01T00:26:26.975330Z",
     "iopub.status.busy": "2023-02-01T00:26:26.974597Z",
     "iopub.status.idle": "2023-02-01T00:26:27.157900Z",
     "shell.execute_reply": "2023-02-01T00:26:27.157453Z",
     "shell.execute_reply.started": "2023-02-01T00:26:26.975294Z"
    },
    "tags": []
   },
   "outputs": [
    {
     "data": {
      "text/plain": [
       "(0.99981234753237, 0.8480300187617261)"
      ]
     },
     "execution_count": 106,
     "metadata": {},
     "output_type": "execute_result"
    }
   ],
   "source": [
    "# Default Random Forest Section\n",
    "# model scores rf.score Train, test\n",
    "\n",
    "# univariate k=10             (0.9997185212985551, 0.8435272045028143)\n",
    "# univariate features only    (0.988647025708388, 0.8341463414634146)\n",
    "# after dropping on_hold_mins (0.9999061737661851, 0.8472795497185741)\n",
    "# before dropping on_hold_mins (0.99981234753237, 0.8480300187617261)\n",
    "# rf.score(X_train, y_train), rf.score(X_test, y_test)"
   ]
  },
  {
   "cell_type": "markdown",
   "id": "f2f934b6-73cf-4cb2-a20c-a75fe8480350",
   "metadata": {
    "tags": []
   },
   "source": [
    "## Imbalanced Class Investigation\n",
    "\n",
    "After the first pass through modeling, it appears that the model isn't having much predictive power.  There could be a number of factors, such as class imbalance, lack of data, or features that don't explain the target.  To try and understand which issue that may be causing the lack of predictive power, I will try and re-work the data so that the class is balanced and see how the model performs at that point.  That will give me some information as to which issue or area I should focus on.  "
   ]
  },
  {
   "cell_type": "markdown",
   "id": "d4c6da0f-7f6a-49fa-8501-bfb0a05575fc",
   "metadata": {},
   "source": [
    "### Manual Sampling\n",
    "\n",
    "Before reaching to an approach like SMOTE, run through some early tests by undersampling the majority class to create various balances and see how a model would perform, or if I could find some clues as to if the model was truly just suffereing from class imbalance, or if something else was going on. "
   ]
  },
  {
   "cell_type": "code",
   "execution_count": 488,
   "id": "071c1b4b-287f-43c9-b302-b72305e456c7",
   "metadata": {
    "execution": {
     "iopub.execute_input": "2023-02-01T07:53:55.736576Z",
     "iopub.status.busy": "2023-02-01T07:53:55.734984Z",
     "iopub.status.idle": "2023-02-01T07:53:55.752963Z",
     "shell.execute_reply": "2023-02-01T07:53:55.752327Z",
     "shell.execute_reply.started": "2023-02-01T07:53:55.736482Z"
    },
    "tags": []
   },
   "outputs": [
    {
     "data": {
      "text/plain": [
       "1    2800\n",
       "0    1200\n",
       "Name: sat_score, dtype: int64"
      ]
     },
     "execution_count": 488,
     "metadata": {},
     "output_type": "execute_result"
    }
   ],
   "source": [
    "# manual resample with real data\n",
    "# the sample amounts were changed to create 50/50, 60/40, or 70/30 balances \n",
    "# and the affects of those changes were noted\n",
    "\n",
    "# randomly sample majority class ticket data\n",
    "good = (\n",
    "    tickets\n",
    "    [tickets['sat_score'] == 1]\n",
    "    .sample(2800)\n",
    ")\n",
    "\n",
    "# randomly sample minority class ticket data\n",
    "bad = (\n",
    "    tickets\n",
    "    [tickets['sat_score'] == 0]\n",
    "    .sample(1200)\n",
    ")\n",
    "\n",
    "# reassemble to a single data frame\n",
    "df = pd.concat([good, bad])\n",
    "df['sat_score'].value_counts()"
   ]
  },
  {
   "cell_type": "markdown",
   "id": "7d9cb05e-0c0d-4e92-8d49-5cc07308a2c3",
   "metadata": {},
   "source": [
    "#### Train/Test Split"
   ]
  },
  {
   "cell_type": "code",
   "execution_count": 489,
   "id": "adfa9bc0-f63e-42d3-94b9-c835cac78a6b",
   "metadata": {
    "execution": {
     "iopub.execute_input": "2023-02-01T07:53:57.249350Z",
     "iopub.status.busy": "2023-02-01T07:53:57.248603Z",
     "iopub.status.idle": "2023-02-01T07:53:57.262400Z",
     "shell.execute_reply": "2023-02-01T07:53:57.260988Z",
     "shell.execute_reply.started": "2023-02-01T07:53:57.249301Z"
    },
    "tags": []
   },
   "outputs": [],
   "source": [
    "X = df.drop(columns=['sat_score'])\n",
    "y = df['sat_score']"
   ]
  },
  {
   "cell_type": "code",
   "execution_count": 491,
   "id": "f97a0106-5f83-4476-bfa5-3ba2970f8050",
   "metadata": {
    "execution": {
     "iopub.execute_input": "2023-02-01T07:53:59.469936Z",
     "iopub.status.busy": "2023-02-01T07:53:59.469154Z",
     "iopub.status.idle": "2023-02-01T07:53:59.486158Z",
     "shell.execute_reply": "2023-02-01T07:53:59.485259Z",
     "shell.execute_reply.started": "2023-02-01T07:53:59.469880Z"
    },
    "tags": []
   },
   "outputs": [],
   "source": [
    "X_train, X_test, y_train, y_test = train_test_split(X, y, \n",
    "                                                   test_size=0.2,\n",
    "                                                   stratify=y,\n",
    "                                                   random_state=415)"
   ]
  },
  {
   "cell_type": "markdown",
   "id": "1b6a489c-1ff5-460d-8a7d-202eb9448f76",
   "metadata": {},
   "source": [
    "#### Check Shape and Class Breakdown"
   ]
  },
  {
   "cell_type": "code",
   "execution_count": 492,
   "id": "af4c4672-a98d-453d-95c6-d50c1c26a928",
   "metadata": {
    "execution": {
     "iopub.execute_input": "2023-02-01T07:53:59.759627Z",
     "iopub.status.busy": "2023-02-01T07:53:59.758956Z",
     "iopub.status.idle": "2023-02-01T07:53:59.771923Z",
     "shell.execute_reply": "2023-02-01T07:53:59.770734Z",
     "shell.execute_reply.started": "2023-02-01T07:53:59.759581Z"
    },
    "tags": []
   },
   "outputs": [
    {
     "data": {
      "text/plain": [
       "((3200, 10), (800, 10), (3200,), (800,))"
      ]
     },
     "execution_count": 492,
     "metadata": {},
     "output_type": "execute_result"
    }
   ],
   "source": [
    "X_train.shape, X_test.shape, y_train.shape, y_test.shape"
   ]
  },
  {
   "cell_type": "code",
   "execution_count": 493,
   "id": "b46db1bd-a86e-4de9-9b6b-ff5fd1ab311d",
   "metadata": {
    "execution": {
     "iopub.execute_input": "2023-02-01T07:54:00.233540Z",
     "iopub.status.busy": "2023-02-01T07:54:00.232789Z",
     "iopub.status.idle": "2023-02-01T07:54:00.250060Z",
     "shell.execute_reply": "2023-02-01T07:54:00.249326Z",
     "shell.execute_reply.started": "2023-02-01T07:54:00.233489Z"
    },
    "tags": []
   },
   "outputs": [
    {
     "data": {
      "text/plain": [
       "(1    0.7\n",
       " 0    0.3\n",
       " Name: sat_score, dtype: float64,\n",
       " 1    0.7\n",
       " 0    0.3\n",
       " Name: sat_score, dtype: float64)"
      ]
     },
     "execution_count": 493,
     "metadata": {},
     "output_type": "execute_result"
    }
   ],
   "source": [
    "y_train.value_counts(normalize=True), y_test.value_counts(normalize=True)"
   ]
  },
  {
   "cell_type": "markdown",
   "id": "29a03107-efcd-4267-b061-25b804f83f9a",
   "metadata": {},
   "source": [
    "#### Run and Evaluate Model"
   ]
  },
  {
   "cell_type": "markdown",
   "id": "d2f70354-9e8f-4a37-92b7-5d169e996d93",
   "metadata": {},
   "source": [
    "Since I dropped the channel feature for this exercise, all the remaining features should be numerical and can be modeled.  I will try the random forest model with the parameters from the first gridsearch to see how that works with this data."
   ]
  },
  {
   "cell_type": "code",
   "execution_count": 343,
   "id": "7aeb8391-c344-4285-a82a-5545a8dc6495",
   "metadata": {
    "execution": {
     "iopub.execute_input": "2023-02-01T06:18:21.521843Z",
     "iopub.status.busy": "2023-02-01T06:18:21.521439Z",
     "iopub.status.idle": "2023-02-01T06:18:21.530238Z",
     "shell.execute_reply": "2023-02-01T06:18:21.529547Z",
     "shell.execute_reply.started": "2023-02-01T06:18:21.521815Z"
    },
    "tags": []
   },
   "outputs": [],
   "source": [
    "# {'rf__bootstrap': True,\n",
    "#  'rf__criterion': 'entropy',\n",
    "#  'rf__max_depth': 15,\n",
    "#  'rf__max_features': 3,\n",
    "#  'rf__min_samples_leaf': 6,\n",
    "#  'rf__n_estimators': 25,\n",
    "#  'rf__warm_start': True}\n",
    "\n",
    "# changing to below params from 50/50 GS\n",
    "# {'rf__bootstrap': True,\n",
    "#  'rf__criterion': 'entropy',\n",
    "#  'rf__max_depth': 20,\n",
    "#  'rf__max_features': 20,\n",
    "#  'rf__min_samples_leaf': 10,\n",
    "#  'rf__n_estimators': 25,\n",
    "#  'rf__warm_start': True}\n",
    "\n",
    "# params from 9 hour GS on full data:\n",
    "# {'rf__bootstrap': True,\n",
    "#  'rf__criterion': 'gini',\n",
    "#  'rf__max_depth': 95,\n",
    "#  'rf__max_features': 4,\n",
    "#  'rf__min_samples_leaf': 5,\n",
    "#  'rf__n_estimators': 175,\n",
    "#  'rf__warm_start': True}\n",
    "\n",
    "rf_downsample = RandomForestClassifier(\n",
    "    bootstrap=True,\n",
    "    criterion='gini',\n",
    "    max_depth=95,\n",
    "    max_features=4,\n",
    "    min_samples_leaf=5,\n",
    "    n_estimators=175,\n",
    "    warm_start=True\n",
    ")"
   ]
  },
  {
   "cell_type": "code",
   "execution_count": 344,
   "id": "cdb25f1b-7560-444a-a725-e30030dc40ac",
   "metadata": {
    "execution": {
     "iopub.execute_input": "2023-02-01T06:18:24.394856Z",
     "iopub.status.busy": "2023-02-01T06:18:24.394435Z",
     "iopub.status.idle": "2023-02-01T06:18:24.938873Z",
     "shell.execute_reply": "2023-02-01T06:18:24.938552Z",
     "shell.execute_reply.started": "2023-02-01T06:18:24.394829Z"
    },
    "tags": []
   },
   "outputs": [
    {
     "data": {
      "text/html": [
       "<style>#sk-container-id-29 {color: black;background-color: white;}#sk-container-id-29 pre{padding: 0;}#sk-container-id-29 div.sk-toggleable {background-color: white;}#sk-container-id-29 label.sk-toggleable__label {cursor: pointer;display: block;width: 100%;margin-bottom: 0;padding: 0.3em;box-sizing: border-box;text-align: center;}#sk-container-id-29 label.sk-toggleable__label-arrow:before {content: \"▸\";float: left;margin-right: 0.25em;color: #696969;}#sk-container-id-29 label.sk-toggleable__label-arrow:hover:before {color: black;}#sk-container-id-29 div.sk-estimator:hover label.sk-toggleable__label-arrow:before {color: black;}#sk-container-id-29 div.sk-toggleable__content {max-height: 0;max-width: 0;overflow: hidden;text-align: left;background-color: #f0f8ff;}#sk-container-id-29 div.sk-toggleable__content pre {margin: 0.2em;color: black;border-radius: 0.25em;background-color: #f0f8ff;}#sk-container-id-29 input.sk-toggleable__control:checked~div.sk-toggleable__content {max-height: 200px;max-width: 100%;overflow: auto;}#sk-container-id-29 input.sk-toggleable__control:checked~label.sk-toggleable__label-arrow:before {content: \"▾\";}#sk-container-id-29 div.sk-estimator input.sk-toggleable__control:checked~label.sk-toggleable__label {background-color: #d4ebff;}#sk-container-id-29 div.sk-label input.sk-toggleable__control:checked~label.sk-toggleable__label {background-color: #d4ebff;}#sk-container-id-29 input.sk-hidden--visually {border: 0;clip: rect(1px 1px 1px 1px);clip: rect(1px, 1px, 1px, 1px);height: 1px;margin: -1px;overflow: hidden;padding: 0;position: absolute;width: 1px;}#sk-container-id-29 div.sk-estimator {font-family: monospace;background-color: #f0f8ff;border: 1px dotted black;border-radius: 0.25em;box-sizing: border-box;margin-bottom: 0.5em;}#sk-container-id-29 div.sk-estimator:hover {background-color: #d4ebff;}#sk-container-id-29 div.sk-parallel-item::after {content: \"\";width: 100%;border-bottom: 1px solid gray;flex-grow: 1;}#sk-container-id-29 div.sk-label:hover label.sk-toggleable__label {background-color: #d4ebff;}#sk-container-id-29 div.sk-serial::before {content: \"\";position: absolute;border-left: 1px solid gray;box-sizing: border-box;top: 0;bottom: 0;left: 50%;z-index: 0;}#sk-container-id-29 div.sk-serial {display: flex;flex-direction: column;align-items: center;background-color: white;padding-right: 0.2em;padding-left: 0.2em;position: relative;}#sk-container-id-29 div.sk-item {position: relative;z-index: 1;}#sk-container-id-29 div.sk-parallel {display: flex;align-items: stretch;justify-content: center;background-color: white;position: relative;}#sk-container-id-29 div.sk-item::before, #sk-container-id-29 div.sk-parallel-item::before {content: \"\";position: absolute;border-left: 1px solid gray;box-sizing: border-box;top: 0;bottom: 0;left: 50%;z-index: -1;}#sk-container-id-29 div.sk-parallel-item {display: flex;flex-direction: column;z-index: 1;position: relative;background-color: white;}#sk-container-id-29 div.sk-parallel-item:first-child::after {align-self: flex-end;width: 50%;}#sk-container-id-29 div.sk-parallel-item:last-child::after {align-self: flex-start;width: 50%;}#sk-container-id-29 div.sk-parallel-item:only-child::after {width: 0;}#sk-container-id-29 div.sk-dashed-wrapped {border: 1px dashed gray;margin: 0 0.4em 0.5em 0.4em;box-sizing: border-box;padding-bottom: 0.4em;background-color: white;}#sk-container-id-29 div.sk-label label {font-family: monospace;font-weight: bold;display: inline-block;line-height: 1.2em;}#sk-container-id-29 div.sk-label-container {text-align: center;}#sk-container-id-29 div.sk-container {/* jupyter's `normalize.less` sets `[hidden] { display: none; }` but bootstrap.min.css set `[hidden] { display: none !important; }` so we also need the `!important` here to be able to override the default hidden behavior on the sphinx rendered scikit-learn.org. See: https://github.com/scikit-learn/scikit-learn/issues/21755 */display: inline-block !important;position: relative;}#sk-container-id-29 div.sk-text-repr-fallback {display: none;}</style><div id=\"sk-container-id-29\" class=\"sk-top-container\"><div class=\"sk-text-repr-fallback\"><pre>RandomForestClassifier(max_depth=95, max_features=4, min_samples_leaf=5,\n",
       "                       n_estimators=175, warm_start=True)</pre><b>In a Jupyter environment, please rerun this cell to show the HTML representation or trust the notebook. <br />On GitHub, the HTML representation is unable to render, please try loading this page with nbviewer.org.</b></div><div class=\"sk-container\" hidden><div class=\"sk-item\"><div class=\"sk-estimator sk-toggleable\"><input class=\"sk-toggleable__control sk-hidden--visually\" id=\"sk-estimator-id-29\" type=\"checkbox\" checked><label for=\"sk-estimator-id-29\" class=\"sk-toggleable__label sk-toggleable__label-arrow\">RandomForestClassifier</label><div class=\"sk-toggleable__content\"><pre>RandomForestClassifier(max_depth=95, max_features=4, min_samples_leaf=5,\n",
       "                       n_estimators=175, warm_start=True)</pre></div></div></div></div></div>"
      ],
      "text/plain": [
       "RandomForestClassifier(max_depth=95, max_features=4, min_samples_leaf=5,\n",
       "                       n_estimators=175, warm_start=True)"
      ]
     },
     "execution_count": 344,
     "metadata": {},
     "output_type": "execute_result"
    }
   ],
   "source": [
    "rf_downsample.fit(X_train, y_train)"
   ]
  },
  {
   "cell_type": "code",
   "execution_count": 345,
   "id": "7c733f4d-8bb4-4c78-acde-2b43c61f01ff",
   "metadata": {
    "execution": {
     "iopub.execute_input": "2023-02-01T06:18:30.164618Z",
     "iopub.status.busy": "2023-02-01T06:18:30.164018Z",
     "iopub.status.idle": "2023-02-01T06:18:30.233899Z",
     "shell.execute_reply": "2023-02-01T06:18:30.233576Z",
     "shell.execute_reply.started": "2023-02-01T06:18:30.164587Z"
    },
    "tags": []
   },
   "outputs": [
    {
     "data": {
      "text/plain": [
       "(0.8848958333333333, 0.55625)"
      ]
     },
     "execution_count": 345,
     "metadata": {},
     "output_type": "execute_result"
    }
   ],
   "source": [
    "rf_downsample.score(X_train, y_train), rf_downsample.score(X_test, y_test)\n",
    "\n",
    "# before additional feature engineering: (0.88125, 0.6)\n",
    "# after (added reply and comment rates) (0.85, 0.6025)\n",
    "# 60/40 manual resample after feat eng: (0.855, 0.648)\n",
    "# 50/50 univariate k=4 feats only: (0.8848958333333333, 0.55625)"
   ]
  },
  {
   "cell_type": "code",
   "execution_count": 346,
   "id": "49416a7e-7e38-49e9-8fd2-9a886aa7f14f",
   "metadata": {
    "execution": {
     "iopub.execute_input": "2023-02-01T06:18:59.978031Z",
     "iopub.status.busy": "2023-02-01T06:18:59.977605Z",
     "iopub.status.idle": "2023-02-01T06:19:00.034626Z",
     "shell.execute_reply": "2023-02-01T06:19:00.034225Z",
     "shell.execute_reply.started": "2023-02-01T06:18:59.978007Z"
    },
    "tags": []
   },
   "outputs": [
    {
     "name": "stdout",
     "output_type": "stream",
     "text": [
      "              precision    recall  f1-score   support\n",
      "\n",
      "           0       0.56      0.57      0.56       240\n",
      "           1       0.56      0.55      0.55       240\n",
      "\n",
      "    accuracy                           0.56       480\n",
      "   macro avg       0.56      0.56      0.56       480\n",
      "weighted avg       0.56      0.56      0.56       480\n",
      "\n"
     ]
    }
   ],
   "source": [
    "print(classification_report(y_test, \n",
    "                            rf_downsample.predict(X_test)\n",
    "                           ))\n",
    "\n",
    "# univariate k=4 feats only\n",
    "#               precision    recall  f1-score   support\n",
    "\n",
    "#            0       0.56      0.57      0.56       240\n",
    "#            1       0.56      0.55      0.55       240\n",
    "\n",
    "#     accuracy                           0.56       480\n",
    "#    macro avg       0.56      0.56      0.56       480\n",
    "# weighted avg       0.56      0.56      0.56       480\n",
    "\n"
   ]
  },
  {
   "cell_type": "code",
   "execution_count": 177,
   "id": "ffab8115-8cf6-49bf-8a9a-877fa442f31e",
   "metadata": {
    "execution": {
     "iopub.execute_input": "2023-02-01T00:47:46.538017Z",
     "iopub.status.busy": "2023-02-01T00:47:46.537538Z",
     "iopub.status.idle": "2023-02-01T00:47:46.658008Z",
     "shell.execute_reply": "2023-02-01T00:47:46.657694Z",
     "shell.execute_reply.started": "2023-02-01T00:47:46.537991Z"
    },
    "tags": []
   },
   "outputs": [
    {
     "data": {
      "image/png": "[encoded data removed]",
      "text/plain": [
       "<Figure size 640x480 with 2 Axes>"
      ]
     },
     "metadata": {},
     "output_type": "display_data"
    }
   ],
   "source": [
    "# from 50/50 undersampled data using params from original gridsearch\n",
    "ConfusionMatrixDisplay.from_estimator(rf_downsample, X_test, y_test,\n",
    "                                     cmap='Purples');"
   ]
  },
  {
   "cell_type": "markdown",
   "id": "928fa9b4-ffcc-4c23-85f4-185827c4181c",
   "metadata": {},
   "source": [
    "Using a 50/50 split between the classes, and just the parameters from the gridsearch from the imbalanced data test, it does look like there might be some predictive power here.  Trying a quick gridsearch to see how much of a difference that may make."
   ]
  },
  {
   "cell_type": "markdown",
   "id": "7bc18702-420d-47b8-b885-017983523105",
   "metadata": {},
   "source": [
    "#### GridSearch\n",
    "\n",
    "This section represents a slight change in approach.  What you will see in this section are results from some initial feature selection using Univariate Feature Selection, at first somewhat incorrectly by using a k=4 value and only choosing 4 features, then again with k=10 with 10 features.  With this information, the process was:\n",
    "* Manually sample the data (done using code from above)\n",
    "* Run a quick grid search using that data and feature set\n",
    "* Score the model with the sampled data\n",
    "* Print a classification report for that model with the sampled data\n",
    "* Run through identical process again to attempt with a new sample, with the same class balance\n",
    "    * i.e. `50/50 univariate #2` would indicate a second attempt with the same balance"
   ]
  },
  {
   "cell_type": "code",
   "execution_count": 456,
   "id": "ab932e0b-9f83-4283-8c1b-0beb755e354a",
   "metadata": {
    "execution": {
     "iopub.execute_input": "2023-02-01T07:21:28.469056Z",
     "iopub.status.busy": "2023-02-01T07:21:28.467062Z",
     "iopub.status.idle": "2023-02-01T07:21:28.481757Z",
     "shell.execute_reply": "2023-02-01T07:21:28.481228Z",
     "shell.execute_reply.started": "2023-02-01T07:21:28.468954Z"
    },
    "tags": []
   },
   "outputs": [],
   "source": [
    "# configure pipeline\n",
    "rf_pipe = Pipeline([\n",
    "    ('rf', RandomForestClassifier())\n",
    "])\n",
    "\n",
    "# Attempt for class investigation\n",
    "# univariate k=4 (forgot to save previous)\n",
    "# rf_params = {\n",
    "#     'rf__n_estimators': np.arange(25, 200, 15),\n",
    "#     'rf__criterion' : [\"gini\", \"entropy\"],\n",
    "#     'rf__max_depth': np.arange(10, 100, 10),\n",
    "#     'rf__min_samples_leaf': np.arange(5, 11),\n",
    "#     'rf__bootstrap': [True],\n",
    "#     'rf__warm_start': [True],\n",
    "#     'rf__max_features': ['sqrt', 2, 3, 4, 5]\n",
    "# }\n",
    "\n",
    "# univariate k=10\n",
    "rf_params = {\n",
    "    'rf__n_estimators': np.arange(25, 200, 15),\n",
    "    'rf__criterion' : [\"gini\", \"entropy\"],\n",
    "    'rf__max_depth': np.arange(10, 100, 10),\n",
    "    'rf__min_samples_leaf': np.arange(5, 11),\n",
    "    'rf__bootstrap': [True],\n",
    "    'rf__warm_start': [True],\n",
    "    'rf__max_features': ['sqrt', 3, 5, 7, 9]\n",
    "}"
   ]
  },
  {
   "cell_type": "code",
   "execution_count": 457,
   "id": "fe1dfaad-6e3b-4102-856b-e967fe29f8c8",
   "metadata": {
    "execution": {
     "iopub.execute_input": "2023-02-01T07:21:46.808270Z",
     "iopub.status.busy": "2023-02-01T07:21:46.807639Z",
     "iopub.status.idle": "2023-02-01T07:39:56.702851Z",
     "shell.execute_reply": "2023-02-01T07:39:56.702371Z",
     "shell.execute_reply.started": "2023-02-01T07:21:46.808234Z"
    },
    "tags": []
   },
   "outputs": [
    {
     "name": "stdout",
     "output_type": "stream",
     "text": [
      "Fitting 5 folds for each of 6480 candidates, totalling 32400 fits\n"
     ]
    },
    {
     "data": {
      "text/plain": [
       "{'rf__bootstrap': True,\n",
       " 'rf__criterion': 'gini',\n",
       " 'rf__max_depth': 20,\n",
       " 'rf__max_features': 'sqrt',\n",
       " 'rf__min_samples_leaf': 10,\n",
       " 'rf__n_estimators': 115,\n",
       " 'rf__warm_start': True}"
      ]
     },
     "execution_count": 457,
     "metadata": {},
     "output_type": "execute_result"
    }
   ],
   "source": [
    "# commenting out so notebook can be run\n",
    "gs = GridSearchCV(rf_pipe, rf_params, n_jobs=-1, verbose=1)\n",
    "gs.fit(X_train, y_train)\n",
    "gs.best_params_\n",
    "\n",
    "# attempt with univariate k=10 18m\n",
    "# Fitting 5 folds for each of 6480 candidates, totalling 32400 fits\n",
    "\n",
    "# {'rf__bootstrap': True,\n",
    "#  'rf__criterion': 'gini',\n",
    "#  'rf__max_depth': 20,\n",
    "#  'rf__max_features': 'sqrt',\n",
    "#  'rf__min_samples_leaf': 10,\n",
    "#  'rf__n_estimators': 115,\n",
    "#  'rf__warm_start': True}\n",
    "\n",
    "# attempt with univariate k=4 only features 15m (0.8588541666666667, 0.5583333333333333)\n",
    "# Fitting 5 folds for each of 6480 candidates, totalling 32400 fits\n",
    "\n",
    "# {'rf__bootstrap': True,\n",
    "#  'rf__criterion': 'entropy',\n",
    "#  'rf__max_depth': 30,\n",
    "#  'rf__max_features': 5,\n",
    "#  'rf__min_samples_leaf': 6,\n",
    "#  'rf__n_estimators': 70,\n",
    "#  'rf__warm_start': True}\n",
    "\n",
    "# attempt 2 after feat eng 33:27 (0.845, 0.6225)\n",
    "# Fitting 5 folds for each of 9720 candidates, totalling 48600 fits\n",
    "\n",
    "# {'rf__bootstrap': True,\n",
    "#  'rf__criterion': 'entropy',\n",
    "#  'rf__max_depth': 20,\n",
    "#  'rf__max_features': 20,\n",
    "#  'rf__min_samples_leaf': 10,\n",
    "#  'rf__n_estimators': 25,\n",
    "#  'rf__warm_start': True}\n",
    "\n",
    "# attempt 1 (0.856875, 0.5925)\n",
    "# Fitting 5 folds for each of 9720 candidates, totalling 48600 fits 33:31\n",
    "\n",
    "# {'rf__bootstrap': True,\n",
    "#  'rf__criterion': 'log_loss',\n",
    "#  'rf__max_depth': 40,\n",
    "#  'rf__max_features': 5,\n",
    "#  'rf__min_samples_leaf': 9,\n",
    "#  'rf__n_estimators': 70,\n",
    "#  'rf__warm_start': True}"
   ]
  },
  {
   "cell_type": "code",
   "execution_count": 494,
   "id": "222bff7d-1853-4f59-bc07-a46ce942cb83",
   "metadata": {
    "execution": {
     "iopub.execute_input": "2023-02-01T07:54:43.422808Z",
     "iopub.status.busy": "2023-02-01T07:54:43.420533Z",
     "iopub.status.idle": "2023-02-01T07:54:43.490481Z",
     "shell.execute_reply": "2023-02-01T07:54:43.490071Z",
     "shell.execute_reply.started": "2023-02-01T07:54:43.422701Z"
    },
    "tags": []
   },
   "outputs": [
    {
     "data": {
      "text/plain": [
       "(0.6415625, 0.615)"
      ]
     },
     "execution_count": 494,
     "metadata": {},
     "output_type": "execute_result"
    }
   ],
   "source": [
    "gs.score(X_train, y_train), gs.score(X_test, y_test)\n",
    "\n",
    "# univariate k=10 70/30 #2 \n",
    "# univariate k=10 70/30 #1 (0.6415625, 0.615)\n",
    "# univariate k=10 60/40 #2 (0.64875, 0.63)\n",
    "# univariate k=10 60/40 #1 (0.6316666666666667, 0.6033333333333334)\n",
    "# univariate k=10 50/50 #2 (0.6453125, 0.6708333333333333)\n",
    "# univariate k=10 50/50 #1 (0.78125, 0.5791666666666667)\n",
    "# univariate 70/30 #1 (0.609375, 0.63375)\n",
    "# univariate 60/40 #3 (0.6379166666666667, 0.6216666666666667)\n",
    "# univariate 60/40 #2 (0.6325, 0.6116666666666667)\n",
    "# univariate 60/40 (0.8588541666666667, 0.5583333333333333)\n",
    "# univariate 50/50 (0.8588541666666667, 0.5583333333333333)"
   ]
  },
  {
   "cell_type": "code",
   "execution_count": 495,
   "id": "69cdd3ce-52cc-420e-ad4d-0123ac413de1",
   "metadata": {
    "execution": {
     "iopub.execute_input": "2023-02-01T07:57:42.947471Z",
     "iopub.status.busy": "2023-02-01T07:57:42.946821Z",
     "iopub.status.idle": "2023-02-01T07:57:44.429725Z",
     "shell.execute_reply": "2023-02-01T07:57:44.429317Z",
     "shell.execute_reply.started": "2023-02-01T07:57:42.947385Z"
    },
    "tags": []
   },
   "outputs": [
    {
     "data": {
      "text/plain": [
       "0.6953125000000001"
      ]
     },
     "execution_count": 495,
     "metadata": {},
     "output_type": "execute_result"
    }
   ],
   "source": [
    "cross_val_score(gs.best_estimator_, X_train, y_train).mean()\n",
    "\n",
    "# univariate k=10 70/30 #2 \n",
    "# univariate k=10 70/30 #1 0.6953125000000001\n",
    "# univariate k=10 60/40 #2 0.6179166666666667\n",
    "# univariate k=10 60/40 #1 0.6258333333333332\n",
    "# univariate k=10 50/50 #2 0.584375\n",
    "# univariate k=10 50/50 #1 0.609375\n",
    "# univariate 70/30 #1 0.6853125\n",
    "# univariate 60/40 #3 0.6125\n",
    "# univariate 60/40 #2 0.5974999999999999"
   ]
  },
  {
   "cell_type": "code",
   "execution_count": 496,
   "id": "ca56cb18-df81-43c5-8585-8bca202d3ff1",
   "metadata": {
    "execution": {
     "iopub.execute_input": "2023-02-01T07:58:05.358322Z",
     "iopub.status.busy": "2023-02-01T07:58:05.357856Z",
     "iopub.status.idle": "2023-02-01T07:58:05.398089Z",
     "shell.execute_reply": "2023-02-01T07:58:05.397718Z",
     "shell.execute_reply.started": "2023-02-01T07:58:05.358297Z"
    },
    "tags": []
   },
   "outputs": [
    {
     "name": "stdout",
     "output_type": "stream",
     "text": [
      "              precision    recall  f1-score   support\n",
      "\n",
      "           0       0.41      0.66      0.51       240\n",
      "           1       0.80      0.59      0.68       560\n",
      "\n",
      "    accuracy                           0.61       800\n",
      "   macro avg       0.61      0.63      0.60       800\n",
      "weighted avg       0.69      0.61      0.63       800\n",
      "\n"
     ]
    }
   ],
   "source": [
    "# univariate k=10 70/30 #1\n",
    "print(classification_report(y_test, \n",
    "                            gs.predict(X_test)\n",
    "                           ))"
   ]
  },
  {
   "cell_type": "code",
   "execution_count": 487,
   "id": "91e3659b-398b-4e7e-9f4f-0c6b7d40bf2b",
   "metadata": {
    "execution": {
     "iopub.execute_input": "2023-02-01T07:51:31.384180Z",
     "iopub.status.busy": "2023-02-01T07:51:31.383734Z",
     "iopub.status.idle": "2023-02-01T07:51:31.412778Z",
     "shell.execute_reply": "2023-02-01T07:51:31.412421Z",
     "shell.execute_reply.started": "2023-02-01T07:51:31.384151Z"
    },
    "tags": []
   },
   "outputs": [
    {
     "name": "stdout",
     "output_type": "stream",
     "text": [
      "              precision    recall  f1-score   support\n",
      "\n",
      "           0       0.53      0.63      0.58       240\n",
      "           1       0.72      0.63      0.67       360\n",
      "\n",
      "    accuracy                           0.63       600\n",
      "   macro avg       0.63      0.63      0.62       600\n",
      "weighted avg       0.64      0.63      0.63       600\n",
      "\n"
     ]
    }
   ],
   "source": [
    "# univariate k=10 60/40 #2\n",
    "print(classification_report(y_test, \n",
    "                            gs.predict(X_test)\n",
    "                           ))"
   ]
  },
  {
   "cell_type": "code",
   "execution_count": 478,
   "id": "a440de1e-30fa-41b0-bbc5-93ba63a45704",
   "metadata": {
    "execution": {
     "iopub.execute_input": "2023-02-01T07:49:51.243067Z",
     "iopub.status.busy": "2023-02-01T07:49:51.242371Z",
     "iopub.status.idle": "2023-02-01T07:49:51.274045Z",
     "shell.execute_reply": "2023-02-01T07:49:51.273638Z",
     "shell.execute_reply.started": "2023-02-01T07:49:51.243026Z"
    },
    "tags": []
   },
   "outputs": [
    {
     "name": "stdout",
     "output_type": "stream",
     "text": [
      "              precision    recall  f1-score   support\n",
      "\n",
      "           0       0.50      0.63      0.56       240\n",
      "           1       0.70      0.59      0.64       360\n",
      "\n",
      "    accuracy                           0.60       600\n",
      "   macro avg       0.60      0.61      0.60       600\n",
      "weighted avg       0.62      0.60      0.61       600\n",
      "\n"
     ]
    }
   ],
   "source": [
    "# univariate k=10 60/40 #1 \n",
    "print(classification_report(y_test, \n",
    "                            gs.predict(X_test)\n",
    "                           ))"
   ]
  },
  {
   "cell_type": "code",
   "execution_count": 469,
   "id": "097226b5-b284-4810-b7c3-81d474bfd905",
   "metadata": {
    "execution": {
     "iopub.execute_input": "2023-02-01T07:43:11.351636Z",
     "iopub.status.busy": "2023-02-01T07:43:11.351137Z",
     "iopub.status.idle": "2023-02-01T07:43:11.380947Z",
     "shell.execute_reply": "2023-02-01T07:43:11.380354Z",
     "shell.execute_reply.started": "2023-02-01T07:43:11.351607Z"
    },
    "tags": []
   },
   "outputs": [
    {
     "name": "stdout",
     "output_type": "stream",
     "text": [
      "              precision    recall  f1-score   support\n",
      "\n",
      "           0       0.66      0.69      0.68       240\n",
      "           1       0.68      0.65      0.66       240\n",
      "\n",
      "    accuracy                           0.67       480\n",
      "   macro avg       0.67      0.67      0.67       480\n",
      "weighted avg       0.67      0.67      0.67       480\n",
      "\n"
     ]
    }
   ],
   "source": [
    "# univariate k=10 50/50 #2 \n",
    "print(classification_report(y_test, \n",
    "                            gs.predict(X_test)\n",
    "                           ))"
   ]
  },
  {
   "cell_type": "code",
   "execution_count": 460,
   "id": "6106c3f7-92d2-4e40-a85d-47aebef3966d",
   "metadata": {
    "execution": {
     "iopub.execute_input": "2023-02-01T07:39:57.648794Z",
     "iopub.status.busy": "2023-02-01T07:39:57.648653Z",
     "iopub.status.idle": "2023-02-01T07:39:57.662510Z",
     "shell.execute_reply": "2023-02-01T07:39:57.661921Z",
     "shell.execute_reply.started": "2023-02-01T07:39:57.648784Z"
    },
    "tags": []
   },
   "outputs": [
    {
     "name": "stdout",
     "output_type": "stream",
     "text": [
      "              precision    recall  f1-score   support\n",
      "\n",
      "           0       0.58      0.57      0.58       240\n",
      "           1       0.58      0.59      0.58       240\n",
      "\n",
      "    accuracy                           0.58       480\n",
      "   macro avg       0.58      0.58      0.58       480\n",
      "weighted avg       0.58      0.58      0.58       480\n",
      "\n"
     ]
    }
   ],
   "source": [
    "# univariate k=10 50/50 #1\n",
    "print(classification_report(y_test, \n",
    "                            gs.predict(X_test)\n",
    "                           ))"
   ]
  },
  {
   "cell_type": "code",
   "execution_count": 406,
   "id": "4e54222f-006b-44ca-b498-26d08d6431fc",
   "metadata": {
    "execution": {
     "iopub.execute_input": "2023-02-01T06:47:43.068376Z",
     "iopub.status.busy": "2023-02-01T06:47:43.067533Z",
     "iopub.status.idle": "2023-02-01T06:47:43.093631Z",
     "shell.execute_reply": "2023-02-01T06:47:43.093257Z",
     "shell.execute_reply.started": "2023-02-01T06:47:43.068335Z"
    },
    "tags": []
   },
   "outputs": [
    {
     "name": "stdout",
     "output_type": "stream",
     "text": [
      "              precision    recall  f1-score   support\n",
      "\n",
      "           0       0.43      0.70      0.53       240\n",
      "           1       0.82      0.61      0.70       560\n",
      "\n",
      "    accuracy                           0.63       800\n",
      "   macro avg       0.63      0.65      0.62       800\n",
      "weighted avg       0.71      0.63      0.65       800\n",
      "\n"
     ]
    }
   ],
   "source": [
    "# univariate 70/30 #1\n",
    "print(classification_report(y_test, \n",
    "                            gs.predict(X_test)\n",
    "                           ))"
   ]
  },
  {
   "cell_type": "code",
   "execution_count": 378,
   "id": "081ad980-6d51-45b7-8dcf-340ba0cec609",
   "metadata": {
    "execution": {
     "iopub.execute_input": "2023-02-01T06:44:35.155132Z",
     "iopub.status.busy": "2023-02-01T06:44:35.154446Z",
     "iopub.status.idle": "2023-02-01T06:44:35.189640Z",
     "shell.execute_reply": "2023-02-01T06:44:35.189247Z",
     "shell.execute_reply.started": "2023-02-01T06:44:35.155084Z"
    },
    "tags": []
   },
   "outputs": [
    {
     "name": "stdout",
     "output_type": "stream",
     "text": [
      "              precision    recall  f1-score   support\n",
      "\n",
      "           0       0.52      0.71      0.60       240\n",
      "           1       0.75      0.56      0.64       360\n",
      "\n",
      "    accuracy                           0.62       600\n",
      "   macro avg       0.63      0.64      0.62       600\n",
      "weighted avg       0.66      0.62      0.62       600\n",
      "\n"
     ]
    }
   ],
   "source": [
    "# 60/40 w/Univariate only #3\n",
    "print(classification_report(y_test, \n",
    "                            gs.predict(X_test)\n",
    "                           ))"
   ]
  },
  {
   "cell_type": "code",
   "execution_count": 367,
   "id": "3cac4eac-7cf3-4e3f-8c4e-994bcf1a9654",
   "metadata": {
    "execution": {
     "iopub.execute_input": "2023-02-01T06:40:34.585640Z",
     "iopub.status.busy": "2023-02-01T06:40:34.584865Z",
     "iopub.status.idle": "2023-02-01T06:40:34.613150Z",
     "shell.execute_reply": "2023-02-01T06:40:34.612561Z",
     "shell.execute_reply.started": "2023-02-01T06:40:34.585595Z"
    },
    "tags": []
   },
   "outputs": [
    {
     "name": "stdout",
     "output_type": "stream",
     "text": [
      "              precision    recall  f1-score   support\n",
      "\n",
      "           0       0.51      0.75      0.61       240\n",
      "           1       0.76      0.52      0.61       360\n",
      "\n",
      "    accuracy                           0.61       600\n",
      "   macro avg       0.63      0.64      0.61       600\n",
      "weighted avg       0.66      0.61      0.61       600\n",
      "\n"
     ]
    }
   ],
   "source": [
    "# 60/40 w/Univariate only #2\n",
    "print(classification_report(y_test, \n",
    "                            gs.predict(X_test)\n",
    "                           ))"
   ]
  },
  {
   "cell_type": "code",
   "execution_count": 359,
   "id": "132b54b7-e296-4d0e-a540-2585b44125fb",
   "metadata": {
    "execution": {
     "iopub.execute_input": "2023-02-01T06:39:06.575142Z",
     "iopub.status.busy": "2023-02-01T06:39:06.565185Z",
     "iopub.status.idle": "2023-02-01T06:39:06.604363Z",
     "shell.execute_reply": "2023-02-01T06:39:06.603922Z",
     "shell.execute_reply.started": "2023-02-01T06:39:06.575118Z"
    },
    "tags": []
   },
   "outputs": [
    {
     "name": "stdout",
     "output_type": "stream",
     "text": [
      "              precision    recall  f1-score   support\n",
      "\n",
      "           0       0.54      0.74      0.62       240\n",
      "           1       0.77      0.57      0.66       360\n",
      "\n",
      "    accuracy                           0.64       600\n",
      "   macro avg       0.65      0.66      0.64       600\n",
      "weighted avg       0.68      0.64      0.64       600\n",
      "\n"
     ]
    }
   ],
   "source": [
    "# 60/40 w/Univariate only\n",
    "print(classification_report(y_test, \n",
    "                            gs.predict(X_test)\n",
    "                           ))"
   ]
  },
  {
   "cell_type": "code",
   "execution_count": 350,
   "id": "2f1b3680-3101-4212-a0fb-aebef4de8b20",
   "metadata": {
    "execution": {
     "iopub.execute_input": "2023-02-01T06:36:23.309175Z",
     "iopub.status.busy": "2023-02-01T06:36:23.308754Z",
     "iopub.status.idle": "2023-02-01T06:36:23.333526Z",
     "shell.execute_reply": "2023-02-01T06:36:23.333157Z",
     "shell.execute_reply.started": "2023-02-01T06:36:23.309151Z"
    },
    "tags": []
   },
   "outputs": [
    {
     "name": "stdout",
     "output_type": "stream",
     "text": [
      "              precision    recall  f1-score   support\n",
      "\n",
      "           0       0.55      0.59      0.57       240\n",
      "           1       0.56      0.53      0.54       240\n",
      "\n",
      "    accuracy                           0.56       480\n",
      "   macro avg       0.56      0.56      0.56       480\n",
      "weighted avg       0.56      0.56      0.56       480\n",
      "\n"
     ]
    }
   ],
   "source": [
    "# 50/50 w/Univariate only\n",
    "print(classification_report(y_test, \n",
    "                            gs.predict(X_test)\n",
    "                           ))"
   ]
  },
  {
   "cell_type": "code",
   "execution_count": 407,
   "id": "6cd0d0fa-f9dd-4a68-8c3c-eea3d7c2fdf7",
   "metadata": {
    "execution": {
     "iopub.execute_input": "2023-02-01T06:48:13.338159Z",
     "iopub.status.busy": "2023-02-01T06:48:13.337270Z",
     "iopub.status.idle": "2023-02-01T06:48:13.441123Z",
     "shell.execute_reply": "2023-02-01T06:48:13.440768Z",
     "shell.execute_reply.started": "2023-02-01T06:48:13.338054Z"
    },
    "tags": []
   },
   "outputs": [
    {
     "data": {
      "image/png": "[encoded data removed]",
      "text/plain": [
       "<Figure size 640x480 with 2 Axes>"
      ]
     },
     "metadata": {},
     "output_type": "display_data"
    }
   ],
   "source": [
    "# univariate 70/30 #1\n",
    "ConfusionMatrixDisplay.from_estimator(gs.best_estimator_, X_test, y_test,\n",
    "                                     cmap='Purples');"
   ]
  },
  {
   "cell_type": "code",
   "execution_count": 379,
   "id": "bfdea716-cd18-4ef3-8f2b-0a19ea06801e",
   "metadata": {
    "execution": {
     "iopub.execute_input": "2023-02-01T06:45:03.874957Z",
     "iopub.status.busy": "2023-02-01T06:45:03.874480Z",
     "iopub.status.idle": "2023-02-01T06:45:03.986448Z",
     "shell.execute_reply": "2023-02-01T06:45:03.986026Z",
     "shell.execute_reply.started": "2023-02-01T06:45:03.874927Z"
    },
    "tags": []
   },
   "outputs": [
    {
     "data": {
      "image/png": "[encoded data removed]",
      "text/plain": [
       "<Figure size 640x480 with 2 Axes>"
      ]
     },
     "metadata": {},
     "output_type": "display_data"
    }
   ],
   "source": [
    "# from 60/40 univariate #3\n",
    "ConfusionMatrixDisplay.from_estimator(gs.best_estimator_, X_test, y_test,\n",
    "                                     cmap='Purples');"
   ]
  },
  {
   "cell_type": "code",
   "execution_count": 368,
   "id": "36bfc21a-e01a-4994-924e-53165cce3ed9",
   "metadata": {
    "execution": {
     "iopub.execute_input": "2023-02-01T06:41:48.329827Z",
     "iopub.status.busy": "2023-02-01T06:41:48.329130Z",
     "iopub.status.idle": "2023-02-01T06:41:48.445642Z",
     "shell.execute_reply": "2023-02-01T06:41:48.445292Z",
     "shell.execute_reply.started": "2023-02-01T06:41:48.329779Z"
    },
    "tags": []
   },
   "outputs": [
    {
     "data": {
      "image/png": "[encoded data removed]",
      "text/plain": [
       "<Figure size 640x480 with 2 Axes>"
      ]
     },
     "metadata": {},
     "output_type": "display_data"
    }
   ],
   "source": [
    "# from 60/40 univariate #2 \n",
    "ConfusionMatrixDisplay.from_estimator(gs.best_estimator_, X_test, y_test,\n",
    "                                     cmap='Purples');"
   ]
  },
  {
   "cell_type": "code",
   "execution_count": 351,
   "id": "15ea23d4-1d31-4d22-a2c5-c49b3fc23b56",
   "metadata": {
    "execution": {
     "iopub.execute_input": "2023-02-01T06:37:25.982661Z",
     "iopub.status.busy": "2023-02-01T06:37:25.982273Z",
     "iopub.status.idle": "2023-02-01T06:37:26.115369Z",
     "shell.execute_reply": "2023-02-01T06:37:26.114734Z",
     "shell.execute_reply.started": "2023-02-01T06:37:25.982636Z"
    },
    "tags": []
   },
   "outputs": [
    {
     "data": {
      "image/png": "[encoded data removed]",
      "text/plain": [
       "<Figure size 640x480 with 2 Axes>"
      ]
     },
     "metadata": {},
     "output_type": "display_data"
    }
   ],
   "source": [
    "# from 50/50 undersampled data using params from original gridsearch\n",
    "ConfusionMatrixDisplay.from_estimator(gs.best_estimator_, X_test, y_test,\n",
    "                                     cmap='Purples');"
   ]
  },
  {
   "cell_type": "code",
   "execution_count": 92,
   "id": "d3ed6ed6-c750-4da0-9112-9d56c5e29ba6",
   "metadata": {
    "execution": {
     "iopub.execute_input": "2023-01-31T10:46:48.911176Z",
     "iopub.status.busy": "2023-01-31T10:46:48.911080Z",
     "iopub.status.idle": "2023-01-31T10:46:48.918580Z",
     "shell.execute_reply": "2023-01-31T10:46:48.918163Z",
     "shell.execute_reply.started": "2023-01-31T10:46:48.911167Z"
    },
    "tags": []
   },
   "outputs": [
    {
     "data": {
      "text/html": [
       "<div>\n",
       "<style scoped>\n",
       "    .dataframe tbody tr th:only-of-type {\n",
       "        vertical-align: middle;\n",
       "    }\n",
       "\n",
       "    .dataframe tbody tr th {\n",
       "        vertical-align: top;\n",
       "    }\n",
       "\n",
       "    .dataframe thead th {\n",
       "        text-align: right;\n",
       "    }\n",
       "</style>\n",
       "<table border=\"1\" class=\"dataframe\">\n",
       "  <thead>\n",
       "    <tr style=\"text-align: right;\">\n",
       "      <th></th>\n",
       "      <th>index</th>\n",
       "      <th>0</th>\n",
       "    </tr>\n",
       "  </thead>\n",
       "  <tbody>\n",
       "    <tr>\n",
       "      <th>10</th>\n",
       "      <td>sent_score</td>\n",
       "      <td>0.143880</td>\n",
       "    </tr>\n",
       "    <tr>\n",
       "      <th>14</th>\n",
       "      <td>rply_rate</td>\n",
       "      <td>0.116227</td>\n",
       "    </tr>\n",
       "    <tr>\n",
       "      <th>7</th>\n",
       "      <td>agt_wait_mins</td>\n",
       "      <td>0.095280</td>\n",
       "    </tr>\n",
       "    <tr>\n",
       "      <th>8</th>\n",
       "      <td>reqstr_wait_mins</td>\n",
       "      <td>0.088659</td>\n",
       "    </tr>\n",
       "    <tr>\n",
       "      <th>15</th>\n",
       "      <td>comm_rate</td>\n",
       "      <td>0.085781</td>\n",
       "    </tr>\n",
       "    <tr>\n",
       "      <th>6</th>\n",
       "      <td>full_reso_mins</td>\n",
       "      <td>0.083426</td>\n",
       "    </tr>\n",
       "    <tr>\n",
       "      <th>5</th>\n",
       "      <td>first_reso_mins</td>\n",
       "      <td>0.080270</td>\n",
       "    </tr>\n",
       "    <tr>\n",
       "      <th>4</th>\n",
       "      <td>reply_mins</td>\n",
       "      <td>0.077709</td>\n",
       "    </tr>\n",
       "    <tr>\n",
       "      <th>13</th>\n",
       "      <td>td_assnd_slvd</td>\n",
       "      <td>0.076962</td>\n",
       "    </tr>\n",
       "    <tr>\n",
       "      <th>12</th>\n",
       "      <td>td_crtd_assnd</td>\n",
       "      <td>0.075463</td>\n",
       "    </tr>\n",
       "    <tr>\n",
       "      <th>11</th>\n",
       "      <td>num_comms</td>\n",
       "      <td>0.048375</td>\n",
       "    </tr>\n",
       "    <tr>\n",
       "      <th>3</th>\n",
       "      <td>replies</td>\n",
       "      <td>0.016666</td>\n",
       "    </tr>\n",
       "    <tr>\n",
       "      <th>2</th>\n",
       "      <td>reopens</td>\n",
       "      <td>0.006481</td>\n",
       "    </tr>\n",
       "    <tr>\n",
       "      <th>9</th>\n",
       "      <td>on_hold_mins</td>\n",
       "      <td>0.003901</td>\n",
       "    </tr>\n",
       "    <tr>\n",
       "      <th>0</th>\n",
       "      <td>grp_stations</td>\n",
       "      <td>0.000477</td>\n",
       "    </tr>\n",
       "    <tr>\n",
       "      <th>1</th>\n",
       "      <td>asign_stations</td>\n",
       "      <td>0.000443</td>\n",
       "    </tr>\n",
       "  </tbody>\n",
       "</table>\n",
       "</div>"
      ],
      "text/plain": [
       "               index         0\n",
       "10        sent_score  0.143880\n",
       "14         rply_rate  0.116227\n",
       "7      agt_wait_mins  0.095280\n",
       "8   reqstr_wait_mins  0.088659\n",
       "15         comm_rate  0.085781\n",
       "6     full_reso_mins  0.083426\n",
       "5    first_reso_mins  0.080270\n",
       "4         reply_mins  0.077709\n",
       "13     td_assnd_slvd  0.076962\n",
       "12     td_crtd_assnd  0.075463\n",
       "11         num_comms  0.048375\n",
       "3            replies  0.016666\n",
       "2            reopens  0.006481\n",
       "9       on_hold_mins  0.003901\n",
       "0       grp_stations  0.000477\n",
       "1     asign_stations  0.000443"
      ]
     },
     "execution_count": 92,
     "metadata": {},
     "output_type": "execute_result"
    }
   ],
   "source": [
    "pd.DataFrame(\n",
    "    gs.best_estimator_.named_steps.rf.feature_importances_,\n",
    "    X.columns\n",
    ").reset_index().sort_values(by=0, ascending=False)"
   ]
  },
  {
   "cell_type": "markdown",
   "id": "74e2b067-16c8-496f-a0b9-a7bf912b1206",
   "metadata": {},
   "source": [
    "#### Results Summary\n",
    "\n",
    "As I was stepping through the balances (50/50, 60/40, etc.) the performance at 50/50 was generally the best.  The metrics were showing that even using the same split but a different sample, could change the recall or precision by a few points.  And the positive element of these tests is that these metrics were certainly more balanced than the initial model metrics.  However, generally for balances above 60/40, the overall accuracy of the model would underperform baseline.\n",
    "\n",
    "After going through many of these ad-hoc manual samples, grid search, and evaluations, overall I think there is still an underlying issue with the data--either with the volume and/or the amount of explanation power that the features have to the target.  There could be various reasons for the latter, that I will include in my overall summary notes."
   ]
  },
  {
   "cell_type": "markdown",
   "id": "1985d19f-0ac0-4be5-a241-1f7ba2cff2d9",
   "metadata": {
    "tags": []
   },
   "source": [
    "### SMOTE\n",
    "\n",
    "As noted, there are suspected issues with class imbalance that may be impacting the model's performance.  Using SMOTE will help synthesize data to balance the class.  After synthesizing this data the model will be trained and evaluated to see what sort of impact this may have.\n",
    "\n",
    "This approach is based on some lesson materials that were sent to me.\n",
    "\n",
    "#### Import Libraries"
   ]
  },
  {
   "cell_type": "code",
   "execution_count": 194,
   "id": "e9466fcc-9298-46b3-a9ce-f26c23df1dfa",
   "metadata": {
    "execution": {
     "iopub.execute_input": "2023-02-01T04:34:40.544201Z",
     "iopub.status.busy": "2023-02-01T04:34:40.542211Z",
     "iopub.status.idle": "2023-02-01T04:34:40.706079Z",
     "shell.execute_reply": "2023-02-01T04:34:40.705737Z",
     "shell.execute_reply.started": "2023-02-01T04:34:40.544112Z"
    }
   },
   "outputs": [],
   "source": [
    "from sklearn.preprocessing import StandardScaler\n",
    "from imblearn.over_sampling import SMOTE\n",
    "from imblearn.pipeline import Pipeline"
   ]
  },
  {
   "cell_type": "markdown",
   "id": "49554ddc-cee4-4fb8-82bc-4c1fb89f1498",
   "metadata": {},
   "source": [
    "#### Train/Test Split"
   ]
  },
  {
   "cell_type": "code",
   "execution_count": 195,
   "id": "a4eef745-8576-473c-bb16-48507627b72c",
   "metadata": {
    "execution": {
     "iopub.execute_input": "2023-02-01T04:40:03.276364Z",
     "iopub.status.busy": "2023-02-01T04:40:03.274436Z",
     "iopub.status.idle": "2023-02-01T04:40:03.314549Z",
     "shell.execute_reply": "2023-02-01T04:40:03.314040Z",
     "shell.execute_reply.started": "2023-02-01T04:40:03.276285Z"
    },
    "tags": []
   },
   "outputs": [],
   "source": [
    "X = tickets.drop(columns=['sat_score'])\n",
    "y = tickets['sat_score']\n",
    "\n",
    "X_train, X_test, y_train, y_test = train_test_split(X, y, \n",
    "                                                   test_size=0.2,\n",
    "                                                   stratify=y,\n",
    "                                                   random_state=415)"
   ]
  },
  {
   "cell_type": "markdown",
   "id": "e89fda40-8a56-490d-ba1d-a1b855d002f6",
   "metadata": {},
   "source": [
    "#### Scale Data\n",
    "SMOTE uses kNN type distances to understand and then synthesize the data, so the data will need to be scaled."
   ]
  },
  {
   "cell_type": "code",
   "execution_count": 196,
   "id": "94173d29-4e88-4cb1-b819-ce4524d54828",
   "metadata": {
    "execution": {
     "iopub.execute_input": "2023-02-01T04:41:18.701429Z",
     "iopub.status.busy": "2023-02-01T04:41:18.700885Z",
     "iopub.status.idle": "2023-02-01T04:41:18.723871Z",
     "shell.execute_reply": "2023-02-01T04:41:18.723411Z",
     "shell.execute_reply.started": "2023-02-01T04:41:18.701392Z"
    }
   },
   "outputs": [],
   "source": [
    "# scale X data\n",
    "ss = StandardScaler()\n",
    "\n",
    "X_train_ss = ss.fit_transform(X_train)\n",
    "X_test_ss = ss.transform(X_test)"
   ]
  },
  {
   "cell_type": "markdown",
   "id": "76611b78-a205-47c9-a4d8-7856d5db2b6f",
   "metadata": {},
   "source": [
    "#### Instantiate and Resample"
   ]
  },
  {
   "cell_type": "code",
   "execution_count": 199,
   "id": "a16c3358-0e23-4889-bb6f-d26c9c8630c5",
   "metadata": {
    "execution": {
     "iopub.execute_input": "2023-02-01T04:43:28.470404Z",
     "iopub.status.busy": "2023-02-01T04:43:28.469710Z",
     "iopub.status.idle": "2023-02-01T04:43:28.555934Z",
     "shell.execute_reply": "2023-02-01T04:43:28.555504Z",
     "shell.execute_reply.started": "2023-02-01T04:43:28.470356Z"
    },
    "tags": []
   },
   "outputs": [],
   "source": [
    "# SMOTE\n",
    "sm = SMOTE(random_state=42)\n",
    "# Hyperparameters: sampling_strategy='auto', random_state=None, k_neighbors=5, n_jobs=None\n",
    "\n",
    "#  sampling strategy\n",
    "# 'minority': resample only the minority class;\n",
    "# 'not minority': resample all classes but the minority class;\n",
    "# 'not majority': resample all classes but the majority class;\n",
    "# 'all': resample all classes;\n",
    "# 'auto': equivalent to 'not majority'.\n",
    "\n",
    "X_train_smote, y_train_smote = sm.fit_resample(X_train_ss, y_train)"
   ]
  },
  {
   "cell_type": "markdown",
   "id": "5022761a-8399-46da-acd2-9005a21c3dd7",
   "metadata": {},
   "source": [
    "#### Check Shape and Class Balance"
   ]
  },
  {
   "cell_type": "code",
   "execution_count": 200,
   "id": "c4d76538-8b65-4446-b77d-bfaae2646646",
   "metadata": {
    "execution": {
     "iopub.execute_input": "2023-02-01T04:43:59.940610Z",
     "iopub.status.busy": "2023-02-01T04:43:59.939938Z",
     "iopub.status.idle": "2023-02-01T04:43:59.949980Z",
     "shell.execute_reply": "2023-02-01T04:43:59.948466Z",
     "shell.execute_reply.started": "2023-02-01T04:43:59.940581Z"
    }
   },
   "outputs": [
    {
     "data": {
      "text/plain": [
       "((18216, 16), (18216,))"
      ]
     },
     "execution_count": 200,
     "metadata": {},
     "output_type": "execute_result"
    }
   ],
   "source": [
    "# check shape\n",
    "X_train_smote.shape, y_train_smote.shape"
   ]
  },
  {
   "cell_type": "code",
   "execution_count": 201,
   "id": "54286685-9171-40ab-8a86-146f4a38ac21",
   "metadata": {
    "execution": {
     "iopub.execute_input": "2023-02-01T04:44:37.438854Z",
     "iopub.status.busy": "2023-02-01T04:44:37.437898Z",
     "iopub.status.idle": "2023-02-01T04:44:37.457740Z",
     "shell.execute_reply": "2023-02-01T04:44:37.457301Z",
     "shell.execute_reply.started": "2023-02-01T04:44:37.438812Z"
    }
   },
   "outputs": [
    {
     "data": {
      "text/plain": [
       "0    0.5\n",
       "1    0.5\n",
       "Name: sat_score, dtype: float64"
      ]
     },
     "execution_count": 201,
     "metadata": {},
     "output_type": "execute_result"
    }
   ],
   "source": [
    "# check value counts\n",
    "y_train_smote.value_counts(normalize=True)"
   ]
  },
  {
   "cell_type": "markdown",
   "id": "724ecee4-b4f7-48fe-8e5a-2647005ecd8a",
   "metadata": {},
   "source": [
    "#### Model on Resampled Data"
   ]
  },
  {
   "cell_type": "code",
   "execution_count": 214,
   "id": "08c70100-4af8-4872-9b0f-e7ea0b678c98",
   "metadata": {
    "execution": {
     "iopub.execute_input": "2023-02-01T04:56:00.929018Z",
     "iopub.status.busy": "2023-02-01T04:56:00.927338Z",
     "iopub.status.idle": "2023-02-01T04:56:00.952002Z",
     "shell.execute_reply": "2023-02-01T04:56:00.951071Z",
     "shell.execute_reply.started": "2023-02-01T04:56:00.928943Z"
    },
    "tags": []
   },
   "outputs": [],
   "source": [
    "# instantiate model with 9 hour grid search (i.e. rf_nine) params:\n",
    "rf_smote = RandomForestClassifier(bootstrap=True,\n",
    "                                 criterion='gini',\n",
    "                                 max_depth=95,\n",
    "                                 max_features=4,\n",
    "                                 min_samples_leaf=5,\n",
    "                                 n_estimators=175,\n",
    "                                 warm_start=True)"
   ]
  },
  {
   "cell_type": "code",
   "execution_count": 215,
   "id": "da070091-b506-40bf-b655-42482a974598",
   "metadata": {
    "execution": {
     "iopub.execute_input": "2023-02-01T04:56:03.285477Z",
     "iopub.status.busy": "2023-02-01T04:56:03.285230Z",
     "iopub.status.idle": "2023-02-01T04:56:08.229288Z",
     "shell.execute_reply": "2023-02-01T04:56:08.229006Z",
     "shell.execute_reply.started": "2023-02-01T04:56:03.285458Z"
    },
    "tags": []
   },
   "outputs": [
    {
     "data": {
      "text/html": [
       "<style>#sk-container-id-17 {color: black;background-color: white;}#sk-container-id-17 pre{padding: 0;}#sk-container-id-17 div.sk-toggleable {background-color: white;}#sk-container-id-17 label.sk-toggleable__label {cursor: pointer;display: block;width: 100%;margin-bottom: 0;padding: 0.3em;box-sizing: border-box;text-align: center;}#sk-container-id-17 label.sk-toggleable__label-arrow:before {content: \"▸\";float: left;margin-right: 0.25em;color: #696969;}#sk-container-id-17 label.sk-toggleable__label-arrow:hover:before {color: black;}#sk-container-id-17 div.sk-estimator:hover label.sk-toggleable__label-arrow:before {color: black;}#sk-container-id-17 div.sk-toggleable__content {max-height: 0;max-width: 0;overflow: hidden;text-align: left;background-color: #f0f8ff;}#sk-container-id-17 div.sk-toggleable__content pre {margin: 0.2em;color: black;border-radius: 0.25em;background-color: #f0f8ff;}#sk-container-id-17 input.sk-toggleable__control:checked~div.sk-toggleable__content {max-height: 200px;max-width: 100%;overflow: auto;}#sk-container-id-17 input.sk-toggleable__control:checked~label.sk-toggleable__label-arrow:before {content: \"▾\";}#sk-container-id-17 div.sk-estimator input.sk-toggleable__control:checked~label.sk-toggleable__label {background-color: #d4ebff;}#sk-container-id-17 div.sk-label input.sk-toggleable__control:checked~label.sk-toggleable__label {background-color: #d4ebff;}#sk-container-id-17 input.sk-hidden--visually {border: 0;clip: rect(1px 1px 1px 1px);clip: rect(1px, 1px, 1px, 1px);height: 1px;margin: -1px;overflow: hidden;padding: 0;position: absolute;width: 1px;}#sk-container-id-17 div.sk-estimator {font-family: monospace;background-color: #f0f8ff;border: 1px dotted black;border-radius: 0.25em;box-sizing: border-box;margin-bottom: 0.5em;}#sk-container-id-17 div.sk-estimator:hover {background-color: #d4ebff;}#sk-container-id-17 div.sk-parallel-item::after {content: \"\";width: 100%;border-bottom: 1px solid gray;flex-grow: 1;}#sk-container-id-17 div.sk-label:hover label.sk-toggleable__label {background-color: #d4ebff;}#sk-container-id-17 div.sk-serial::before {content: \"\";position: absolute;border-left: 1px solid gray;box-sizing: border-box;top: 0;bottom: 0;left: 50%;z-index: 0;}#sk-container-id-17 div.sk-serial {display: flex;flex-direction: column;align-items: center;background-color: white;padding-right: 0.2em;padding-left: 0.2em;position: relative;}#sk-container-id-17 div.sk-item {position: relative;z-index: 1;}#sk-container-id-17 div.sk-parallel {display: flex;align-items: stretch;justify-content: center;background-color: white;position: relative;}#sk-container-id-17 div.sk-item::before, #sk-container-id-17 div.sk-parallel-item::before {content: \"\";position: absolute;border-left: 1px solid gray;box-sizing: border-box;top: 0;bottom: 0;left: 50%;z-index: -1;}#sk-container-id-17 div.sk-parallel-item {display: flex;flex-direction: column;z-index: 1;position: relative;background-color: white;}#sk-container-id-17 div.sk-parallel-item:first-child::after {align-self: flex-end;width: 50%;}#sk-container-id-17 div.sk-parallel-item:last-child::after {align-self: flex-start;width: 50%;}#sk-container-id-17 div.sk-parallel-item:only-child::after {width: 0;}#sk-container-id-17 div.sk-dashed-wrapped {border: 1px dashed gray;margin: 0 0.4em 0.5em 0.4em;box-sizing: border-box;padding-bottom: 0.4em;background-color: white;}#sk-container-id-17 div.sk-label label {font-family: monospace;font-weight: bold;display: inline-block;line-height: 1.2em;}#sk-container-id-17 div.sk-label-container {text-align: center;}#sk-container-id-17 div.sk-container {/* jupyter's `normalize.less` sets `[hidden] { display: none; }` but bootstrap.min.css set `[hidden] { display: none !important; }` so we also need the `!important` here to be able to override the default hidden behavior on the sphinx rendered scikit-learn.org. See: https://github.com/scikit-learn/scikit-learn/issues/21755 */display: inline-block !important;position: relative;}#sk-container-id-17 div.sk-text-repr-fallback {display: none;}</style><div id=\"sk-container-id-17\" class=\"sk-top-container\"><div class=\"sk-text-repr-fallback\"><pre>RandomForestClassifier(max_depth=95, max_features=4, min_samples_leaf=5,\n",
       "                       n_estimators=175, warm_start=True)</pre><b>In a Jupyter environment, please rerun this cell to show the HTML representation or trust the notebook. <br />On GitHub, the HTML representation is unable to render, please try loading this page with nbviewer.org.</b></div><div class=\"sk-container\" hidden><div class=\"sk-item\"><div class=\"sk-estimator sk-toggleable\"><input class=\"sk-toggleable__control sk-hidden--visually\" id=\"sk-estimator-id-17\" type=\"checkbox\" checked><label for=\"sk-estimator-id-17\" class=\"sk-toggleable__label sk-toggleable__label-arrow\">RandomForestClassifier</label><div class=\"sk-toggleable__content\"><pre>RandomForestClassifier(max_depth=95, max_features=4, min_samples_leaf=5,\n",
       "                       n_estimators=175, warm_start=True)</pre></div></div></div></div></div>"
      ],
      "text/plain": [
       "RandomForestClassifier(max_depth=95, max_features=4, min_samples_leaf=5,\n",
       "                       n_estimators=175, warm_start=True)"
      ]
     },
     "execution_count": 215,
     "metadata": {},
     "output_type": "execute_result"
    }
   ],
   "source": [
    "# fit data\n",
    "rf_smote.fit(X_train_smote, y_train_smote)"
   ]
  },
  {
   "cell_type": "code",
   "execution_count": 216,
   "id": "801d1d72-0881-43fa-8c63-92c3d90b84d2",
   "metadata": {
    "execution": {
     "iopub.execute_input": "2023-02-01T04:56:12.488519Z",
     "iopub.status.busy": "2023-02-01T04:56:12.487892Z",
     "iopub.status.idle": "2023-02-01T04:56:12.582887Z",
     "shell.execute_reply": "2023-02-01T04:56:12.582450Z",
     "shell.execute_reply.started": "2023-02-01T04:56:12.488489Z"
    },
    "tags": []
   },
   "outputs": [],
   "source": [
    "# Predict off the scaled X_test data\n",
    "y_pred_smote = rf_smote.predict(X_test_ss)"
   ]
  },
  {
   "cell_type": "code",
   "execution_count": 217,
   "id": "1b23df3a-64ef-43fd-989b-c2fcbb0ed1b7",
   "metadata": {
    "execution": {
     "iopub.execute_input": "2023-02-01T04:56:15.284273Z",
     "iopub.status.busy": "2023-02-01T04:56:15.283846Z",
     "iopub.status.idle": "2023-02-01T04:56:15.688870Z",
     "shell.execute_reply": "2023-02-01T04:56:15.688569Z",
     "shell.execute_reply.started": "2023-02-01T04:56:15.284245Z"
    },
    "tags": []
   },
   "outputs": [
    {
     "data": {
      "text/plain": [
       "(0.9620114185331576, 0.749718574108818)"
      ]
     },
     "execution_count": 217,
     "metadata": {},
     "output_type": "execute_result"
    }
   ],
   "source": [
    "rf_smote.score(X_train_smote, y_train_smote), rf_smote.score(X_test_ss, y_test)"
   ]
  },
  {
   "cell_type": "markdown",
   "id": "e1b5f526-3303-49a3-9af9-9d357b53343d",
   "metadata": {},
   "source": [
    "In the initial modeling, we saw a bit more balance between the train and test scores.  These scores may indicate a sign of overfitting.  And although the test score is much lower than we are used to seeing, the baseline has been moved to 50%, so this is almost an improvement of 25 points in over baseline, in accuracy."
   ]
  },
  {
   "cell_type": "code",
   "execution_count": 218,
   "id": "f92a5148-6391-4188-bfcf-8c4e11dec086",
   "metadata": {
    "execution": {
     "iopub.execute_input": "2023-02-01T04:56:21.791781Z",
     "iopub.status.busy": "2023-02-01T04:56:21.791264Z",
     "iopub.status.idle": "2023-02-01T04:56:21.872894Z",
     "shell.execute_reply": "2023-02-01T04:56:21.872599Z",
     "shell.execute_reply.started": "2023-02-01T04:56:21.791728Z"
    },
    "tags": []
   },
   "outputs": [
    {
     "name": "stdout",
     "output_type": "stream",
     "text": [
      "              precision    recall  f1-score   support\n",
      "\n",
      "           0       0.24      0.33      0.27       387\n",
      "           1       0.88      0.82      0.85      2278\n",
      "\n",
      "    accuracy                           0.75      2665\n",
      "   macro avg       0.56      0.57      0.56      2665\n",
      "weighted avg       0.78      0.75      0.77      2665\n",
      "\n"
     ]
    }
   ],
   "source": [
    "print(classification_report(y_test, \n",
    "                            rf_smote.predict(X_test_ss)\n",
    "                           ))\n",
    "\n",
    "#               precision    recall  f1-score   support\n",
    "\n",
    "#            0       0.24      0.33      0.27       387\n",
    "#            1       0.88      0.82      0.85      2278\n",
    "\n",
    "#     accuracy                           0.75      2665\n",
    "#    macro avg       0.56      0.57      0.56      2665\n",
    "# weighted avg       0.78      0.75      0.77      2665"
   ]
  },
  {
   "cell_type": "code",
   "execution_count": 219,
   "id": "abfdf9f1-0729-42be-b482-bd89e9dcd253",
   "metadata": {
    "execution": {
     "iopub.execute_input": "2023-02-01T04:56:24.367356Z",
     "iopub.status.busy": "2023-02-01T04:56:24.366712Z",
     "iopub.status.idle": "2023-02-01T04:56:24.529375Z",
     "shell.execute_reply": "2023-02-01T04:56:24.529021Z",
     "shell.execute_reply.started": "2023-02-01T04:56:24.367326Z"
    },
    "tags": []
   },
   "outputs": [
    {
     "data": {
      "image/png": "[encoded data removed]",
      "text/plain": [
       "<Figure size 640x480 with 2 Axes>"
      ]
     },
     "metadata": {},
     "output_type": "display_data"
    }
   ],
   "source": [
    "# attempt after smote\n",
    "ConfusionMatrixDisplay.from_estimator(rf_smote, X_test_ss, y_test,\n",
    "                                     cmap='Purples');"
   ]
  },
  {
   "cell_type": "markdown",
   "id": "6a4e3e7a-66ee-4c62-87b9-d2debc06a553",
   "metadata": {},
   "source": [
    "#### SMOTE Summary\n",
    "When looking at the classification report, some of the scores, like recall were a bit better with SMOTE.  Before we were seeing recall scores in the high .9x range for the majority class and .0x range for the minority class.  So although this is an improvement over the initial model that was created, overall it wasn't a huge gain in performance and indicates that more feature selection or feature engineering should be done to try and address some of the underlying issues.  If some of the underlying issues could be addressed, then additionally using SMOTE may be a reasonable approach."
   ]
  }
 ],
 "metadata": {
  "kernelspec": {
   "display_name": "Python 3 (ipykernel)",
   "language": "python",
   "name": "python3"
  },
  "language_info": {
   "codemirror_mode": {
    "name": "ipython",
    "version": 3
   },
   "file_extension": ".py",
   "mimetype": "text/x-python",
   "name": "python",
   "nbconvert_exporter": "python",
   "pygments_lexer": "ipython3",
   "version": "3.9.15"
  }
 },
 "nbformat": 4,
 "nbformat_minor": 5
}
