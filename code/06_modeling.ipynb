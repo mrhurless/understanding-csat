{
 "cells": [
  {
   "cell_type": "markdown",
   "id": "2c8861b0-aefd-4342-b2d8-e7e9f1b732a8",
   "metadata": {},
   "source": [
    "# Modeling Notebook\n",
    "\n",
    "This notebook will be focused on creating a model using the ticket data that has been prepared in the previous notebooks.  This includes some features created in regards to time deltas between certain milestones that may be useful in modeling.  Throughout EDA, the features of the data were not normally distributed, and generally highly skewed. In addition, no real linear relationships to the target were found.  Originally I thought a logistic regression model may be best, especially for interpretability, I will focus on creating a Random Forest classification model.  This will be more robust to some of the aforementioned data concerns uncovered in EDA, but also still provide some insight of specific ticket metrics/data via feature importances.\n",
    "\n",
    "## Overview\n",
    "The modeling process for this project was quite iterative.  I performed some intial modeling with the full dataset and was observing models that were performing < 1% over baseline accuracy, even after multiple attempts at grid searching for better hyperparameters.  When evaluating some of those attempts, it was also clear that the accuracy was mostly acheieved by predicting the majority class and not having much predictive power in the minority class.  At that point, additional feature engineering, feature selection, and class imbalance investigations ensued in an ad-hoc manner. \n",
    "\n",
    "In trying to capture the work that was done, you'll find various notebooks, sections, and commented out code blocks that speak to different parts of this process.  Here is an overview of the various resources:\n",
    "\n",
    "* This notebook:\n",
    "    * Final Modeling - post initial model, feature engineering, and feature selection attempts\n",
    "        * 10 Features Modeling - modeling process using features selected after extended feature selection attempts from `05_feature_selection` notebook\n",
    "        * SMOTE with 10 Feature Model - using SMOTE with the 10 feature model and examining differences\n",
    "    * Appendix: Initial Modeling - represents some of the first modeling with the superset of features\n",
    "        * This includes some comments and notes from the first stages of modeling   \n",
    "* Supplement notebook:\n",
    "    * Imbalanced Class Investigation - covers some of the ad-hoc manual sampling and SMOTE attempt"
   ]
  },
  {
   "cell_type": "markdown",
   "id": "d7739fd8-aef1-4c33-8978-996640289bf7",
   "metadata": {},
   "source": [
    "# Import Libraries"
   ]
  },
  {
   "cell_type": "code",
   "execution_count": 211,
   "id": "8eae021d-d43c-45b4-b4e6-1f18d5b84321",
   "metadata": {
    "execution": {
     "iopub.execute_input": "2023-02-05T01:49:17.163997Z",
     "iopub.status.busy": "2023-02-05T01:49:17.162407Z",
     "iopub.status.idle": "2023-02-05T01:49:17.174674Z",
     "shell.execute_reply": "2023-02-05T01:49:17.174104Z",
     "shell.execute_reply.started": "2023-02-05T01:49:17.163904Z"
    },
    "tags": []
   },
   "outputs": [],
   "source": [
    "import numpy as np\n",
    "import pandas as pd\n",
    "import pickle\n",
    "import matplotlib.pyplot as plt\n",
    "\n",
    "from sklearn.preprocessing import StandardScaler\n",
    "from sklearn.pipeline import Pipeline\n",
    "from sklearn.model_selection import (cross_val_score, GridSearchCV, \n",
    "                                     train_test_split)\n",
    "\n",
    "from sklearn.ensemble import RandomForestClassifier\n",
    "from sklearn.metrics import (ConfusionMatrixDisplay, classification_report,\n",
    "                             RocCurveDisplay)\n",
    "\n",
    "from imblearn.over_sampling import SMOTE"
   ]
  },
  {
   "cell_type": "markdown",
   "id": "93f626c7-36d2-43fb-83a4-d3ed481d45a2",
   "metadata": {},
   "source": [
    "# Read Data\n",
    "\n",
    "Read the data file created from the data preparation stages of the project and check various aspects before modeling."
   ]
  },
  {
   "cell_type": "code",
   "execution_count": 212,
   "id": "52d4b87c-572d-43c9-b946-c3e71c6233a0",
   "metadata": {
    "execution": {
     "iopub.execute_input": "2023-02-05T01:49:17.176439Z",
     "iopub.status.busy": "2023-02-05T01:49:17.176055Z",
     "iopub.status.idle": "2023-02-05T01:49:17.190313Z",
     "shell.execute_reply": "2023-02-05T01:49:17.189967Z",
     "shell.execute_reply.started": "2023-02-05T01:49:17.176425Z"
    },
    "tags": []
   },
   "outputs": [],
   "source": [
    "tickets = pd.read_pickle('../data/modeling_data.pkl')"
   ]
  },
  {
   "cell_type": "code",
   "execution_count": 213,
   "id": "fa3bbd47-804e-44c0-ab6c-1f407a0f7f6c",
   "metadata": {
    "execution": {
     "iopub.execute_input": "2023-02-05T01:49:17.191261Z",
     "iopub.status.busy": "2023-02-05T01:49:17.191156Z",
     "iopub.status.idle": "2023-02-05T01:49:17.207315Z",
     "shell.execute_reply": "2023-02-05T01:49:17.206982Z",
     "shell.execute_reply.started": "2023-02-05T01:49:17.191252Z"
    },
    "tags": []
   },
   "outputs": [
    {
     "data": {
      "text/html": [
       "<div>\n",
       "<style scoped>\n",
       "    .dataframe tbody tr th:only-of-type {\n",
       "        vertical-align: middle;\n",
       "    }\n",
       "\n",
       "    .dataframe tbody tr th {\n",
       "        vertical-align: top;\n",
       "    }\n",
       "\n",
       "    .dataframe thead th {\n",
       "        text-align: right;\n",
       "    }\n",
       "</style>\n",
       "<table border=\"1\" class=\"dataframe\">\n",
       "  <thead>\n",
       "    <tr style=\"text-align: right;\">\n",
       "      <th></th>\n",
       "      <th>sat_score</th>\n",
       "      <th>grp_stations</th>\n",
       "      <th>asign_stations</th>\n",
       "      <th>reopens</th>\n",
       "      <th>replies</th>\n",
       "      <th>reply_mins</th>\n",
       "      <th>first_reso_mins</th>\n",
       "      <th>full_reso_mins</th>\n",
       "      <th>agt_wait_mins</th>\n",
       "      <th>reqstr_wait_mins</th>\n",
       "      <th>on_hold_mins</th>\n",
       "      <th>sent_score</th>\n",
       "      <th>num_comms</th>\n",
       "      <th>td_crtd_assnd</th>\n",
       "      <th>td_assnd_slvd</th>\n",
       "      <th>rply_rate</th>\n",
       "      <th>comm_rate</th>\n",
       "    </tr>\n",
       "  </thead>\n",
       "  <tbody>\n",
       "    <tr>\n",
       "      <th>0</th>\n",
       "      <td>0</td>\n",
       "      <td>1</td>\n",
       "      <td>1</td>\n",
       "      <td>0</td>\n",
       "      <td>1</td>\n",
       "      <td>23.0</td>\n",
       "      <td>23</td>\n",
       "      <td>23</td>\n",
       "      <td>0</td>\n",
       "      <td>23</td>\n",
       "      <td>0</td>\n",
       "      <td>0.746100</td>\n",
       "      <td>2</td>\n",
       "      <td>7.0</td>\n",
       "      <td>15.0</td>\n",
       "      <td>0.043478</td>\n",
       "      <td>0.086957</td>\n",
       "    </tr>\n",
       "    <tr>\n",
       "      <th>1</th>\n",
       "      <td>0</td>\n",
       "      <td>1</td>\n",
       "      <td>1</td>\n",
       "      <td>0</td>\n",
       "      <td>1</td>\n",
       "      <td>45.0</td>\n",
       "      <td>45</td>\n",
       "      <td>45</td>\n",
       "      <td>0</td>\n",
       "      <td>44</td>\n",
       "      <td>0</td>\n",
       "      <td>0.526767</td>\n",
       "      <td>3</td>\n",
       "      <td>10.0</td>\n",
       "      <td>34.0</td>\n",
       "      <td>0.022222</td>\n",
       "      <td>0.066667</td>\n",
       "    </tr>\n",
       "    <tr>\n",
       "      <th>2</th>\n",
       "      <td>0</td>\n",
       "      <td>1</td>\n",
       "      <td>1</td>\n",
       "      <td>0</td>\n",
       "      <td>1</td>\n",
       "      <td>9.0</td>\n",
       "      <td>9</td>\n",
       "      <td>9</td>\n",
       "      <td>0</td>\n",
       "      <td>9</td>\n",
       "      <td>0</td>\n",
       "      <td>0.776250</td>\n",
       "      <td>2</td>\n",
       "      <td>7.0</td>\n",
       "      <td>2.0</td>\n",
       "      <td>0.111111</td>\n",
       "      <td>0.222222</td>\n",
       "    </tr>\n",
       "  </tbody>\n",
       "</table>\n",
       "</div>"
      ],
      "text/plain": [
       "   sat_score  grp_stations  asign_stations  reopens  replies  reply_mins  \\\n",
       "0          0             1               1        0        1        23.0   \n",
       "1          0             1               1        0        1        45.0   \n",
       "2          0             1               1        0        1         9.0   \n",
       "\n",
       "   first_reso_mins  full_reso_mins  agt_wait_mins  reqstr_wait_mins  \\\n",
       "0               23              23              0                23   \n",
       "1               45              45              0                44   \n",
       "2                9               9              0                 9   \n",
       "\n",
       "   on_hold_mins  sent_score  num_comms  td_crtd_assnd  td_assnd_slvd  \\\n",
       "0             0    0.746100          2            7.0           15.0   \n",
       "1             0    0.526767          3           10.0           34.0   \n",
       "2             0    0.776250          2            7.0            2.0   \n",
       "\n",
       "   rply_rate  comm_rate  \n",
       "0   0.043478   0.086957  \n",
       "1   0.022222   0.066667  \n",
       "2   0.111111   0.222222  "
      ]
     },
     "execution_count": 213,
     "metadata": {},
     "output_type": "execute_result"
    }
   ],
   "source": [
    "tickets.head(3)"
   ]
  },
  {
   "cell_type": "code",
   "execution_count": 214,
   "id": "37eb1d08-ba0a-45a8-9333-cb7ed298c593",
   "metadata": {
    "execution": {
     "iopub.execute_input": "2023-02-05T01:49:17.208188Z",
     "iopub.status.busy": "2023-02-05T01:49:17.208000Z",
     "iopub.status.idle": "2023-02-05T01:49:17.210592Z",
     "shell.execute_reply": "2023-02-05T01:49:17.210293Z",
     "shell.execute_reply.started": "2023-02-05T01:49:17.208177Z"
    },
    "tags": []
   },
   "outputs": [
    {
     "data": {
      "text/plain": [
       "(13323, 17)"
      ]
     },
     "execution_count": 214,
     "metadata": {},
     "output_type": "execute_result"
    }
   ],
   "source": [
    "tickets.shape"
   ]
  },
  {
   "cell_type": "code",
   "execution_count": 215,
   "id": "e15d195c-1ff6-4e2c-b155-d6cb246fe079",
   "metadata": {
    "execution": {
     "iopub.execute_input": "2023-02-05T01:49:17.212414Z",
     "iopub.status.busy": "2023-02-05T01:49:17.212259Z",
     "iopub.status.idle": "2023-02-05T01:49:17.215319Z",
     "shell.execute_reply": "2023-02-05T01:49:17.215003Z",
     "shell.execute_reply.started": "2023-02-05T01:49:17.212398Z"
    },
    "tags": []
   },
   "outputs": [
    {
     "data": {
      "text/plain": [
       "Index(['sat_score', 'grp_stations', 'asign_stations', 'reopens', 'replies',\n",
       "       'reply_mins', 'first_reso_mins', 'full_reso_mins', 'agt_wait_mins',\n",
       "       'reqstr_wait_mins', 'on_hold_mins', 'sent_score', 'num_comms',\n",
       "       'td_crtd_assnd', 'td_assnd_slvd', 'rply_rate', 'comm_rate'],\n",
       "      dtype='object')"
      ]
     },
     "execution_count": 215,
     "metadata": {},
     "output_type": "execute_result"
    }
   ],
   "source": [
    "tickets.columns"
   ]
  },
  {
   "cell_type": "code",
   "execution_count": 216,
   "id": "aa1399b9-db6d-4242-83b9-f3cca1c7c905",
   "metadata": {
    "execution": {
     "iopub.execute_input": "2023-02-05T01:49:17.216035Z",
     "iopub.status.busy": "2023-02-05T01:49:17.215899Z",
     "iopub.status.idle": "2023-02-05T01:49:17.219915Z",
     "shell.execute_reply": "2023-02-05T01:49:17.219580Z",
     "shell.execute_reply.started": "2023-02-05T01:49:17.216026Z"
    },
    "tags": []
   },
   "outputs": [
    {
     "data": {
      "text/plain": [
       "sat_score             int64\n",
       "grp_stations          int64\n",
       "asign_stations        int64\n",
       "reopens               int64\n",
       "replies               int64\n",
       "reply_mins          float64\n",
       "first_reso_mins       int64\n",
       "full_reso_mins        int64\n",
       "agt_wait_mins         int64\n",
       "reqstr_wait_mins      int64\n",
       "on_hold_mins          int64\n",
       "sent_score          float64\n",
       "num_comms             int64\n",
       "td_crtd_assnd       float64\n",
       "td_assnd_slvd       float64\n",
       "rply_rate           float64\n",
       "comm_rate           float64\n",
       "dtype: object"
      ]
     },
     "execution_count": 216,
     "metadata": {},
     "output_type": "execute_result"
    }
   ],
   "source": [
    "tickets.dtypes"
   ]
  },
  {
   "cell_type": "code",
   "execution_count": 217,
   "id": "4b86b74f-6e28-43ab-a881-0458926b2da0",
   "metadata": {
    "execution": {
     "iopub.execute_input": "2023-02-05T01:49:17.220558Z",
     "iopub.status.busy": "2023-02-05T01:49:17.220432Z",
     "iopub.status.idle": "2023-02-05T01:49:17.226376Z",
     "shell.execute_reply": "2023-02-05T01:49:17.226075Z",
     "shell.execute_reply.started": "2023-02-05T01:49:17.220546Z"
    },
    "tags": []
   },
   "outputs": [
    {
     "data": {
      "text/plain": [
       "Series([], dtype: int64)"
      ]
     },
     "execution_count": 217,
     "metadata": {},
     "output_type": "execute_result"
    }
   ],
   "source": [
    "tickets.isna().sum()[tickets.isna().sum() > 0]"
   ]
  },
  {
   "cell_type": "code",
   "execution_count": 218,
   "id": "dc0ef667-585e-465c-a701-64fd8c4b144a",
   "metadata": {
    "execution": {
     "iopub.execute_input": "2023-02-05T01:49:17.226983Z",
     "iopub.status.busy": "2023-02-05T01:49:17.226888Z",
     "iopub.status.idle": "2023-02-05T01:49:17.232269Z",
     "shell.execute_reply": "2023-02-05T01:49:17.231959Z",
     "shell.execute_reply.started": "2023-02-05T01:49:17.226974Z"
    },
    "tags": []
   },
   "outputs": [
    {
     "data": {
      "text/plain": [
       "1    11386\n",
       "0     1937\n",
       "Name: sat_score, dtype: int64"
      ]
     },
     "execution_count": 218,
     "metadata": {},
     "output_type": "execute_result"
    }
   ],
   "source": [
    "tickets['sat_score'].value_counts()"
   ]
  },
  {
   "cell_type": "code",
   "execution_count": 219,
   "id": "e3c469d9-facb-4bc9-a13e-a7d5e310bbf9",
   "metadata": {
    "execution": {
     "iopub.execute_input": "2023-02-05T01:49:17.233015Z",
     "iopub.status.busy": "2023-02-05T01:49:17.232874Z",
     "iopub.status.idle": "2023-02-05T01:49:17.236629Z",
     "shell.execute_reply": "2023-02-05T01:49:17.236305Z",
     "shell.execute_reply.started": "2023-02-05T01:49:17.233006Z"
    },
    "tags": []
   },
   "outputs": [
    {
     "data": {
      "text/plain": [
       "1    85.46\n",
       "0    14.54\n",
       "Name: sat_score, dtype: float64"
      ]
     },
     "execution_count": 219,
     "metadata": {},
     "output_type": "execute_result"
    }
   ],
   "source": [
    "tickets['sat_score'].value_counts(normalize=True).mul(100).round(2)"
   ]
  },
  {
   "cell_type": "markdown",
   "id": "687653d7-1b78-45df-bf2f-f5c4c1b2ae42",
   "metadata": {
    "tags": []
   },
   "source": [
    "# Prepare Data"
   ]
  },
  {
   "cell_type": "markdown",
   "id": "bf67b1ca-8aac-454f-81fd-59b1aad59466",
   "metadata": {},
   "source": [
    "## Import Features from `05_feature_selection`\n",
    "\n",
    "After some initial model performance issues, there was some ad-hoc feature selection and class imbalance investigation.  The algorithmic feature selection occurred in a separate notebook, but I did pickle different feature sets from that notebook so they could be imported here for for reference.  Time permitting, I'd like to work through modeling an evaluation on all these feature sets, but they are listed here in priority order for modeling:\n",
    "1. `../data/select_10_feats.pkl` - the 10 features that had consensus between tree-based and RFE\n",
    "2. `../data/k10_feats.pkl` - the 10 features that were identified by the univariate selection method\n",
    "3. `../data/feats_common_eliminated.pkl` - feature list that excludes features that were eliminated by tree-based, rfe 10, and k10\n",
    "\n",
    "**_NOTE: These feature lists do NOT include the target_**"
   ]
  },
  {
   "cell_type": "code",
   "execution_count": 220,
   "id": "84bda42c-0983-4b1f-beb7-5752678a3fc5",
   "metadata": {
    "execution": {
     "iopub.execute_input": "2023-02-05T01:49:17.237239Z",
     "iopub.status.busy": "2023-02-05T01:49:17.237131Z",
     "iopub.status.idle": "2023-02-05T01:49:17.239591Z",
     "shell.execute_reply": "2023-02-05T01:49:17.239277Z",
     "shell.execute_reply.started": "2023-02-05T01:49:17.237231Z"
    },
    "tags": []
   },
   "outputs": [],
   "source": [
    "with open('../data/select_10_feats.pkl', 'rb') as f:\n",
    "    feats_10 = list(pickle.load(f))"
   ]
  },
  {
   "cell_type": "markdown",
   "id": "71403068-a589-4eff-ad2a-d02b4b07d567",
   "metadata": {},
   "source": [
    "## Train/Test Split"
   ]
  },
  {
   "cell_type": "code",
   "execution_count": 221,
   "id": "68e2e33f-81c2-4106-a938-5de3a63a34b5",
   "metadata": {
    "execution": {
     "iopub.execute_input": "2023-02-05T01:49:17.240089Z",
     "iopub.status.busy": "2023-02-05T01:49:17.239997Z",
     "iopub.status.idle": "2023-02-05T01:49:17.251521Z",
     "shell.execute_reply": "2023-02-05T01:49:17.251192Z",
     "shell.execute_reply.started": "2023-02-05T01:49:17.240081Z"
    },
    "tags": []
   },
   "outputs": [],
   "source": [
    "X = tickets[feats_10]\n",
    "y = tickets['sat_score']\n",
    "\n",
    "X_train, X_test, y_train, y_test = train_test_split(X, y, \n",
    "                                                   test_size=0.2,\n",
    "                                                   stratify=y,\n",
    "                                                   random_state=415)"
   ]
  },
  {
   "cell_type": "code",
   "execution_count": 222,
   "id": "bf0b0572-8e85-45fd-8577-8a38b97ee6ef",
   "metadata": {
    "execution": {
     "iopub.execute_input": "2023-02-05T01:49:17.252218Z",
     "iopub.status.busy": "2023-02-05T01:49:17.252054Z",
     "iopub.status.idle": "2023-02-05T01:49:17.254849Z",
     "shell.execute_reply": "2023-02-05T01:49:17.254494Z",
     "shell.execute_reply.started": "2023-02-05T01:49:17.252207Z"
    },
    "tags": []
   },
   "outputs": [
    {
     "data": {
      "text/plain": [
       "((10658, 10), (2665, 10), (10658,), (2665,))"
      ]
     },
     "execution_count": 222,
     "metadata": {},
     "output_type": "execute_result"
    }
   ],
   "source": [
    "X_train.shape, X_test.shape, y_train.shape, y_test.shape"
   ]
  },
  {
   "cell_type": "markdown",
   "id": "b065259d-8a99-46e1-8173-5cd5c29a19d0",
   "metadata": {},
   "source": [
    "Check stratification / class balance"
   ]
  },
  {
   "cell_type": "code",
   "execution_count": 223,
   "id": "119fa2aa-bf33-42d9-9093-79f585f0a38b",
   "metadata": {
    "execution": {
     "iopub.execute_input": "2023-02-05T01:49:17.255391Z",
     "iopub.status.busy": "2023-02-05T01:49:17.255265Z",
     "iopub.status.idle": "2023-02-05T01:49:17.258906Z",
     "shell.execute_reply": "2023-02-05T01:49:17.258613Z",
     "shell.execute_reply.started": "2023-02-05T01:49:17.255381Z"
    },
    "tags": []
   },
   "outputs": [
    {
     "data": {
      "text/plain": [
       "(1    0.854569\n",
       " 0    0.145431\n",
       " Name: sat_score, dtype: float64,\n",
       " 1    0.854784\n",
       " 0    0.145216\n",
       " Name: sat_score, dtype: float64)"
      ]
     },
     "execution_count": 223,
     "metadata": {},
     "output_type": "execute_result"
    }
   ],
   "source": [
    "y_train.value_counts(normalize=True), y_test.value_counts(normalize=True)"
   ]
  },
  {
   "cell_type": "markdown",
   "id": "f4bdbcc3-4973-4b86-b6a9-76699804c778",
   "metadata": {},
   "source": [
    "# Modeling"
   ]
  },
  {
   "cell_type": "markdown",
   "id": "ec758076-83e8-4686-8cf2-6666755f471d",
   "metadata": {
    "tags": []
   },
   "source": [
    "## Final Modeling: 10 Features\n",
    "\n",
    "### Default Random Forest\n",
    "Random Forest with all default parameter settings"
   ]
  },
  {
   "cell_type": "code",
   "execution_count": 224,
   "id": "63208813-c349-46dd-a748-b9410005c539",
   "metadata": {
    "execution": {
     "iopub.execute_input": "2023-02-05T01:49:17.261750Z",
     "iopub.status.busy": "2023-02-05T01:49:17.261610Z",
     "iopub.status.idle": "2023-02-05T01:49:17.263710Z",
     "shell.execute_reply": "2023-02-05T01:49:17.263373Z",
     "shell.execute_reply.started": "2023-02-05T01:49:17.261740Z"
    },
    "tags": []
   },
   "outputs": [],
   "source": [
    "rf = RandomForestClassifier()"
   ]
  },
  {
   "cell_type": "code",
   "execution_count": 225,
   "id": "c4bde2be-0598-472b-9b50-7dccc9341a77",
   "metadata": {
    "execution": {
     "iopub.execute_input": "2023-02-05T01:49:17.264258Z",
     "iopub.status.busy": "2023-02-05T01:49:17.264166Z",
     "iopub.status.idle": "2023-02-05T01:49:19.231195Z",
     "shell.execute_reply": "2023-02-05T01:49:19.230894Z",
     "shell.execute_reply.started": "2023-02-05T01:49:17.264250Z"
    },
    "tags": []
   },
   "outputs": [
    {
     "data": {
      "text/html": [
       "<style>#sk-container-id-9 {color: black;background-color: white;}#sk-container-id-9 pre{padding: 0;}#sk-container-id-9 div.sk-toggleable {background-color: white;}#sk-container-id-9 label.sk-toggleable__label {cursor: pointer;display: block;width: 100%;margin-bottom: 0;padding: 0.3em;box-sizing: border-box;text-align: center;}#sk-container-id-9 label.sk-toggleable__label-arrow:before {content: \"▸\";float: left;margin-right: 0.25em;color: #696969;}#sk-container-id-9 label.sk-toggleable__label-arrow:hover:before {color: black;}#sk-container-id-9 div.sk-estimator:hover label.sk-toggleable__label-arrow:before {color: black;}#sk-container-id-9 div.sk-toggleable__content {max-height: 0;max-width: 0;overflow: hidden;text-align: left;background-color: #f0f8ff;}#sk-container-id-9 div.sk-toggleable__content pre {margin: 0.2em;color: black;border-radius: 0.25em;background-color: #f0f8ff;}#sk-container-id-9 input.sk-toggleable__control:checked~div.sk-toggleable__content {max-height: 200px;max-width: 100%;overflow: auto;}#sk-container-id-9 input.sk-toggleable__control:checked~label.sk-toggleable__label-arrow:before {content: \"▾\";}#sk-container-id-9 div.sk-estimator input.sk-toggleable__control:checked~label.sk-toggleable__label {background-color: #d4ebff;}#sk-container-id-9 div.sk-label input.sk-toggleable__control:checked~label.sk-toggleable__label {background-color: #d4ebff;}#sk-container-id-9 input.sk-hidden--visually {border: 0;clip: rect(1px 1px 1px 1px);clip: rect(1px, 1px, 1px, 1px);height: 1px;margin: -1px;overflow: hidden;padding: 0;position: absolute;width: 1px;}#sk-container-id-9 div.sk-estimator {font-family: monospace;background-color: #f0f8ff;border: 1px dotted black;border-radius: 0.25em;box-sizing: border-box;margin-bottom: 0.5em;}#sk-container-id-9 div.sk-estimator:hover {background-color: #d4ebff;}#sk-container-id-9 div.sk-parallel-item::after {content: \"\";width: 100%;border-bottom: 1px solid gray;flex-grow: 1;}#sk-container-id-9 div.sk-label:hover label.sk-toggleable__label {background-color: #d4ebff;}#sk-container-id-9 div.sk-serial::before {content: \"\";position: absolute;border-left: 1px solid gray;box-sizing: border-box;top: 0;bottom: 0;left: 50%;z-index: 0;}#sk-container-id-9 div.sk-serial {display: flex;flex-direction: column;align-items: center;background-color: white;padding-right: 0.2em;padding-left: 0.2em;position: relative;}#sk-container-id-9 div.sk-item {position: relative;z-index: 1;}#sk-container-id-9 div.sk-parallel {display: flex;align-items: stretch;justify-content: center;background-color: white;position: relative;}#sk-container-id-9 div.sk-item::before, #sk-container-id-9 div.sk-parallel-item::before {content: \"\";position: absolute;border-left: 1px solid gray;box-sizing: border-box;top: 0;bottom: 0;left: 50%;z-index: -1;}#sk-container-id-9 div.sk-parallel-item {display: flex;flex-direction: column;z-index: 1;position: relative;background-color: white;}#sk-container-id-9 div.sk-parallel-item:first-child::after {align-self: flex-end;width: 50%;}#sk-container-id-9 div.sk-parallel-item:last-child::after {align-self: flex-start;width: 50%;}#sk-container-id-9 div.sk-parallel-item:only-child::after {width: 0;}#sk-container-id-9 div.sk-dashed-wrapped {border: 1px dashed gray;margin: 0 0.4em 0.5em 0.4em;box-sizing: border-box;padding-bottom: 0.4em;background-color: white;}#sk-container-id-9 div.sk-label label {font-family: monospace;font-weight: bold;display: inline-block;line-height: 1.2em;}#sk-container-id-9 div.sk-label-container {text-align: center;}#sk-container-id-9 div.sk-container {/* jupyter's `normalize.less` sets `[hidden] { display: none; }` but bootstrap.min.css set `[hidden] { display: none !important; }` so we also need the `!important` here to be able to override the default hidden behavior on the sphinx rendered scikit-learn.org. See: https://github.com/scikit-learn/scikit-learn/issues/21755 */display: inline-block !important;position: relative;}#sk-container-id-9 div.sk-text-repr-fallback {display: none;}</style><div id=\"sk-container-id-9\" class=\"sk-top-container\"><div class=\"sk-text-repr-fallback\"><pre>RandomForestClassifier()</pre><b>In a Jupyter environment, please rerun this cell to show the HTML representation or trust the notebook. <br />On GitHub, the HTML representation is unable to render, please try loading this page with nbviewer.org.</b></div><div class=\"sk-container\" hidden><div class=\"sk-item\"><div class=\"sk-estimator sk-toggleable\"><input class=\"sk-toggleable__control sk-hidden--visually\" id=\"sk-estimator-id-9\" type=\"checkbox\" checked><label for=\"sk-estimator-id-9\" class=\"sk-toggleable__label sk-toggleable__label-arrow\">RandomForestClassifier</label><div class=\"sk-toggleable__content\"><pre>RandomForestClassifier()</pre></div></div></div></div></div>"
      ],
      "text/plain": [
       "RandomForestClassifier()"
      ]
     },
     "execution_count": 225,
     "metadata": {},
     "output_type": "execute_result"
    }
   ],
   "source": [
    "rf.fit(X_train, y_train)"
   ]
  },
  {
   "cell_type": "code",
   "execution_count": 226,
   "id": "6773beb0-6bdd-4462-95dc-1bcaa589309e",
   "metadata": {
    "execution": {
     "iopub.execute_input": "2023-02-05T01:49:19.231789Z",
     "iopub.status.busy": "2023-02-05T01:49:19.231705Z",
     "iopub.status.idle": "2023-02-05T01:49:26.833865Z",
     "shell.execute_reply": "2023-02-05T01:49:26.833583Z",
     "shell.execute_reply.started": "2023-02-05T01:49:19.231780Z"
    },
    "tags": []
   },
   "outputs": [
    {
     "name": "stdout",
     "output_type": "stream",
     "text": [
      "CrossVal: 0.8465\n",
      "Train Score: 0.9999\n",
      "Test Score: 0.8458\n"
     ]
    }
   ],
   "source": [
    "print(\n",
    "    f'CrossVal: {cross_val_score(rf, X_train, y_train).mean().round(4)}\\n'\n",
    "    f'Train Score: {rf.score(X_train, y_train).round(4)}\\n'\n",
    "    f'Test Score: {rf.score(X_test, y_test).round(4)}'\n",
    ")"
   ]
  },
  {
   "cell_type": "markdown",
   "id": "ae34131b-b272-4d56-9cea-7e682351cded",
   "metadata": {},
   "source": [
    "Default model is overfit, which tree models have a tendency to do, and Random Forests as they default to no limit on max_depth so nodes are expanded until all leaves are pure.  The test score is in line with the expectations from the cross val score, but slightly below baseline."
   ]
  },
  {
   "cell_type": "markdown",
   "id": "54a0acac-69d7-4fbd-8930-107e41f605df",
   "metadata": {},
   "source": [
    "### Parameter GridSearch\n",
    "\n",
    "In order to try and identify ideal hyperparameters, GridSearch will be used to search through a parameter grid."
   ]
  },
  {
   "cell_type": "code",
   "execution_count": 227,
   "id": "3e9c7d3f-8007-4bfb-9c27-5b74d5fdc03d",
   "metadata": {
    "execution": {
     "iopub.execute_input": "2023-02-05T01:49:26.834426Z",
     "iopub.status.busy": "2023-02-05T01:49:26.834338Z",
     "iopub.status.idle": "2023-02-05T01:49:26.837319Z",
     "shell.execute_reply": "2023-02-05T01:49:26.837035Z",
     "shell.execute_reply.started": "2023-02-05T01:49:26.834418Z"
    },
    "tags": []
   },
   "outputs": [],
   "source": [
    "# configure pipeline\n",
    "rf_pipe = Pipeline([\n",
    "    ('rf', RandomForestClassifier())\n",
    "])\n",
    "\n",
    "\n",
    "# feats_10 (will run if I have time; not done yet)\n",
    "rf_params = {\n",
    "    'rf__n_estimators': np.arange(210, 241, 5),\n",
    "    'rf__criterion' : [\"gini\", \"entropy\"],\n",
    "    'rf__max_depth': np.arange(8, 15, 1),\n",
    "    'rf__min_samples_leaf': np.arange(4, 10),\n",
    "    'rf__bootstrap': [True],\n",
    "    'rf__warm_start': [True, False],\n",
    "    'rf__max_features': np.arange(2, 5)\n",
    "}\n",
    "\n",
    "# param grid for feats_10 (42m)\n",
    "# rf_params = {\n",
    "#     'rf__n_estimators': np.arange(100, 250, 25),\n",
    "#     'rf__criterion' : [\"gini\", \"entropy\"],\n",
    "#     'rf__max_depth': np.arange(10, 50, 10),\n",
    "#     'rf__min_samples_leaf': np.arange(1, 6),\n",
    "#     'rf__bootstrap': [True],\n",
    "#     'rf__warm_start': [True, False],\n",
    "#     'rf__max_features': np.arange(3, 6)\n",
    "# }\n",
    "\n",
    "# new param grid for feats_10 broad search (too broad; had to bail after 23h 18m)\n",
    "# Fitting 5 folds for each of 36000 candidates, totalling 180000 fits\n",
    "# rf_params = {\n",
    "#     'rf__n_estimators': np.arange(50, 300, 25),\n",
    "#     'rf__criterion' : [\"gini\", \"entropy\"],\n",
    "#     'rf__max_depth': np.arange(10, 100, 10),\n",
    "#     'rf__min_samples_leaf': np.arange(1, 11),\n",
    "#     'rf__bootstrap': [False, True],\n",
    "#     'rf__warm_start': [True, False],\n",
    "#     'rf__max_features': np.arange(3, 8)\n",
    "# }"
   ]
  },
  {
   "cell_type": "code",
   "execution_count": 228,
   "id": "16859099-9870-4525-88c4-231985c64424",
   "metadata": {
    "execution": {
     "iopub.execute_input": "2023-02-05T01:49:26.837797Z",
     "iopub.status.busy": "2023-02-05T01:49:26.837717Z",
     "iopub.status.idle": "2023-02-05T01:49:26.839645Z",
     "shell.execute_reply": "2023-02-05T01:49:26.839330Z",
     "shell.execute_reply.started": "2023-02-05T01:49:26.837790Z"
    },
    "tags": []
   },
   "outputs": [],
   "source": [
    "# commenting out so notebook can be run\n",
    "# gs = GridSearchCV(rf_pipe, rf_params, n_jobs=-1, verbose=1)\n",
    "# gs.fit(X_train, y_train)\n",
    "# gs.best_params_\n",
    "\n",
    "# feats_10 #1 42m\n",
    "# Fitting 5 folds for each of 1440 candidates, totalling 7200 fits\n",
    "\n",
    "# {'rf__bootstrap': True,\n",
    "#  'rf__criterion': 'gini',\n",
    "#  'rf__max_depth': 10,\n",
    "#  'rf__max_features': 3,\n",
    "#  'rf__min_samples_leaf': 5,\n",
    "#  'rf__n_estimators': 200,\n",
    "#  'rf__warm_start': True}"
   ]
  },
  {
   "cell_type": "markdown",
   "id": "8bc065ae-80b7-4732-852b-780a1ff9bcb4",
   "metadata": {},
   "source": [
    "#### Save Model\n",
    "\n",
    "Create a classifier with the parameters found and save it for reference and re-use."
   ]
  },
  {
   "cell_type": "code",
   "execution_count": 229,
   "id": "c61cebc6-cc55-4b3f-b163-ab3bc2e068fb",
   "metadata": {
    "execution": {
     "iopub.execute_input": "2023-02-05T01:49:26.840127Z",
     "iopub.status.busy": "2023-02-05T01:49:26.840034Z",
     "iopub.status.idle": "2023-02-05T01:49:26.842351Z",
     "shell.execute_reply": "2023-02-05T01:49:26.842007Z",
     "shell.execute_reply.started": "2023-02-05T01:49:26.840119Z"
    },
    "tags": []
   },
   "outputs": [],
   "source": [
    "rf_feats_10 = RandomForestClassifier(bootstrap=True,\n",
    "                                     criterion='gini',\n",
    "                                     max_depth=10,\n",
    "                                     max_features=3,\n",
    "                                     min_samples_leaf=5,\n",
    "                                     n_estimators=200,\n",
    "                                     warm_start=True)"
   ]
  },
  {
   "cell_type": "code",
   "execution_count": 230,
   "id": "27aa2c07-c961-462b-a680-27e506738396",
   "metadata": {
    "execution": {
     "iopub.execute_input": "2023-02-05T01:49:26.842938Z",
     "iopub.status.busy": "2023-02-05T01:49:26.842807Z",
     "iopub.status.idle": "2023-02-05T01:49:26.846091Z",
     "shell.execute_reply": "2023-02-05T01:49:26.845742Z",
     "shell.execute_reply.started": "2023-02-05T01:49:26.842929Z"
    },
    "tags": []
   },
   "outputs": [],
   "source": [
    "with open('../models/rf_feats_10.pkl', 'wb') as f:\n",
    "    pickle.dump(rf_feats_10, f)"
   ]
  },
  {
   "cell_type": "markdown",
   "id": "a7ae3951-96ac-4341-8e80-c56642eb7a9b",
   "metadata": {},
   "source": [
    "### Evaluation\n",
    "\n",
    "In this section, various aspects of the model performance will be examined."
   ]
  },
  {
   "cell_type": "markdown",
   "id": "9b9eea4d-477b-4337-92a8-a8c8ad79a011",
   "metadata": {},
   "source": [
    "#### Model Score"
   ]
  },
  {
   "cell_type": "code",
   "execution_count": 231,
   "id": "727c3ded-c971-45b4-a63b-9b7348f01c17",
   "metadata": {
    "execution": {
     "iopub.execute_input": "2023-02-05T01:49:26.846679Z",
     "iopub.status.busy": "2023-02-05T01:49:26.846565Z",
     "iopub.status.idle": "2023-02-05T01:49:26.850244Z",
     "shell.execute_reply": "2023-02-05T01:49:26.849842Z",
     "shell.execute_reply.started": "2023-02-05T01:49:26.846671Z"
    },
    "tags": []
   },
   "outputs": [
    {
     "data": {
      "text/plain": [
       "1    0.854784\n",
       "0    0.145216\n",
       "Name: sat_score, dtype: float64"
      ]
     },
     "execution_count": 231,
     "metadata": {},
     "output_type": "execute_result"
    }
   ],
   "source": [
    "# recall baseline\n",
    "y_test.value_counts(normalize=True)"
   ]
  },
  {
   "cell_type": "markdown",
   "id": "e6fa1fdc-3fd3-4374-a968-713c310a0920",
   "metadata": {},
   "source": [
    "Now that the model has been saved above, estimator is now `rf_feats_10`, fit and score:"
   ]
  },
  {
   "cell_type": "code",
   "execution_count": 232,
   "id": "ff48ff1a-a114-4365-beeb-fd0c67b6cfc4",
   "metadata": {
    "execution": {
     "iopub.execute_input": "2023-02-05T01:49:26.850793Z",
     "iopub.status.busy": "2023-02-05T01:49:26.850709Z",
     "iopub.status.idle": "2023-02-05T01:49:39.231521Z",
     "shell.execute_reply": "2023-02-05T01:49:39.231193Z",
     "shell.execute_reply.started": "2023-02-05T01:49:26.850785Z"
    },
    "tags": []
   },
   "outputs": [
    {
     "name": "stdout",
     "output_type": "stream",
     "text": [
      "CrossVal: 0.8552\n",
      "Train Score: 0.8602\n",
      "Test Score: 0.8544\n"
     ]
    }
   ],
   "source": [
    "rf_feats_10.fit(X_train, y_train)\n",
    "\n",
    "print(\n",
    "f'CrossVal: {cross_val_score(rf_feats_10, X_train, y_train).mean().round(4)}\\n'\n",
    "f'Train Score: {rf_feats_10.score(X_train, y_train).round(4)}\\n'\n",
    "f'Test Score: {rf_feats_10.score(X_test, y_test).round(4)}'\n",
    ")"
   ]
  },
  {
   "cell_type": "markdown",
   "id": "8cd846c8-4e26-4d24-be0c-db4e1532dcf7",
   "metadata": {},
   "source": [
    "At first glance, this looks to be a model that isn't overfit and has reasonable scores, given the cross validation score, however, the test score is reporting accuracy very close to the baseline of 85.47% so this is very minimal improvement."
   ]
  },
  {
   "cell_type": "markdown",
   "id": "e80e4ee5-250b-4dd6-92e9-7cb6d744b075",
   "metadata": {},
   "source": [
    "#### Classification Report and Confusion Matrix"
   ]
  },
  {
   "cell_type": "code",
   "execution_count": 233,
   "id": "1a153c3c-474f-4ce8-8447-0cd1bddbd912",
   "metadata": {
    "execution": {
     "iopub.execute_input": "2023-02-05T01:49:39.232072Z",
     "iopub.status.busy": "2023-02-05T01:49:39.231986Z",
     "iopub.status.idle": "2023-02-05T01:49:39.276750Z",
     "shell.execute_reply": "2023-02-05T01:49:39.276431Z",
     "shell.execute_reply.started": "2023-02-05T01:49:39.232065Z"
    },
    "tags": []
   },
   "outputs": [
    {
     "name": "stdout",
     "output_type": "stream",
     "text": [
      "              precision    recall  f1-score   support\n",
      "\n",
      "           0       0.40      0.01      0.01       387\n",
      "           1       0.86      1.00      0.92      2278\n",
      "\n",
      "    accuracy                           0.85      2665\n",
      "   macro avg       0.63      0.50      0.47      2665\n",
      "weighted avg       0.79      0.85      0.79      2665\n",
      "\n"
     ]
    }
   ],
   "source": [
    "print(\n",
    "    classification_report(y_test,\n",
    "                          rf_feats_10.predict(X_test))\n",
    ")"
   ]
  },
  {
   "cell_type": "markdown",
   "id": "600d2522-1c9c-409b-9a75-40a0532b059b",
   "metadata": {},
   "source": [
    "This is very similar to what was observed in the initial model, especially looking at how the recall and f1-scores are very far apart from each other.  \n",
    "* Recall is so low since there were only 2 predicted minority class samples out of 387.  \n",
    "* The precision score, especially for the minority class is misleading since .50 does not seem that bad, but it's because it only predicted 4 total \"0\" values and 2 were correct.  \n",
    "\n",
    "Overall, this model is not predicting the minority class samples very well at all."
   ]
  },
  {
   "cell_type": "code",
   "execution_count": 234,
   "id": "e5ce66eb-bb55-4fe0-837b-cd8135ba015d",
   "metadata": {
    "execution": {
     "iopub.execute_input": "2023-02-05T01:49:39.277486Z",
     "iopub.status.busy": "2023-02-05T01:49:39.277333Z",
     "iopub.status.idle": "2023-02-05T01:49:39.534113Z",
     "shell.execute_reply": "2023-02-05T01:49:39.533803Z",
     "shell.execute_reply.started": "2023-02-05T01:49:39.277477Z"
    },
    "tags": []
   },
   "outputs": [
    {
     "data": {
      "image/png": "[encoded data removed]",
      "text/plain": [
       "<Figure size 1600x600 with 4 Axes>"
      ]
     },
     "metadata": {},
     "output_type": "display_data"
    }
   ],
   "source": [
    "# feats_10 #1\n",
    "fig, (ax1, ax2) = plt.subplots(1, 2, figsize=(16,6))\n",
    "\n",
    "ConfusionMatrixDisplay.from_estimator(rf_feats_10, \n",
    "                                      X_test, \n",
    "                                      y_test,\n",
    "                                      cmap='Purples',\n",
    "                                      ax=ax1)\n",
    "ax1.set_title('10 feature Random Forest model\\nSample Counts')\n",
    "\n",
    "ConfusionMatrixDisplay.from_estimator(rf_feats_10, \n",
    "                                      X_test, \n",
    "                                      y_test,\n",
    "                                      normalize='all',\n",
    "                                      cmap='Purples',\n",
    "                                      ax=ax2)\n",
    "ax2.set_title('10 feature Random Forest model\\n% Values');"
   ]
  },
  {
   "cell_type": "markdown",
   "id": "b7cd8e84-a707-479d-ad0f-4602658d256d",
   "metadata": {},
   "source": [
    "Here we can see that the model is predicting the majority class in most cases, ~99% of the time.  This is causing many false positives.  Also, very small percentages of false negative and true negative values.  This is indicating that the model still, even after the algorithmic feature selection, isn't separating the classes very well."
   ]
  },
  {
   "cell_type": "markdown",
   "id": "ead6fde3-57b0-4af7-849d-3c6983fbe49f",
   "metadata": {},
   "source": [
    "#### Probabilities\n",
    "\n",
    "To continue to understand more aspects about these results, we'll predict probabilities and examine some of the scores to see how that supports what we're seeing above in the classification report and the confusion matrix."
   ]
  },
  {
   "cell_type": "code",
   "execution_count": 235,
   "id": "8b8fd6f3-af0a-4fad-adde-dd6f608d192f",
   "metadata": {
    "execution": {
     "iopub.execute_input": "2023-02-05T01:49:39.534717Z",
     "iopub.status.busy": "2023-02-05T01:49:39.534625Z",
     "iopub.status.idle": "2023-02-05T01:49:39.577973Z",
     "shell.execute_reply": "2023-02-05T01:49:39.577510Z",
     "shell.execute_reply.started": "2023-02-05T01:49:39.534710Z"
    },
    "tags": []
   },
   "outputs": [],
   "source": [
    "# create dataframe from predicted probabilities from the esimator\n",
    "probs = pd.DataFrame(rf_feats_10.predict_proba(X_test), \n",
    "                     columns=rf_feats_10.classes_)"
   ]
  },
  {
   "cell_type": "code",
   "execution_count": 236,
   "id": "33e42247-60ac-40d0-9d52-21fa099adfe8",
   "metadata": {
    "execution": {
     "iopub.execute_input": "2023-02-05T01:49:39.578629Z",
     "iopub.status.busy": "2023-02-05T01:49:39.578538Z",
     "iopub.status.idle": "2023-02-05T01:49:39.581654Z",
     "shell.execute_reply": "2023-02-05T01:49:39.581240Z",
     "shell.execute_reply.started": "2023-02-05T01:49:39.578620Z"
    },
    "tags": []
   },
   "outputs": [],
   "source": [
    "# add a column for the true y_test values\n",
    "probs['true'] = y_test.values"
   ]
  },
  {
   "cell_type": "code",
   "execution_count": 237,
   "id": "b924793d-d15c-452f-af8e-82f1c914413f",
   "metadata": {
    "execution": {
     "iopub.execute_input": "2023-02-05T01:49:39.582385Z",
     "iopub.status.busy": "2023-02-05T01:49:39.582256Z",
     "iopub.status.idle": "2023-02-05T01:49:39.589949Z",
     "shell.execute_reply": "2023-02-05T01:49:39.589593Z",
     "shell.execute_reply.started": "2023-02-05T01:49:39.582376Z"
    },
    "tags": []
   },
   "outputs": [
    {
     "data": {
      "text/html": [
       "<div>\n",
       "<style scoped>\n",
       "    .dataframe tbody tr th:only-of-type {\n",
       "        vertical-align: middle;\n",
       "    }\n",
       "\n",
       "    .dataframe tbody tr th {\n",
       "        vertical-align: top;\n",
       "    }\n",
       "\n",
       "    .dataframe thead th {\n",
       "        text-align: right;\n",
       "    }\n",
       "</style>\n",
       "<table border=\"1\" class=\"dataframe\">\n",
       "  <thead>\n",
       "    <tr style=\"text-align: right;\">\n",
       "      <th></th>\n",
       "      <th>0</th>\n",
       "      <th>1</th>\n",
       "      <th>true</th>\n",
       "    </tr>\n",
       "  </thead>\n",
       "  <tbody>\n",
       "    <tr>\n",
       "      <th>1317</th>\n",
       "      <td>0.610982</td>\n",
       "      <td>0.389018</td>\n",
       "      <td>0</td>\n",
       "    </tr>\n",
       "    <tr>\n",
       "      <th>1703</th>\n",
       "      <td>0.549208</td>\n",
       "      <td>0.450792</td>\n",
       "      <td>0</td>\n",
       "    </tr>\n",
       "    <tr>\n",
       "      <th>986</th>\n",
       "      <td>0.495786</td>\n",
       "      <td>0.504214</td>\n",
       "      <td>0</td>\n",
       "    </tr>\n",
       "    <tr>\n",
       "      <th>29</th>\n",
       "      <td>0.478812</td>\n",
       "      <td>0.521188</td>\n",
       "      <td>0</td>\n",
       "    </tr>\n",
       "    <tr>\n",
       "      <th>1212</th>\n",
       "      <td>0.463047</td>\n",
       "      <td>0.536953</td>\n",
       "      <td>0</td>\n",
       "    </tr>\n",
       "    <tr>\n",
       "      <th>493</th>\n",
       "      <td>0.460148</td>\n",
       "      <td>0.539852</td>\n",
       "      <td>0</td>\n",
       "    </tr>\n",
       "    <tr>\n",
       "      <th>1667</th>\n",
       "      <td>0.438273</td>\n",
       "      <td>0.561727</td>\n",
       "      <td>0</td>\n",
       "    </tr>\n",
       "    <tr>\n",
       "      <th>144</th>\n",
       "      <td>0.415022</td>\n",
       "      <td>0.584978</td>\n",
       "      <td>0</td>\n",
       "    </tr>\n",
       "    <tr>\n",
       "      <th>2616</th>\n",
       "      <td>0.408643</td>\n",
       "      <td>0.591357</td>\n",
       "      <td>0</td>\n",
       "    </tr>\n",
       "    <tr>\n",
       "      <th>913</th>\n",
       "      <td>0.403861</td>\n",
       "      <td>0.596139</td>\n",
       "      <td>0</td>\n",
       "    </tr>\n",
       "  </tbody>\n",
       "</table>\n",
       "</div>"
      ],
      "text/plain": [
       "             0         1  true\n",
       "1317  0.610982  0.389018     0\n",
       "1703  0.549208  0.450792     0\n",
       "986   0.495786  0.504214     0\n",
       "29    0.478812  0.521188     0\n",
       "1212  0.463047  0.536953     0\n",
       "493   0.460148  0.539852     0\n",
       "1667  0.438273  0.561727     0\n",
       "144   0.415022  0.584978     0\n",
       "2616  0.408643  0.591357     0\n",
       "913   0.403861  0.596139     0"
      ]
     },
     "execution_count": 237,
     "metadata": {},
     "output_type": "execute_result"
    }
   ],
   "source": [
    "# I'll look at observations were the true value was 0 and see what the \n",
    "# probabilities look like.  These are the samples with the highest probability\n",
    "# of being \"0\"\n",
    "(\n",
    "    probs\n",
    "    .query('true == 0')\n",
    "    .sort_values(by=0 , ascending=False)\n",
    "    .head(10)\n",
    ")"
   ]
  },
  {
   "cell_type": "markdown",
   "id": "88126593-25e0-4d15-8d76-577321e21710",
   "metadata": {},
   "source": [
    "When looking at this, it supports the conclusions in the previous evaluation steps that the model is having difficulties predicting the minority class.  This table shows that of the true \"0\" values, only 2 had more than 50% probability."
   ]
  },
  {
   "cell_type": "code",
   "execution_count": 238,
   "id": "33c5bcb8-ade9-4c36-a1e7-6e022485e021",
   "metadata": {
    "execution": {
     "iopub.execute_input": "2023-02-05T01:49:39.590628Z",
     "iopub.status.busy": "2023-02-05T01:49:39.590535Z",
     "iopub.status.idle": "2023-02-05T01:49:39.595381Z",
     "shell.execute_reply": "2023-02-05T01:49:39.595053Z",
     "shell.execute_reply.started": "2023-02-05T01:49:39.590619Z"
    },
    "tags": []
   },
   "outputs": [
    {
     "data": {
      "text/html": [
       "<div>\n",
       "<style scoped>\n",
       "    .dataframe tbody tr th:only-of-type {\n",
       "        vertical-align: middle;\n",
       "    }\n",
       "\n",
       "    .dataframe tbody tr th {\n",
       "        vertical-align: top;\n",
       "    }\n",
       "\n",
       "    .dataframe thead th {\n",
       "        text-align: right;\n",
       "    }\n",
       "</style>\n",
       "<table border=\"1\" class=\"dataframe\">\n",
       "  <thead>\n",
       "    <tr style=\"text-align: right;\">\n",
       "      <th></th>\n",
       "      <th>0</th>\n",
       "      <th>1</th>\n",
       "      <th>true</th>\n",
       "    </tr>\n",
       "  </thead>\n",
       "  <tbody>\n",
       "    <tr>\n",
       "      <th>1317</th>\n",
       "      <td>0.610982</td>\n",
       "      <td>0.389018</td>\n",
       "      <td>0</td>\n",
       "    </tr>\n",
       "    <tr>\n",
       "      <th>1742</th>\n",
       "      <td>0.554965</td>\n",
       "      <td>0.445035</td>\n",
       "      <td>1</td>\n",
       "    </tr>\n",
       "    <tr>\n",
       "      <th>1703</th>\n",
       "      <td>0.549208</td>\n",
       "      <td>0.450792</td>\n",
       "      <td>0</td>\n",
       "    </tr>\n",
       "    <tr>\n",
       "      <th>1836</th>\n",
       "      <td>0.537680</td>\n",
       "      <td>0.462320</td>\n",
       "      <td>1</td>\n",
       "    </tr>\n",
       "    <tr>\n",
       "      <th>1489</th>\n",
       "      <td>0.505332</td>\n",
       "      <td>0.494668</td>\n",
       "      <td>1</td>\n",
       "    </tr>\n",
       "  </tbody>\n",
       "</table>\n",
       "</div>"
      ],
      "text/plain": [
       "             0         1  true\n",
       "1317  0.610982  0.389018     0\n",
       "1742  0.554965  0.445035     1\n",
       "1703  0.549208  0.450792     0\n",
       "1836  0.537680  0.462320     1\n",
       "1489  0.505332  0.494668     1"
      ]
     },
     "execution_count": 238,
     "metadata": {},
     "output_type": "execute_result"
    }
   ],
   "source": [
    "(\n",
    "    probs\n",
    "    .sort_values(by=0, ascending=False)\n",
    "    .head()\n",
    ")"
   ]
  },
  {
   "cell_type": "markdown",
   "id": "29320fa2-b9f2-48d1-b17c-af684db2d35e",
   "metadata": {},
   "source": [
    "Here I'm just looking at the high highest probabilities for the minority class--the higest is around 61% and by the fifth record, it's already around 50%."
   ]
  },
  {
   "cell_type": "markdown",
   "id": "35bf274e-8d60-4823-b4fc-9332db310b36",
   "metadata": {},
   "source": [
    "#### ROC "
   ]
  },
  {
   "cell_type": "markdown",
   "id": "d626a6fa-4dac-4433-98ba-5c582bbd8bcf",
   "metadata": {},
   "source": [
    "We'll plot the ROC AUC for the selected Random Forest model."
   ]
  },
  {
   "cell_type": "code",
   "execution_count": 239,
   "id": "4ea0f3a3-9424-497e-b4d3-c3da35ae5528",
   "metadata": {
    "execution": {
     "iopub.execute_input": "2023-02-05T01:49:39.595938Z",
     "iopub.status.busy": "2023-02-05T01:49:39.595850Z",
     "iopub.status.idle": "2023-02-05T01:49:39.717258Z",
     "shell.execute_reply": "2023-02-05T01:49:39.716844Z",
     "shell.execute_reply.started": "2023-02-05T01:49:39.595930Z"
    },
    "tags": []
   },
   "outputs": [
    {
     "data": {
      "image/png": "[encoded data removed]",
      "text/plain": [
       "<Figure size 640x480 with 1 Axes>"
      ]
     },
     "metadata": {},
     "output_type": "display_data"
    }
   ],
   "source": [
    "# From classification lesson\n",
    "# Create an ax object\n",
    "ax = plt.gca()\n",
    "\n",
    "# Use RocCurveDisplay for both estimators\n",
    "RocCurveDisplay.from_estimator(rf_feats_10, X_test, y_test, \n",
    "                               ax=ax, name='Random Forest')\n",
    "\n",
    "# Add 'worst case scenario' line\n",
    "plt.plot([0,1], [0,1], label='no prediction value', \n",
    "         linestyle='--', color='gray')\n",
    "\n",
    "# Necessary to label the baseline\n",
    "plt.title('10 Feature Random Forest Model')\n",
    "plt.legend();"
   ]
  },
  {
   "cell_type": "markdown",
   "id": "1968bedf-b605-44b5-b9b5-c999479def83",
   "metadata": {},
   "source": [
    "This ROC AUC score is representing some of the issues that became apparent in the classification report that the model is having issues distinguishing between the two classes.  In this chart, you are looking at the area above the dotted line, which represents if the model had no prediction value, which would represent an AUC score of .5, and under the curved blue line.  The more area under the curve (AUC) the better the model is at discriminating between classes."
   ]
  },
  {
   "cell_type": "markdown",
   "id": "fc0759a5-fd27-40e4-80ea-663926edb5d2",
   "metadata": {},
   "source": [
    "#### Feature Importances"
   ]
  },
  {
   "cell_type": "code",
   "execution_count": 240,
   "id": "cd84c8f8-4702-460c-9cd2-da50442eda9f",
   "metadata": {
    "execution": {
     "iopub.execute_input": "2023-02-05T01:49:39.717974Z",
     "iopub.status.busy": "2023-02-05T01:49:39.717861Z",
     "iopub.status.idle": "2023-02-05T01:49:39.731307Z",
     "shell.execute_reply": "2023-02-05T01:49:39.730875Z",
     "shell.execute_reply.started": "2023-02-05T01:49:39.717965Z"
    },
    "tags": []
   },
   "outputs": [
    {
     "data": {
      "text/html": [
       "<div>\n",
       "<style scoped>\n",
       "    .dataframe tbody tr th:only-of-type {\n",
       "        vertical-align: middle;\n",
       "    }\n",
       "\n",
       "    .dataframe tbody tr th {\n",
       "        vertical-align: top;\n",
       "    }\n",
       "\n",
       "    .dataframe thead th {\n",
       "        text-align: right;\n",
       "    }\n",
       "</style>\n",
       "<table border=\"1\" class=\"dataframe\">\n",
       "  <thead>\n",
       "    <tr style=\"text-align: right;\">\n",
       "      <th></th>\n",
       "      <th>index</th>\n",
       "      <th>0</th>\n",
       "    </tr>\n",
       "  </thead>\n",
       "  <tbody>\n",
       "    <tr>\n",
       "      <th>5</th>\n",
       "      <td>sent_score</td>\n",
       "      <td>0.118327</td>\n",
       "    </tr>\n",
       "    <tr>\n",
       "      <th>9</th>\n",
       "      <td>comm_rate</td>\n",
       "      <td>0.115594</td>\n",
       "    </tr>\n",
       "    <tr>\n",
       "      <th>8</th>\n",
       "      <td>rply_rate</td>\n",
       "      <td>0.105802</td>\n",
       "    </tr>\n",
       "    <tr>\n",
       "      <th>2</th>\n",
       "      <td>full_reso_mins</td>\n",
       "      <td>0.100955</td>\n",
       "    </tr>\n",
       "    <tr>\n",
       "      <th>1</th>\n",
       "      <td>first_reso_mins</td>\n",
       "      <td>0.097286</td>\n",
       "    </tr>\n",
       "    <tr>\n",
       "      <th>0</th>\n",
       "      <td>reply_mins</td>\n",
       "      <td>0.096803</td>\n",
       "    </tr>\n",
       "    <tr>\n",
       "      <th>7</th>\n",
       "      <td>td_assnd_slvd</td>\n",
       "      <td>0.095460</td>\n",
       "    </tr>\n",
       "    <tr>\n",
       "      <th>4</th>\n",
       "      <td>reqstr_wait_mins</td>\n",
       "      <td>0.092733</td>\n",
       "    </tr>\n",
       "    <tr>\n",
       "      <th>6</th>\n",
       "      <td>td_crtd_assnd</td>\n",
       "      <td>0.091874</td>\n",
       "    </tr>\n",
       "    <tr>\n",
       "      <th>3</th>\n",
       "      <td>agt_wait_mins</td>\n",
       "      <td>0.085166</td>\n",
       "    </tr>\n",
       "  </tbody>\n",
       "</table>\n",
       "</div>"
      ],
      "text/plain": [
       "              index         0\n",
       "5        sent_score  0.118327\n",
       "9         comm_rate  0.115594\n",
       "8         rply_rate  0.105802\n",
       "2    full_reso_mins  0.100955\n",
       "1   first_reso_mins  0.097286\n",
       "0        reply_mins  0.096803\n",
       "7     td_assnd_slvd  0.095460\n",
       "4  reqstr_wait_mins  0.092733\n",
       "6     td_crtd_assnd  0.091874\n",
       "3     agt_wait_mins  0.085166"
      ]
     },
     "execution_count": 240,
     "metadata": {},
     "output_type": "execute_result"
    }
   ],
   "source": [
    "# extract the feature importance values from the model\n",
    "pd.DataFrame(\n",
    "    rf_feats_10.feature_importances_,\n",
    "    X.columns\n",
    ").reset_index().sort_values(by=0, ascending=False)"
   ]
  },
  {
   "cell_type": "markdown",
   "id": "235bfb57-6568-4021-893b-fae9b911bcde",
   "metadata": {},
   "source": [
    "These feature importance values, represent the Gini importance and as they are listed, the higher the value the more important the feature is. [(source)](https://scikit-learn.org/stable/modules/generated/sklearn.ensemble.RandomForestClassifier.html#sklearn.ensemble.RandomForestClassifier.feature_importances_)"
   ]
  },
  {
   "cell_type": "markdown",
   "id": "a55a4642-cb56-4cf9-bb81-d00288ade967",
   "metadata": {},
   "source": [
    "### SMOTE: 10 Features\n",
    "\n",
    "Although the model with the selected features is still not performing well, there is higher confidence in the features selected due to the work done in the feature selection notebook.  Given that, I feel like it would be worthwhile to go through SMOTE again with this feature set and examine the results."
   ]
  },
  {
   "cell_type": "markdown",
   "id": "6535a6f8-bf45-4e76-8ff0-46927a51be8e",
   "metadata": {},
   "source": [
    "#### Import Model\n",
    "\n",
    "Import the model that was saved earlier so it can be trained with this new data."
   ]
  },
  {
   "cell_type": "code",
   "execution_count": 241,
   "id": "0453bbc9-ef5c-4e98-bad6-71f8fcb2b4e5",
   "metadata": {
    "execution": {
     "iopub.execute_input": "2023-02-05T01:49:39.731959Z",
     "iopub.status.busy": "2023-02-05T01:49:39.731858Z",
     "iopub.status.idle": "2023-02-05T01:49:39.734790Z",
     "shell.execute_reply": "2023-02-05T01:49:39.734338Z",
     "shell.execute_reply.started": "2023-02-05T01:49:39.731951Z"
    },
    "tags": []
   },
   "outputs": [],
   "source": [
    "with open('../models/rf_feats_10.pkl', 'rb') as f:\n",
    "    rf_feats_10 = pickle.load(f)"
   ]
  },
  {
   "cell_type": "markdown",
   "id": "6fcfe98c-78d3-4d06-a392-89c933e11995",
   "metadata": {},
   "source": [
    "#### Scale Data\n",
    "SMOTE uses kNN type distances to understand and then synthesize the data, so the data will need to be scaled."
   ]
  },
  {
   "cell_type": "code",
   "execution_count": 242,
   "id": "e7b893b8-f194-4c0a-b311-da269e1f061b",
   "metadata": {
    "execution": {
     "iopub.execute_input": "2023-02-05T01:49:39.735596Z",
     "iopub.status.busy": "2023-02-05T01:49:39.735493Z",
     "iopub.status.idle": "2023-02-05T01:49:39.740793Z",
     "shell.execute_reply": "2023-02-05T01:49:39.740485Z",
     "shell.execute_reply.started": "2023-02-05T01:49:39.735588Z"
    },
    "tags": []
   },
   "outputs": [],
   "source": [
    "# scale X data, using the existing train and test data from \n",
    "# feats_10 feature space\n",
    "ss = StandardScaler()\n",
    "\n",
    "X_train_ss = ss.fit_transform(X_train)\n",
    "X_test_ss = ss.transform(X_test)"
   ]
  },
  {
   "cell_type": "markdown",
   "id": "b4cf9f86-f503-403c-bf15-b1bc2a2d8636",
   "metadata": {},
   "source": [
    "#### Instantiate and Resample"
   ]
  },
  {
   "cell_type": "code",
   "execution_count": 243,
   "id": "082cf517-bab3-4aa0-b204-0450cfd3a017",
   "metadata": {
    "execution": {
     "iopub.execute_input": "2023-02-05T01:49:39.741401Z",
     "iopub.status.busy": "2023-02-05T01:49:39.741296Z",
     "iopub.status.idle": "2023-02-05T01:49:39.760629Z",
     "shell.execute_reply": "2023-02-05T01:49:39.760136Z",
     "shell.execute_reply.started": "2023-02-05T01:49:39.741392Z"
    },
    "tags": []
   },
   "outputs": [],
   "source": [
    "# SMOTE\n",
    "sm = SMOTE(random_state=415)\n",
    "\n",
    "X_train_smote, y_train_smote = sm.fit_resample(X_train_ss, y_train)"
   ]
  },
  {
   "cell_type": "markdown",
   "id": "1342ee48-e303-404e-9f92-1de04887a37d",
   "metadata": {},
   "source": [
    "#### Check Shape and Class Balance"
   ]
  },
  {
   "cell_type": "code",
   "execution_count": 244,
   "id": "edf0e69c-c321-4b61-95ea-fd6a35a3011e",
   "metadata": {
    "execution": {
     "iopub.execute_input": "2023-02-05T01:49:39.761376Z",
     "iopub.status.busy": "2023-02-05T01:49:39.761261Z",
     "iopub.status.idle": "2023-02-05T01:49:39.764275Z",
     "shell.execute_reply": "2023-02-05T01:49:39.763877Z",
     "shell.execute_reply.started": "2023-02-05T01:49:39.761366Z"
    },
    "tags": []
   },
   "outputs": [
    {
     "data": {
      "text/plain": [
       "((18216, 10), (18216,))"
      ]
     },
     "execution_count": 244,
     "metadata": {},
     "output_type": "execute_result"
    }
   ],
   "source": [
    "# check shape\n",
    "X_train_smote.shape, y_train_smote.shape"
   ]
  },
  {
   "cell_type": "code",
   "execution_count": 245,
   "id": "34eb6296-31c7-415e-964d-503d0b9a6de7",
   "metadata": {
    "execution": {
     "iopub.execute_input": "2023-02-05T01:49:39.765075Z",
     "iopub.status.busy": "2023-02-05T01:49:39.764927Z",
     "iopub.status.idle": "2023-02-05T01:49:39.767705Z",
     "shell.execute_reply": "2023-02-05T01:49:39.767268Z",
     "shell.execute_reply.started": "2023-02-05T01:49:39.765060Z"
    },
    "tags": []
   },
   "outputs": [
    {
     "data": {
      "text/plain": [
       "(10658, 10)"
      ]
     },
     "execution_count": 245,
     "metadata": {},
     "output_type": "execute_result"
    }
   ],
   "source": [
    "X_train_ss.shape"
   ]
  },
  {
   "cell_type": "markdown",
   "id": "126d80b0-ac0d-4f2a-b883-d53ad93cfe42",
   "metadata": {},
   "source": [
    "After performing the SMOTE resampling, almost 8,000 rows were added to the training data."
   ]
  },
  {
   "cell_type": "code",
   "execution_count": 246,
   "id": "a20dc899-1a5e-4b20-bce3-5f372bfa1380",
   "metadata": {
    "execution": {
     "iopub.execute_input": "2023-02-05T01:49:39.768428Z",
     "iopub.status.busy": "2023-02-05T01:49:39.768332Z",
     "iopub.status.idle": "2023-02-05T01:49:39.771819Z",
     "shell.execute_reply": "2023-02-05T01:49:39.771487Z",
     "shell.execute_reply.started": "2023-02-05T01:49:39.768419Z"
    },
    "tags": []
   },
   "outputs": [
    {
     "data": {
      "text/plain": [
       "0    0.5\n",
       "1    0.5\n",
       "Name: sat_score, dtype: float64"
      ]
     },
     "execution_count": 246,
     "metadata": {},
     "output_type": "execute_result"
    }
   ],
   "source": [
    "# check value counts post-SMOTE\n",
    "y_train_smote.value_counts(normalize=True)"
   ]
  },
  {
   "cell_type": "markdown",
   "id": "55e917d2-0fbf-40fc-8967-6daf47da0295",
   "metadata": {},
   "source": [
    "Now the classes are balanced."
   ]
  },
  {
   "cell_type": "markdown",
   "id": "67160ce7-348c-4b8b-b64e-ed5751141ffb",
   "metadata": {},
   "source": [
    "#### Model on Resampled Data"
   ]
  },
  {
   "cell_type": "code",
   "execution_count": 247,
   "id": "66e1ae8d-e15a-49cb-ac57-f8375d590bb6",
   "metadata": {
    "execution": {
     "iopub.execute_input": "2023-02-05T01:49:39.772401Z",
     "iopub.status.busy": "2023-02-05T01:49:39.772300Z",
     "iopub.status.idle": "2023-02-05T01:49:44.234181Z",
     "shell.execute_reply": "2023-02-05T01:49:44.233891Z",
     "shell.execute_reply.started": "2023-02-05T01:49:39.772392Z"
    },
    "tags": []
   },
   "outputs": [
    {
     "data": {
      "text/html": [
       "<style>#sk-container-id-10 {color: black;background-color: white;}#sk-container-id-10 pre{padding: 0;}#sk-container-id-10 div.sk-toggleable {background-color: white;}#sk-container-id-10 label.sk-toggleable__label {cursor: pointer;display: block;width: 100%;margin-bottom: 0;padding: 0.3em;box-sizing: border-box;text-align: center;}#sk-container-id-10 label.sk-toggleable__label-arrow:before {content: \"▸\";float: left;margin-right: 0.25em;color: #696969;}#sk-container-id-10 label.sk-toggleable__label-arrow:hover:before {color: black;}#sk-container-id-10 div.sk-estimator:hover label.sk-toggleable__label-arrow:before {color: black;}#sk-container-id-10 div.sk-toggleable__content {max-height: 0;max-width: 0;overflow: hidden;text-align: left;background-color: #f0f8ff;}#sk-container-id-10 div.sk-toggleable__content pre {margin: 0.2em;color: black;border-radius: 0.25em;background-color: #f0f8ff;}#sk-container-id-10 input.sk-toggleable__control:checked~div.sk-toggleable__content {max-height: 200px;max-width: 100%;overflow: auto;}#sk-container-id-10 input.sk-toggleable__control:checked~label.sk-toggleable__label-arrow:before {content: \"▾\";}#sk-container-id-10 div.sk-estimator input.sk-toggleable__control:checked~label.sk-toggleable__label {background-color: #d4ebff;}#sk-container-id-10 div.sk-label input.sk-toggleable__control:checked~label.sk-toggleable__label {background-color: #d4ebff;}#sk-container-id-10 input.sk-hidden--visually {border: 0;clip: rect(1px 1px 1px 1px);clip: rect(1px, 1px, 1px, 1px);height: 1px;margin: -1px;overflow: hidden;padding: 0;position: absolute;width: 1px;}#sk-container-id-10 div.sk-estimator {font-family: monospace;background-color: #f0f8ff;border: 1px dotted black;border-radius: 0.25em;box-sizing: border-box;margin-bottom: 0.5em;}#sk-container-id-10 div.sk-estimator:hover {background-color: #d4ebff;}#sk-container-id-10 div.sk-parallel-item::after {content: \"\";width: 100%;border-bottom: 1px solid gray;flex-grow: 1;}#sk-container-id-10 div.sk-label:hover label.sk-toggleable__label {background-color: #d4ebff;}#sk-container-id-10 div.sk-serial::before {content: \"\";position: absolute;border-left: 1px solid gray;box-sizing: border-box;top: 0;bottom: 0;left: 50%;z-index: 0;}#sk-container-id-10 div.sk-serial {display: flex;flex-direction: column;align-items: center;background-color: white;padding-right: 0.2em;padding-left: 0.2em;position: relative;}#sk-container-id-10 div.sk-item {position: relative;z-index: 1;}#sk-container-id-10 div.sk-parallel {display: flex;align-items: stretch;justify-content: center;background-color: white;position: relative;}#sk-container-id-10 div.sk-item::before, #sk-container-id-10 div.sk-parallel-item::before {content: \"\";position: absolute;border-left: 1px solid gray;box-sizing: border-box;top: 0;bottom: 0;left: 50%;z-index: -1;}#sk-container-id-10 div.sk-parallel-item {display: flex;flex-direction: column;z-index: 1;position: relative;background-color: white;}#sk-container-id-10 div.sk-parallel-item:first-child::after {align-self: flex-end;width: 50%;}#sk-container-id-10 div.sk-parallel-item:last-child::after {align-self: flex-start;width: 50%;}#sk-container-id-10 div.sk-parallel-item:only-child::after {width: 0;}#sk-container-id-10 div.sk-dashed-wrapped {border: 1px dashed gray;margin: 0 0.4em 0.5em 0.4em;box-sizing: border-box;padding-bottom: 0.4em;background-color: white;}#sk-container-id-10 div.sk-label label {font-family: monospace;font-weight: bold;display: inline-block;line-height: 1.2em;}#sk-container-id-10 div.sk-label-container {text-align: center;}#sk-container-id-10 div.sk-container {/* jupyter's `normalize.less` sets `[hidden] { display: none; }` but bootstrap.min.css set `[hidden] { display: none !important; }` so we also need the `!important` here to be able to override the default hidden behavior on the sphinx rendered scikit-learn.org. See: https://github.com/scikit-learn/scikit-learn/issues/21755 */display: inline-block !important;position: relative;}#sk-container-id-10 div.sk-text-repr-fallback {display: none;}</style><div id=\"sk-container-id-10\" class=\"sk-top-container\"><div class=\"sk-text-repr-fallback\"><pre>RandomForestClassifier(max_depth=10, max_features=3, min_samples_leaf=5,\n",
       "                       n_estimators=200, warm_start=True)</pre><b>In a Jupyter environment, please rerun this cell to show the HTML representation or trust the notebook. <br />On GitHub, the HTML representation is unable to render, please try loading this page with nbviewer.org.</b></div><div class=\"sk-container\" hidden><div class=\"sk-item\"><div class=\"sk-estimator sk-toggleable\"><input class=\"sk-toggleable__control sk-hidden--visually\" id=\"sk-estimator-id-10\" type=\"checkbox\" checked><label for=\"sk-estimator-id-10\" class=\"sk-toggleable__label sk-toggleable__label-arrow\">RandomForestClassifier</label><div class=\"sk-toggleable__content\"><pre>RandomForestClassifier(max_depth=10, max_features=3, min_samples_leaf=5,\n",
       "                       n_estimators=200, warm_start=True)</pre></div></div></div></div></div>"
      ],
      "text/plain": [
       "RandomForestClassifier(max_depth=10, max_features=3, min_samples_leaf=5,\n",
       "                       n_estimators=200, warm_start=True)"
      ]
     },
     "execution_count": 247,
     "metadata": {},
     "output_type": "execute_result"
    }
   ],
   "source": [
    "# fit data to our model\n",
    "rf_feats_10.fit(X_train_smote, y_train_smote)"
   ]
  },
  {
   "cell_type": "markdown",
   "id": "cc03f527-ff09-483e-b9ba-1809f7cc0e42",
   "metadata": {},
   "source": [
    "#### Evaluate"
   ]
  },
  {
   "cell_type": "code",
   "execution_count": 248,
   "id": "43f1822a-4de4-4caa-87e8-a9ef842e924e",
   "metadata": {
    "execution": {
     "iopub.execute_input": "2023-02-05T01:49:44.234734Z",
     "iopub.status.busy": "2023-02-05T01:49:44.234650Z",
     "iopub.status.idle": "2023-02-05T01:50:02.457451Z",
     "shell.execute_reply": "2023-02-05T01:50:02.456840Z",
     "shell.execute_reply.started": "2023-02-05T01:49:44.234725Z"
    },
    "tags": []
   },
   "outputs": [
    {
     "name": "stdout",
     "output_type": "stream",
     "text": [
      "CrossVal: 0.7253\n",
      "Train Score: 0.8127\n",
      "Test Score: 0.6886\n",
      "\n"
     ]
    }
   ],
   "source": [
    "print(\n",
    "f'CrossVal: '\n",
    "f'{cross_val_score(rf_feats_10, X_train_smote, y_train_smote).mean().round(4)}\\n'\n",
    "f'Train Score: '\n",
    "f'{rf_feats_10.score(X_train_smote, y_train_smote).round(4)}\\n'\n",
    "f'Test Score: '\n",
    "f'{rf_feats_10.score(X_test_ss, y_test).round(4)}\\n'\n",
    ")"
   ]
  },
  {
   "cell_type": "markdown",
   "id": "051532f5-cf57-4c91-ab5f-721f7107aefb",
   "metadata": {},
   "source": [
    "In the pre-SMOTE model, we saw a bit more balance between the scores, but the real interest here is in how the classification results came out."
   ]
  },
  {
   "cell_type": "code",
   "execution_count": 249,
   "id": "a5be1fcd-bfbc-41a8-aacc-5b4596bde9a2",
   "metadata": {
    "execution": {
     "iopub.execute_input": "2023-02-05T01:50:02.458702Z",
     "iopub.status.busy": "2023-02-05T01:50:02.458602Z",
     "iopub.status.idle": "2023-02-05T01:50:02.510781Z",
     "shell.execute_reply": "2023-02-05T01:50:02.510219Z",
     "shell.execute_reply.started": "2023-02-05T01:50:02.458694Z"
    },
    "tags": []
   },
   "outputs": [
    {
     "name": "stdout",
     "output_type": "stream",
     "text": [
      "              precision    recall  f1-score   support\n",
      "\n",
      "           0       0.21      0.42      0.28       387\n",
      "           1       0.88      0.73      0.80      2278\n",
      "\n",
      "    accuracy                           0.69      2665\n",
      "   macro avg       0.55      0.58      0.54      2665\n",
      "weighted avg       0.78      0.69      0.73      2665\n",
      "\n"
     ]
    }
   ],
   "source": [
    "print(classification_report(y_test, \n",
    "                            rf_feats_10.predict(X_test_ss)\n",
    "                           ))"
   ]
  },
  {
   "cell_type": "markdown",
   "id": "e8563e84-23cf-4684-8220-76b924203259",
   "metadata": {},
   "source": [
    "After fitting the model with the synthetic data from the SMOTE approach certainly changed how the model performed on the test set.  We see increased recall and f1-score for the minorty class at the cost of a drop in both those areas for the majority class, and because of that, a drop in overall accuracy."
   ]
  },
  {
   "cell_type": "code",
   "execution_count": 250,
   "id": "31943446-7b00-40eb-b2f1-5a6518eee6d2",
   "metadata": {
    "execution": {
     "iopub.execute_input": "2023-02-05T01:50:02.512902Z",
     "iopub.status.busy": "2023-02-05T01:50:02.512504Z",
     "iopub.status.idle": "2023-02-05T01:50:02.802414Z",
     "shell.execute_reply": "2023-02-05T01:50:02.802081Z",
     "shell.execute_reply.started": "2023-02-05T01:50:02.512863Z"
    },
    "tags": []
   },
   "outputs": [
    {
     "data": {
      "image/png": "[encoded data removed]",
      "text/plain": [
       "<Figure size 1600x600 with 4 Axes>"
      ]
     },
     "metadata": {},
     "output_type": "display_data"
    }
   ],
   "source": [
    "# attempt after smote\n",
    "fig, (ax1, ax2) = plt.subplots(1, 2, figsize=(16,6))\n",
    "ConfusionMatrixDisplay.from_estimator(rf_feats_10, \n",
    "                                      X_test_ss, \n",
    "                                      y_test,\n",
    "                                      cmap='Purples',\n",
    "                                      ax=ax1)\n",
    "ax1.set_title('SMOTE fit 10 feature Random Forest model\\nSample Counts')\n",
    "\n",
    "ConfusionMatrixDisplay.from_estimator(rf_feats_10, \n",
    "                                      X_test_ss, \n",
    "                                      y_test,\n",
    "                                      normalize='all',\n",
    "                                      cmap='Purples',\n",
    "                                      ax=ax2)\n",
    "ax2.set_title('SMOTE fit 10 feature Random Forest model\\n% Values');"
   ]
  },
  {
   "cell_type": "markdown",
   "id": "c07839d1-a248-4a67-8d0e-22f759a52b98",
   "metadata": {},
   "source": [
    "What becomes more clear when looking at the confusion matrix from the SMOTE trained model is that there were many more minority class predictions, but this caused a jump in the false negatives, whereas the previous model had more false positives, since it was almost always just predicting the majority class.  So although fitting with data transformed by SMOTE increased the model's ability to predict the minority class, it still isn't achieving high performance.  I believe this indicates that only part of the issue with model performance is related to the class imbalance, but the larger issue is with the underlying data."
   ]
  },
  {
   "cell_type": "markdown",
   "id": "559ce3c0-13fa-4344-b152-3350ff9ba6c8",
   "metadata": {},
   "source": [
    "#### ROC "
   ]
  },
  {
   "cell_type": "markdown",
   "id": "0c68e952-82ba-4fcd-b5be-654495563f20",
   "metadata": {},
   "source": [
    "We'll plot the ROC AUC for the selected Random Forest model."
   ]
  },
  {
   "cell_type": "code",
   "execution_count": 251,
   "id": "894d8af2-5669-4401-8c0e-6a8b29c79142",
   "metadata": {
    "execution": {
     "iopub.execute_input": "2023-02-05T01:50:02.809965Z",
     "iopub.status.busy": "2023-02-05T01:50:02.809825Z",
     "iopub.status.idle": "2023-02-05T01:50:02.924359Z",
     "shell.execute_reply": "2023-02-05T01:50:02.924006Z",
     "shell.execute_reply.started": "2023-02-05T01:50:02.809956Z"
    },
    "tags": []
   },
   "outputs": [
    {
     "data": {
      "image/png": "[encoded data removed]",
      "text/plain": [
       "<Figure size 640x480 with 1 Axes>"
      ]
     },
     "metadata": {},
     "output_type": "display_data"
    }
   ],
   "source": [
    "# from a classification lesson\n",
    "# Create an ax object\n",
    "ax = plt.gca()\n",
    "\n",
    "# Use RocCurveDisplay for both estimators\n",
    "RocCurveDisplay.from_estimator(rf_feats_10, \n",
    "                               X_test_ss, \n",
    "                               y_test, \n",
    "                               ax=ax, \n",
    "                               name='SMOTE + RF')\n",
    "\n",
    "# Add 'worst case scenario' line\n",
    "plt.plot([0,1], [0,1], label='no prediction value', \n",
    "         linestyle='--', color='gray')\n",
    "\n",
    "# Necessary to label the baseline\n",
    "plt.legend();"
   ]
  },
  {
   "cell_type": "markdown",
   "id": "82a48916-c318-4755-9e14-c716bfc03305",
   "metadata": {},
   "source": [
    "This is very close to the first ROC AUC we saw, indicating that model, as we've seen in other metrics, has issues differentiating between classes for predictions."
   ]
  },
  {
   "cell_type": "markdown",
   "id": "aa188b94-ec88-402e-b9f1-8267f9871a1f",
   "metadata": {},
   "source": [
    "#### Feature Importances"
   ]
  },
  {
   "cell_type": "code",
   "execution_count": 252,
   "id": "eda28aba-6f6c-4bc4-b1dd-182f73d69b4b",
   "metadata": {
    "execution": {
     "iopub.execute_input": "2023-02-05T01:50:02.924969Z",
     "iopub.status.busy": "2023-02-05T01:50:02.924871Z",
     "iopub.status.idle": "2023-02-05T01:50:02.937923Z",
     "shell.execute_reply": "2023-02-05T01:50:02.937584Z",
     "shell.execute_reply.started": "2023-02-05T01:50:02.924960Z"
    }
   },
   "outputs": [
    {
     "data": {
      "text/html": [
       "<div>\n",
       "<style scoped>\n",
       "    .dataframe tbody tr th:only-of-type {\n",
       "        vertical-align: middle;\n",
       "    }\n",
       "\n",
       "    .dataframe tbody tr th {\n",
       "        vertical-align: top;\n",
       "    }\n",
       "\n",
       "    .dataframe thead th {\n",
       "        text-align: right;\n",
       "    }\n",
       "</style>\n",
       "<table border=\"1\" class=\"dataframe\">\n",
       "  <thead>\n",
       "    <tr style=\"text-align: right;\">\n",
       "      <th></th>\n",
       "      <th>index</th>\n",
       "      <th>0</th>\n",
       "    </tr>\n",
       "  </thead>\n",
       "  <tbody>\n",
       "    <tr>\n",
       "      <th>8</th>\n",
       "      <td>rply_rate</td>\n",
       "      <td>0.125533</td>\n",
       "    </tr>\n",
       "    <tr>\n",
       "      <th>9</th>\n",
       "      <td>comm_rate</td>\n",
       "      <td>0.120100</td>\n",
       "    </tr>\n",
       "    <tr>\n",
       "      <th>5</th>\n",
       "      <td>sent_score</td>\n",
       "      <td>0.114790</td>\n",
       "    </tr>\n",
       "    <tr>\n",
       "      <th>7</th>\n",
       "      <td>td_assnd_slvd</td>\n",
       "      <td>0.102277</td>\n",
       "    </tr>\n",
       "    <tr>\n",
       "      <th>2</th>\n",
       "      <td>full_reso_mins</td>\n",
       "      <td>0.099119</td>\n",
       "    </tr>\n",
       "    <tr>\n",
       "      <th>3</th>\n",
       "      <td>agt_wait_mins</td>\n",
       "      <td>0.098357</td>\n",
       "    </tr>\n",
       "    <tr>\n",
       "      <th>0</th>\n",
       "      <td>reply_mins</td>\n",
       "      <td>0.087903</td>\n",
       "    </tr>\n",
       "    <tr>\n",
       "      <th>1</th>\n",
       "      <td>first_reso_mins</td>\n",
       "      <td>0.086091</td>\n",
       "    </tr>\n",
       "    <tr>\n",
       "      <th>6</th>\n",
       "      <td>td_crtd_assnd</td>\n",
       "      <td>0.083776</td>\n",
       "    </tr>\n",
       "    <tr>\n",
       "      <th>4</th>\n",
       "      <td>reqstr_wait_mins</td>\n",
       "      <td>0.082053</td>\n",
       "    </tr>\n",
       "  </tbody>\n",
       "</table>\n",
       "</div>"
      ],
      "text/plain": [
       "              index         0\n",
       "8         rply_rate  0.125533\n",
       "9         comm_rate  0.120100\n",
       "5        sent_score  0.114790\n",
       "7     td_assnd_slvd  0.102277\n",
       "2    full_reso_mins  0.099119\n",
       "3     agt_wait_mins  0.098357\n",
       "0        reply_mins  0.087903\n",
       "1   first_reso_mins  0.086091\n",
       "6     td_crtd_assnd  0.083776\n",
       "4  reqstr_wait_mins  0.082053"
      ]
     },
     "execution_count": 252,
     "metadata": {},
     "output_type": "execute_result"
    }
   ],
   "source": [
    "# extract the feature importance values from the model\n",
    "pd.DataFrame(\n",
    "    rf_feats_10.feature_importances_,\n",
    "    X.columns\n",
    ").reset_index().sort_values(by=0, ascending=False)"
   ]
  },
  {
   "cell_type": "markdown",
   "id": "d13c6d22-b674-45e3-868c-eb2984a8d8c2",
   "metadata": {},
   "source": [
    "The previous model's feature importances, in order were:\n",
    "1. `sent_score \t0.118900`\n",
    "2. `comm_rate \t0.109572`\n",
    "3. `rply_rate \t0.104666`\n",
    "4. `full_reso_mins \t0.103369`\n",
    "5. `reply_mins \t0.098494`\n",
    "\n",
    "Three of the top five in these lists are the same, but in a slight different order.  Although the model isn't performing well and providing a lot of confidence in these values, since there were some common elements between these two lists, that is what I would choose to focus on from a business perspective."
   ]
  },
  {
   "cell_type": "markdown",
   "id": "b3e08cfd-a886-4b80-a1b6-6430d26c725e",
   "metadata": {},
   "source": [
    "# Modeling Conclusions and Next Steps"
   ]
  },
  {
   "cell_type": "markdown",
   "id": "75b330f2-609b-465c-8f99-ae8966993cc6",
   "metadata": {},
   "source": [
    "When looking at the classification report, some of the scores, like recall were a bit better with SMOTE.  Before we were seeing recall scores in the high .9x range for the majority class and .0x range for the minority class.  This improvement over the previous model that was created wasn't major, but did provide some insight, especially since this was after trying various algorithmic feature selection techniques. Class imbalance is part of the issue, but there is more likely an issue with the underlying data, such as:\n",
    "* Features don't explain target very well\n",
    "* Not enough meaningful features are present in the data\n",
    "* Too much variation in the data due to business process issues\n",
    "\n",
    "With that in mind, this model doesn't provide a lot of confidence in these results, but the areas that can be identified at this point as important to customer satisfaction ratings are:\n",
    "* Ticket activity (comments and replies frequency)\n",
    "* The sentiment of the comments in the ticket (sentiment score)\n",
    "* Full Resolution time of the ticket\n",
    "\n",
    "Overall, it would be ideal to build more confidence in the model, and by extension which features are the most important to focus on as a business to improve customer satisfaction going forward.  Some possible next steps to acheive this:\n",
    "* Try modeling with other feature combinations identified from the feature selection process\n",
    "* Research [permutation importance](https://scikit-learn.org/stable/modules/generated/sklearn.inspection.permutation_importance.html#sklearn.inspection.permutation_importance) for understanding the features of the model in perhaps a more meaningful way"
   ]
  },
  {
   "cell_type": "markdown",
   "id": "d3f190c5-fe27-43cb-bf21-c7895ed9623b",
   "metadata": {},
   "source": [
    "# ------------------------------------"
   ]
  },
  {
   "cell_type": "markdown",
   "id": "fa28e22f-0a21-4613-8886-7d124d14a429",
   "metadata": {
    "tags": []
   },
   "source": [
    "# Appendix: Initial Modeling\n",
    "\n",
    "_**Note: This was from first my first attempt at modeling and included for reference and background information.**_"
   ]
  },
  {
   "cell_type": "markdown",
   "id": "3c7d3f42-150e-44dd-97a2-7565ddb42731",
   "metadata": {
    "tags": []
   },
   "source": [
    "## Configure X, y, Train/Test Split"
   ]
  },
  {
   "cell_type": "code",
   "execution_count": 253,
   "id": "bc1aebb5-a9e1-4054-8a45-a58fb7ff661c",
   "metadata": {
    "execution": {
     "iopub.execute_input": "2023-02-05T01:50:02.938560Z",
     "iopub.status.busy": "2023-02-05T01:50:02.938447Z",
     "iopub.status.idle": "2023-02-05T01:50:02.954321Z",
     "shell.execute_reply": "2023-02-05T01:50:02.954021Z",
     "shell.execute_reply.started": "2023-02-05T01:50:02.938551Z"
    },
    "tags": []
   },
   "outputs": [],
   "source": [
    "# adjusting this code slightly to more closely represent the initial modeling\n",
    "# when the rate/frequency features were not created\n",
    "X = tickets.drop(columns=['sat_score', 'rply_rate', 'comm_rate'])\n",
    "y = tickets['sat_score']\n",
    "\n",
    "X_train, X_test, y_train, y_test = train_test_split(X, y, \n",
    "                                                   test_size=0.2,\n",
    "                                                   stratify=y,\n",
    "                                                   random_state=415)"
   ]
  },
  {
   "cell_type": "code",
   "execution_count": 254,
   "id": "4b0c678d-837e-4fc8-8222-866ff99041c0",
   "metadata": {
    "execution": {
     "iopub.execute_input": "2023-02-05T01:50:02.954879Z",
     "iopub.status.busy": "2023-02-05T01:50:02.954791Z",
     "iopub.status.idle": "2023-02-05T01:50:02.957704Z",
     "shell.execute_reply": "2023-02-05T01:50:02.957431Z",
     "shell.execute_reply.started": "2023-02-05T01:50:02.954871Z"
    },
    "tags": []
   },
   "outputs": [
    {
     "data": {
      "text/plain": [
       "((10658, 14), (2665, 14), (10658,), (2665,))"
      ]
     },
     "execution_count": 254,
     "metadata": {},
     "output_type": "execute_result"
    }
   ],
   "source": [
    "X_train.shape, X_test.shape, y_train.shape, y_test.shape"
   ]
  },
  {
   "cell_type": "markdown",
   "id": "11aaec9f-a593-4fd0-841f-b1d40b324b2c",
   "metadata": {},
   "source": [
    "Check stratification / class balance"
   ]
  },
  {
   "cell_type": "code",
   "execution_count": 255,
   "id": "bf4dec11-f3e6-41b9-901d-fa2ad6be4e5b",
   "metadata": {
    "execution": {
     "iopub.execute_input": "2023-02-05T01:50:02.958357Z",
     "iopub.status.busy": "2023-02-05T01:50:02.958262Z",
     "iopub.status.idle": "2023-02-05T01:50:02.963524Z",
     "shell.execute_reply": "2023-02-05T01:50:02.963018Z",
     "shell.execute_reply.started": "2023-02-05T01:50:02.958349Z"
    },
    "tags": []
   },
   "outputs": [
    {
     "data": {
      "text/plain": [
       "(1    0.854569\n",
       " 0    0.145431\n",
       " Name: sat_score, dtype: float64,\n",
       " 1    0.854784\n",
       " 0    0.145216\n",
       " Name: sat_score, dtype: float64)"
      ]
     },
     "execution_count": 255,
     "metadata": {},
     "output_type": "execute_result"
    }
   ],
   "source": [
    "y_train.value_counts(normalize=True), y_test.value_counts(normalize=True)"
   ]
  },
  {
   "cell_type": "markdown",
   "id": "3265e643-8235-43b8-bcf1-be15f5d5ecac",
   "metadata": {
    "tags": []
   },
   "source": [
    "## Default Random Forest\n",
    "Random Forest with all default parameter settings"
   ]
  },
  {
   "cell_type": "code",
   "execution_count": 256,
   "id": "b61d1358-3c16-46d5-847c-4d20d9ef4a78",
   "metadata": {
    "execution": {
     "iopub.execute_input": "2023-02-05T01:50:02.964466Z",
     "iopub.status.busy": "2023-02-05T01:50:02.964299Z",
     "iopub.status.idle": "2023-02-05T01:50:02.966484Z",
     "shell.execute_reply": "2023-02-05T01:50:02.966167Z",
     "shell.execute_reply.started": "2023-02-05T01:50:02.964449Z"
    },
    "tags": []
   },
   "outputs": [],
   "source": [
    "rf = RandomForestClassifier()"
   ]
  },
  {
   "cell_type": "code",
   "execution_count": 257,
   "id": "7a6959a7-d78f-4bb4-b86c-c80b36fb5228",
   "metadata": {
    "execution": {
     "iopub.execute_input": "2023-02-05T01:50:02.967145Z",
     "iopub.status.busy": "2023-02-05T01:50:02.967052Z",
     "iopub.status.idle": "2023-02-05T01:50:04.310359Z",
     "shell.execute_reply": "2023-02-05T01:50:04.310051Z",
     "shell.execute_reply.started": "2023-02-05T01:50:02.967137Z"
    },
    "tags": []
   },
   "outputs": [
    {
     "data": {
      "text/html": [
       "<style>#sk-container-id-11 {color: black;background-color: white;}#sk-container-id-11 pre{padding: 0;}#sk-container-id-11 div.sk-toggleable {background-color: white;}#sk-container-id-11 label.sk-toggleable__label {cursor: pointer;display: block;width: 100%;margin-bottom: 0;padding: 0.3em;box-sizing: border-box;text-align: center;}#sk-container-id-11 label.sk-toggleable__label-arrow:before {content: \"▸\";float: left;margin-right: 0.25em;color: #696969;}#sk-container-id-11 label.sk-toggleable__label-arrow:hover:before {color: black;}#sk-container-id-11 div.sk-estimator:hover label.sk-toggleable__label-arrow:before {color: black;}#sk-container-id-11 div.sk-toggleable__content {max-height: 0;max-width: 0;overflow: hidden;text-align: left;background-color: #f0f8ff;}#sk-container-id-11 div.sk-toggleable__content pre {margin: 0.2em;color: black;border-radius: 0.25em;background-color: #f0f8ff;}#sk-container-id-11 input.sk-toggleable__control:checked~div.sk-toggleable__content {max-height: 200px;max-width: 100%;overflow: auto;}#sk-container-id-11 input.sk-toggleable__control:checked~label.sk-toggleable__label-arrow:before {content: \"▾\";}#sk-container-id-11 div.sk-estimator input.sk-toggleable__control:checked~label.sk-toggleable__label {background-color: #d4ebff;}#sk-container-id-11 div.sk-label input.sk-toggleable__control:checked~label.sk-toggleable__label {background-color: #d4ebff;}#sk-container-id-11 input.sk-hidden--visually {border: 0;clip: rect(1px 1px 1px 1px);clip: rect(1px, 1px, 1px, 1px);height: 1px;margin: -1px;overflow: hidden;padding: 0;position: absolute;width: 1px;}#sk-container-id-11 div.sk-estimator {font-family: monospace;background-color: #f0f8ff;border: 1px dotted black;border-radius: 0.25em;box-sizing: border-box;margin-bottom: 0.5em;}#sk-container-id-11 div.sk-estimator:hover {background-color: #d4ebff;}#sk-container-id-11 div.sk-parallel-item::after {content: \"\";width: 100%;border-bottom: 1px solid gray;flex-grow: 1;}#sk-container-id-11 div.sk-label:hover label.sk-toggleable__label {background-color: #d4ebff;}#sk-container-id-11 div.sk-serial::before {content: \"\";position: absolute;border-left: 1px solid gray;box-sizing: border-box;top: 0;bottom: 0;left: 50%;z-index: 0;}#sk-container-id-11 div.sk-serial {display: flex;flex-direction: column;align-items: center;background-color: white;padding-right: 0.2em;padding-left: 0.2em;position: relative;}#sk-container-id-11 div.sk-item {position: relative;z-index: 1;}#sk-container-id-11 div.sk-parallel {display: flex;align-items: stretch;justify-content: center;background-color: white;position: relative;}#sk-container-id-11 div.sk-item::before, #sk-container-id-11 div.sk-parallel-item::before {content: \"\";position: absolute;border-left: 1px solid gray;box-sizing: border-box;top: 0;bottom: 0;left: 50%;z-index: -1;}#sk-container-id-11 div.sk-parallel-item {display: flex;flex-direction: column;z-index: 1;position: relative;background-color: white;}#sk-container-id-11 div.sk-parallel-item:first-child::after {align-self: flex-end;width: 50%;}#sk-container-id-11 div.sk-parallel-item:last-child::after {align-self: flex-start;width: 50%;}#sk-container-id-11 div.sk-parallel-item:only-child::after {width: 0;}#sk-container-id-11 div.sk-dashed-wrapped {border: 1px dashed gray;margin: 0 0.4em 0.5em 0.4em;box-sizing: border-box;padding-bottom: 0.4em;background-color: white;}#sk-container-id-11 div.sk-label label {font-family: monospace;font-weight: bold;display: inline-block;line-height: 1.2em;}#sk-container-id-11 div.sk-label-container {text-align: center;}#sk-container-id-11 div.sk-container {/* jupyter's `normalize.less` sets `[hidden] { display: none; }` but bootstrap.min.css set `[hidden] { display: none !important; }` so we also need the `!important` here to be able to override the default hidden behavior on the sphinx rendered scikit-learn.org. See: https://github.com/scikit-learn/scikit-learn/issues/21755 */display: inline-block !important;position: relative;}#sk-container-id-11 div.sk-text-repr-fallback {display: none;}</style><div id=\"sk-container-id-11\" class=\"sk-top-container\"><div class=\"sk-text-repr-fallback\"><pre>RandomForestClassifier()</pre><b>In a Jupyter environment, please rerun this cell to show the HTML representation or trust the notebook. <br />On GitHub, the HTML representation is unable to render, please try loading this page with nbviewer.org.</b></div><div class=\"sk-container\" hidden><div class=\"sk-item\"><div class=\"sk-estimator sk-toggleable\"><input class=\"sk-toggleable__control sk-hidden--visually\" id=\"sk-estimator-id-11\" type=\"checkbox\" checked><label for=\"sk-estimator-id-11\" class=\"sk-toggleable__label sk-toggleable__label-arrow\">RandomForestClassifier</label><div class=\"sk-toggleable__content\"><pre>RandomForestClassifier()</pre></div></div></div></div></div>"
      ],
      "text/plain": [
       "RandomForestClassifier()"
      ]
     },
     "execution_count": 257,
     "metadata": {},
     "output_type": "execute_result"
    }
   ],
   "source": [
    "rf.fit(X_train, y_train)"
   ]
  },
  {
   "cell_type": "code",
   "execution_count": 258,
   "id": "b108319d-2928-43ed-831a-034ecd726931",
   "metadata": {
    "execution": {
     "iopub.execute_input": "2023-02-05T01:50:04.310916Z",
     "iopub.status.busy": "2023-02-05T01:50:04.310825Z",
     "iopub.status.idle": "2023-02-05T01:50:09.561420Z",
     "shell.execute_reply": "2023-02-05T01:50:09.561131Z",
     "shell.execute_reply.started": "2023-02-05T01:50:04.310907Z"
    },
    "tags": []
   },
   "outputs": [
    {
     "data": {
      "text/plain": [
       "0.8458"
      ]
     },
     "execution_count": 258,
     "metadata": {},
     "output_type": "execute_result"
    }
   ],
   "source": [
    "cross_val_score(rf, X_train, y_train).mean().round(4)"
   ]
  },
  {
   "cell_type": "code",
   "execution_count": 259,
   "id": "25fda18f-ed21-4c10-8101-c2b7bf4322cf",
   "metadata": {
    "execution": {
     "iopub.execute_input": "2023-02-05T01:50:09.562002Z",
     "iopub.status.busy": "2023-02-05T01:50:09.561909Z",
     "iopub.status.idle": "2023-02-05T01:50:09.714294Z",
     "shell.execute_reply": "2023-02-05T01:50:09.714012Z",
     "shell.execute_reply.started": "2023-02-05T01:50:09.561993Z"
    },
    "tags": []
   },
   "outputs": [
    {
     "data": {
      "text/plain": [
       "(0.9999061737661851, 0.8457786116322702)"
      ]
     },
     "execution_count": 259,
     "metadata": {},
     "output_type": "execute_result"
    }
   ],
   "source": [
    "rf.score(X_train, y_train), rf.score(X_test, y_test)"
   ]
  },
  {
   "cell_type": "markdown",
   "id": "2e029f51-d0ec-46c4-b64b-22bb3a6f8f28",
   "metadata": {},
   "source": [
    "Default model is overfit, which tree models have a tendency to do.  The test score is in line with the expectations from the cross val score, but this is actually below baseline."
   ]
  },
  {
   "cell_type": "markdown",
   "id": "6a15d31f-2131-4da8-bca2-49c45d42dc5a",
   "metadata": {},
   "source": [
    "## Parameter GridSearch\n",
    "\n",
    "In order to identify ideal hyperparameters, GridSearch will be used in various degrees.  First, a broad range of values will be used to identify parameter values that are ideal at that level, and then once those are identified some fine-tuning around those broad parameters to see if additional performance can be obtained."
   ]
  },
  {
   "cell_type": "code",
   "execution_count": 260,
   "id": "4eed81a8-3343-45be-81f8-149583984e89",
   "metadata": {
    "execution": {
     "iopub.execute_input": "2023-02-05T01:50:09.714897Z",
     "iopub.status.busy": "2023-02-05T01:50:09.714810Z",
     "iopub.status.idle": "2023-02-05T01:50:09.717709Z",
     "shell.execute_reply": "2023-02-05T01:50:09.717443Z",
     "shell.execute_reply.started": "2023-02-05T01:50:09.714886Z"
    },
    "tags": []
   },
   "outputs": [],
   "source": [
    "# configure pipeline\n",
    "rf_pipe = Pipeline([\n",
    "    ('rf', RandomForestClassifier())\n",
    "])\n",
    "\n",
    "# Attempt 3 fine tune settings from attempt 2\n",
    "# leave some params like bootstrap and warm start\n",
    "# narrow range of others\n",
    "rf_params = {\n",
    "    'rf__n_estimators': np.arange(15, 25, 1),\n",
    "    'rf__criterion' : [\"gini\", \"entropy\", \"log_loss\"],\n",
    "    'rf__max_depth': np.arange(10, 20, 1),\n",
    "    'rf__min_samples_leaf': np.arange(5, 11),\n",
    "    'rf__bootstrap': [True],\n",
    "    'rf__warm_start': [True],\n",
    "    'rf__max_features': np.arange(3, 9)\n",
    "}\n",
    "\n",
    "\n",
    "# Univariate k=10 (removed log-loss)\n",
    "# Attempt 1 7h 43m gridsearch\n",
    "# Attempt 2 after feature engineering 9h 27m\n",
    "# rf_params = {\n",
    "#     'rf__n_estimators': np.arange(25, 300, 50),\n",
    "#     'rf__criterion' : [\"gini\", \"entropy\"],\n",
    "#     'rf__max_depth': np.arange(5, 100, 10),\n",
    "#     'rf__min_samples_leaf': np.arange(3, 11),\n",
    "#     'rf__bootstrap': [False, True],\n",
    "#     'rf__warm_start': [True, False],\n",
    "#     'rf__max_features': np.arange(1, 6)\n",
    "# }"
   ]
  },
  {
   "cell_type": "code",
   "execution_count": 261,
   "id": "5346d253-bea2-43f7-9d91-30ca45f41206",
   "metadata": {
    "execution": {
     "iopub.execute_input": "2023-02-05T01:50:09.718248Z",
     "iopub.status.busy": "2023-02-05T01:50:09.718161Z",
     "iopub.status.idle": "2023-02-05T01:50:09.720450Z",
     "shell.execute_reply": "2023-02-05T01:50:09.720150Z",
     "shell.execute_reply.started": "2023-02-05T01:50:09.718239Z"
    },
    "tags": []
   },
   "outputs": [],
   "source": [
    "# commenting out so notebook can be run\n",
    "# gs = GridSearchCV(rf_pipe, rf_params, n_jobs=-1, verbose=1)\n",
    "# gs.fit(X_train, y_train)\n",
    "# gs.best_params_\n",
    "\n",
    "# univariate k=10  6h 14m \n",
    "# Fitting 5 folds for each of 19200 candidates, totalling 96000 fits\n",
    "# {'rf__bootstrap': True,\n",
    "#  'rf__criterion': 'entropy',\n",
    "#  'rf__max_depth': 65,\n",
    "#  'rf__max_features': 3,\n",
    "#  'rf__min_samples_leaf': 10,\n",
    "#  'rf__n_estimators': 25,\n",
    "#  'rf__warm_start': True}\n",
    "\n",
    "# attempt 3 after feature engineering 9h 27m (0.8744604991555639, 0.8559099437148218)\n",
    "# THIS BECAME THE MODEL REFERENCED AS rf_nine (used in feature selection)\n",
    "# Fitting 5 folds for each of 28800 candidates, totalling 144000 fits\n",
    "# {'rf__bootstrap': True,\n",
    "#  'rf__criterion': 'gini',\n",
    "#  'rf__max_depth': 95,\n",
    "#  'rf__max_features': 4,\n",
    "#  'rf__min_samples_leaf': 5,\n",
    "#  'rf__n_estimators': 175,\n",
    "#  'rf__warm_start': True}\n",
    "\n",
    "# attempt 2 (0.8645149183711766, 0.8551594746716698)\n",
    "# {'rf__bootstrap': True,\n",
    "#  'rf__criterion': 'gini',\n",
    "#  'rf__max_depth': 10,\n",
    "#  'rf__max_features': 6,\n",
    "#  'rf__min_samples_leaf': 5,\n",
    "#  'rf__n_estimators': 16,\n",
    "#  'rf__warm_start': True}\n",
    "\n",
    "# attempt 1 (0.8655470069431414, 0.8555347091932458) \n",
    "# {'rf__bootstrap': True,\n",
    "#  'rf__criterion': 'entropy',\n",
    "#  'rf__max_depth': 15,\n",
    "#  'rf__max_features': 3,\n",
    "#  'rf__min_samples_leaf': 6,\n",
    "#  'rf__n_estimators': 25,\n",
    "#  'rf__warm_start': True}"
   ]
  },
  {
   "cell_type": "markdown",
   "id": "43324475-01ac-4f9c-a393-a2d185ba22bb",
   "metadata": {},
   "source": [
    "## Evaluation"
   ]
  },
  {
   "cell_type": "markdown",
   "id": "f799a830-b94f-40d0-80ac-fd16f4eb3d9e",
   "metadata": {},
   "source": [
    "Import model `rf_nine` (derived from the attempt 3 grid search above) to re-create the data below.  It got its name from the 9+ hour gridsearch that was carried out."
   ]
  },
  {
   "cell_type": "code",
   "execution_count": 262,
   "id": "a079ec31-3994-4c37-a1e2-70c9aef88aad",
   "metadata": {
    "execution": {
     "iopub.execute_input": "2023-02-05T01:50:09.720974Z",
     "iopub.status.busy": "2023-02-05T01:50:09.720885Z",
     "iopub.status.idle": "2023-02-05T01:50:09.723357Z",
     "shell.execute_reply": "2023-02-05T01:50:09.723052Z",
     "shell.execute_reply.started": "2023-02-05T01:50:09.720966Z"
    },
    "tags": []
   },
   "outputs": [],
   "source": [
    "# importing so results can be recreated without the need to run the \n",
    "# gridsearch\n",
    "\n",
    "with open('../models/rf_nine.pkl', 'rb') as f:\n",
    "    rf_nine = pickle.load(f)"
   ]
  },
  {
   "cell_type": "markdown",
   "id": "3c83e924-4a33-4735-91ca-1076d659faa3",
   "metadata": {},
   "source": [
    "Fit the imported model"
   ]
  },
  {
   "cell_type": "code",
   "execution_count": 263,
   "id": "7ce730e8-9499-4271-a7bd-e2cd10208641",
   "metadata": {
    "execution": {
     "iopub.execute_input": "2023-02-05T01:50:09.724028Z",
     "iopub.status.busy": "2023-02-05T01:50:09.723910Z",
     "iopub.status.idle": "2023-02-05T01:50:12.291857Z",
     "shell.execute_reply": "2023-02-05T01:50:12.291539Z",
     "shell.execute_reply.started": "2023-02-05T01:50:09.724019Z"
    },
    "tags": []
   },
   "outputs": [
    {
     "data": {
      "text/html": [
       "<style>#sk-container-id-12 {color: black;background-color: white;}#sk-container-id-12 pre{padding: 0;}#sk-container-id-12 div.sk-toggleable {background-color: white;}#sk-container-id-12 label.sk-toggleable__label {cursor: pointer;display: block;width: 100%;margin-bottom: 0;padding: 0.3em;box-sizing: border-box;text-align: center;}#sk-container-id-12 label.sk-toggleable__label-arrow:before {content: \"▸\";float: left;margin-right: 0.25em;color: #696969;}#sk-container-id-12 label.sk-toggleable__label-arrow:hover:before {color: black;}#sk-container-id-12 div.sk-estimator:hover label.sk-toggleable__label-arrow:before {color: black;}#sk-container-id-12 div.sk-toggleable__content {max-height: 0;max-width: 0;overflow: hidden;text-align: left;background-color: #f0f8ff;}#sk-container-id-12 div.sk-toggleable__content pre {margin: 0.2em;color: black;border-radius: 0.25em;background-color: #f0f8ff;}#sk-container-id-12 input.sk-toggleable__control:checked~div.sk-toggleable__content {max-height: 200px;max-width: 100%;overflow: auto;}#sk-container-id-12 input.sk-toggleable__control:checked~label.sk-toggleable__label-arrow:before {content: \"▾\";}#sk-container-id-12 div.sk-estimator input.sk-toggleable__control:checked~label.sk-toggleable__label {background-color: #d4ebff;}#sk-container-id-12 div.sk-label input.sk-toggleable__control:checked~label.sk-toggleable__label {background-color: #d4ebff;}#sk-container-id-12 input.sk-hidden--visually {border: 0;clip: rect(1px 1px 1px 1px);clip: rect(1px, 1px, 1px, 1px);height: 1px;margin: -1px;overflow: hidden;padding: 0;position: absolute;width: 1px;}#sk-container-id-12 div.sk-estimator {font-family: monospace;background-color: #f0f8ff;border: 1px dotted black;border-radius: 0.25em;box-sizing: border-box;margin-bottom: 0.5em;}#sk-container-id-12 div.sk-estimator:hover {background-color: #d4ebff;}#sk-container-id-12 div.sk-parallel-item::after {content: \"\";width: 100%;border-bottom: 1px solid gray;flex-grow: 1;}#sk-container-id-12 div.sk-label:hover label.sk-toggleable__label {background-color: #d4ebff;}#sk-container-id-12 div.sk-serial::before {content: \"\";position: absolute;border-left: 1px solid gray;box-sizing: border-box;top: 0;bottom: 0;left: 50%;z-index: 0;}#sk-container-id-12 div.sk-serial {display: flex;flex-direction: column;align-items: center;background-color: white;padding-right: 0.2em;padding-left: 0.2em;position: relative;}#sk-container-id-12 div.sk-item {position: relative;z-index: 1;}#sk-container-id-12 div.sk-parallel {display: flex;align-items: stretch;justify-content: center;background-color: white;position: relative;}#sk-container-id-12 div.sk-item::before, #sk-container-id-12 div.sk-parallel-item::before {content: \"\";position: absolute;border-left: 1px solid gray;box-sizing: border-box;top: 0;bottom: 0;left: 50%;z-index: -1;}#sk-container-id-12 div.sk-parallel-item {display: flex;flex-direction: column;z-index: 1;position: relative;background-color: white;}#sk-container-id-12 div.sk-parallel-item:first-child::after {align-self: flex-end;width: 50%;}#sk-container-id-12 div.sk-parallel-item:last-child::after {align-self: flex-start;width: 50%;}#sk-container-id-12 div.sk-parallel-item:only-child::after {width: 0;}#sk-container-id-12 div.sk-dashed-wrapped {border: 1px dashed gray;margin: 0 0.4em 0.5em 0.4em;box-sizing: border-box;padding-bottom: 0.4em;background-color: white;}#sk-container-id-12 div.sk-label label {font-family: monospace;font-weight: bold;display: inline-block;line-height: 1.2em;}#sk-container-id-12 div.sk-label-container {text-align: center;}#sk-container-id-12 div.sk-container {/* jupyter's `normalize.less` sets `[hidden] { display: none; }` but bootstrap.min.css set `[hidden] { display: none !important; }` so we also need the `!important` here to be able to override the default hidden behavior on the sphinx rendered scikit-learn.org. See: https://github.com/scikit-learn/scikit-learn/issues/21755 */display: inline-block !important;position: relative;}#sk-container-id-12 div.sk-text-repr-fallback {display: none;}</style><div id=\"sk-container-id-12\" class=\"sk-top-container\"><div class=\"sk-text-repr-fallback\"><pre>RandomForestClassifier(max_depth=95, max_features=4, min_samples_leaf=5,\n",
       "                       n_estimators=175, warm_start=True)</pre><b>In a Jupyter environment, please rerun this cell to show the HTML representation or trust the notebook. <br />On GitHub, the HTML representation is unable to render, please try loading this page with nbviewer.org.</b></div><div class=\"sk-container\" hidden><div class=\"sk-item\"><div class=\"sk-estimator sk-toggleable\"><input class=\"sk-toggleable__control sk-hidden--visually\" id=\"sk-estimator-id-12\" type=\"checkbox\" checked><label for=\"sk-estimator-id-12\" class=\"sk-toggleable__label sk-toggleable__label-arrow\">RandomForestClassifier</label><div class=\"sk-toggleable__content\"><pre>RandomForestClassifier(max_depth=95, max_features=4, min_samples_leaf=5,\n",
       "                       n_estimators=175, warm_start=True)</pre></div></div></div></div></div>"
      ],
      "text/plain": [
       "RandomForestClassifier(max_depth=95, max_features=4, min_samples_leaf=5,\n",
       "                       n_estimators=175, warm_start=True)"
      ]
     },
     "execution_count": 263,
     "metadata": {},
     "output_type": "execute_result"
    }
   ],
   "source": [
    "rf_nine.fit(X_train, y_train)"
   ]
  },
  {
   "cell_type": "code",
   "execution_count": 264,
   "id": "a3ec8392-95d2-4225-be10-03f2d085d8d5",
   "metadata": {
    "execution": {
     "iopub.execute_input": "2023-02-05T01:50:12.292494Z",
     "iopub.status.busy": "2023-02-05T01:50:12.292401Z",
     "iopub.status.idle": "2023-02-05T01:50:22.537474Z",
     "shell.execute_reply": "2023-02-05T01:50:22.536936Z",
     "shell.execute_reply.started": "2023-02-05T01:50:12.292485Z"
    },
    "tags": []
   },
   "outputs": [
    {
     "name": "stdout",
     "output_type": "stream",
     "text": [
      "CrossVal: 0.8546\n",
      "Train Score: 0.8736\n",
      "Test Score: 0.8559\n"
     ]
    }
   ],
   "source": [
    "print(f'CrossVal: {cross_val_score(rf_nine, X_train, y_train).mean().round(4)}')\n",
    "print(f'Train Score: {rf_nine.score(X_train, y_train).round(4)}')\n",
    "print(f'Test Score: {rf_nine.score(X_test, y_test).round(4)}')"
   ]
  },
  {
   "cell_type": "code",
   "execution_count": 265,
   "id": "f90df0f2-a88f-488d-9331-62b2d71db5ea",
   "metadata": {
    "execution": {
     "iopub.execute_input": "2023-02-05T01:50:22.538322Z",
     "iopub.status.busy": "2023-02-05T01:50:22.538206Z",
     "iopub.status.idle": "2023-02-05T01:50:22.595444Z",
     "shell.execute_reply": "2023-02-05T01:50:22.595128Z",
     "shell.execute_reply.started": "2023-02-05T01:50:22.538313Z"
    },
    "tags": []
   },
   "outputs": [
    {
     "name": "stdout",
     "output_type": "stream",
     "text": [
      "              precision    recall  f1-score   support\n",
      "\n",
      "           0       0.64      0.02      0.04       387\n",
      "           1       0.86      1.00      0.92      2278\n",
      "\n",
      "    accuracy                           0.86      2665\n",
      "   macro avg       0.75      0.51      0.48      2665\n",
      "weighted avg       0.82      0.86      0.79      2665\n",
      "\n"
     ]
    }
   ],
   "source": [
    "print(classification_report(y_test, rf_nine.predict(X_test)))"
   ]
  },
  {
   "cell_type": "code",
   "execution_count": 266,
   "id": "9d059ce2-60b1-4e21-9f3e-1ae8ec890536",
   "metadata": {
    "execution": {
     "iopub.execute_input": "2023-02-05T01:50:22.596230Z",
     "iopub.status.busy": "2023-02-05T01:50:22.596093Z",
     "iopub.status.idle": "2023-02-05T01:50:22.857729Z",
     "shell.execute_reply": "2023-02-05T01:50:22.857420Z",
     "shell.execute_reply.started": "2023-02-05T01:50:22.596209Z"
    },
    "tags": []
   },
   "outputs": [
    {
     "data": {
      "image/png": "[encoded data removed]",
      "text/plain": [
       "<Figure size 1600x600 with 4 Axes>"
      ]
     },
     "metadata": {},
     "output_type": "display_data"
    }
   ],
   "source": [
    "fig, (ax1, ax2) = plt.subplots(1, 2, figsize=(16,6))\n",
    "\n",
    "ConfusionMatrixDisplay.from_estimator(rf_nine, \n",
    "                                      X_test, \n",
    "                                      y_test,\n",
    "                                      cmap='Purples',\n",
    "                                      ax=ax1)\n",
    "ax1.set_title('All Features Confusion Matrix\\nModel: rf_nine - Sample Counts')\n",
    "\n",
    "ConfusionMatrixDisplay.from_estimator(rf_nine, \n",
    "                                      X_test, \n",
    "                                      y_test,\n",
    "                                      normalize='all',\n",
    "                                      cmap='Purples',\n",
    "                                      ax=ax2)\n",
    "ax2.set_title('All Features Confusion Matrix\\nModel: rf_nine - % Values');"
   ]
  },
  {
   "cell_type": "markdown",
   "id": "8f6ec077-0d8b-43cd-8195-894449d5f129",
   "metadata": {},
   "source": [
    "After a pretty large gridsearch, the scores from cross validation and the accuracy scores from the model would not indicate that the model is overfit, but overall, the improvement over baseline is minimal. Baseline (majority class) is 85.47% and this modely accuracy on the test score is 85.4%, so that is basically the baseline.  \n",
    "\n",
    "In addition, when you look at the recall values, it is very low in the minority class which means the model is not good at actually guessing negative values."
   ]
  },
  {
   "cell_type": "markdown",
   "id": "bddd307f-e36f-4ca4-bc8d-dfc4bcbcb721",
   "metadata": {},
   "source": [
    "We'll plot the ROC AUC for the selected Random Forest model."
   ]
  },
  {
   "cell_type": "code",
   "execution_count": 267,
   "id": "a45e59f1-af2e-405c-9c25-e6a24f786bf4",
   "metadata": {
    "execution": {
     "iopub.execute_input": "2023-02-05T01:50:22.858323Z",
     "iopub.status.busy": "2023-02-05T01:50:22.858230Z",
     "iopub.status.idle": "2023-02-05T01:50:22.974954Z",
     "shell.execute_reply": "2023-02-05T01:50:22.974655Z",
     "shell.execute_reply.started": "2023-02-05T01:50:22.858314Z"
    },
    "tags": []
   },
   "outputs": [
    {
     "data": {
      "image/png": "[encoded data removed]",
      "text/plain": [
       "<Figure size 640x480 with 1 Axes>"
      ]
     },
     "metadata": {},
     "output_type": "display_data"
    }
   ],
   "source": [
    "# Create an ax object\n",
    "ax = plt.gca()\n",
    "\n",
    "# Use RocCurveDisplay for both estimators\n",
    "RocCurveDisplay.from_estimator(rf_nine, \n",
    "                               X_test, \n",
    "                               y_test, \n",
    "                               ax=ax, \n",
    "                               name='Initial RF')\n",
    "\n",
    "# Add 'worst case scenario' line\n",
    "plt.plot([0,1], [0,1], label='no prediction value', \n",
    "         linestyle='--', color='gray')\n",
    "\n",
    "# Necessary to label the baseline\n",
    "plt.legend();"
   ]
  },
  {
   "cell_type": "markdown",
   "id": "a281970f-3993-453a-abc4-2c50895cc06f",
   "metadata": {},
   "source": [
    "This ROC AUC score is representing some of the issues that became apparent in the classification report that the model is having issues distinguishing between the two classes.  In this chart, you are looking at the area above the dotted line, which represents if the model had no prediction value, which would represent an AUC score of .5, and under the curved blue line.  The more area under the curve (AUC) the better the model is at discriminating between classes."
   ]
  },
  {
   "cell_type": "code",
   "execution_count": 268,
   "id": "1d32b1cc-50dd-4559-a283-e5334e85111c",
   "metadata": {
    "execution": {
     "iopub.execute_input": "2023-02-05T01:50:22.975514Z",
     "iopub.status.busy": "2023-02-05T01:50:22.975425Z",
     "iopub.status.idle": "2023-02-05T01:50:23.032295Z",
     "shell.execute_reply": "2023-02-05T01:50:23.032020Z",
     "shell.execute_reply.started": "2023-02-05T01:50:22.975506Z"
    }
   },
   "outputs": [
    {
     "name": "stdout",
     "output_type": "stream",
     "text": [
      "              precision    recall  f1-score   support\n",
      "\n",
      "           0       0.64      0.02      0.04       387\n",
      "           1       0.86      1.00      0.92      2278\n",
      "\n",
      "    accuracy                           0.86      2665\n",
      "   macro avg       0.75      0.51      0.48      2665\n",
      "weighted avg       0.82      0.86      0.79      2665\n",
      "\n"
     ]
    }
   ],
   "source": [
    "# univariate k=10 after 9 hour grid search\n",
    "print(classification_report(y_test, \n",
    "                            rf_nine.predict(X_test), \n",
    "                           ))\n",
    "\n",
    "#               precision    recall  f1-score   support\n",
    "\n",
    "#            0       0.50      0.00      0.01       387\n",
    "#            1       0.86      1.00      0.92      2278\n",
    "\n",
    "#     accuracy                           0.85      2665\n",
    "#    macro avg       0.68      0.50      0.46      2665\n",
    "# weighted avg       0.80      0.85      0.79      2665"
   ]
  },
  {
   "cell_type": "code",
   "execution_count": 269,
   "id": "a3be8862-f423-4d04-ba8e-a57568328554",
   "metadata": {
    "execution": {
     "iopub.execute_input": "2023-02-05T01:50:23.032887Z",
     "iopub.status.busy": "2023-02-05T01:50:23.032802Z",
     "iopub.status.idle": "2023-02-05T01:50:23.034499Z",
     "shell.execute_reply": "2023-02-05T01:50:23.034198Z",
     "shell.execute_reply.started": "2023-02-05T01:50:23.032879Z"
    },
    "tags": []
   },
   "outputs": [],
   "source": [
    "# pull probability data from the imported model\n",
    "# probs = pd.DataFrame(gs.best_estimator_.predict_proba(X_test), columns=gs.classes_)"
   ]
  },
  {
   "cell_type": "code",
   "execution_count": 270,
   "id": "48290a9e-eecf-4d31-bfb3-bc06c642b2e7",
   "metadata": {
    "execution": {
     "iopub.execute_input": "2023-02-05T01:50:23.034996Z",
     "iopub.status.busy": "2023-02-05T01:50:23.034907Z",
     "iopub.status.idle": "2023-02-05T01:50:23.036953Z",
     "shell.execute_reply": "2023-02-05T01:50:23.036605Z",
     "shell.execute_reply.started": "2023-02-05T01:50:23.034988Z"
    },
    "tags": []
   },
   "outputs": [],
   "source": [
    "# probs.sort_values(by=0, ascending=False).head()"
   ]
  },
  {
   "cell_type": "markdown",
   "id": "b619dac6-d792-4ce8-9031-0d6baec91583",
   "metadata": {},
   "source": [
    "## Export Model"
   ]
  },
  {
   "cell_type": "code",
   "execution_count": 271,
   "id": "3b35fa62-0365-4e83-b923-bbbd8cede896",
   "metadata": {
    "execution": {
     "iopub.execute_input": "2023-02-05T01:50:23.037835Z",
     "iopub.status.busy": "2023-02-05T01:50:23.037624Z",
     "iopub.status.idle": "2023-02-05T01:50:23.040074Z",
     "shell.execute_reply": "2023-02-05T01:50:23.039624Z",
     "shell.execute_reply.started": "2023-02-05T01:50:23.037822Z"
    },
    "tags": []
   },
   "outputs": [],
   "source": [
    "# # parameters found from 9 hour grid search \n",
    "# rf_nine = RandomForestClassifier(bootstrap=True,\n",
    "#                                  criterion='gini',\n",
    "#                                  max_depth=95,\n",
    "#                                  max_features=4,\n",
    "#                                  min_samples_leaf=5,\n",
    "#                                  n_estimators=175,\n",
    "#                                  warm_start=True)"
   ]
  },
  {
   "cell_type": "code",
   "execution_count": 272,
   "id": "53f03883-957c-4b33-8dc3-0e32381084bc",
   "metadata": {
    "execution": {
     "iopub.execute_input": "2023-02-05T01:50:23.040700Z",
     "iopub.status.busy": "2023-02-05T01:50:23.040545Z",
     "iopub.status.idle": "2023-02-05T01:50:23.042544Z",
     "shell.execute_reply": "2023-02-05T01:50:23.042211Z",
     "shell.execute_reply.started": "2023-02-05T01:50:23.040689Z"
    }
   },
   "outputs": [],
   "source": [
    "# # export rf_nine model (initial model from 9 hour gridsearch)\n",
    "# with open('../models/rf_nine.pkl', 'wb') as f:\n",
    "#     pickle.dump(rf_nine, f)"
   ]
  },
  {
   "cell_type": "markdown",
   "id": "ed621385-54ba-40b1-b4fc-adbc6cb21aca",
   "metadata": {},
   "source": [
    "## Ad-hoc Scoring\n",
    "\n",
    "Scoring reports from ad-hoc feature selection attempts with the `rf_nine` model"
   ]
  },
  {
   "cell_type": "code",
   "execution_count": 273,
   "id": "49133318-6782-419b-ba48-4560b6c0ad28",
   "metadata": {
    "execution": {
     "iopub.execute_input": "2023-02-05T01:50:23.043173Z",
     "iopub.status.busy": "2023-02-05T01:50:23.043063Z",
     "iopub.status.idle": "2023-02-05T01:50:23.044940Z",
     "shell.execute_reply": "2023-02-05T01:50:23.044661Z",
     "shell.execute_reply.started": "2023-02-05T01:50:23.043164Z"
    },
    "tags": []
   },
   "outputs": [],
   "source": [
    "# rf_nine.score(X_train, y_train), rf_nine.score(X_test, y_test)\n",
    "\n",
    "# before dropping on_hold_mins: (0.874085194220304, 0.8536585365853658)\n",
    "# after dropping on_hold_mins: (0.8757740664289735, 0.8540337711069418)\n",
    "# k=4 feats only:     (0.8737098892850441, 0.8544090056285178)"
   ]
  },
  {
   "cell_type": "markdown",
   "id": "6b9a3956-bf8c-401d-aa8a-7d6e231882e9",
   "metadata": {},
   "source": [
    "## Ad-hoc Classification Reports\n",
    "Classification reports from various attempts at different feature sets with the `rf_nine` model"
   ]
  },
  {
   "cell_type": "code",
   "execution_count": 274,
   "id": "473c523b-c915-484b-afd8-bf959bf464b9",
   "metadata": {
    "execution": {
     "iopub.execute_input": "2023-02-05T01:50:23.045484Z",
     "iopub.status.busy": "2023-02-05T01:50:23.045399Z",
     "iopub.status.idle": "2023-02-05T01:50:23.047504Z",
     "shell.execute_reply": "2023-02-05T01:50:23.047158Z",
     "shell.execute_reply.started": "2023-02-05T01:50:23.045476Z"
    },
    "tags": []
   },
   "outputs": [],
   "source": [
    "# univariate k=4 only\n",
    "\n",
    "# train, test scores: (0.8737098892850441, 0.8544090056285178)\n",
    "\n",
    "# classification report\n",
    "#               precision    recall  f1-score   support\n",
    "\n",
    "#            0       0.47      0.02      0.04       387\n",
    "#            1       0.86      1.00      0.92      2278\n",
    "\n",
    "#     accuracy                           0.85      2665\n",
    "#    macro avg       0.66      0.51      0.48      2665\n",
    "# weighted avg       0.80      0.85      0.79      2665"
   ]
  },
  {
   "cell_type": "code",
   "execution_count": 275,
   "id": "eb8e7721-c9a0-4e32-adfe-3b2e50b70c53",
   "metadata": {
    "execution": {
     "iopub.execute_input": "2023-02-05T01:50:23.048123Z",
     "iopub.status.busy": "2023-02-05T01:50:23.048025Z",
     "iopub.status.idle": "2023-02-05T01:50:23.049897Z",
     "shell.execute_reply": "2023-02-05T01:50:23.049484Z",
     "shell.execute_reply.started": "2023-02-05T01:50:23.048116Z"
    },
    "tags": []
   },
   "outputs": [],
   "source": [
    "# after dropping on_hold_mins\n",
    "\n",
    "# train, test scores: (0.8757740664289735, 0.8540337711069418)\n",
    "\n",
    "# classification report\n",
    "#               precision    recall  f1-score   support\n",
    "\n",
    "#            0       0.38      0.01      0.02       387\n",
    "#            1       0.86      1.00      0.92      2278\n",
    "\n",
    "#     accuracy                           0.85      2665\n",
    "#    macro avg       0.62      0.50      0.47      2665\n",
    "# weighted avg       0.79      0.85      0.79      2665"
   ]
  },
  {
   "cell_type": "code",
   "execution_count": 276,
   "id": "e9696b33-10fe-4f44-8e67-62ba4abc79c7",
   "metadata": {
    "execution": {
     "iopub.execute_input": "2023-02-05T01:50:23.050851Z",
     "iopub.status.busy": "2023-02-05T01:50:23.050568Z",
     "iopub.status.idle": "2023-02-05T01:50:23.052899Z",
     "shell.execute_reply": "2023-02-05T01:50:23.052576Z",
     "shell.execute_reply.started": "2023-02-05T01:50:23.050836Z"
    },
    "tags": []
   },
   "outputs": [],
   "source": [
    "# before dropping on_hold_mins\n",
    "\n",
    "# train, test scores: (0.874085194220304, 0.8536585365853658)\n",
    "\n",
    "# classification report\n",
    "#               precision    recall  f1-score   support\n",
    "\n",
    "#            0       0.36      0.01      0.02       387\n",
    "#            1       0.86      1.00      0.92      2278\n",
    "\n",
    "#     accuracy                           0.85      2665\n",
    "#    macro avg       0.61      0.50      0.47      2665\n",
    "# weighted avg       0.78      0.85      0.79      2665"
   ]
  },
  {
   "cell_type": "markdown",
   "id": "1ba14a6f-bfe1-4b7b-adaf-f0478bb30944",
   "metadata": {},
   "source": [
    "## Ad-hoc Feature Importances\n",
    "Attempts at collecting feature importances to use to do some early feature selection"
   ]
  },
  {
   "cell_type": "code",
   "execution_count": 277,
   "id": "f72308f3-bf40-44d0-a8fc-883bca1f3690",
   "metadata": {
    "execution": {
     "iopub.execute_input": "2023-02-05T01:50:23.053603Z",
     "iopub.status.busy": "2023-02-05T01:50:23.053456Z",
     "iopub.status.idle": "2023-02-05T01:50:23.055630Z",
     "shell.execute_reply": "2023-02-05T01:50:23.055332Z",
     "shell.execute_reply.started": "2023-02-05T01:50:23.053594Z"
    },
    "tags": []
   },
   "outputs": [],
   "source": [
    "# pd.DataFrame(\n",
    "#     gs.best_estimator_.named_steps.rf.feature_importances_,\n",
    "#     X.columns\n",
    "# ).reset_index().sort_values(by=0, ascending=False)\n",
    "\n",
    "# sent_score \t0.115195\n",
    "# comm_rate \t0.097254\n",
    "# td_crtd_assnd \t0.094701\n",
    "# reqstr_wait_mins \t0.092093\n",
    "# reply_mins \t0.091864\n",
    "# rply_rate \t0.089124\n",
    "# full_reso_mins \t0.087845\n",
    "# first_reso_mins \t0.086339\n",
    "# td_assnd_slvd \t0.083209\n",
    "# agt_wait_mins \t0.077130\n",
    "# num_comms \t0.038738\n",
    "# replies \t0.019137\n",
    "# reopens \t0.009809\n",
    "# grp_stations \t0.007971\n",
    "# asign_stations \t0.005473\n",
    "# on_hold_mins \t0.004119"
   ]
  },
  {
   "cell_type": "code",
   "execution_count": 278,
   "id": "e2632976-73d8-4a87-975e-6fa5d36180e9",
   "metadata": {
    "execution": {
     "iopub.execute_input": "2023-02-05T01:50:23.056225Z",
     "iopub.status.busy": "2023-02-05T01:50:23.056106Z",
     "iopub.status.idle": "2023-02-05T01:50:23.058487Z",
     "shell.execute_reply": "2023-02-05T01:50:23.058029Z",
     "shell.execute_reply.started": "2023-02-05T01:50:23.056216Z"
    },
    "tags": []
   },
   "outputs": [],
   "source": [
    "# pd.DataFrame(\n",
    "#     gs.best_estimator_.named_steps.rf.feature_importances_,\n",
    "#     ctx.get_feature_names_out()\n",
    "# ).reset_index()\n",
    "\n",
    "# sub_len \t0.098831\n",
    "# desc_len \t0.096306\n",
    "# reply_mins \t0.091590\n",
    "# full_reso_mins \t0.088125\n",
    "# sent_score \t0.082362\n",
    "# td_crtd_slvd \t0.079445\n",
    "# td_assnd_slvd \t0.078217\n",
    "# reqstr_wait_mins \t0.076315\n",
    "# td_crtd_assnd \t0.075706\n",
    "# first_reso_mins \t0.066895\n",
    "# agt_wait_mins \t0.066812\n",
    "# replies \t0.037240\n",
    "# reopens \t0.013764\n",
    "# channel_email \t0.011843\n",
    "# grp_stations \t0.011614\n",
    "# channel_web \t0.010907\n",
    "# asign_stations \t0.007504\n",
    "# on_hold_mins \t0.006524\n",
    "# channel_help_center \t0.000000\n",
    "# channel_api \t0.000000"
   ]
  },
  {
   "cell_type": "markdown",
   "id": "6aa0fab1-3d32-4b8e-a0e7-bf0f3774e02c",
   "metadata": {},
   "source": [
    "Since the model, with the various grid searches and parameters tried, isn't performing very well relative to baseline, I'm going to explore some techniques to try and address this.  I'll try undersampling the majority class and will also try SMOTE to see if either of those approaches may help with this models performance.  I'm primarily interested in these since we have plenty of representation of the majority class, but are lacking some representation of the minority class.  If both of these approaches do not yield better results, I'll explore any additional treatment of the data, such as limiting outliers, or even exploring if there are other features I might be able to get from Zendesk."
   ]
  }
 ],
 "metadata": {
  "kernelspec": {
   "display_name": "Python 3 (ipykernel)",
   "language": "python",
   "name": "python3"
  },
  "language_info": {
   "codemirror_mode": {
    "name": "ipython",
    "version": 3
   },
   "file_extension": ".py",
   "mimetype": "text/x-python",
   "name": "python",
   "nbconvert_exporter": "python",
   "pygments_lexer": "ipython3",
   "version": "3.9.15"
  }
 },
 "nbformat": 4,
 "nbformat_minor": 5
}
