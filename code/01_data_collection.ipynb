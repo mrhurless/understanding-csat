{
 "cells": [
  {
   "cell_type": "markdown",
   "id": "56d9a24f-e02e-4c76-9063-6a390e481691",
   "metadata": {},
   "source": [
    "# Data Collection\n",
    "\n",
    "This notebook will focus on collecting ticket related data through Zendesk APIs.  The types of data that will try to be collected, but not an exhaustive list:\n",
    "* Number of comments\n",
    "* Total length of ticket (from open to close)\n",
    "* First reply time\n",
    "* Other metrics provided by the APIs\n",
    "\n",
    "In looking through the API documentation and some of the responses in my testing, I think the following approach could get me what I need:\n",
    "\n",
    "1. Use the [search API](https://developer.zendesk.com/api-reference/ticketing/ticket-management/search/) in order to find closed tickets that have a satisfaction rating (good, goodwithcomment, bad, badwithcomment)\n",
    "    1. Will need to use pagination and other techniques because of the limitations of the search API\n",
    "        1. specifically, it looks like the correct method is to use the [export search results](https://developer.zendesk.com/api-reference/ticketing/ticket-management/search/#export-search-results) approach\n",
    "1. From the results of the previous step, use the [ticket metrics API](https://developer.zendesk.com/api-reference/ticketing/tickets/ticket_metrics/) to get metric information\n",
    "1. If sentinment analysis is also desired, would need to use [List Comments API](https://developer.zendesk.com/api-reference/ticketing/tickets/ticket_comments/#list-comments) to get the comment data from the ticket IDs identified from previous steps"
   ]
  },
  {
   "cell_type": "markdown",
   "id": "a4f5f3c1-63c0-4e62-81de-b5b804de7e15",
   "metadata": {},
   "source": [
    "## Import Libraries"
   ]
  },
  {
   "cell_type": "code",
   "execution_count": 1,
   "id": "92232d71-351e-40fc-b1c3-76af0d8ae306",
   "metadata": {
    "execution": {
     "iopub.execute_input": "2023-01-23T17:51:35.506354Z",
     "iopub.status.busy": "2023-01-23T17:51:35.503245Z",
     "iopub.status.idle": "2023-01-23T17:51:36.016624Z",
     "shell.execute_reply": "2023-01-23T17:51:36.016180Z",
     "shell.execute_reply.started": "2023-01-23T17:51:35.506205Z"
    },
    "tags": []
   },
   "outputs": [],
   "source": [
    "import pandas as pd\n",
    "import requests\n",
    "from time import sleep\n",
    "from getpass import getpass\n",
    "from urllib.parse import urlencode"
   ]
  },
  {
   "cell_type": "markdown",
   "id": "b001f099-ae13-4ce2-83e3-109e11945abb",
   "metadata": {},
   "source": [
    "## Create Functions for Data Collection\n",
    "\n",
    "Here I will define some functions that will be needed to collect the ticket data.  From the outline above and translating to what is written below, you'll find:\n",
    "    \n",
    "* Collection functions that are interfacing with the various Zendesk APIs to:\n",
    "    * Query for list of tickets based on criteria of searching for tickets with good or bad ratings\n",
    "    * Retrieving metrics for the tickets identified in the search\n",
    "    * Retrieving all comments for the tickets identified in the search\n",
    "<p></p>\n",
    "\n",
    "* Parsing functions to process response data from various API requests:\n",
    "    * Ticket Search Responses\n",
    "    * Ticket Metrics Responses\n",
    "    * Ticket Comments\n",
    "    \n",
    "**Note: Zendesk API key and valid agent email address are required to access this data**"
   ]
  },
  {
   "cell_type": "markdown",
   "id": "68efcc95-b777-45c2-8f55-59fa70f822ae",
   "metadata": {},
   "source": [
    "### Locate Tickets with Satisfaction Ratings\n",
    "\n",
    "The following functions will utilize the Zendesk Search API endpoint to query based on ticket properties of having either a good or bad customer satisfaction rating.\n",
    "\n",
    "[Search API](https://developer.zendesk.com/api-reference/ticketing/ticket-management/search/)\n",
    "\n",
    "What I'll use below is the [Export Search Results](https://developer.zendesk.com/api-reference/ticketing/ticket-management/search/#export-search-results) endpoint of the Search API.\n",
    "\n",
    "* `GET /api/v2/search/export?query={query}`\n",
    "\n",
    ">Exports a set of results. See Query basics for the syntax of the query parameter.\n",
    ">\n",
    ">This endpoint is for search queries that will return more than 1000 results. The result set is ordered only by the >`created_at` attribute.\n",
    ">The search only returns results of a single object type. The following object types are supported: ticket, organization, >user, or group.\n",
    ">You must specify the type in the `filter[type]` parameter. Searches with type in the query string will result in an >error.\n",
    ">\n",
    ">Pagination\n",
    ">* Cursor pagination\n",
    ">\n",
    ">Returns a maximum of 1000 records per page. The number of results shown in a page is determined by the `page[size]` >parameter."
   ]
  },
  {
   "cell_type": "code",
   "execution_count": 2,
   "id": "c954fff8-1686-42eb-8a8d-69d942e1a0c1",
   "metadata": {
    "execution": {
     "iopub.execute_input": "2023-01-23T17:51:39.543729Z",
     "iopub.status.busy": "2023-01-23T17:51:39.542883Z",
     "iopub.status.idle": "2023-01-23T17:51:39.556639Z",
     "shell.execute_reply": "2023-01-23T17:51:39.555200Z",
     "shell.execute_reply.started": "2023-01-23T17:51:39.543698Z"
    },
    "tags": []
   },
   "outputs": [],
   "source": [
    "def parse_ticket_search_results(results):\n",
    "    '''\n",
    "    Returns list of dictionaries with only certain predefined values \n",
    "    stripped out of the search results for tickets with satisfaction\n",
    "    data. For use in conjunction with the collect_tickets_with_satisfaction\n",
    "    function.\n",
    "    \n",
    "    Returns id, type, subject, description, status, group_id, channel,\n",
    "    satisfaction score, and satisfaction comment.\n",
    "    '''\n",
    "    outputs = []\n",
    "    fields = ['id', \n",
    "              'type', \n",
    "              'subject', \n",
    "              'description', \n",
    "              'status', \n",
    "              'group_id',\n",
    "              'recipient'\n",
    "             ]\n",
    "    \n",
    "    # also want 'via.channel', 'satisfaction_rating.score', 'satisfaction_rating.comment'\n",
    "    # strip out wanted data from each result\n",
    "    for result in results:\n",
    "        # parse all the top level values identified in the fields list\n",
    "        output = {key : value for key, value in result.items() if key in fields}\n",
    "        \n",
    "        # retrieve nested values for additional data\n",
    "        output['channel'] = result['via'].get('channel')\n",
    "        output['sat_score'] = result['satisfaction_rating'].get('score')\n",
    "        output['sat_comment'] = result['satisfaction_rating'].get('comment')\n",
    "        \n",
    "        # append dictionary to the list that will be returned\n",
    "        outputs.append(output)\n",
    "    \n",
    "    # return the list of dictionaries\n",
    "    return outputs"
   ]
  },
  {
   "cell_type": "code",
   "execution_count": 3,
   "id": "46e3370d-80ba-4455-b938-3c3d5280d8c8",
   "metadata": {
    "execution": {
     "iopub.execute_input": "2023-01-23T17:51:43.924338Z",
     "iopub.status.busy": "2023-01-23T17:51:43.922368Z",
     "iopub.status.idle": "2023-01-23T17:51:43.963440Z",
     "shell.execute_reply": "2023-01-23T17:51:43.962781Z",
     "shell.execute_reply.started": "2023-01-23T17:51:43.924296Z"
    },
    "tags": []
   },
   "outputs": [],
   "source": [
    "def collect_tickets_with_satisfaction():\n",
    "    '''\n",
    "    Uses the Zendesk search API to find tickets that are closed and have\n",
    "    satisfaction scores.  Returns a dataframe with columns:\n",
    "        id, type, subject, description, status, group_id,\n",
    "        channel, satisfaction score, satisfaction comment (if any)\n",
    "        \n",
    "    Depdency on the parse_ticket_search_results function.\n",
    "    '''\n",
    "    # initiative requests session\n",
    "    email = input('Email for query: ')\n",
    "    key = getpass('API key for query: ')\n",
    "    credentials = (f'{email}/token', key)\n",
    "    session = requests.Session()\n",
    "    session.auth = credentials\n",
    "\n",
    "    # define parameters for Zendesk search query\n",
    "    params = {\n",
    "        'query': 'type:ticket status:closed -satisfaction:offered -satisfaction:unoffered',\n",
    "        'page[size]': 250,\n",
    "        'filter[type]': 'ticket'\n",
    "    }\n",
    "\n",
    "    # create empty list to hold data\n",
    "    search_results = []\n",
    "\n",
    "    # construct the url based on the parameters\n",
    "    base_url = 'https://[redacted].zendesk.com/api/v2/search/'\n",
    "\n",
    "    # retrieve total number of records that match the query\n",
    "    num_results_url = f'{base_url}count?{urlencode({key: item for key, item in params.items() if key == \"query\"})}'\n",
    "    num_results = session.get(num_results_url)\n",
    "    num_results = num_results.json()\n",
    "    \n",
    "    # output some information about number of tickets and rate of collection\n",
    "    print(f'Collecting {num_results[\"count\"]} tickets with satisfaction results\\n\\\n",
    "    Collecting {params[\"page[size]\"]} per page\\n')\n",
    "    \n",
    "    # build url for request\n",
    "    url = f'{base_url}export?{urlencode(params)}'\n",
    "\n",
    "    while url:\n",
    "        # output to let user know this is still running\n",
    "        print(f'{len(search_results)}', end=' ')\n",
    "\n",
    "        response = session.get(url)\n",
    "        \n",
    "        # catch timeout\n",
    "        if response.status_code == 429:\n",
    "            sleep(res.headers['retry-after'])\n",
    "            \n",
    "        # catch any other response other than success (200)\n",
    "        elif response.status_code != 200:\n",
    "            print('Status:', response.status_code, 'Problem with the request. Exiting.')\n",
    "            exit()\n",
    "        \n",
    "        # if success\n",
    "        else:\n",
    "            data = response.json()\n",
    "            \n",
    "            # parse and add results to list\n",
    "            results = pd.DataFrame(parse_ticket_search_results(data['results']))\n",
    "            search_results.append(results)\n",
    "            \n",
    "            # cursor pagination\n",
    "            if data['meta']['has_more']:\n",
    "                url = data['links']['next']\n",
    "            else:\n",
    "                url = None\n",
    "\n",
    "    # clean up variables and close requests session\n",
    "    email = ''\n",
    "    key = ''\n",
    "    session.close()\n",
    "    \n",
    "    # return dataframe\n",
    "    return pd.concat(search_results)"
   ]
  },
  {
   "cell_type": "markdown",
   "id": "0001d3d3-3167-41ed-bf06-a54610475850",
   "metadata": {},
   "source": [
    "#### Collect and Export"
   ]
  },
  {
   "cell_type": "code",
   "execution_count": null,
   "id": "56dd0821-ba3c-4a65-987f-a7ec34d1c167",
   "metadata": {
    "tags": []
   },
   "outputs": [],
   "source": [
    "sat_tix = collect_tickets_with_satisfaction()"
   ]
  },
  {
   "cell_type": "code",
   "execution_count": null,
   "id": "21ea35f7-4068-4cae-9dc2-a489e9532fb3",
   "metadata": {
    "tags": []
   },
   "outputs": [],
   "source": [
    "sat_tix.head()"
   ]
  },
  {
   "cell_type": "code",
   "execution_count": 67,
   "id": "2e0ca413-d385-4e01-9a47-4d20f72e7075",
   "metadata": {
    "execution": {
     "iopub.execute_input": "2023-01-23T07:25:43.276929Z",
     "iopub.status.busy": "2023-01-23T07:25:43.275895Z",
     "iopub.status.idle": "2023-01-23T07:25:43.508559Z",
     "shell.execute_reply": "2023-01-23T07:25:43.508232Z",
     "shell.execute_reply.started": "2023-01-23T07:25:43.276862Z"
    },
    "tags": []
   },
   "outputs": [],
   "source": [
    "# export to CSV\n",
    "sat_tix.to_csv('../data/sat_tix.csv', index=False)"
   ]
  },
  {
   "cell_type": "markdown",
   "id": "b73569a3-1034-494e-96eb-abf59f87aa41",
   "metadata": {},
   "source": [
    "### Get Ticket Metrics\n",
    "\n",
    "See [Show Ticket Metrics](https://developer.zendesk.com/api-reference/ticketing/tickets/ticket_metrics/#show-ticket-metrics)\n",
    "\n",
    "`GET /api/v2/tickets/{ticket_id}/metrics`\n",
    "* Returns a specific metric, or the metrics of a specific ticket.\n",
    "* Returns a maximum of 100 records per page.\n",
    "* Supports cursor (recommended) and offset pagination\n",
    "\n",
    "returns [JSON Format](https://developer.zendesk.com/api-reference/ticketing/tickets/ticket_metrics/#json-format)"
   ]
  },
  {
   "cell_type": "markdown",
   "id": "78767b61-7920-49e9-8a91-febfcba42b43",
   "metadata": {},
   "source": [
    "It looks like the API returns a row for calendar measurements and a row for business hours measurements.\n",
    "I think having both is too much data, so I'll write a function, like the satisfaction parser to parse the API return data and only return data for calendar, as for this project I think this metric will be the most germane as that is what the customer experiences (calendar time)"
   ]
  },
  {
   "cell_type": "code",
   "execution_count": 4,
   "id": "e747bbf6-d23d-419f-a544-03fea0cf1fb0",
   "metadata": {
    "execution": {
     "iopub.execute_input": "2023-01-23T17:51:49.532619Z",
     "iopub.status.busy": "2023-01-23T17:51:49.528970Z",
     "iopub.status.idle": "2023-01-23T17:51:49.547047Z",
     "shell.execute_reply": "2023-01-23T17:51:49.541673Z",
     "shell.execute_reply.started": "2023-01-23T17:51:49.532566Z"
    },
    "tags": []
   },
   "outputs": [],
   "source": [
    "def parse_metrics(metrics):\n",
    "    '''\n",
    "    Returns list of dictionaries with only certain predefined values \n",
    "    stripped out of the ticket metric data. Returns all metrics, and \n",
    "    retrieves the 'calendar' time values for all the time-based minute \n",
    "    counts for the tickets.\n",
    "    \n",
    "    For use with the get_ticket_metrics function.\n",
    "    \n",
    "    https://developer.zendesk.com/api-reference/ticketing/tickets/ticket_metrics/#json-format\n",
    "    '''\n",
    "    outputs = []\n",
    "    nested = ['reply_time_in_minutes', \n",
    "              'first_resolution_time_in_minutes',\n",
    "              'full_resolution_time_in_minutes', \n",
    "              'agent_wait_time_in_minutes', \n",
    "              'requester_wait_time_in_minutes', \n",
    "              'on_hold_time_in_minutes'\n",
    "             ]\n",
    "    \n",
    "    # parse all the top level values identified in the fields list\n",
    "    output = {key : value for key, value in metrics.items() if key not in nested}\n",
    "\n",
    "    # retrieve nested values for additional data\n",
    "    for key in nested:\n",
    "        output[key] = metrics[key].get('calendar')\n",
    "\n",
    "    # append dictionary to the list that will be returned\n",
    "    outputs.append(output)\n",
    "\n",
    "    # return the list of dictionaries\n",
    "    return outputs"
   ]
  },
  {
   "cell_type": "code",
   "execution_count": 5,
   "id": "27966232-ab91-4730-b6a4-5eebfdf56bf5",
   "metadata": {
    "execution": {
     "iopub.execute_input": "2023-01-23T17:51:52.321560Z",
     "iopub.status.busy": "2023-01-23T17:51:52.320705Z",
     "iopub.status.idle": "2023-01-23T17:51:52.353271Z",
     "shell.execute_reply": "2023-01-23T17:51:52.352655Z",
     "shell.execute_reply.started": "2023-01-23T17:51:52.321520Z"
    },
    "tags": []
   },
   "outputs": [],
   "source": [
    "def get_ticket_metrics(ids):\n",
    "    '''\n",
    "    Takes a list of ticket ids and returns a dataframe with ticket metric\n",
    "    information for the given ticket ids.  \n",
    "    \n",
    "    Dependency on the parse_metrics function.\n",
    "    \n",
    "    For information returned, see:\n",
    "    https://developer.zendesk.com/api-reference/ticketing/tickets/ticket_metrics/#json-format\n",
    "    '''\n",
    "     # initiative requests session\n",
    "    email = input('Email for query: ')\n",
    "    key = getpass('API key for query: ')\n",
    "    credentials = (f'{email}/token', key)\n",
    "    session = requests.Session()\n",
    "    session.auth = credentials\n",
    "\n",
    "    # create empty list to hold data\n",
    "    metrics_results = []\n",
    "\n",
    "    # construct the url based on the parameters\n",
    "    base_url = 'https://[redacted].zendesk.com/api/v2/tickets/'\n",
    "\n",
    "    # output some information about number of tickets and rate of collection\n",
    "    print(f'Collecting metrics for the {len(ids)} ticket IDs passed\\n')\n",
    "    \n",
    "    # will need to be careful for rate limits on this since we need to collect\n",
    "    # metrics from one ticket at a time.  Rate limit is 100/min\n",
    "    \n",
    "    for id_ in ids:\n",
    "        \n",
    "        # build url for request\n",
    "        url = f'{base_url}{id_}/metrics'\n",
    "\n",
    "        # output to let user know this is still running\n",
    "        print('.', end='')\n",
    "\n",
    "        response = session.get(url)\n",
    "\n",
    "        # catch timeout\n",
    "        if response.status_code == 429:\n",
    "            sleep(res.headers['retry-after'])\n",
    "            response = session.get(url)\n",
    "\n",
    "        # catch any other response other than success (200)\n",
    "        elif response.status_code != 200:\n",
    "            print('Status:', response.status_code, 'Problem with the request. Exiting.')\n",
    "            exit()\n",
    "\n",
    "        # if success\n",
    "        data = response.json()\n",
    "\n",
    "        # parse and add results to list\n",
    "        results = pd.DataFrame(parse_metrics(data['ticket_metric']))\n",
    "        metrics_results.append(results)\n",
    "        sleep(1)\n",
    "\n",
    "    # clean up variables and close requests session\n",
    "    email = ''\n",
    "    key = ''\n",
    "    session.close()\n",
    "    \n",
    "    # return dataframe\n",
    "    return pd.concat(metrics_results)"
   ]
  },
  {
   "cell_type": "markdown",
   "id": "6a3c3208-1ca7-444c-bd9c-4454baaa7e87",
   "metadata": {},
   "source": [
    "#### Collect and Export"
   ]
  },
  {
   "cell_type": "code",
   "execution_count": null,
   "id": "d04e4be9-3896-4f2b-8b84-ff31459e89ed",
   "metadata": {
    "tags": []
   },
   "outputs": [],
   "source": [
    "# retrieve ticket metric for all the tickets collected from the search for\n",
    "# tickets with good or bad satisfaction ratings\n",
    "tix_mets = get_ticket_metrics(list(sat_tix['id']))"
   ]
  },
  {
   "cell_type": "code",
   "execution_count": 93,
   "id": "1b639547-9d0e-417d-9b57-f6d6e7906b1b",
   "metadata": {
    "execution": {
     "iopub.execute_input": "2023-01-23T16:45:03.943281Z",
     "iopub.status.busy": "2023-01-23T16:45:03.943059Z",
     "iopub.status.idle": "2023-01-23T16:45:03.947230Z",
     "shell.execute_reply": "2023-01-23T16:45:03.946863Z",
     "shell.execute_reply.started": "2023-01-23T16:45:03.943265Z"
    },
    "tags": []
   },
   "outputs": [
    {
     "data": {
      "text/plain": [
       "(13323, 22)"
      ]
     },
     "execution_count": 93,
     "metadata": {},
     "output_type": "execute_result"
    }
   ],
   "source": [
    "tix_mets.shape"
   ]
  },
  {
   "cell_type": "code",
   "execution_count": 94,
   "id": "11bc9688-c29f-4df8-9086-66a8fad81766",
   "metadata": {
    "execution": {
     "iopub.execute_input": "2023-01-23T16:54:49.352600Z",
     "iopub.status.busy": "2023-01-23T16:54:49.350201Z",
     "iopub.status.idle": "2023-01-23T16:54:49.573462Z",
     "shell.execute_reply": "2023-01-23T16:54:49.573144Z",
     "shell.execute_reply.started": "2023-01-23T16:54:49.352451Z"
    }
   },
   "outputs": [],
   "source": [
    "# export to CSV\n",
    "tix_mets.to_csv('../data/tix_mets.csv', index=False)"
   ]
  },
  {
   "cell_type": "markdown",
   "id": "6797d3ae-b963-430c-b6da-9f81cbe7562f",
   "metadata": {},
   "source": [
    "### Get Ticket Comment Data\n",
    "\n",
    "To retrieve all the comments for a given ticket ID, I the [List Comments API](https://developer.zendesk.com/api-reference/ticketing/tickets/ticket_comments/#list-comments) appears to the the correct one.\n",
    "\n",
    "List Comments\n",
    "* `GET /api/v2/tickets/{ticket_id}/comments`\n",
    "\n",
    "Returns the comments added to the ticket.\n",
    "\n",
    "Each comment may include a content_url for an attachment or a recording_url for a voice comment that points to a file that may be hosted externally. For security reasons, take care not to inadvertently send Zendesk authentication credentials to third parties when attempting to access these files. See Working with url properties.\n",
    "\n",
    "Pagination:\n",
    "* Cursor pagination (recommended)\n",
    "* Offset pagination\n",
    "\n",
    "Returns a maximum of 100 records per page."
   ]
  },
  {
   "cell_type": "code",
   "execution_count": 30,
   "id": "b2d5acdf-bd01-4b36-bb00-1d5ab3e8d64e",
   "metadata": {
    "execution": {
     "iopub.execute_input": "2023-01-23T18:24:25.332129Z",
     "iopub.status.busy": "2023-01-23T18:24:25.330699Z",
     "iopub.status.idle": "2023-01-23T18:24:25.346198Z",
     "shell.execute_reply": "2023-01-23T18:24:25.344980Z",
     "shell.execute_reply.started": "2023-01-23T18:24:25.332052Z"
    },
    "tags": []
   },
   "outputs": [],
   "source": [
    "def parse_comments(comments, ticket_id):\n",
    "    '''\n",
    "    Returns list of dictionaries with only certain predefined values \n",
    "    stripped out of the ticket comment data.\n",
    "    \n",
    "    Returns tbd.\n",
    "    '''\n",
    "    outputs = []\n",
    "    exclude = ['via', \n",
    "              'metadata',\n",
    "               'attachments'\n",
    "             ]\n",
    "    \n",
    "    for comment in comments:\n",
    "        # parse all the top level values identified in the fields list\n",
    "        output = {key : value for key, value in comment.items() if key not in exclude}\n",
    "\n",
    "        # retrieve nested value of interest\n",
    "        output['channel'] = comment['via'].get('channel')\n",
    "        \n",
    "        # add ticket_id for relation to original ticket\n",
    "        output['ticket_id'] = ticket_id\n",
    "\n",
    "        # append dictionary to the list that will be returned\n",
    "        outputs.append(output)\n",
    "\n",
    "    # return the list of dictionaries\n",
    "    return outputs"
   ]
  },
  {
   "cell_type": "code",
   "execution_count": 36,
   "id": "46c1320d-6502-4850-ac82-82dd63527560",
   "metadata": {
    "execution": {
     "iopub.execute_input": "2023-01-23T18:31:49.044010Z",
     "iopub.status.busy": "2023-01-23T18:31:49.040110Z",
     "iopub.status.idle": "2023-01-23T18:31:49.063036Z",
     "shell.execute_reply": "2023-01-23T18:31:49.062509Z",
     "shell.execute_reply.started": "2023-01-23T18:31:49.043914Z"
    },
    "tags": []
   },
   "outputs": [],
   "source": [
    "def collect_tickets_comments(ids):\n",
    "    '''\n",
    "    Uses the Zendesk ticket comments API to retrieve comment data from a list \n",
    "    of ticket ids provided.  This will return a dataframe of ticket comment\n",
    "    data.\n",
    "    \n",
    "    https://developer.zendesk.com/api-reference/ticketing/tickets/ticket_comments/\n",
    "    '''\n",
    "    # initiative requests session\n",
    "    email = input('Email for query: ')\n",
    "    key = getpass('API key for query: ')\n",
    "    credentials = (f'{email}/token', key)\n",
    "    session = requests.Session()\n",
    "    session.auth = credentials\n",
    "\n",
    "    # define parameters for Zendesk search query\n",
    "    params = {\n",
    "        'sort_order': 'asc',\n",
    "        'include_inline_images': 'false'\n",
    "    }\n",
    "\n",
    "    # create empty list to hold data\n",
    "    comments = []\n",
    "\n",
    "    # construct the url based on the parameters\n",
    "    base_url = 'https://[redacted].zendesk.com/api/v2/tickets/'\n",
    "    \n",
    "    # output some information about number of tickets and rate of collection\n",
    "    print(f'Collecting comments from {len(ids)} ticket IDs passed\\n')\n",
    "    \n",
    "    for id_ in ids:\n",
    "        # build url for request\n",
    "        url = f'{base_url}{id_}/comments?{urlencode(params)}'\n",
    "        \n",
    "        # cursor pagination\n",
    "        while url:\n",
    "            # output to let user know this is still running\n",
    "            print(f'{len(comments)}', end=' ')\n",
    "\n",
    "            response = session.get(url)\n",
    "\n",
    "            # catch timeout\n",
    "            if response.status_code == 429:\n",
    "                sleep(res.headers['retry-after'])\n",
    "\n",
    "            # catch any other response other than success (200)\n",
    "            elif response.status_code != 200:\n",
    "                print('Status:', response.status_code, 'Problem with the request. Exiting.')\n",
    "                exit()\n",
    "\n",
    "            # if success\n",
    "            else:\n",
    "                data = response.json()\n",
    "\n",
    "                # parse and add results to list\n",
    "                results = pd.DataFrame(parse_comments(data['comments'], id_))\n",
    "                comments.append(results)\n",
    "                # print(type(data['comments']))\n",
    "                # cursor pagination\n",
    "                if data['next_page']:\n",
    "                    url = data['next_page']\n",
    "                else:\n",
    "                    url = None\n",
    "\n",
    "        # sleep as to not upset the rate limit\n",
    "        sleep(1)\n",
    "        \n",
    "    # clean up variables and close requests session\n",
    "    email = ''\n",
    "    key = ''\n",
    "    session.close()\n",
    "    \n",
    "    # return dataframe\n",
    "    return pd.concat(comments)"
   ]
  },
  {
   "cell_type": "markdown",
   "id": "69782ac0-1f31-4e04-91c1-ad5b4ea7a144",
   "metadata": {},
   "source": [
    "#### Collect and Export"
   ]
  },
  {
   "cell_type": "code",
   "execution_count": null,
   "id": "037f0cf6-05e6-47cf-a467-3673013d3f00",
   "metadata": {
    "tags": []
   },
   "outputs": [],
   "source": [
    "# collect ticket comments for ticket ids from search\n",
    "tix_comments = collect_tickets_comments(list(sat_tix['id']))"
   ]
  },
  {
   "cell_type": "code",
   "execution_count": 38,
   "id": "054ddc64-0ab1-40cd-b18f-8757b1f28b5e",
   "metadata": {
    "execution": {
     "iopub.execute_input": "2023-01-23T23:49:08.867516Z",
     "iopub.status.busy": "2023-01-23T23:49:08.865683Z",
     "iopub.status.idle": "2023-01-23T23:49:08.878826Z",
     "shell.execute_reply": "2023-01-23T23:49:08.878376Z",
     "shell.execute_reply.started": "2023-01-23T23:49:08.867433Z"
    }
   },
   "outputs": [
    {
     "data": {
      "text/plain": [
       "(85692, 11)"
      ]
     },
     "execution_count": 38,
     "metadata": {},
     "output_type": "execute_result"
    }
   ],
   "source": [
    "tix_comments.shape"
   ]
  },
  {
   "cell_type": "code",
   "execution_count": 39,
   "id": "c56c71b8-bd95-4264-84e3-d5542c128dda",
   "metadata": {
    "execution": {
     "iopub.execute_input": "2023-01-24T00:14:06.813866Z",
     "iopub.status.busy": "2023-01-24T00:14:06.812499Z",
     "iopub.status.idle": "2023-01-24T00:14:11.191293Z",
     "shell.execute_reply": "2023-01-24T00:14:11.190593Z",
     "shell.execute_reply.started": "2023-01-24T00:14:06.813808Z"
    }
   },
   "outputs": [],
   "source": [
    "tix_comments.to_csv('../data/tix_comments.csv', index=False)"
   ]
  },
  {
   "cell_type": "code",
   "execution_count": null,
   "id": "2b988c6e-82f4-4e0e-a032-eabb02cba679",
   "metadata": {
    "tags": []
   },
   "outputs": [],
   "source": [
    "tix_comments.head()"
   ]
  }
 ],
 "metadata": {
  "kernelspec": {
   "display_name": "Python 3 (ipykernel)",
   "language": "python",
   "name": "python3"
  },
  "language_info": {
   "codemirror_mode": {
    "name": "ipython",
    "version": 3
   },
   "file_extension": ".py",
   "mimetype": "text/x-python",
   "name": "python",
   "nbconvert_exporter": "python",
   "pygments_lexer": "ipython3",
   "version": "3.9.15"
  }
 },
 "nbformat": 4,
 "nbformat_minor": 5
}
